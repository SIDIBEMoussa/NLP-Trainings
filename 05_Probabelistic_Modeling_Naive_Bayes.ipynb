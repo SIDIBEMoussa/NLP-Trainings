{
  "nbformat": 4,
  "nbformat_minor": 0,
  "metadata": {
    "colab": {
      "provenance": [],
      "toc_visible": true,
      "include_colab_link": true
    },
    "kernelspec": {
      "name": "python3",
      "display_name": "Python 3"
    },
    "language_info": {
      "name": "python"
    }
  },
  "cells": [
    {
      "cell_type": "markdown",
      "metadata": {
        "id": "view-in-github",
        "colab_type": "text"
      },
      "source": [
        "<a href=\"https://colab.research.google.com/github/SIDIBEMoussa/NLP-Trainings/blob/main/05_Probabelistic_Modeling_Naive_Bayes.ipynb\" target=\"_parent\"><img src=\"https://colab.research.google.com/assets/colab-badge.svg\" alt=\"Open In Colab\"/></a>"
      ]
    },
    {
      "cell_type": "markdown",
      "source": [
        "# Probabelistic Modeling\n",
        "\n",
        "Probability calculation is a fundamental tool for statistical inference. We know that as part of the language properties, text samples are not drawn from a gaussian (normal) distribution. A typical modeling problem involves estimating the joint probability distribution for a given dataset: $P(x, y)$.\n",
        "\n",
        "**Probability Density Estimation** is the process of selecting a probability distribution function and estimating its parameters so that it can best explain the joint probability distribution of an observed data ($ x_1, x_2, x_3, …, x_n \\in X$ ).\n",
        "\n",
        "* How do we select the correct distribution function?\n",
        "* How can we find the best distribution parameters to match the data?\n",
        "\n",
        "If we knew the true distribution of the data, we could have easily solved it. Since we don't, we can try estimating it with one of these two methods:\n",
        "\n",
        "* Maximum a Posteriori (MAP), a Bayesian method.\n",
        "* Maximum Likelihood Estimation (MLE), frequentist method.\n",
        "\n",
        "The main difference is that MLE assumes that all solutions are equally likely beforehand, whereas MAP allows prior information about the form of the solution to be harnessed.\n",
        "\n",
        "## Maximum Likelihood Estimation (MLE)\n",
        "\n",
        "[Maximum Likelihood Estimation](https://en.wikipedia.org/wiki/Maximum_likelihood_estimation) involves treating the problem as an **optimization** or **search problem**, where we seek a set of parameters that results in the best fit for the joint probability of the data sample (X).\n",
        "\n",
        "\n",
        "- Assume the data is drawn from some combination of a family of parametric distributions, such as [Gaussian](https://en.wikipedia.org/wiki/Normal_distribution), [Binomial](https://en.wikipedia.org/wiki/Binomial_distribution), [Bernoulli](https://en.wikipedia.org/wiki/Bernoulli_distribution), etc.\n",
        "- Try to predict the selected distribution parameters by either calculating the derivative or by taking a `log` of a sequence probability and optimizing it as a min-max problem (as we saw in the green electricity problem).\n",
        "\n",
        "#### Mathematically formulated:\n",
        "Suppose we want to predict the target label of a *test* point $x_t$ ($t$ for test).\n",
        "In **MLE Prediction** the problem is defined as $P(y|x_t; θ)$, where $θ$ is purely a model parameter (e.g. distribution parameters). \n",
        "\n",
        "$$θ=\\arg \\max θ P(D;θ)$$ \n",
        "\n",
        "We find the best parameters by maximizing $log[P(D;θ)] $.\n",
        "\n",
        "\n",
        "#### Connection to Machine Learning - Generative Models\n",
        "In supervised Machine learning, we are provided with training data drawn from a distribution $D$. Our task is to find the machine learning parameters that minimize the averaged estimated error (lowering the risk).\n",
        "\n",
        "But what if we go *the other way*?\n",
        "\n",
        "If we statistically estimate the attribute distributions first, we can then use those distributions as decision boundaries to make predictions on new data.\n",
        "\n",
        "Moreover, this classification approach of modeling the joint probability distribution of the attributes as a product of their prior and conditional probability enables us to draw new values randomly from those distributions. Or in other words, we can simulate or **generate** new data points.\n",
        "\n",
        "To be precise, the prior probability refers to the probability of drawing an example with a particular label *a priori* (without observing its input pattern). And the conditional probability is the probability of drawing a specific input for a given class label $y$.\n",
        "\n",
        "A generative learning algorithm starts by estimating these two terms. Then, the classification of a new input is assigned to the class with maximal posterior class-membership probability (but remember that these posterior probabilities are estimates and not the true ones...).\n",
        "\n",
        " ### Take-aways\n",
        "* Maximum Likelihood Estimation is a probabilistic framework for solving the problem of **density estimation**.\n",
        "* It involves maximizing a likelihood function to find the probability distribution and parameters that best explain the observed data.\n",
        "* The underlying joint and conditional probabilities estimation enables us to use this knowledge to make predictions and to generate new samples."
      ],
      "metadata": {
        "id": "9C42l6P8Lrwf"
      }
    },
    {
      "cell_type": "markdown",
      "source": [
        "# Naïve Bayes Models"
      ],
      "metadata": {
        "id": "gR1LmYW82lu2"
      }
    },
    {
      "cell_type": "markdown",
      "source": [
        "## Maximum a Posteriori"
      ],
      "metadata": {
        "id": "IC8qaPtpEMhb"
      }
    },
    {
      "cell_type": "markdown",
      "source": [
        "Another way to obtain these posterior class-membership probabilities is by application of *Bayes' rule* to the estimates of the prior and class-conditional probabilities."
      ],
      "metadata": {
        "id": "Cf5_LbxxCuyR"
      }
    },
    {
      "cell_type": "markdown",
      "source": [
        "## Background\n",
        "\n",
        "\n",
        "\n",
        "Naive Bayes is a simple but important probabilistic model.\n",
        "\n",
        "The Bayes theorem is one of the two main statistical views (the second one is the frequentist theory). As opposed to frequentist view, here, in addition to counting previously observed frequencies, one can incorporate initial believes.\n",
        "\n",
        "We measure the results of a coin flip - *Heads* and *Tails*. The mean is close to 0.5, so we *assume* that the coin is fair. But How can we model that? \n",
        "\n",
        "> In **frequentist statistics**, we can add some imaginary number of throws - $m$:\n",
        "  $$ Θ = \\frac{nHeads + m}{nHead + nTails + 2m} $$\n",
        "\n",
        "if we threw the coin 10 times, and had 6 heads - $P(Θ) = \\frac{6}{10} = 0.6$, we can add 2 more throws, one head one tail, and we get $P(Θ) = \\frac{7}{11} = 0.63$, or even more - if we set $m=5$ we get $P(Θ) = \\frac{6+5}{10+2*5} = \\frac{11}{20} = 0.55$, and so on. \n",
        "  \n",
        "Another option is using Bayesian statistics.\n",
        "\n",
        "> In Bayesian statistics, $Θ$ is defined as a **random variable**, which is not associated with *any* event. In frequentist statistics, this is forbidden, but in Bayesian statistics, this is allowed, and you can specify a prior belief $P(θ)$ defining what values you believe $θ$ is likely to take on.\n",
        "\n",
        "The Bayes rule uses this notion of belief:\n",
        "$$P(θ∣D)= \\frac{P(D∣θ) P(θ)}{P(D)}$$\n",
        "Where:\n",
        "\n",
        "* $P(θ)$ is the prior distribution over the parameter(s) $θ$ before we see any data.\n",
        "* $P(D∣θ)$ is the likelihood of the data given the parameter(s) $θ$.\n",
        "* $P(θ∣D)$ is the posterior distribution over the parameter(s) $θ$ after we have observed the data.\n",
        "\n",
        "To better understand the Bayes rule, check out the following video:"
      ],
      "metadata": {
        "id": "PJlgYb1BhoPZ"
      }
    },
    {
      "cell_type": "code",
      "execution_count": null,
      "metadata": {
        "id": "n-jgvkt35zPj",
        "colab": {
          "base_uri": "https://localhost:8080/",
          "height": 321
        },
        "outputId": "9372d4cb-a3f0-4176-a72b-239f774de195"
      },
      "outputs": [
        {
          "output_type": "execute_result",
          "data": {
            "text/plain": [
              "<IPython.lib.display.YouTubeVideo at 0x7f5373a5cfa0>"
            ],
            "text/html": [
              "\n",
              "        <iframe\n",
              "            width=\"400\"\n",
              "            height=\"300\"\n",
              "            src=\"https://www.youtube.com/embed/HZGCoVF3YvM\"\n",
              "            frameborder=\"0\"\n",
              "            allowfullscreen\n",
              "        ></iframe>\n",
              "        "
            ],
            "image/jpeg": "[encoded data removed]"
          },
          "metadata": {},
          "execution_count": 64
        }
      ],
      "source": [
        "from IPython.display import YouTubeVideo\n",
        "YouTubeVideo('HZGCoVF3YvM')"
      ]
    },
    {
      "cell_type": "markdown",
      "source": [
        "## Classification using Generative Model - Naive Bayes \n",
        "\n",
        "An attribute, a random variable, can be of two types: [continuous or district](http://www.stat.yale.edu/Courses/1997-98/101/ranvar.htm).\n",
        "\n",
        "### Discrete random variable\n",
        "For a discrete random variable $x$, the generative approach is based on the following factorization of the joint probability distribution of (X,Y):\n",
        "$$P(X=x, Y=y)=P(X=x | Y=y)P(Y=y)$$\n",
        "\n",
        "where $P(X=x | Y=y)$ is the conditional probability of drawing a particular input pattern in a given class $y$ and $P(Y=y)$ is the prior probability of drawing an example of this class.\n",
        "\n",
        "Using [Bayes' rule](https://en.wikipedia.org/wiki/Bayes%27_theorem) this decomposition also provides access to the posterior class-membership probabilities which are useful for classification. \n",
        "\n",
        "Overall, the generative approach amounts to the following steps:\n",
        "\n",
        "1. Estimate the prior probabilities $P(Y=y)$ for all labels $y∈Y$, e.g., via simply counting the classes:\n",
        "\n",
        "$$P(Y=y)=\\frac{1}{N}\\sum_{i=1}^N1_{y_i=y}$$\n",
        "\n",
        "2. Choose a family of distributions $P$ for the input pattern and assume it is the 'correct' distribution: $P(X=x | Y=y)∈P$\n",
        "\n",
        "3. Estimate the conditional distribution in all classes.\n",
        "\n",
        "4. Classify new input patterns with\n",
        "\n",
        "\\begin{align*}\n",
        "\tf( x) &= \\arg\\max_{y\\in Y} P(Y=y\\ |\\ X = x)  & (\\mbox{optimal classification rule}^*)\\\\\n",
        "\t& = \\arg\\max_{y\\in Y}\\frac{P(X= x\\ |\\ Y = y) P(Y=y)}{P(X=x)}  &  (\\mbox{due to Bayes' rule})\t\\\\\n",
        "\t& =  \\arg\\max_{y\\in Y} P(X= x\\ |\\ Y = y)  P(Y=y) & (\\mbox{due to } P(X= x) \\mbox{ being a constant wrt. } y )\n",
        "\\end{align*}\n",
        "\n",
        "∗ - this classification rule would be optimal if we had access to the true probabilities.\n",
        "\n",
        "Depending on the choice of distribution family $P$, we obtain different classifiers.\n",
        "\n",
        "### Continuous random variable\n",
        "\n",
        "Continuous values are a bit more complicated. We can no longer calculate the conditional probabilities as we did before ( $P(X | Y)$, because there are simply way too many possible input Xs (e.g. 0.01, 0.001, 0.00001, all the way to infinity). \n",
        "\n",
        "One way to overcome it is to *bin* those values into ranges - as we did with the ages on the first example (20-39, 39-64, 65+). The other option is to calculate them using density functions.\n",
        "\n",
        "So if our $X$ is a continuous random variable, the generative approach is stated in terms of the [conditional probability density functions](https://en.wikipedia.org/wiki/Probability_density_function) $f_{X|Y=y}(x | Y=y)$ instead of the conditional probabilities $P(X=x | Y=y)$. Specifically, we work from the decomposition of the mixed density:\n",
        "\n",
        "$$f_{X,Y}(x,\\ Y=y) = f_{X|Y=y}( x\\ |\\ Y = y) f(Y=y) $$\n",
        "\n",
        "Assuming, of course that we chose the 'correct' distribution density function $f$."
      ],
      "metadata": {
        "id": "N5B3LblF2f7W"
      }
    },
    {
      "cell_type": "markdown",
      "source": [
        "To learn in a more visualized way about density functions and continuous random variables, I recommend you watching this video:"
      ],
      "metadata": {
        "id": "5stofo8-Us9x"
      }
    },
    {
      "cell_type": "code",
      "source": [
        "from IPython.display import YouTubeVideo\n",
        "YouTubeVideo('ZA4JkHKZM50')"
      ],
      "metadata": {
        "colab": {
          "base_uri": "https://localhost:8080/",
          "height": 321
        },
        "id": "vaUTyITHVK3s",
        "outputId": "cdf3d035-e486-4b9b-e8b9-89a642db61ac"
      },
      "execution_count": null,
      "outputs": [
        {
          "output_type": "execute_result",
          "data": {
            "text/plain": [
              "<IPython.lib.display.YouTubeVideo at 0x7f5373c4e6d0>"
            ],
            "text/html": [
              "\n",
              "        <iframe\n",
              "            width=\"400\"\n",
              "            height=\"300\"\n",
              "            src=\"https://www.youtube.com/embed/ZA4JkHKZM50\"\n",
              "            frameborder=\"0\"\n",
              "            allowfullscreen\n",
              "        ></iframe>\n",
              "        "
            ],
            "image/jpeg": "[encoded data removed]"
          },
          "metadata": {},
          "execution_count": 65
        }
      ]
    },
    {
      "cell_type": "markdown",
      "source": [
        "# Exercise"
      ],
      "metadata": {
        "id": "rfAaN9tM9VRc"
      }
    },
    {
      "cell_type": "markdown",
      "source": [
        "Let's try it out.\n",
        "\n",
        "In this exercise, we will train a [Naive Bayes Classifier](https://en.wikipedia.org/wiki/Naive_Bayes_classifier). We will\n",
        "* make prior assumptions as for the distribution of our data; and\n",
        "* train a model to find the best parameters for that distribution \n",
        "\n",
        "Let's see how it works:"
      ],
      "metadata": {
        "id": "bcZJChkY9eFx"
      }
    },
    {
      "cell_type": "code",
      "source": [
        "import pandas as pd\n",
        "import matplotlib.pyplot as plt \n",
        "import seaborn as sn \n",
        "\n",
        "from sklearn import metrics\n",
        "from sklearn.feature_extraction.text import CountVectorizer, TfidfTransformer\n",
        "from sklearn.model_selection import train_test_split\n",
        "from sklearn.naive_bayes import MultinomialNB, ComplementNB\n",
        "from sklearn.pipeline import Pipeline\n",
        "from random import seed\n",
        "\n",
        "seed(1000)\n",
        "\n",
        "%matplotlib inline "
      ],
      "metadata": {
        "id": "mPXriVBATQGT"
      },
      "execution_count": null,
      "outputs": []
    },
    {
      "cell_type": "markdown",
      "source": [
        "We will use some email data which we will classify as **spam** or not."
      ],
      "metadata": {
        "id": "Qr3xbigUzFiN"
      }
    },
    {
      "cell_type": "code",
      "source": [
        "df_emails = pd.read_csv('https://raw.githubusercontent.com/liadmagen/Modeling_course/main/data/spam_or_not_spam.csv', encoding=\"UTF-8\")\n",
        "df_emails.tail()"
      ],
      "metadata": {
        "colab": {
          "base_uri": "https://localhost:8080/",
          "height": 206
        },
        "id": "mzQeLuF3_sT7",
        "outputId": "4e023b5d-17e5-472a-9e89-d21e4320724b"
      },
      "execution_count": null,
      "outputs": [
        {
          "output_type": "execute_result",
          "data": {
            "text/plain": [
              "                                                  email  label\n",
              "2995   abc s good morning america ranks it the NUMBE...      1\n",
              "2996   hyperlink hyperlink hyperlink let mortgage le...      1\n",
              "2997   thank you for shopping with us gifts for all ...      1\n",
              "2998   the famous ebay marketing e course learn to s...      1\n",
              "2999   hello this is chinese traditional 子 件 NUMBER世...      1"
            ],
            "text/html": [
              "\n",
              "  <div id=\"df-1b338754-b8fc-4f0c-bdc1-629d4d191c1c\">\n",
              "    <div class=\"colab-df-container\">\n",
              "      <div>\n",
              "<style scoped>\n",
              "    .dataframe tbody tr th:only-of-type {\n",
              "        vertical-align: middle;\n",
              "    }\n",
              "\n",
              "    .dataframe tbody tr th {\n",
              "        vertical-align: top;\n",
              "    }\n",
              "\n",
              "    .dataframe thead th {\n",
              "        text-align: right;\n",
              "    }\n",
              "</style>\n",
              "<table border=\"1\" class=\"dataframe\">\n",
              "  <thead>\n",
              "    <tr style=\"text-align: right;\">\n",
              "      <th></th>\n",
              "      <th>email</th>\n",
              "      <th>label</th>\n",
              "    </tr>\n",
              "  </thead>\n",
              "  <tbody>\n",
              "    <tr>\n",
              "      <th>2995</th>\n",
              "      <td>abc s good morning america ranks it the NUMBE...</td>\n",
              "      <td>1</td>\n",
              "    </tr>\n",
              "    <tr>\n",
              "      <th>2996</th>\n",
              "      <td>hyperlink hyperlink hyperlink let mortgage le...</td>\n",
              "      <td>1</td>\n",
              "    </tr>\n",
              "    <tr>\n",
              "      <th>2997</th>\n",
              "      <td>thank you for shopping with us gifts for all ...</td>\n",
              "      <td>1</td>\n",
              "    </tr>\n",
              "    <tr>\n",
              "      <th>2998</th>\n",
              "      <td>the famous ebay marketing e course learn to s...</td>\n",
              "      <td>1</td>\n",
              "    </tr>\n",
              "    <tr>\n",
              "      <th>2999</th>\n",
              "      <td>hello this is chinese traditional 子 件 NUMBER世...</td>\n",
              "      <td>1</td>\n",
              "    </tr>\n",
              "  </tbody>\n",
              "</table>\n",
              "</div>\n",
              "      <button class=\"colab-df-convert\" onclick=\"convertToInteractive('df-1b338754-b8fc-4f0c-bdc1-629d4d191c1c')\"\n",
              "              title=\"Convert this dataframe to an interactive table.\"\n",
              "              style=\"display:none;\">\n",
              "        \n",
              "  <svg xmlns=\"http://www.w3.org/2000/svg\" height=\"24px\"viewBox=\"0 0 24 24\"\n",
              "       width=\"24px\">\n",
              "    <path d=\"M0 0h24v24H0V0z\" fill=\"none\"/>\n",
              "    <path d=\"M18.56 5.44l.94 2.06.94-2.06 2.06-.94-2.06-.94-.94-2.06-.94 2.06-2.06.94zm-11 1L8.5 8.5l.94-2.06 2.06-.94-2.06-.94L8.5 2.5l-.94 2.06-2.06.94zm10 10l.94 2.06.94-2.06 2.06-.94-2.06-.94-.94-2.06-.94 2.06-2.06.94z\"/><path d=\"M17.41 7.96l-1.37-1.37c-.4-.4-.92-.59-1.43-.59-.52 0-1.04.2-1.43.59L10.3 9.45l-7.72 7.72c-.78.78-.78 2.05 0 2.83L4 21.41c.39.39.9.59 1.41.59.51 0 1.02-.2 1.41-.59l7.78-7.78 2.81-2.81c.8-.78.8-2.07 0-2.86zM5.41 20L4 18.59l7.72-7.72 1.47 1.35L5.41 20z\"/>\n",
              "  </svg>\n",
              "      </button>\n",
              "      \n",
              "  <style>\n",
              "    .colab-df-container {\n",
              "      display:flex;\n",
              "      flex-wrap:wrap;\n",
              "      gap: 12px;\n",
              "    }\n",
              "\n",
              "    .colab-df-convert {\n",
              "      background-color: #E8F0FE;\n",
              "      border: none;\n",
              "      border-radius: 50%;\n",
              "      cursor: pointer;\n",
              "      display: none;\n",
              "      fill: #1967D2;\n",
              "      height: 32px;\n",
              "      padding: 0 0 0 0;\n",
              "      width: 32px;\n",
              "    }\n",
              "\n",
              "    .colab-df-convert:hover {\n",
              "      background-color: #E2EBFA;\n",
              "      box-shadow: 0px 1px 2px rgba(60, 64, 67, 0.3), 0px 1px 3px 1px rgba(60, 64, 67, 0.15);\n",
              "      fill: #174EA6;\n",
              "    }\n",
              "\n",
              "    [theme=dark] .colab-df-convert {\n",
              "      background-color: #3B4455;\n",
              "      fill: #D2E3FC;\n",
              "    }\n",
              "\n",
              "    [theme=dark] .colab-df-convert:hover {\n",
              "      background-color: #434B5C;\n",
              "      box-shadow: 0px 1px 3px 1px rgba(0, 0, 0, 0.15);\n",
              "      filter: drop-shadow(0px 1px 2px rgba(0, 0, 0, 0.3));\n",
              "      fill: #FFFFFF;\n",
              "    }\n",
              "  </style>\n",
              "\n",
              "      <script>\n",
              "        const buttonEl =\n",
              "          document.querySelector('#df-1b338754-b8fc-4f0c-bdc1-629d4d191c1c button.colab-df-convert');\n",
              "        buttonEl.style.display =\n",
              "          google.colab.kernel.accessAllowed ? 'block' : 'none';\n",
              "\n",
              "        async function convertToInteractive(key) {\n",
              "          const element = document.querySelector('#df-1b338754-b8fc-4f0c-bdc1-629d4d191c1c');\n",
              "          const dataTable =\n",
              "            await google.colab.kernel.invokeFunction('convertToInteractive',\n",
              "                                                     [key], {});\n",
              "          if (!dataTable) return;\n",
              "\n",
              "          const docLinkHtml = 'Like what you see? Visit the ' +\n",
              "            '<a target=\"_blank\" href=https://colab.research.google.com/notebooks/data_table.ipynb>data table notebook</a>'\n",
              "            + ' to learn more about interactive tables.';\n",
              "          element.innerHTML = '';\n",
              "          dataTable['output_type'] = 'display_data';\n",
              "          await google.colab.output.renderOutput(dataTable, element);\n",
              "          const docLink = document.createElement('div');\n",
              "          docLink.innerHTML = docLinkHtml;\n",
              "          element.appendChild(docLink);\n",
              "        }\n",
              "      </script>\n",
              "    </div>\n",
              "  </div>\n",
              "  "
            ]
          },
          "metadata": {},
          "execution_count": 67
        }
      ]
    },
    {
      "cell_type": "code",
      "source": [
        "df_emails.isna().sum()"
      ],
      "metadata": {
        "id": "Pthb41mvRoTS",
        "outputId": "704798ce-ada9-4145-bef1-8d2b77fc7dac",
        "colab": {
          "base_uri": "https://localhost:8080/"
        }
      },
      "execution_count": null,
      "outputs": [
        {
          "output_type": "execute_result",
          "data": {
            "text/plain": [
              "email    1\n",
              "label    0\n",
              "dtype: int64"
            ]
          },
          "metadata": {},
          "execution_count": 68
        }
      ]
    },
    {
      "cell_type": "code",
      "source": [
        "df_emails = df_emails.dropna()"
      ],
      "metadata": {
        "id": "sxA53GPenM_S"
      },
      "execution_count": null,
      "outputs": []
    },
    {
      "cell_type": "markdown",
      "source": [
        "Let's divide the data into **training** and **test** sets"
      ],
      "metadata": {
        "id": "zdE8xSi5Aon1"
      }
    },
    {
      "cell_type": "code",
      "source": [
        "############## YOUR TURN ##############\n",
        "# Divide the data into training and test set.\n",
        "# use the colunm 'email' for the training data\n",
        "# use the column 'label' as the target y\n",
        "\n",
        "X_train, X_test, y_train, y_test = train_test_split(df_emails.email,df_emails.label, test_size = 0.25)\n"
      ],
      "metadata": {
        "id": "2naE3XyBAkZW"
      },
      "execution_count": null,
      "outputs": []
    },
    {
      "cell_type": "markdown",
      "source": [
        "We are going to use some NLP methods here.\n",
        "\n",
        "If it is too much for you - don't worry, you will learn them all deeply in the NLP week.\n",
        "\n",
        "We process the text a bit - transforming every word to some fraction, based on their frequency. This score represents how unique the word is, based on their appearance count in the whole dataset.\n",
        "\n",
        "We will use a [Naive Bayes, assuming a Multinomial distribution](https://scikit-learn.org/stable/modules/generated/sklearn.naive_bayes.MultinomialNB.html)"
      ],
      "metadata": {
        "id": "976z2bfAA5Ox"
      }
    },
    {
      "cell_type": "code",
      "source": [
        "# Create Pre-processing pipeline and a Multinomial Naive Bayes classifier.\n",
        "\n",
        "# CountVectorizer calculates the frequency of words in the dataset (how often they appear) \n",
        "# TfidfTransformer calculates the frequency of a word in this document, divided by their frequency over ALL the documents.  \n",
        "\n",
        "# MultinomialNB is a Naive Bayes classifier assuming a multinomial distribution \n",
        "spam_classifier = Pipeline([('vect', CountVectorizer()), ('tfidf', TfidfTransformer()), ('clf', MultinomialNB()), ])"
      ],
      "metadata": {
        "id": "AKMTWBKUAWME"
      },
      "execution_count": null,
      "outputs": []
    },
    {
      "cell_type": "markdown",
      "source": [
        "And we train:"
      ],
      "metadata": {
        "id": "A9hZ7HKqELET"
      }
    },
    {
      "cell_type": "code",
      "source": [
        "spam_classifier.fit(X_train.values.astype('U'), y_train)"
      ],
      "metadata": {
        "colab": {
          "base_uri": "https://localhost:8080/"
        },
        "id": "ysSnLtwoBhz1",
        "outputId": "24d80f31-3f2a-4232-8d92-1587e9ea5fe3"
      },
      "execution_count": null,
      "outputs": [
        {
          "output_type": "execute_result",
          "data": {
            "text/plain": [
              "Pipeline(steps=[('vect', CountVectorizer()), ('tfidf', TfidfTransformer()),\n",
              "                ('clf', MultinomialNB())])"
            ]
          },
          "metadata": {},
          "execution_count": 72
        }
      ]
    },
    {
      "cell_type": "markdown",
      "source": [
        "Now that we have a classifier - let's filter some spam!!!"
      ],
      "metadata": {
        "id": "i6JmFl4CHxT-"
      }
    },
    {
      "cell_type": "code",
      "source": [
        "y_preds = spam_classifier.predict(X_test.values.astype('U'))\n"
      ],
      "metadata": {
        "id": "8cFMIIvlEJff"
      },
      "execution_count": null,
      "outputs": []
    },
    {
      "cell_type": "markdown",
      "source": [
        "How well did we do?"
      ],
      "metadata": {
        "id": "2cFNu5WdH138"
      }
    },
    {
      "cell_type": "code",
      "source": [
        "print(metrics.classification_report(y_test, y_preds, target_names=[\"Spam\",\"Not Spam\"]))"
      ],
      "metadata": {
        "colab": {
          "base_uri": "https://localhost:8080/"
        },
        "id": "HNWtO7tiBnOU",
        "outputId": "0e99db90-f655-4943-c1ad-a387604ddb03"
      },
      "execution_count": null,
      "outputs": [
        {
          "output_type": "stream",
          "name": "stdout",
          "text": [
            "              precision    recall  f1-score   support\n",
            "\n",
            "        Spam       0.84      1.00      0.91       610\n",
            "    Not Spam       1.00      0.16      0.27       140\n",
            "\n",
            "    accuracy                           0.84       750\n",
            "   macro avg       0.92      0.58      0.59       750\n",
            "weighted avg       0.87      0.84      0.79       750\n",
            "\n"
          ]
        }
      ]
    },
    {
      "cell_type": "markdown",
      "source": [
        "Pay attention to the results. Our dataset is not balanced, hence we have large differences between the different f1-scores.\n",
        "\n",
        "If we plot a confusion table, we can clearly see that we didn't do so well, despite the high f1-score:"
      ],
      "metadata": {
        "id": "1slBCp86aV6X"
      }
    },
    {
      "cell_type": "code",
      "source": [
        "conf_mat = metrics.confusion_matrix(y_test, y_preds) \n",
        "df_cm = pd.DataFrame(conf_mat, [\"Spam\",\"Not Spam\"], [\"Spam\",\"Not Spam\"]) \n",
        "\n",
        "sn.set(font_scale=1.4) \n",
        "sn.heatmap(df_cm, annot=True, fmt='d', cmap=\"YlGnBu\")\n"
      ],
      "metadata": {
        "colab": {
          "base_uri": "https://localhost:8080/",
          "height": 292
        },
        "id": "eCqyioH3Ev16",
        "outputId": "b44956c9-b795-4ae7-df6e-e114b41d5c67"
      },
      "execution_count": null,
      "outputs": [
        {
          "output_type": "execute_result",
          "data": {
            "text/plain": [
              "<matplotlib.axes._subplots.AxesSubplot at 0x7f5375193df0>"
            ]
          },
          "metadata": {},
          "execution_count": 75
        },
        {
          "output_type": "display_data",
          "data": {
            "text/plain": [
              "<Figure size 432x288 with 2 Axes>"
            ],
            "image/png": "[encoded data removed]"
          },
          "metadata": {}
        }
      ]
    },
    {
      "cell_type": "markdown",
      "source": [
        "# Can we do better?\n",
        "\n",
        "Let's try it again - this time with another inductive bias - we will assume the distribution of the text is of [`ComplementNB`](https://scikit-learn.org/stable/modules/generated/sklearn.naive_bayes.ComplementNB.html#sklearn.naive_bayes.ComplementNB)\n",
        "\n",
        "---\n",
        "## Your turn:\n",
        "\n",
        "Create a pipeline with a [Complement Naive Bayes classifier](https://scikit-learn.org/stable/modules/naive_bayes.html#complement-naive-bayes), which fits better imbalanced classes, and train it on our dataset.\n",
        "\n",
        "Check your results on the test-set and plot a confussion matrix. \n",
        "\n",
        "How did your new model do?"
      ],
      "metadata": {
        "id": "fY1ovWpYGmpa"
      }
    },
    {
      "cell_type": "markdown",
      "source": [
        "# ComplementNB with default params"
      ],
      "metadata": {
        "id": "6R8Ld2ltAxRj"
      }
    },
    {
      "cell_type": "code",
      "source": [
        "# ComplementNB: The Complement Naive Bayes classifier was designed to correct the “severe assumptions”\n",
        "# made by the standard Multinomial Naive Bayes classifier. It is particularly suited for imbalanced data sets \n",
        "\n",
        "spam_classifier_com = Pipeline([('vect', CountVectorizer()), ('tfidf', TfidfTransformer()), ('clf', ComplementNB()), ])"
      ],
      "metadata": {
        "id": "D6J2NG-2EuY8"
      },
      "execution_count": null,
      "outputs": []
    },
    {
      "cell_type": "code",
      "source": [
        "spam_classifier_com.fit(X_train.values.astype('U'), y_train)\n",
        "y_preds_com = spam_classifier_com.predict(X_test.values.astype('U'))\n",
        "\n",
        "print(metrics.classification_report(y_test, y_preds_com, target_names=[\"Spam\",\"Not Spam\"]))"
      ],
      "metadata": {
        "id": "9XOVYL_NFClH",
        "outputId": "3a304ab0-4bf8-4313-d313-459db671bd7d",
        "colab": {
          "base_uri": "https://localhost:8080/"
        }
      },
      "execution_count": null,
      "outputs": [
        {
          "output_type": "stream",
          "name": "stdout",
          "text": [
            "              precision    recall  f1-score   support\n",
            "\n",
            "        Spam       0.87      1.00      0.93       610\n",
            "    Not Spam       1.00      0.32      0.49       140\n",
            "\n",
            "    accuracy                           0.87       750\n",
            "   macro avg       0.93      0.66      0.71       750\n",
            "weighted avg       0.89      0.87      0.85       750\n",
            "\n"
          ]
        }
      ]
    },
    {
      "cell_type": "code",
      "source": [
        "conf_mat = metrics.confusion_matrix(y_test, y_preds_com) \n",
        "df_cm = pd.DataFrame(conf_mat, [\"Spam\",\"Not Spam\"], [\"Spam\",\"Not Spam\"]) \n",
        "\n",
        "sn.set(font_scale=1.4) \n",
        "sn.heatmap(df_cm, annot=True, fmt='d', cmap=\"YlGnBu\")"
      ],
      "metadata": {
        "id": "R_CliRt2FUVe",
        "outputId": "50f6400f-ef24-45df-94c3-826b703010a5",
        "colab": {
          "base_uri": "https://localhost:8080/",
          "height": 292
        }
      },
      "execution_count": null,
      "outputs": [
        {
          "output_type": "execute_result",
          "data": {
            "text/plain": [
              "<matplotlib.axes._subplots.AxesSubplot at 0x7f5378552490>"
            ]
          },
          "metadata": {},
          "execution_count": 78
        },
        {
          "output_type": "display_data",
          "data": {
            "text/plain": [
              "<Figure size 432x288 with 2 Axes>"
            ],
            "image/png": "[encoded data removed]"
          },
          "metadata": {}
        }
      ]
    },
    {
      "cell_type": "markdown",
      "source": [
        "This result improve solve little bit the problem of imbalanced data, but we can go deeper by using Gridsearch to tune hyperparameters. Let's go!!!"
      ],
      "metadata": {
        "id": "lrA1WEbhBdhX"
      }
    },
    {
      "cell_type": "markdown",
      "source": [
        "# ComplementNB Optimised"
      ],
      "metadata": {
        "id": "NQNFOxQAA73F"
      }
    },
    {
      "cell_type": "markdown",
      "source": [
        "In this optimization I try to optimize\n",
        "\n",
        "-  `Alpha` : for smoothing\n",
        "- `fit_prior`: True or False\n",
        "- `norm` : True or False for normalisation of inputs\n",
        "- `class_prior` : "
      ],
      "metadata": {
        "id": "RXS4JtPMCBKO"
      }
    },
    {
      "cell_type": "code",
      "source": [
        "from sklearn.model_selection import GridSearchCV\n",
        "n_classes = df_emails.label.unique()\n",
        "\n",
        "params = {'alpha': [0.01, 0.1, 0.5, 1.0, 10.0, ],\n",
        "          'fit_prior': [True, False],\n",
        "          'norm': [True, False],\n",
        "          'class_prior': [None, [0.1,]* len(n_classes), ]\n",
        "         }\n",
        "\n",
        "complement_nb_grid = GridSearchCV(ComplementNB(), param_grid=params, n_jobs=-1, cv=5, verbose=5)\n",
        "\n",
        "spam_classifier_com = Pipeline([('vect', CountVectorizer()), ('tfidf', TfidfTransformer()), ('clf', complement_nb_grid), ])\n",
        "\n",
        "spam_classifier_com.fit(X_train,y_train)"
      ],
      "metadata": {
        "id": "PSDbKpn9NERt",
        "outputId": "e9668af1-be75-4bf9-b8fb-65272026db3a",
        "colab": {
          "base_uri": "https://localhost:8080/"
        }
      },
      "execution_count": null,
      "outputs": [
        {
          "output_type": "stream",
          "name": "stdout",
          "text": [
            "Fitting 5 folds for each of 40 candidates, totalling 200 fits\n"
          ]
        },
        {
          "output_type": "execute_result",
          "data": {
            "text/plain": [
              "Pipeline(steps=[('vect', CountVectorizer()), ('tfidf', TfidfTransformer()),\n",
              "                ('clf',\n",
              "                 GridSearchCV(cv=5, estimator=ComplementNB(), n_jobs=-1,\n",
              "                              param_grid={'alpha': [0.01, 0.1, 0.5, 1.0, 10.0],\n",
              "                                          'class_prior': [None, [0.1, 0.1]],\n",
              "                                          'fit_prior': [True, False],\n",
              "                                          'norm': [True, False]},\n",
              "                              verbose=5))])"
            ]
          },
          "metadata": {},
          "execution_count": 79
        }
      ]
    },
    {
      "cell_type": "code",
      "source": [
        "y_preds_com = spam_classifier_com.predict(X_test.values.astype('U'))\n",
        "\n",
        "print(metrics.classification_report(y_test, y_preds_com, target_names=[\"Spam\",\"Not Spam\"]))"
      ],
      "metadata": {
        "id": "-D2DUkX49HDS",
        "outputId": "7e743fe6-667c-45d3-c3a9-4fdd4cf74ace",
        "colab": {
          "base_uri": "https://localhost:8080/"
        }
      },
      "execution_count": null,
      "outputs": [
        {
          "output_type": "stream",
          "name": "stdout",
          "text": [
            "              precision    recall  f1-score   support\n",
            "\n",
            "        Spam       0.99      1.00      1.00       610\n",
            "    Not Spam       0.99      0.97      0.98       140\n",
            "\n",
            "    accuracy                           0.99       750\n",
            "   macro avg       0.99      0.98      0.99       750\n",
            "weighted avg       0.99      0.99      0.99       750\n",
            "\n"
          ]
        }
      ]
    },
    {
      "cell_type": "code",
      "source": [
        "conf_mat = metrics.confusion_matrix(y_test, y_preds_com) \n",
        "df_cm = pd.DataFrame(conf_mat, [\"Spam\",\"Not Spam\"], [\"Spam\",\"Not Spam\"]) \n",
        "\n",
        "sn.set(font_scale=1.4) \n",
        "sn.heatmap(df_cm, annot=True, fmt='d', cmap=\"YlGnBu\")"
      ],
      "metadata": {
        "id": "Im1RcEfx9Gpu",
        "outputId": "0e3e18ac-1e89-44be-fab3-aceb5766128f",
        "colab": {
          "base_uri": "https://localhost:8080/",
          "height": 293
        }
      },
      "execution_count": null,
      "outputs": [
        {
          "output_type": "execute_result",
          "data": {
            "text/plain": [
              "<matplotlib.axes._subplots.AxesSubplot at 0x7f53727d6400>"
            ]
          },
          "metadata": {},
          "execution_count": 81
        },
        {
          "output_type": "display_data",
          "data": {
            "text/plain": [
              "<Figure size 432x288 with 2 Axes>"
            ],
            "image/png": "[encoded data removed]"
          },
          "metadata": {}
        }
      ]
    },
    {
      "cell_type": "markdown",
      "source": [
        "After optimisation we can see that my model outperform the example in notebook and the model with default params. This model has a high ability to face umbalanced data."
      ],
      "metadata": {
        "id": "ImZgtP-Q-inz"
      }
    },
    {
      "cell_type": "markdown",
      "source": [
        "# Comparaison metrics (gave by teacher)\n",
        "![Capture d’écran du 2023-01-22 12-03-37.png](data:image/png;base64,iVBORw0KGgoAAAANSUhEUgAAAgMAAAG9CAYAAACI83XPAAAABHNCSVQICAgIfAhkiAAAABl0RVh0U29mdHdhcmUAZ25vbWUtc2NyZWVuc2hvdO8Dvz4AAAApdEVYdENyZWF0aW9uIFRpbWUAZGltLiAyMiBqYW52LiAyMDIzIDEyOjAzOjM368mTXgAAIABJREFUeJzs3XdYFNfewPHvzC4gsHQEqSKiggV7wxZ7773EaIwxb0y8uffm3nRNNNeYomlqTLwaY+wlRmOMBbtgN3ZAepO+9Lbs7rx/gIjtiilG2PN5njxPXGbPnjln5pzfOXNmRurUqZOCIAiCIAgmS/6rMyAIgiAIwl9LBAOCIAiCYOJEMCAIgiAIJk4EA4IgCIJg4kQwIAiCIAgmTgQDgiAIgmDi1H91BgThjyPTYPQC/u31C//6/AQFv+mm2T8iDeHhJOx6/IOPpjZFDRjT9vLBO1uJMdzeQvYYwjvzRuKtAgwxbHn7A/alG/+8LMnOtJs4k/GdG+BQRyLl5/eZtyOeP/EXBeGJIYIBoRZRyI+/wMn8dMp+cyf+R6QhPJxC7tHFzDoqYdPtFT4aeO8WxuTdvPf8bmS3Qbw5t/WfniN1o/6M72Lk6Mf/5lBaKcaykvJAQLIhYOA4+rVuiK+3C1YZv/CfuduJE1GCAICKRhMW8g+Xnfzzi1CK/urs/EYiGBBqEYXMc9tZ+5enIdRE5o5OaPLjiUjIochQ9S9qLM2KiD/9M9fThjDG5y/KoCD8iUQwIPwOVgTNWcxIw2Eu1AmkjacNqoJIDq3/jp/D86kcWFt25uUlI8leu4miDiPp1sQFC106Id8uZP2lYpA0+PUex5jerajvqKYkLZxj29ex65KWW22yZOlNl5Gj6dfODxdLA7nJYRzd+j2/RBSgIOM5bC7zhnshA/or3/LPe6b4zfHoMp7Jg9vRwMkcfUEWiZd2s2bdKcpnnquRhroubUZMYmSXJrjU0aONPcvuDVsISSoFQPYazrw3A7i2NRavnh3wcTIj99puVv13P7Glf2pFPDqpLv1en0+n8JUEW/ZiSKeGOKmKSTqwnIU/RmFAxqHZIMaN7EELL1uk/CQuH9zCxr0R5N0qE0mDX+8xjOrVigZO5pRmxXPlwGbWHY6jFAn7FkMZP6g9jTydsVGVkBF9nr1bthGSWMKTM+ki4dDrVRZN9q9sDF//pi9g5ObuissESjYXdm7kAjKew/qi+Py237Hy7c2kif1o6W2HujSP9NjT/LB6O5dyb5eGuWtbho4dTCd/dzQUkHrjJD+u+4FLWgWwwCNoLJOGtMfXyZyS9HBCd2xkx4V09JU/8wfU6+OgqkubUZMZGdQYF0sjRdqbhB9Yx8rDCRgr6mThU5F88O6PJBgB2ZNh77xFQMg7fBSciaIOZPriF3A8dQCdf2ca2JtRkhDKlm+3c1FrBCRc+r/Be13SCY6tS9vmrlgrWq7uWcu6w3EUV+yrZBfA4Eljeaq5BzZKLgkX97Nxw0Fiim4VRsVlQ59jfHXBnSED2+JtC3kRO/n888M4PP0Jr3S3QQJgBl+umgEYyTzwEW9uisRwn11/UolgQPidJBxaBKD/dBGvRehw6TGLf8+aSua7yzmVW7V10dBuWE+Ob1rGW8uzUdfzx0cyAirc+73EnF4F/LLhE1Yn6bBrPoTpz/0fpYs+YE+yEaS6dJ/1T8Y7XmLLyv9wNc2ArV9H2jhrkCIKUDCStOtdZu66db3/3lzKrj2ZOqU5WRs/Z+7lbGQ7Dxo1qYOqcouHpaHCe9CLzAzKZdfKBZzN0tB8xLM8/fI4st/9nuvFtzZrQLvGIXz6/qukWbZm+hszGdf9Vz46kPEEdYC3yNTtPoK2+zey5LUoCut4EuBe3lFb+I3ilRdakvjDt3xwJR3FpS1jpr/I9IL3+OK4FgU1XgP/xt8HwokNS1kbkY1cN4Agf0cspDhKFQlLGzPST24lODqF7DINfn2e5pk5Y9G+/T3Xn5jgSCH70MfMOiRhFfQyi4ensfjNzUT90a247MOgGaPxClvFxyuiKDB3xNvfB2OVJdySbRumvjqTRnE7WPvheZJLrfFu0wlnOxm0BiwCxvDy1GbEblrKu1cLcGo/nudmzqZs0QJ+jNdX/bHfUa+Pg4Rtxwk8GwS7V7zH6XQj1q5+tHCQHjEdc/wD7Vn+0Rt8mWdL22mv8dzMHBZ8fIC0iks4snsrGp78iPlrEpG8BzHn1RcZmz6PtVeLQapLz5mz6W92hNUfLCdJ3ZAB05/h5WfyeXfFaao2X7J3P4bl7WLDwg0k6WzxaeJIKXqufvcKz31XOy4TiLsJhN9NH3GIfTcKMKIjNWQ/58qaEdTKljtObUmNNmQjOy6lUlRWSl7iJS4nlIK6Cb37unF922r2XkogPSuVyGNb2RfnQcd2HsiA7NODfgF5BK9ey5Gwm2Rq04g5s4ttIanVXtwl2TniIGURfTWWjJxs0uKvcmL/OVKqm4CqAZ07u5EcvIl911PITIvk6MY9hNt0oGuAxe3tlCzO7AshpVTBmHOZM+E6vHw8qwQdTxZ10kHW7Q0js7iM4uxYLlxLwShZ0bJfDyxPb+C7w9dJzszk5vUDbDuaRZNOrbCXAPMAevf1JGHXN2w6GUWqNoubESfYtvNCxQjTSErodnYcu0x0cgba9FjO7j5CtKYxTVxNsNlROeBobyA9MozErBy0KTFcPHyIK9mV0yzU7dyfttJJvv/vPq4kZqJNj+fi3s0cjDUA5vgHdcA2fA8bj0aSlpnC9X2bOJBcj6Ag33uOr99cr4+FhMbRAVVePNej0sjOziAp/CS/nHzUxZoG4o/v5VK2AQzZ/Lo3hAyfzrSrV+X4KrzI/kMJlCgKxfEHCb5qSfugACwA2bUdQX75nNj6I78mZZIRd5otOy4gBXalle2dhSERwZ71R4nJKUVXlMGNXyPIrGVrRsTMgPA7KRSkZ1B4q00zZJKeJdHC1RmZ3NvTZEoh8bHp95zskqMXnjYa/F74kvYv3JluXoYNMhJ1PDxxLI7mRpKe38oQd5oTiUGMfeddWl6/QWxcJBdPnyc2r5pDQPO6uNiXkZKUWbkPSkEySTlm+Ls6IJNa/qExh+zKIYWCTqdDZWWOCvjtuf+zGMmMibtjBASA5Iq3Rx2c2r7Kip53fePmFWwlyHX0xLNOFmGRWQ8cTZq7dWTkuAG093PHzlKFLElgzOSmxWPrdR4jFX7j3+dffZzLR1hl51gx52vO36p0/Q1CT2Tz4rT3eKdTGDdiY4i4cJqLSUUV5afCzcsd4o4Qfb9ZE8kOVxdzcqKSb59rxkySb5Zi6+qCpXSjyiWt316v2Y9lasBI2vkT3Og9nn8taMT1sGhio69w5uwNtGWPko6BzPSsyvPRmJlOJnWpV1eGm+XntTE7nczKNHVkpuegbuqKvQxZdetRV0nl0M3bbYDuZiLpkl95Grm3PzfcjCG+mFpNBAPC7yar5CqzADKyfL/GvgzdA5bnS8YU9iyYy/b7Ls++ldbvbKV0Mez64HXONm6Kf+MmtHxqKgP7Neer977l12rePyihVCsX92zzBPd9ZWUPaH0lPZGb3uHDA5n33eeHju1VPgx5cRqtEjeyfO5p4nJKUay6MOeT4UhPcHn8dgYSflnCvGPq8uo2FpNdNc5UCri68T1eP+FPsyaN8G8zkOcH9ebwkvlsuaGr2Ej6H4fKoxXab63Xx8WQcojP3rhCw6ZNadykOZ3G92dgu7XM//IEWQ/K2D1FIKGq2tbIMvc0PbJ8x7Eqq+RqHH/3yUBZGY8Up9RAJjhfJ/yxJKzdPW5PMZq54eGikJmWWa0pPyU7kaQiJ/z8HB/Q3CkUJSehtWxII4/fGbsaC0kJP8vhXev4fNFmwjQtCKxfzQl8XQZpuea4ezpXnjSSxh1Pez0Z6dm16150JY3EZAPujRuieUDDadQmkVzy4HqTNPVp4Kzl/IETxGSXYlRAdnXn3isECnq9AczMMXtQdvR6DKgxf9AGTwhdXgapKSmkpKSQkpZDyT19ip68xKucDN7Bt598yk9JTrRo7lZxPBlISUxGqd8IX4t7kgYlh/SMMuw9PLC+VeCyMx7uFuSnZ1QuiPufqlGvj5NSkkHUhaPs2biMD9acgYBW+FXse5lOV35MVO6rLfa2d2daRT3PepXno8rNAzcySMu4fTbKTp54WFV8T7LGzd2BsvQ0coxgzEgjQ6qHl/vtNsDc3RMXJZO0R7wGoBiNoFLdG4zUICIYEH43uUEfxvdshKuzJ61HDqOdfI3Qi3nVG3mURXAoOAGvYc8zvrMf9Zzq4unXiqfGPs+wgPLO3xh3lP1hdvR5dgrdm7jh6OhC/ZZ9GdzBtdoHsMq3J+MHdqCxuyN2dq407twaTyWV5IxqXiYwxHHqVBoefcbTv6kbTi5+dJ8wmIDCs4Re1z38+zWJUsTFA8fIbT6e54e1wcfFCRfvJrTtM5FpfX3Ky1wXxsHgJLyHzmRcR19cHR2p59uOQf1bYiuBUpROWoEdDQPcsQAkqwb0GxGE830qrDQxjjSb5gS188TRzhZNnTsDNCU7gYSCerTp2px6DnbYaiwec8MlYenkiZe3F/XszJHMbHH18sbL0wnL6jb+lk3pP64vbXxdcbBzwK1pR5q7lJGafGvRnkLGyX2cpzNTnu1Hc09nHJ09adpjGN3qy4CO8NAz5PsPYkJ3P1yd6hHQfzx9PdM5dSq6eqvWq1Ovj4WMe9AohnUJwNPZDjvnBrRv64tFZjKpOgCFooQEMuyb0dbXEglz3Lr1ptU9EYyMa7cxDG7mhrNbUwaN6oZ93CnOplbpyM2bMXBsJ3zq1sWn8xgGBRRy7mQYpYAx/RwnY2zoOnY4rTydqVu/I+NGtEW6FsrFe66x/C9GsjKywKs5rVytMDdTo66BUYG4TCD8TgrZZ49zs8V03h7viDH9GntXrL3rToL/xUDS3i/5TDeGUUNfYp5THfT5GSRFXuRAVsVJrWRw7OvFGEaNpv+sd5hsaSA3+TpHtp4sb0gtO/Pyp8/RqnLkOJ3P/zsdjOns//BtNkcZUErKsGo2iOcGuGBXBwpTwwn972qOpFfk86Fp6InfvYxV5pMZ8fxcRlrq0cacY8OXm7larWFZzVJ6YxtLlhYydvg4/jHAAbOyPNLjwzi9N6ei89KTsOcLPi0dw6jhc3jXyQKdNoEr+zdSqgBl4exctZdpk//BR73LKMxP4/LBI4Q16nLPbxmTg1m304fpU+bykaVEVvBdt2XpI9j9XTAzn57Fgr4WKAk7mPf+z9Vf/Pm7qQgY8yYvdrComAVx5fm5XVFKT7N8zjdcqM5iEEMJikMbRr44FGdbCwy5SVzb/xUbzty+BVfJu8DaT1YxbOxgpr0+Cg0FpEWeYseV8i1Krm/ly3UykwbP4b3JZpSmR3Jy9VJ2xVR/NcrD6/VxUNDpzPEdNJWekxzRyMWkRZ9l7Yo9xFfUqTHxABv3+TJtzsd0Kkgn5sxJLqQ0xePOveHK0at4jH+NBa4qcm4cZ+XK4Mo7CQCMSSGcLOnGi+9OQ1OazMXty9lyteLivzGdw998hfXkMTz9Zj80xjwSL+9k2YZT5DxSYSjknPqRXc2mMnre50wz495juAaQOnXqVPtaMuExKX/OwPD0JTXuwBcEoQZTBzJ98fOYrXmFb369XzBU8ZyBjpeY/1gDx5pLXCYQBEEQBBMnggFBEARBMHHiMoEgCIIgmDgxMyAIgiAIJk4EA4IgCIJg4kQwIAiCIAgmTgQDgiAIgmDiRDAgCIIgCCZOBAOCIAiCYOJEMCAIgiAIJk4EA4IgCIJg4kQwIAiCIAgmTgQDgiAIgmDiRDAgCIIgCCZOBAOCIAiCYOJEMCAIgiAIJk4EA4IgCIJg4kQwIAiCIAgmTgQDgiAIgmDiRDAgCIIgCCZOBAOCIAiCYOJEMCAIgiAIJk4EA4IgCIJg4kQwIAiCIAgmTv1XZ8A0qXFuOZhxw7oS4GGLqjSHtLhwju/cyKGYkr86c7WUjGPgCKaM7UZAXQuKUi4TvHE9e2/ko1Q3BcdAhk0aSbcAdzRSIanXj7N9w04ua40VW6ip22YEE4cH4V9Pg1SSSez5vWzeepz44ur+Sg0h2RAwcBz9WjfE19sFq4xf+M/c7cQZH/7VqszqdWTMlOF0auiIKj+R83vWseloPLeKS7KsT48JkxnY1gtbYw4xp37k+62nSS3743fpLyfZ0HjAJCb0bom7dSkZ4SfY9v0OLmmrW6gSNo37MXFsb1p42aEuziDyzC42bDtzu7zM69Fh5ESGdmqEi5WRvMTLHNyykX2PcB7UKpIGv95jGd2rFT5O5uhykrjww9esPZ2JImlo2GMYg7q2wNfNEUtjLklXj/Hj1j1c1RoBFQ3Hvc/r/V3uGVUbk35iwXs/kvCI58NfSeXp6fnuX50JU6P2Hclrf+tKWcgm1m7ezdELUWTK9XAxRBJ2s/Svzl6tJLv142//7Ic69FuWrT1InF0XJoz0J/v0WRKrE3/JrvR5+VUG1jnDd8tX88ORcPRNhzG5i8zFkCjyFZDd+vPKP/qiOrGKL1dt59DVEhoNnkRfhyiOXsnE8Kfv5WMkWePdtD7EnuNakScB9jc5cTiMnEfpUcx8GfWvl+hYsJdvvtrCiXR3+k4ahFtCCJfSykCyInDyazzbJJHtX63kx3NFNB4yiZ6a65y4nk0NamerQcIh6Hn+PdaFa+uXsmpPGKrWIxnf3siF0GgKqlGukl1nnnttPG7hm/hq5RYOXM6jfr+n6e8QwYnrWgyoaTD8X7wcVMzBVV+xdlcIcRZtGTM+kILTZ0gwuXGIGs+Bf+fVwbaE7dnM9p8Pc+5GJsVF6SRlloDsQZehLTFcPkrw/v0cuZSJU6cRjGwvc/lEBLmKQmHydc6fOs7Ro0fL/zt2HWPj1tS5uJWfrufWqABLzAw8djLuLQJxvnmQ5T+dI8UIcJOEqCtVtrEiaM5iRhoOc6FOIG08bVAVRHJo/Xf8HF4ewcsu7Rk7rh8tfd1wtJYoTI3g1E+b2XEuDT0ynsPm8nqglvA6DWkih7PnYC7thnXDOesI3yzewrXCmnSY/l4y9YO645N9jEU7L5FkgKTtO2jebjY9OtTl5L70h560ko0/gQ30XFqxi18TdUAmBzYfoO387nT23s/2OCNqDx88pUi+33+VlCIFso9y5MoQ5nh6YCOFkVWbilzJ5sLOjVxAxnNYXxSfR0/C3L87XVwS2PvlfsLSFUjZxE+tFjGlRyu2XQml0LolPdpbcW39Jo5H5aOQyqb9bVkwsAf+u2K4ovvD9+qvIznTvkczDGeXs/VMPKXAT1uP0e717nSpf4BtsQ8PfcwaBtLUIoKNP5wmtkCB9BNs/Lkln4ztQuOdUVzVu9CsuQvZp79j37WbGICsn7Zzov2/6drOiZADmTWq8/rdLJrRv68L1zbMY/3pvIp9j7n9d2Msu79YWuUL0SSq/Gj1QiDN6u4mIdWILieFxJzbW8j12+LvlEhoaGKNC/7FmoHHTqGosAic/Gjiav4/tpNwaBGAfvciXvv7v/goWKLXrKl0tJPK/2ptgxR3mPVf/oe331jAV8FFtJ4xm6H1b1ep2iqHkOXLOVLSmpFdStn8wXJOm3ejZwvLP3kfnzCSDd4+zpTFRZN86wzVxRKdCB4+nphVJw1ZhYwRvb5Ko6wvo0x2xsvTCgnQJ0QSq/emVRtXLCRQOzSldSM18ZfDyTapVrY6ZJzre2OVE0PMrShJKSIuJhW1tw8eMsjuPnirU4mKLaxoqBW0MTHkWHlTv24ta7rMvPDxgMToOG7FOIakaOJ0ztT3tkGqRhKSSkZW9BgMtw42BUOZAay98HKQARUqlYJBb6jS6ZehN6jwqO9hciNDlWcT/OrEES/3Zc78xXz+2YfMnT2Clk6qB3xDQl3HHJU+l9z7TtWY06RbEE5RIZxOq3nzVrXsjKoJFLJCtrEr3osJ7y1m0VtzeHZsX9p6a+6pDH3EIfbdKMCIjtSQ/Zwra0ZQK1skwBB7iE27Q7kWm0KmNpWokD2EptSlkZ99ZcNhSArj2s1oIuILKYgLIyY1gshkcHCyM62Kl6yx0UBhfiHmzSez8LO5DG+gpyBfj5nGFstqtLRKbhSR6ZYEPtUVD0sJycyRFgO64StJWGuskQBj+kFWLDuBZvR8lq74muUfPU/Da/9l2d6kWjal/UeQsLG1gcJ8Cu06MuvjJbzax5Wi/EKwtkEjg6SxwZoCCopc6fPqEj6e1RG7onwK0GCnqU73WHNIljbYmBkozNfhM3weny+cQnOLQvKLQGOrqVYwoIu9QazShG69fNHIoLJtTP+e/qhla2ysJTCmERmVT912T9GmrjmSZIFrhwF0dJUws9ZgXruK9KEkW3tsVX707efI5Y2f89EXWwmz7c2sF/rhfr8Gsk5DBvYPQHtiPxfuEwxIVoF0b1+HayFna2Twb2rB4BNBKY7ml0/fIMSzMU39G9EooCtT3xpIt00f8+XhlIrpJYWC9AwqZ/MNmaRnSbRwdUYmF6OVD91Hj6ZPa19cbC1QSxJgIP68xe1goEyPEQW9Xo/OqEepGNmqzao1Fq6VjKUFaLXZFOoUyguqmmetMZG9q7fiPnMM734xEaOhhKSQg5xJc8NdUVAAyb41Iyd1xnD0az44k4LBOZChk59ldt4SPv45ntq45u13UxQwlJCn1aIvLKtskcpr5daRXEZhjhZtYTGGik9rYFtbLQoKZYXZZGnzKHnECFLJPMr36+rz/PjX+XSYgrEsg/N7TxHr2wIjCqAj7MfV7Kk7nRkfLGOmQU9h9EGO/ZpPfwsFpbYW6gNIkoSkgvCf13M4rAhIYMd2P9r9swNt3fZxM7lKBahd6fLsLLrk72Tx9gjuXV4hYd++O4HGi6y8WFAjj08RDPxl9OQlXedU0nVOBf/MoSFvMndQT/yObSCiYipbVslVRgQysnzrXxY0G/MS430vsmbJSi4m56GTXBn4xru0l6qE98qtyVXl9v8r5SeBSVEKyS8Aaxtr9JE7+WQ+IGnoplGjLyigegv9FUrigln+1hEs7WyxKMsj1xDIzE8UcnPyUZDx6jGczpzmg13niTcCN1PY6NKShUN60mTfGq7q/9zdrFkU8vPyQWOLdcEeNn5wCZBxG2QNhWkUGkEpyKMQFzRWWvb8931OAiq/AKwpIK86K+pqEKU4n/wyFRobc5KDv2B+MGDWiqesoCCvup2LnpTQ1bx3aj229lYYC3Io9pnAwiG55ORVnP/5Yexc8hp7rO2xUZeQm2dGl7/3piQrl9q0BKM6jIUFFBlySM+43bUbtFloFRtsbaq0kSpnOk5/hTF2x1n22QGS7ldQcj06dWtEwbnPuFZDF2Ka1Gzxk0tPdlYOxjqW1Kk8BiWs3T2wv/VvMzc8XBQy0zIxyk74NLAmMXQfZ5Py0CmAmStuzqI670vJJyE+E7P6vnjcuhxo5oOvJyTFJd41Yldj7eCEk50l979yqKc4V0tOkQFNyw40VcdzI7oEkLDSWCHd1WwrRgXMLbAw4aoxt3HEyckWiztiUCOZ8QkU2TeggVPFHyQrfHzroU+MI9kIxptxJOjr0bCBVUVQLOHQoAH2RQnEZ9SyCy9lScQlg5evD7dWEskeDfExzyQ+4c7b/mQLW5ycHNE8aMmRsZQ8bTYFOgsad2iJfcYNIrVVUyiffdDmFqM4taNDQz1REfE1bsHb72VMSSDZYEtdJ4vKz2R7R+ylfPLyK8pLdqbD9H8w0eUMX33+E1EPGDmofbrQ1SuT0yeiauwMoAk3UX8VCYeuz/HqtEEEBTbG290d31b9mTq0Kbrw68RVOSPlBn0Y37MRrs6etB45jHbyNUIv5qEoOaSl6XBp7I+zGpBtCRg6lDa17DrqH8dIfMgx4hx7MG5YIJ6u3rQdPYoO6mscPZNxZ/etasjwNxfxwd964XLH2SFh2aQng7sE0tjXj+bdJ/DS5NaUnNxDaJYCGEm8Fk5BvW6MGhSIl4sz7v49Gdu3IaXXrxBdU1uIB5KwdPLEy9uLenbmSGa2uHp54+XpdNcaDDXNJ73Phwtn0NHmzuNTF36ckPT69JvQF383V3yDxjOkeTHnjlykUAGl8BJHzxXRbMgEujash1uT3kzo70NGyDHCa9swVsng7NFrqDqMYkz7+rh6NGfI2O44xh0jJL5q4CNh02kmCz9cwKRmd0/syvh0HUKP1k3w9W1K55EvMqObBZf3HKm8311yaEnf/h1p7udLo1Z9mPbyKBqmH+KXCzVzavv3UPIvcvySgdYjx9OloSsunoEMGRGEfdJ5fk0xguRAm2f+wbQmN9n9w3lKnL3w9vbG28sNhzsiWwv8u3XCKTGUk4k1N6QSlwkeO4WihDASA7szaOoAnGwtUAoziL20lS+2nSJXub1d9tnj3GwxnbfHO2JMv8beFWs5lasARZzfsoYG08fx1uLhlBTkkXTuOMfiPPH/C/fsSWZMOcDXK6x5euyzvDXAnOKUK/y8fB0nq73SR8GILQEDhzG4rhXG/JuEHV3Bql1XKtZ1KBRd2sAX349hbL/pvDlcg1SUSdzlbXyx+eSj3X9fI6gIGPMmL3a4tUbFlefndkUpPc3yOd9woTqXRMqi2bnsW8yfHsHseaOR8hO4sHkpm64UlXdMShFXNi1l04QpDPv7e9goWmJOrWH5zugaO/p6MIXsk2tYZjeFiRNfo7tlGRnhx/h61YGK24+rmYqlL71GDsBVI1OUHsnZNYv54VT27Y7eKOPcZgRDRjhioc8h8coevtiyl5jaFlxVh5LP+e+XYj9xAsNemY+Duoi0iBOsXLGXJCOg9qJlKxcsNK5MfLX17e8Zswj++A023ijv+CVNK3q0syLqh9Ok1uAJK6lTp061rpmq+cqfMzA8fQlvboo0uek7QRAE4fESlwkEQRAEwcSJYEAQBEEQTJy4TCAIgiAIJk7MDAiCIAiCiRPBgCAIgiCYOBEMCIIgCIKJM6nnDKhbzuDTlztjPLuCN785R6ECknNfXnu/L/FLbt83+nAqGk1YyD9cdvLPL0IpevSc4NxyMOOGdSXAwxZVaQ5pceEc37mRQzE19FmWTzwZx8ARTBnbjYDhPfsRAAAgAElEQVS6FhSlXCZ443r23siv9sNWZMdAhk0aSbcAdzRSIanXj7N9w04ua42Aiobj3uf1/i73RNjGpJ9Y8N6PlQ9+qS3M6nVkzJThdGroiCo/kfN71rHpaHw1H+8MSJbU7z6O8QPa4OtkgS4rlvN7N7HlWHkakoUXnYYO4anWfng4aaDgJhGnfmbLrnOk1cb74iUbGg+YxITeLXG3LiUj/ATbvt/BJW11DxwJm8b9mDi2Ny287FAXZxB5Zhcbtp0hteLBDOq2L/Dl/7W/46VEhoSdzF+wq/zeepMi4dx6FKN6NaOhjydO5jFsfutDDmRWHMCShoY9hjGoawt83RyxNOaSdPUYP27dw9WKOpFdOzNlSj+aedfDwRKKMmO5dOgHth6MoqY9MdukgoFyClaBPejgcJ7D2r+mttS+w/nbC0Fo927k829voqvjhKd/G9wdzZFiSkzuSWCPg+zWl1kvPIUxeBX/CcmhXu9neHb2NHLfXUpodR48JLvSe+YL9JYPsXrRMhL0dWk7+llmvVDMfxbt5abRQOL+L5h/yuz2+ySkunSb+Tz+l34lubY1tGa+DJ89nXaZO1ix4DKlvoN5bspLjNfO47vLRdU6hus0G8tLkwKI2rSMeZeyqePXh6envsSEnHmsuVQEdn608Crk8t717EzJhXodGDn+ef5uUci89WGU/uk7+ThJOHSexuyhTpxd8yFf37Sj86QZzJpVwIIP91XrwUOSXSemzh6By/nvWLLyBkW2zRgybRov6bXM3xpV+e4BpeAcaz/7mdiKNJXSHGrgG3f/ABJmljK5N07wY0Qzxg+1vuvPdQkIdCTz7E8cj0+jwLw+PcaM5aWXZRa+v4sEAyAb0F4/xOa9aeQUKdg16sXYMXOYVjSXZaE5NaotN71gwBDN5UgPunf14OiupPtUlgUeQWOZNKQ9vk7mlKSHE7pjIzsupKNHTfNnPuGV7rfeLz6DL1fNAIxkHviomg8IknFvEYjzzYMs/+lcxUl+k4SoK1W2KX/o0EjDYS7UCaSNpw2qgkgOrf+On8PLR7KyS3vGjutHS183HK0lClMjOPXTZnacS0OPjOewubweqCW8TkOayOHsOZhLu2HdcM46wjeLt3CtsCYdpr+XTP2g7vhkH2PRzkskGSBp+w6at5tNjw51Obkv/aEnrWTjT2ADPZdW7OLXRB2QyYHNB2g7vzudvfezPc6ILieFxJwqv1q/Lf5OiYSGJta6B0eZ+3eni0sCe7/cT1i6Aimb+KnVIqb0aMW2K6HVGBWp8G7RAtvEQ+w8eqO8MzqznR+bduCFbi3ZcvkkhemH+ebTKl+Jikfv1Yp/tgzESxVGVG0qVMmZ9j2aYTi7nK1n4ikFftp6jHavd6dL/QNsi314b23WMJCmFhFs/OE0sQUKpJ9g488t+WRsFxrvjOLqrWjAkE96UgIJJv/iLCMpoVvZDKj93Rmt3BUMGGPZ/cXSKh9Ek6jyo9ULgTSru5uEVCPGlDPsTqmySVw2Tq3bMLSJF6rQHGpSEZvemgFjIZeOnKNO5x40us+LPiwCxvDy1Gbk7V/Ku2/NZ2WoROeZsxlSXw3oufrdKzw343kWHchEd2kVL8+YwYwZM3mt2k8KVCgqLAInP5q4PuhNIwASDi0C0O9exGt//xcfBUv0mjWVjnYVr2yxtkGKO8z6L//D228s4KvgIlrPmM3Q+rerVG2VQ8jy5Rwpac3ILqVs/mA5p8270bOF5SMUWC0g2eDt40xZXDTJtypJF0t0Inj4eFKtFzrLKuSKV0BX0pdRJjvj5Wl1n/fNm9OkWxBOUSGcrnXDLhnn+t5Y5cQQk1XR6ytFxMWkovb2waNarYqESiWhGAzobz8rF4PegLmHF273TUPG3NwMJTebvNpWpGZe+HhAYnRc5QjekBRNnM6Z+t429zm+7iWpZGRFj8Fwq0AVDGUGsPbCy+F2gUo2HXn+4+V8tXQJC/45mW7eltVKX5BQ1zFHpc8l937RrmSBc0BX2nqWER+bUuMGAKYXDABlkccIKW7LU4HWd50E5vgHdcA2fA8bj0aSlpnC9X2bOJBcj6Ag3we8xe5RKWSFbGNXvBcT3lvMorfm8OzYvrT11txTGfqIQ+y7UYARHakh+zlX1oygVrZIgCH2EJt2h3ItNoVMbSpRIXsITalLIz/7yn0yJIVx7WY0EfGFFMSFEZMaQWQyODjZmVbFS9bYaKAwvxDz5pNZ+NlchjfQU5Cvx0xje9eLde5PyY0iMt2SwKe64mEpIZk50mJAN3wlCWvN3ccRSFaBdG9fh2shZ6n26w9qDAkbWxsozKfQriOzPl7Cq31cKcovBGsbNNU6uAwkRsag8+5M7wA71MhYefegTysbJI0N1vepE7V7Twa3M3J+/ykyalmZSpY22JgZKMzX4TN8Hp8vnEJzi0Lyi0Bjq6lWZ62LvUGs0oRuvXzRyKCybUz/nv6oZWtsKgrUmHmZ3etWs+KLD/l4xQ6umbVn6t+fpaODCAceqk5DBvYPQHtiPxeqBgOyK/3fWMHKlctY9Ep39Ps+5+ujmTXqEgGY4mUCAGMyIUeTmPdUBxzXVvlcssPVxZycqGQqZ9GNmSTfLMXW1QVL6cYfsihEKY7ml0/fIMSzMU39G9EooCtT3xpIt00f8+XhWxGlQkF6xu18GDJJz5Jo4eqMTC5GKx+6jx5Nn9a+uNhaoJYkwED8eYvbwUCZHiMKer0enVGPUjGyVZtVayxcKxlLC9BqsynUKZQXVDUr1JjI3tVbcZ85hne/mIjRUEJSyEHOpLnhrih3pSJh3747gcaLrLxYi98GpyhgKCFPq0VfWFbZmlRvfxUKzm7iW99ZPP23xfTGgD7nGj+fCqNpt7vLE2T71kx+cRBmh5ey7kJerS1TpeL1wlnaPEoecfZDyTzK9+vq8/z41/l0mIKxLIPze08R69sCY0WJGeND+Tn+1jfiiU3Q47xwGj3aOnI6OKvWluvvpnaly7Oz6JK/k8XbI7hjmbcxi5D/zuealTV1m/Rk1KCnGRH/MRuuVH9x8pPANIMBFHLOHuH6sKF08Thd5fPHGR3ryUu6zqmk65wK/plDQ95k7qCe+B3bQETF/JKskqvkSEaWb/3LgmZjXmK870XWLFnJxeQ8dJIrA994l/ZSlX1Qyg9FBeX2/ysgSSY2ClAKyS8Aaxtr9JE7+WQ+IGnoplGjLyio5up3hZK4YJa/dQRLO1ssyvLINQQy8xOF3Jy7Tnq5Hp26NaLg3Gdcq5U3hyjk5+WDxhbrgj1s/OASIOM2yBoK0yisbidm1PLrxg+4uF2DvbVEUW4hjgPfZmheArlV0pDsWjDx79NocH0lS3ZEVv9uhRpEKc4nv0yFxsac5OAvmB8MmLXiKSsoyKtuQKknJXQ1751aj629FcaCHIp9JrBwSC45efdPQSlIJjkb2jvYIZNV46a2HwuVMx2nv8IYu+Ms++wASffcyaKnIOMmBUBSfCxFzgv5+5DO7L+6v0bNYJnUbHFVStEVjpy1IKh7Yyqv3Cs5pGeUYe/hcXuaUnbGw92C/PSMOxohxWgElQr5D+lX9WRn5WCsY0md20vRsXb3wP7Wv83c8HBRyEzLxCg74dPAmsTQfZxNykOnAGauuDmbbHX+b0o+CfGZmNX3xePWtR4zH3w9ISku8a7X4aqxdnDCyc7yAZeF9BTnaskpMqBp2YGm6nhuRN/Z46t9utDVK5PTJ6Jq4at2AYxkxidQZN+ABk4VB6hkhY9vPfSJcffcOWFu44iTky0WDzhXFF0B2dn5lMqedGjnQWHUjcrV85Jtcya88hxNolbz2aarPKBPq/nKkohLBi9fn8r2SPZoiI95JvEJdwabsoUtTk6OaB605MhYSp42mwKdBY07tMQ+4waRD7hzSrJyx90BcrNzqW3LMP4QsjMdpv+DiS5n+Orzn4h6aCQqIUkSUh3LBx7vTyoTnRkAKCPqWAgFc0fgrcomEgAd4aFnyJ8ziAndU9h5tQDHDuPp65lOyIboKlGzkayMLOjUnFau5zmTpcNoMKA3VqelknDoOoMZfjcJvRBFUmYBapcW9BvaFF34d8RVCc3lBn0Y3zOObZeLce89jHbyNdZdzENRykhL09G7sT/OhzLIMNoSMHQobTQS6X9wKdUORuJDjhHXazDjhkWyPjQH116j6KC+xvozGXeOulQNGf7mqzyV/yPz3v+5yi1dEpZNnqKXcxaRKUWYe7Zn6OjWlJxcSmhW1RQs8O/WCafEg5xMrL3jLF34cULS/0W/CX1J2HoJne8QhjQv5tzyi9x5o4qa5pPe58U2kaz912ccq9qby2607x+AEpeA1miPf5/RDKgbzQ/fXEcHSNb+jHnlBToW7Wf1sWxsPb2xBRRjIZnJWbVrhkDJ4OzRawyeMoox1/IIvmlDx7HdcYzbQ0h81W5awqbTTBY+7cv5ZX/jm1+rrleX8ek6iPqFkSTmqnBtOYDR3Sy4vOZI+TMuJDvajhqOe/oVolNyKK3jTpuBo2lVdon/ntPWqCntP4qsccHdsQ5qFw0qyQIHd2+8LXXkp6eSrbOnzTP/YFqTm/yw+jwlzl54Ayhl5X8vlfDuNYWuFlFcj0snt0SFU+MeDO9iS9qBy6TWsOjKhIMBMKaEcjRiMFOb3v6s5PpWvlwnM2nwHN6bbEZpeiQnVy9lV0zVk04h59SP7Go2ldHzPmeaGWQFV/fWQoWihDASA7szaOoAnGwtUAoziL20lS+2nSJXub1d9tnj3GwxnbfHO2JMv8beFWs5lasARZzfsoYG08fx1uLhlBTkkXTuOMfiPPH/A8unNjGmHODrFdY8PfZZ3hpgTnHKFX5evo6T1V7dp2DEloCBwxhc1wpj/k3Cjq5g1a4rd3R+kqYVPdpZEfXD6RrXGDySsmh2LvsW86dHMHveaKT8BC5sXsqmK9V7xkA5I2buXRg5aCy2ah1ZsRfYumQ7hysiMMmlOa29LLGRh/O3ucMrv6WUnmb5nG+4UJPu23ooheyTa1hmN4WJE1+ju2UZGeHH+HrVgWo9Y6AyFUtfeo0cgKtGpig9krNrFvPDqeyKOtFTotSl/bBnGWRfB1VZPqmRZ/l28Q7O5JhiKCBh0/Zp3pnatLIj7P+3ufQ3ZhH88RtsjPGiZSsXLDSuTHy19e2v3fr7DSOFOUU49B/E04OcsLGAYm0i1/cuY9ue2Bp1WyGItxY+ocqfMzA8fUk1AwxBEARB+O3ERWZBEARBMHEiGBAEQRAEEycuEwiCIAiCiRMzA4IgCIJg4kQwIAiCIAgmTgQDgiAIgmDiRDAgCIIgCCZOBAOCIAiCYOJEMCAIgiAIJk4EA4IgCIJg4kQwIAiCIAgmTgQDgiAIgmDiRDAgCIIgCCZOBAOCIAiCYOJEMCAIgiAIJk4EA4IgCIJg4kQwIAiCIAgmTgQDgiAIgmDiRDAgCIIgCCZOBAOCIAiCYOJEMCAIgiAIJk4EA4IgCIJg4kQwIAiCIAgmTgQDgiAIgmDi1H91BgRBEARAsqHxgElM6N0Sd+tSMsJPsO37HVzSGqubADaN+zFxbG9aeNmhLs4g8swuNmw7Q2pZxSayHU0HTWR0j+Z42qnRZSdw+dA2Nu2/Qb7yZ+3Yk0ndcgafvhyElXTn54o+gg1vfMwhrUyTyYt4tZdjlVGzEe2hT3h9fQSGik/M6nVkzJThdGroiCo/kfN71rHpaDzFNaw8RTAgCILwl5Nw6DyN2UOdOLvmQ76+aUfnSTOYNauABR/uI6Ua8YBk14mps0fgcv47lqy8QZFtM4ZMm8ZLei3zt0ahQ8IhaBovDrbn5KoPWRZZjG2zYTz3zGwma9/i67MF1LD+63cx3NjBovcOoKoMBlR4D3iJyQ6/ciX7dknor2/l463X0QOgoM9Pp7I6zHwZPns67TJ3sGLBZUp9B/PclJcYr53Hd5eLalR5mlYwIFnRqO9Ehnfxx8vFFnOdlvjLh9i2OZiogtvVJll602XkaPq188PF0kBuchhHt37PLxEVJ4ukwa/3GEb1akUDJ3NKs+K5cmAz6w7HUYo57f/vcyYWfMm/vy8/gCT7p/jnB72JWTSPH+IrDiPLzry8ZCTZazdR1GEk3Zq4YKFLJ+Tbhay/VIJ9i6GMH9SeRp7O2KhKyIg+z94t2whJLKk8wB6cz0KsO7zAwollfPvmf/m1uOILqoaMW/AqDQ6/w0cHMmvUgSoItZrkTPsezTCcXc7WM/GUAj9tPUa717vTpf4BtsU+PBowaxhIU4sINv5wmtgCBdJPsPHnlnwytguNd0ZxVaeino8XZkkHOHAhEa0RtKcOcmFgR1p7OiGZWDCgFGtJTtTe/sCiGU81siB85xkyqxZEURZJCQno7pOGuX93urgksPfL/YSlK5CyiZ9aLWJKj1ZsuxJKQQ0qUNMKBjDHpk4ev+5cyeakLIotPOk68VlefjqPt1ecLp8mk+rSfdY/Ge94iS0r/8PVNAO2fh1p46xBiihAQY3XwL/x94FwYsNS1kZkI9cNIMjfEQspjtJHqnwN7Yb15PimZby1PBt1PX98JCMgYWljRvrJrQRHp5BdpsGvz9M8M2cs2re/53rpw/NZcDmUSxNn0KmFNRfPFKIA6oYdaGsXyZ5zWSZ10gvCE8/MCx8PSAyJq+x0DEnRxOn6Ud/bBik296HnrKSSkRU9BsOtLRUMZQaw9sLLQeZqmoHkyGiKOragrddx9sWXYNWwDQH26Vy5lkJ1L0bUThKalt1pa36F7y/k3VHW6maTWLT0Weros4m/fJgftgYTma8AMs71vbHKuUFMVsU3lCLiYlJR9/TBQw4lwnCfn3pCmVYwoORwYdfWKh9ksSf4Gr2nNMFLdZrrepB9etAvII/gD9ZyJK58YijzzC5ibn3FPIDefT1J2DWXTSczyg8a7Qm2RfyG/EhqtCEb2XEptfxETLzE5Yo/pYRuZ0flhhmc3X2Ert360sRV5nqC8eH5LAnj5IVS/q9jS2zOhpKnmNO4Yxuswn7gfI4IBQThSSJZ2mBjZiA/X4fP8Hm80jGalQtPk18EHrYaJB4eDOhibxCrjKBbL1+u/BJDsaYx/Xv6o5aLsLGWACN5Z9bwhd1zvPjm54xAQTZkcPr7z9l+437jXhMiOdC+WwvKLiznStHtYCovIpgN4QnEZ5Zg4daKAaPH8Lf/g/c/OUCqUcLG1gYK8ym068isN8Zjs+9jVuYXgrUNGhkQwcCTSoVTyyGMGxpEgIcjVmYykgRKyWksAJCw8vDEsTiaG0n6+6YgO3riWSeLsMg/YHStFBIfm37fiNzcrSMjxw2gvZ87dpYqZEkCYyY3LaRq5RN03Dh5lvxXOtLK7iTHiv3p2FrNlXUXa9TUlSCYEgWFssJssrR5lDziUF3JPMr36+rz/PjX+XSYgrEsg/N7TxHr2wIjCiBh1WQwU/rZ8uuajzkWV4JNk75MmvQSY3IWsSWsZl3j/iPJbkF0a5TDmZ3hlFZ+aiTl3D5Sbv0zPpbYQjvef6k7nb0OsiO+4nNFAUMJeVot+sKyyl61ppWlSQUDsksvnpvVg5JdXzN/cRRZxQZULWfw6fMq7lxQ+nuqUbn325J0vw2BMnRl9/ktlQ9DXpxGq8SNLJ97mricUhSrLsz5ZPhdSf3vfOpjTnI66w06tXHiXHYHAo2XWH2t+H9+RxCEx08pzie/TIXGxpzk4C+YHwyYteIpKyjIq+61fD0poat579R6bO2tMBbkUOwzgYVDcsnJU0ByoNPQ3jhcWcrWkzcoA0jZwO5mi3mmT0t2h5+ksKb1YH8INb5dg/BIPcXqmAcNrsqVJieSThsc7GTASH5ePmhssS7Yw8YPLgEyboOsoTCNwhp23cWknjMge/pSv+wKh4IjyCw2oCDj5FYP88oOVqEoOQmtZUMaedw/TjJqk0guccLPz5H7d/EKZTo9anOzyk8kW3vsHhQP3IekqU8DZy3nD5wgJrsUowKyqzuulbX18HyWZzaZ06eS8encg16dW6C7cJLw0gdvLgjCX6Qsibhk8PL1wbziI9mjIT7mmcQn5N8RDMgWtjg5OaIxv19CgLGUPG02BToLGndoiX3GDSK1CkhWaKxkUO4csChGUFlYmNbIsKo6TenWyYGYkJMkP6QDN3fzwIVcsnONgJHM+ASK7BvQwKmigZes8PGthz4x7qFpPWlMKhgwZqSSYe5DQAMrJCQs3Lowqpc3qqrbxB1lf5gdfZ6dQvcmbjg6ulC/ZV8Gd3AtLyxdGAeDk/AeOpNxHX1xdXSknm87BvVvia0EYCA5LhF147a0sJVB7UTb3h1wUd03S/elFKWTVmBHwwB3LADJqgH9RgThXKW2HprP8q1IO3OSWM9+DA0s5NypKMru/TlBEP5qSgZnj15D1WEUY9rXx9WjOUPGdscx7hgh8VV7FQmbTjNZ+OECJjW7u/uW8ek6hB6tm+Dr25TOI19kRjcLLu85QoIRMKZxPSwL6/bDGdWuAa7O9WgYNJZBLSDuSrjJPWegnIRt6+60sQgn9Mxdd1iZN2XIjFH0bNecRg18CegwlOendqFO9FFOJpbXiS78OCHp9ek3oS/+bq74Bo1nSPNizh25WONmWUwqGDQm7efbra5MnfUBS4xFFGSGc+jwBfyHVNlIyeDY14sxjBpN/1nvMNnSQG7ydY5sPVlxoOhJ2PMFn5aOYdTwObzrZIFOm8CV/Rsr7iRQyDyxlR/9ZzB94RImZMXz69HzRLdvWf2MloWzc9Vepk3+Bx/1LqMwP43LB48Q1qjLI+SzYjPteU5FjKGR01nOxNWg1SyCYFIUsk+uYZndFCZOfI3ulmVkhB/j61UHqvWMgcpULH3pNXIArhqZovRIzq5ZzA+nsivahDKifvyCVYxn8KR/0cdGRWlOItd+Wc7mA6mmeTeB5ESH7s0wXl7F+by7em9jCXrrFgx4ui8OVmoMhRnE/LqZT7cfJvVWYZVFs3PZt5g/PYLZ80Yj5SdwYfNSNl2peesvpE6dOtW0PAuPQnZnyNvv0ObCAt7ffdM0T3hBEAThfzKpmQHToqaOxgbXdiN5yjWan0+Z+n3EgiAIwoOIYKC2Ugcy9aMXaatL5MzGbzieKSaABEEQhPsTlwkEQRAEwcSZ1N0EgiAIgiDcSwQDgiAIgmDiRDAgCIIgCCZOLCAUTISMY+AIpoztRkBdC4pSLhO8cT17b+RX+35g2TGQYZNG0i3AHY1USOr142zfsJPL2lv3aaip22YEE4cH4V9Pg1SSSez5vWzeepz44tq3NMesXkfGTBlOp4aOqPITOb9nHZuOxlPtXZUsqd99HOMHtMHXyQJdVizn925iy7EqaUga/HqPZXSvVvg4maPLSeLCD1+z9nQtfAW3ZEPjAZOY0Lsl7talZISfYNv3O7ikre59QBI2jfsxcWxvWnjZoS7OIPLMLjZsO0NqGSC7MvCNBYzxvfsJaAq5Rxbz7+/D+N8P461d1C1n8OnLQVjd9XRYRR/Bhjc+5pBWpsnkRbzay/GOB7lpD33C6+sjKt9B9LvPgyeECAYEkyC79WXWC09hDF7Ff0JyqNf7GZ6dPY3cd5cSml2Ns1Z2pffMF+gtH2L1omUk6OvSdvSzzHqhmP8s2stNY/lvPD+zB/p937DgaCIG57aMnTWF2YYM3l4fdt/3oddYZr4Mnz2ddpk7WLHgMqW+g3luykuM187ju8vVe+BKnWZjeWlSAFGbljHvUjZ1/Prw9NSXmJAzjzWXilBQ4zngZV4ZIHPqx9XsiM9HsqmHk642PjxLwqHzNGYPdeLsmg/5+qYdnSfNYNasAhZ8uK9aDx6S7DoxdfYIXM5/x5KVNyiybcaQadN4Sa9l/tYodMYsTvx3AdcsqvR+mrY8/XIXkn6NMalAAMBwYweL3juAqrI4VHgPeInJDr9ypUqboL++lY//n73zDo+q2h72e2YmCem99xBIIQUIBBJI6D30XkRpomK5v6v38yqIikpRsKAgqCgWOoigIF2ChNCSUEMI6b33npk53x8pJChkuHK9EM77PDw8M5mzz95r77XO2mvts/eu2Eb5iCjLWxwu9wD04GGh/TgDih48u3YietfLsfWypCj8Zy7ZDmOUp8DNXR/x2W/ZqAU9Og2Zztg+njhaGaFdV0TqlRPs3nGMhBZH+Qm6TvQZP5GhPdyx0lVRmnmD8F3f8+vNxgNDdIN44cPxFH+3narA8YR4WKFTl0fEN8vZcrkaFJZ0HzeD8X08sOqgpCj5Ar9s3UlEhqYHAwiY+I5m6siedHKwwFBeQ35iFId27iYivQZR0Ymp7/wD+0OL+Si8pHHAybAduZilPS/z3jv7yVCDwroX0+ZMpLeLATVpZ/n1phWTAlL54I1dJLVHe3pXZDgHh+JSfIqV+y6ToYKMPXvx6bGIfoGWRB7Oa/useENP/FyVXN6wn5j0OqCAozuOErAslCCnI+xJUaOwd8FBuMX3R66RXSVCcTgnr4bxooM9hsINCh8ly9AG2p6h9LFK49CnR7iRJ0L2dn7uupJZ/bqy++oZDU7GlOPk64tR+gn2hceTqwbO7+En70CeCfFn55VIKrW7MGyIFde3vsmWc01nzCfdu9hHFcGCnv26oLqwnl3nU6kFft51ih7/DqWP81F2J7ftDWh19MNb5ybbfjxHcoUIeafZdsCf1ZP70HlfAtfqlJTnplN++6ZYDp6OffF5djyGh5aI1UVkphfd/kKnC/076RC37zyt3sSuKiQjLe1Pnfm/rgcPD+1rzYBgBAnb+GR7PJZDR+McvZZVe7LoODAIRxmANoYdyojZ9yWr33ydN1ZvJ848jBeeCMSwyTsULAld+DIzPEs58eV7LFn8HhuPZKJnYXDHwUQG9BgzAOHkOha/9CL/XrObq8VqQI7TyOdYECxw5st3WPzWpxwu9eaJF6bgratxQ9A11CIvchefr1zKa2+tZX+2G9NfnOwrVMIAACAASURBVIyXDqBMJupSGR0D/G8fgCSzpluAHTlRUWSpAbkTo555im7Vx1n39lI+PFBFj9BO7cj7uw8EQ5xcLKhPSSSzyQmqSyYxHexdHNC658WNyOTIUKNUtjDKynrqZRY4OughAMq0WyQrneja3RodARSm3nTrpCD1ShyaBB8eHWRYODuhV5JEUpOHI1aRkpSDwskFe42sioBcLiCqVCibZaNGpVShbe+IrQzkDh64d0ghVTaEF5et4ZOPV7F00Tj8ze/joI9HBS1HXOwhPTGl+aGjykgkpc4CZyfDuxyK1hpBLkMmKlGpmgQqoqpXgb4jjqZ/0ikyR4JDXMg9e4Y2Dut7DBAw8A8lQPsqEdFlrSYHii4zWPnZ56z/eDmvzh1Cp+aHxYPQg4eHR6y6bSAWkHAjlYy4BHLrs4mPzSIjPpkSEwvMZIBYQvT+XRyPjic9r5CC9MscPHYdWScPHBvti8ylH0O9yjj29XecvJFFQVEuSef3szvijr27BQVFEdvYezmHqvpaytIvcyWtFuSuBAXZknlsO4djsynIvUX4toPEGQbS10tHw4aoyT6zh72nrpCYmU9RXjIXfjlJokFnPKxlgJLkizGUduyOX8PpSMisutHdLpuo6IadBuWuQQTZZnBs+1FuZBeQdXkf+y+UP567EAr6GBpAZXkl2j4zWf7xUsa6KqkoV6JlYISuBpZWLE3gVp4ufv37Yq8rIGiZ4Ts8BDdBQN9AHwFQ5x1nw7rTGExcxmcbNrL+/afpeP0r1h3KaGdyFzA0MoTKciqNe7Hwgw95ZbA1VeWVoG+IgUZWRUX6rSTqnIIY5GWMAhl6Tv0Y3NUQwcAQfaHhtE8juTtDhppxZdsnvL92FzeMBrHwmaHYtS/LhaBriKGWisryOlzGvskny2fho1NJeRUYGN05Eflz6pLjSRY9CBnohoEM5EadGTbAE4VMH0P9P5ag3SmEYKsUzkRmtrPx+R8gmNIzxJf66AiuVt12pspuHmPrN1/w2Qfv8+n2C9R5TeKlZwdjI4MHowcPD+1roigqqa8HlEqUopJ6JaCsRynTQksGIMfcP4wpo4PxsjdDT0uGIIBYc46Gx7SAnr0DZtWJxGe04SqLlaQm5/1RibQtsTKpJzujoPlvYkUmGSVaeFqbIkOzA0G0bXsxfspwerrbYawrRyYIoC4gqzHfp0q5SExpPwL8jfj9VDlW3bpjn3WRTTlqQEDHygbj2iwyCpvupiQnMwe1twY3b8eoaysoKiqmsk6kwcJqOGVXp3Po613YLZjEW2uno1bVkBFxnPO5ttg1HgkrmHRj/IwgVOEbWXE+G5WFH6NnzmVR2Yd8cCC1/Z0YKYqgqqGsqAhlZX2zNdFMoiIVF7bzjdtCnnhpDYNQoSy5zoGzN/AOaZSnICDIIe7AFn67UQWksXePOz1eDiTA9jBZj9oZsRogIlJfWUxhURk199k8sSCc739w5ump/+ajMSLq+nyiDp0l2c0X9Z29IujhE9oD/bg9nJd2J0VmG0xIpxLO74vjdsJETfbFw2Q3fUxNJrnSmHefDyXI8Th7Uxu//0t68PDQvpwBxBb/i62/FUBmNZD5C/tRs38jy9YkUFitQu4/j4+elt/heWvSjfXU1f/57wTEvzYQ5C6EPfcUXdO3sX7pOVJKahH1+vDi6rEITRVVpXIxupj+Af4YRdykW3c7Mi9+1ZB7lWiNWEl5Begb6qO8tY/VywDBgBADBcqKCg1X/YrUpBxj/eKT6BoboVNfRqnKjwWrRUpLyhGR4dhvLEGcY8X+KFLVQFY226z8WR42AI/Dm7nWbkKxIuVl5WBghH7FQbatuEzDmhV9qMylUtMxqC4iZtsKLu0xwERfoKq0ErMRSxhdlkapGtSVFVSpSsjLr2m+RFVUSJFoiJGhJnPlRwexupzyejkGhtpkHlvLsmOAVlf660FFWYWG9kRJ9pmvefvsFoxM9FBXlFDtMo3lYaWU3HEin2AUQKi/jKubo7nzsL7HDwVufYOxzznL123kS2oz08mjO6bGMkD9YPTgIeERC2T8NWQObjjXX+XEsZsUVKsQkWFua4N2s10RqcrMoEi3I53s/0M/qS6f3FJt7BwsmoUrGNjhYKIkP69Yo6iAYOCMq0URUUdPk1Rci1oEmbUd1q16S0XqxRiKOwbQzb073e0ziYpuilSI1OblUKpjh71500UKbOytH68Ob0IsJy21AC1nN+yb0s1aLrg5QEZK+h0zdgX6puaYG+vy55lpJdWlRZRUqTDwD8RbkUp8Yg0goGegh3CH2RbVImjroNOuBK+mIDWNKhNXXM0blUfQw8XNBmV6CndO2LUNzTA3N0LnLs9vsa6C4uJyamUOBPawpzIhnmw1qLPTyFQZYWl+O70mMzHDRCinrLydPcHqM0jJBEc3F7Qbv5LZd8RFu4DUtNavv8p0jDA3N8NA+88KAtS1lBUVU1GnQ+dAf0zy47lV1KoErIJC8aiJJuIRPGr3gdPBm5DepiRFRP5h7N6Jtq09VpRSXKrmfvXgYaddmai2UOfnkK/tgperHgICOrZ9mDDQqZXRV6eEc+SGMYPnziLUwxYzMyuc/YcwKlDDB6kqhbNnc7EfPJVh3raYW7kTOm0UXpUXOBOr2ctlYlUeuRXGdPSyQwcQ9FwZOi4YizsqoE67SFRxJwbPDMUh4yLR+bdHnyo5kshsBwZPGURnK1NsfMIYFWD4eHV4M2pSI06RYtaPKWP8cLB2ImDiBAIV1wk/n9/aGMo7Mvb1lax4aSBWrYQloOsxgFF9/Ojs5o5P6DSen9mNmsiDnCkUATXp1+OosAlhwkg/HK0ssPMcwOQhHamNvUpiO8sR1MX9TkSeM0OnDcHT1hq34KmE+VRz8eQlKlsJVIHPjHdZtXweve6czcts6TliID283HHz6MHIhc8y3DKRQ0diqQPE8kv8fllFt/FT6dPRGisHP8LGBWOSEUWMJu/aPUqI+VwIv448cAKTejpjbe9D2ORQzFJOEZHasq0Chr0XsHzVO8zocueERYZL3zD6dfPAzc2boPHPMS9EhysHT5LWsgi5E337OlF8PoLH8CWCOxAw6hZKd504zpy/Y+8KbW/C5k1gQA8fOrm64RU4mqdn96FDYjiR6Q0C1VwPHn7aWZrg3qgzjvDNLmtmL1zBh+oqKgriOPFbNJ5hLX4k5nNq4xpUEyYybOEbzNRVUZoZy8ldkRqH6lJ/Wccm7ZmMe3op43WVFCVdZOunO7im6S4U9XHs23SIp2b+k/cH1VNZnsuV4ye50anPHQ1KJyq6gJGjrEnaFUNeS4VXpXFgw2YM50zipXfGU5N2loOnE+jYTY34iA3SB4E6+ygbN+jzxOS5LB6uTXX2VQ6s/4FIjZf5i6gxwmvEGEZZ6qEuz+JG+AY27b/aqPQiVZe3svb7SUweOofXxxogVBWQcmU3a3dEUtLeZF6fyL5136D9xDgWvTkRoTyN6B2fsf2+ZppqtOz6MH7kZIwUdRQmR7Prwz381vSgF8uJ+v4zTKZPY8w/lmGqqCL35mm+3HCIjHbmC4BIceRm1hnPYvr0VwnVrSc/7hQbNx3VaI+B5lJ03Rg4fjjWBjKq8m5xYfMafjxb3KpPtD1CCbLM5tSZx29vgT8gmBMY2gX1lU1E3ZkvUdeg1Pdl+BNDMNVToKrMJylmBx/t+Y2cpj55IHrwcCCdWvjYIMMubAlveEew+IPjFEm9LiEhISHRyOMZNX4skGHh05eenWww6qCDgUNvRvaxJPHilXb2zruEhISExF/lsUoTPG7ITTwZPnoyc0x0oTKb2PAv2HQy/5ELX0lISEhI/HeR0gQSEhISEhKPOVKaQEJCQkJC4jFHcgYkJCQkJCQecyRnQEJCQkJC4jHnEXQGZLhOfI/P/9EXg/vdkVThxaw1n/Nc4N227vrvILMdyZLPFzPM6hEUt4SEhIREu+cRfJtApDw1msjyPO5yNMBfR2bLqCVL8T/3Jis0OOte4lFAhpnfOGZNDsHLUoeq7Csc27aFQ/HlGvevzMyPMTPGE+Jlh4FQSU7s7+zZuo8rRU07kCiw7D6O6WOD8bQxQKgpIDnqEDt2/U6qphtOPUJo2fRi0qyx9O5ohrw8naiDP7A9PFXDsx4AQRfn0ClMHd4dN3Md6gqTiTq0nZ2nbpehYx/MpGkj6eluhZ5YQU78OX7Z/iPnc9rZlo4AgiGdh89g2iB/7PRryY87ze7v93K5SNNdhwQMOw9l+uRB+Doao6jO59b5/WzdfZ5mccmM8R45nYn9fHAwVlBXnMaVE7vZfiSe9rbDc1so/Ofx0QvB6N0xqRSVN9n62gecKJLhMXMlrww0azFrVlN0YjX/3nKTptPQ/7IePCQ8ks5AwcU9fPe/robEI4XMdggLn+mP+tgm3osowWbQk8xd9BSlb33GGU02XpBZM2jBMwySneDrletIU1oSMHEuC5+p5r2Vh8hSN9zj6QX9UB7+gnfC01FZBDB54SwWqfJZsuUGmm1G/Yig5cbYRXPoUbCXDe9codZtFPNnPc/Uojf59opmu6916DKZ52d4kbB9HW9eLqaD+2CemP0800reZPPlKkSFO2MXPUn3nD2sf/M8+XJ7+s58mnnP1pDz9r7WW+w+8giYBj3FotHmXNi8io1ZxgTNmMfChRW8s+qwRrsQCsa9mb1oHFZR3/Lhl/FUGXUh7KmneF5ZxLJdCdQhYBr8FM+NMiFy0yrW3arGqMsY5j+5iJlFi9l4QdMDkdoHqvi9rHz7KPJmZ0CO0/DnmWkaw9UWNkEZu4sPdsU27tYooixvcVrtA9CDh4X/vjMgd2fqe//AYu+/WHeu+o6/eTJz5bPobv0XX8XUoWUVwNhpYwj2tEFPVUJq9K9s3R7eOKuS4TBmKW+OdUQGKK9+w8ufnKaipbQFAzqPeJJZQ32wlBUSezSCqr5j0N/3Mp+eud0xMlM/Jv5zAv07maLMucieL77ldLYSZC5MXLaYkbaNfqDzCr6aAog1nFv3El/ENAyHe9cTBF0XBsyazahuduiUJ/L7b9n3mY8RMPEdzdSRPenkYIGhvIb8xCgO7dxNRHoNoqITU9/5B/aHFvNReElju2TYjlzM0p6Xee+d/WSoQWHdi2lzJtLbxYCatLP8etOKSQGpfPDGLpJUbVShXSHDOTgUl+JTrNx3mQwVZOzZi0+PRfQLtCRSg+iPYOiJn6uSyxv2E5NeBxRwdMdRApaFEuR0hD0pahT2LjgIt/j+yDWyq0QoDufk1TBedLDHULhB4aNkGdpA2zOUPlZpHPr0CDfyRMjezs9dVzKrX1d2Xz3TWi//FDlOvr4YpZ9gX3h8w2mb5/fwk3cgz4T4s/NKJFWGjjib13J9+wni85RACUd+v8WoOY7YakNaTVv3eIQQLOjZrwuqC+vZdT6VWuDnXafo8e9Q+jgfZXdy296AVkc/vHVusu3HcyRXiJB3mm0H/Fk9uQ+d9yVwrU6OjYsjWhlHORqdTpEais4eJ3pEL7o5mCM8Zs6AWF1EZnrR7S90utC/kw5x+87T6lTnqkIy0tL+1Jn/63rw8PDfT2KrMkhMFnF0sf/DKXCCuTPO+hkkpdQjGPgz8+XZeBYeZsM7i3njg+3EWY7jhRn+6AsAajL2v8WCeQt492DOn5z+J2DUcxbPhlkQv3UlS9/9hit2ofQ0u3NhgQKvAb2pPbaB91ZsJFIVwLQJPRrWH6hT2LNkAfMWLOHH1DoSd77G/HnzmDd/UbMj0HY9deky+TmmuGby4wdLWbYhAr3gPjjel6QFdA21yIvcxecrl/LaW2vZn+3G9Bcn46UDKJOJulRGxwB/jJuaJ7OmW4AdOVFRZKkBuROjnnmKbtXHWff2Uj48UEWP0E6PYijoryMY4uRiQX1KIplNTlBdMonpYO/igJYmZcjkyFCjVLYYecp66mUWODroIQDKtFskK53o2t0aHQEUpt5066Qg9UpcO9v1UYaFsxN6JUkkNXk4YhUpSTkonFyw12isC8jlAqJKhbJZNmpUShXa9o7YykAsS+JWjhbu3XwxU4CgbUVAV2eqYy+R0N4O2NFyxMUe0hNTmh86qoxEUuoscHYyRJPlUYJchkxUolLdPspdVa8CfUccTWWAisxbiVTZ+BLgqIcMGQYdu+NlksfV69kanajafhEw8A8lQPsqEdFlrZwiRZcZrPzsc9Z/vJxX5w6hU/OBWw9CDx4e/obq1pKSmIGRszPGgoCedxjzJvfAXABtRxdsipJILgWzXsMIrD7O5m1niM8uID8thp9/OoeqaxDeOm3fBcEQ/z5+EPUTu86nkp+XyKldR0n6wwhXkxexl4NX0shJu8zB8FvInVyw1dCAtVlPHU+Cexpw4+AuziTnkZccyc6D1+8zRKwm+8we9p66QmJmPkV5yVz45SSJBp3xsJYBSpIvxlDasTt+Rg0DU2bVje522URFNyi13DWIINsMjm0/yo3sArIu72P/hfLHU+EFfQwNoLK8Em2fmSz/eCljXZVUlCvRMjBCVwNLK5YmcCtPF7/+fbHXFRC0zPAdHoKbIKBvoI8AqPOOs2HdaQwmLuOzDRtZ//7TdLz+FesOZbQzuQsYGhlCZTmVxr1Y+MGHvDLYmqryStA3xECz4z1Jv5VEnVMQg7yMUSBDz6kfg7saIhgYNjjWqlR+/uQLrjnPZdX6jWxY9x6TTX7n868i2lWUBUDQNcRQS0VleR0uY9/kk+Wz8NGppLwKDIwMNHIG6pLjSRY9CBnohoEM5EadGTbAE4VMH0N9ARApO7+ZtT/XMvD1T/h84wY++r8e5G79lD3x7SqJdf8IpvQM8aU+OoKrVbedqbKbx9j6zRd89sH7fLr9AnVek3jp2cHYyODB6MHDw98wURQpTk6mJMwFRy1tCOpHgH8Wtw5fIt3FEXXKeTLVcjyc7NF29ODtL8e2vlwZj7G+ADVtaL/MAhtLgbzrWc0PXrEsm6xyEbNWP1RTkFfQaJxFaqqqEbV10NbozQQ5dm3UU6awxlKrhJtZTSE3keqsdArUxprcoBlt216MnzKcnu52GOvKkQkCqAvIajwUXpVykZjSfgT4G/H7qXKsunXHPusim3LUgICOlQ3GtVlkFDY9hpTkZOag9r6varQ71LUVFBUVU1kn0mBhNXyqqNM59PUu7BZM4q2101GrasiIOM75XFvsRBEREEy6MX5GEKrwjaw4n43Kwo/RM+eyqOxDPjiQSrtb8iaKoKqhrKgIZWV9szXRTKIiFRe2843bQp54aQ2DUKEsuc6BszfwDmmQJzJrgqdPw7foFz799ioFclt6TZjJMwtKWfVpeENqoZ0hIlJfWUxhURk199k+sSCc739w5ump/+ajMSLq+nyiDp0l2c0XdcMIRc9jFLOGGhGz+QNOpdRg6DGEGTOeZ1LJSnbeeLRy3A8SmW0wIZ1KOL8vjttBJzXZFw+T3fQxNZnkSmPefT6UIMfj7E1t/P4v6cHDw98SNVZlJJAqjMXF3hVd+1scP2eFp4c5gosJmdEp1NNgl+tjvuSfn52luo3y/iriXzjDt616yqwBUYW6ZU5epb6/maHchbDnnqJr+jbWLz1HSkktol4fXlw9FqHJaVGlcjG6mP4B/hhF3KRbdzsyL37VLg3kX0aspLwC9A31Ud7ax+plgGBAiIECZUWFhqt+RWpSjrF+8Ul0jY3QqS+jVOXHgtUipSXliMhw7DeWIM6xYn8UqWogK5ttVv4sDxuAx+HNXGs358WKlJeVg4ER+hUH2bbiMg1rVvShMpdKTceguoiYbSu4tMcAE32BqtJKzEYsYXRZGqVqUHgMYaxvEYeWHOFKgQhksW+XE91fH0pf59/Zo0Ee/VFBrC6nvF6OgaE2mcfWsuwYoNWV/npQUaZpLl9J9pmvefvsFoxM9FBXlFDtMo3lYaWUlIkgmNJ79CBMr37Grsj4Buc0eyu/dFnDk4P9+SUusvE47scNBW59g7HPOcvXSfdW0trMdPLojqmxDFA/GD14SPh7Ahl1KSRkmuMW2B23gqscj0nB2qcfneyKSUopRURFVnoWOHfGTZOUwJ+hLiAnT8TKwY6mXQQEQ1tsDe93MwIANWo1yOTyO8JzbddTXZxLbp0JFua3M9EKCyvM7kPSgoEzrhZFRB09TVJxLWoRZNZ2WLcqQ0XqxRiKOwbQzb073e0ziYrOa4541OblUKpjh71500UKbOytH8WNJf46YjlpqQVoObth37RwRcsFNwfISEm/Y8auQN/UHHNj3T+scWlASXVpESVVKgz8A/FWpBKfWAMI6BnoIdxhtkW1CNo66LQrwaspSE2jysQVV/NGDRH0cHGzQZmeQuYdRlDb0AxzcyN07qKKYl0FxcXl1MocCOxhT2VCPNlqkOkZNLz21bI8UUSNNh00C+U9OtRnkJIJjm4uzfZLZt8RF+0CUtNav/4q0zHC3NwMg7ttl6KupayomIo6HToH+mOSH8+tIhEEPQz0ZNAYyWpCVINcR+fxXE8E0MGbkN6mJEVE/mHs3om2rT1WlFJcquZ+9eBh5+8xUWIJyclldAztRe2NOEoTr5PtHUo3RSpJmWpApPDsES4QxBPzhuHraIGFjTNevUYye0ZfNNqrRyzn8pkr0GMsEwMcMDN3oc/Egbj+J/VVl1FQqMTG2w9HQx20tBSNr59oUM+6G5y5WIXPwP446AA6DvQf3LVxcaFmiFV55FYY09HLDh1A0HNl6LhgLO6QgzrtIlHFnRg8MxSHjItE598efarkSCKzHRg8ZRCdrUyx8QljVIDh4+kMoCY14hQpZv2YMsYPB2snAiZOIFBxnfDzd5ziKO/I2NdXsuKlgXeMOwFdjwGM6uNHZzd3fEKn8fzMbtREHuRMoQioSb8eR4VNCBNG+uFoZYGd5wAmD+lIbexVEttZjqAu7nci8pwZOm0InrbWuAVPJcynmosnL90xu1TgM+NdVi2fR687HXOZLT1HDKSHlztuHj0YufBZhlsmcuhILHVAfdI1bta5MXjKQLzsLLB08GX4hBBsy69zNa2dvQ4j5nMh/DrywAlM6umMtb0PYZNDMUs5RURqy6eKgGHvBSxf9Q4zutz5+Jbh0jeMft08cHPzJmj8c8wL0eHKwZMNr2Gqc4m9UYh+z7FM6OGKtYUNHYMnM9IXUq7GPXb7DDQgYNQtlO46cZw5X9DaFmh7EzZvAgN6+NDJ1Q2vwNE8PbsPHRLDiUxv6BPN9eDh529yBtVkJqYgDrbixo1SxLpbxKbL6KmdSEqjkRQrYvh+9VeMmTyK2a9OwEhWTUlOMtdPH2h4PUM3iBc+mk/X5gn3HD75ag6o8ziyagk7ElSUXfiBzy2f4onZSwiVFRF7+Hculo5B/w5PuG2qufzzbi7NHcOrH05GW6jlfOOrhW3Wkxpu7FrPT7Nm89LKYVBdQFzMFbLcrTS/fX0c+zYd4qmZ/+T9QfVUludy5fhJbnTqc4dY04mKLmDkKGuSdsWQ19JmqNI4sGEzhnMm8dI746lJO8vB0wl07KbmL2RJHlnU2UfZuEGfJybPZfFwbaqzr3Jg/Q9EarzMX0SNEV4jxjDKUg91eRY3wjewaf/VRqUXqbq8lbXfT2Ly0Dm8PtYAoaqAlCu7WbsjkpL2JvP6RPat+wbtJ8ax6M2JCOVpRO/4jO1X7yfvrEbLrg/jR07GSFFHYXI0uz7cw2+NL9WLxRF8/ak+UycO4dml09AVK8hNiOK7T3Zz9b+dS/zbESmO3Mw641lMn/4qobr15MedYuOmoxrtMdBciq4bA8cPx9pARlXeLS5sXsOPZ4sb+6SehJ/WsompjJrxLwYbyqktSef6r+vZcfTP3tB6DBDMCQztgvrKJqLK7hi56hqU+r4Mf2IIpnoKVJX5JMXs4KM9v5HTJKwHogcPB+37CGOd7jz9wUyqN7zK97HtJmH7HyLDLmwJb3hHsPiD4xS1316XkJCQkLhP2lfUWNuFniG+OJnpoaNrjtfwIfhURXMx8XF0BGRY+PSlZycbjDroYODQm5F9LEm8eKWdvfMuISEhIfFXaV9rRoQO2AdNZdpUCwy16ilKusju9XuIa28blGiI3MST4aMnM8dEFyqziQ3/gk0n8x+58JWEhISExH+X9p0mkJCQkJCQkGiT9pUmkJCQkJCQkLhvJGdAQkJCQkLiMUdyBiQkJCQkJB5zJGdAQkJCQkLiMUdyBiQkJCQkJB5zJGdAQkJCQkLiMUdyBiQkJCQkJB5zJGdAQkJCQkLiMUdyBiQkJCQkJB5zJGdAQkJCQkLiMUdyBiQkJCQkJB5zJGdAQkJCQkLiMUdyBiQkJCQkJB5zJGdAQkJCQkLiMUdyBiQkJCQkJB5zJGdAQkJCQkLiMUdyBiQkJCQkJB5zJGdAQkJCQkLiMUdyBiQkJCQkJB5zJGegFQq6L1zPV5s2sWnTV6yd64figd9DwLjfy2zctIlNmzbx5fLJuMnvUSOfOXz86Xz8W1VEwGLwq3z+5hgcpB58MCi68ORH63km4D/t8fvrV4kHwYPQg79D5x9XtLALnc/SDz/ny6++YuOrgzET/td1uhcChiH/x+d/s+7KnCfwzuev0N/kfyuc9jfuZbaMWrIU/3NvsuJwHuJ9XawkeuNzzN+ooOv8j5n7F6ohGIXyj1XDSX9/CbuT1S3+IlIavoaF4QKGIf/g/RH3LkddcosL52QUq+/9O4n/NffXr/dGTqdpy/mn1T5eXnuGqgdVxTsQDIJYtOIpfOrPsv7f33Cl7r90o7uiwMJ/FFPG9MXL3gh5bQm5KXH8vm8bJ5Jq/qY6/B06/wD5S/YNQIaZ3zhmTQ7By1KHquwrHNu2hUPx5RqVJej34cUP5+J355NDrOXiF//k8/Mt+k3Xn9GTfSn58V0+PldMvaqOmvuv8F2a4cCYN5Yy1qnFU1us48LnL7AhStn8lZZ1D8ZOGUVvD1sMNOzwSQAAIABJREFUqCI/6TjffnaAhL9xrAv6bgycOoUhXV0w01FSlnmD33/axs9XitB0lAi6zvSbNpMRAY4YqUtIOvsT3+86R079g6tn+3MG2hnqjNNs+eF/XQuJ9oeArndXOqaf4nQHf7q6a3El9gFaFg1QuI3lpWeCKTq0jU++yaKugzkOnt2xM9NGSKr5Dx50Em0hsx3Cwmf6oz62ifciSrAZ9CRzFz1F6Vufcaa4bYmL1TFseedt9raIxGh7TuCl0fXExNa2+q1gaI6ZopArcdmUVf03nCMVyQfX8t2FssbKqaksUN2+v0FXZr08l85ph9i1/nvy6jpgbq9L7d86sHTxm/Y8U9xj+f6jr7ha2oGOQ+Yw/5m5lC9dw4kCDSoj6OE79Xmmd45ny8ffkCD3ZeKCOSyqy2fZ7iQelNb+z5wBmb4dvkH9CHHLZc+mGDz/7z36K6+jdvbCIP0IB5M9CRviRHXUd3z49XmK0KPTkOmM7eOJo5UR2nVFpF45we4dx0ioEEHmwsRlixlp2zhKnVfw1RRArOHcupf4IkYJCj/mrHkGs7NHqfMMwtVEi5q0M+z8Zg+XijT20dBzG8j0aUPp6mSCrCKL6+G72HIgllI1CBZDePW9aXRqlKzPki8ZAaC8xrf/+phTZZqNRIXnLFa+MgBTAcTqSD79x1dcVt7xI5kxPhNfZlG/TpjUZXP58Ba+O5JAlYaDXWbVk8lThuLvZouZvkBlzk3O/ryDvRdzUQIKu6H8898Dydv0Lt9erkBEwCx4EUsmwe5313GmSATBAPdBU5g0qCvOZgpqcuM4tecH9l8uQtUsr0HMmD4UfydjFLVl5CWf48ev93C59MFppWDsTdisyfTzssNQVk1JdiLhO77kYHwNIGA68BWW97/Fird+Ik1N48xiMV4Rb/D+sYLGB4+AtmN/5o8aSYCdNqWJEez+dhcX85SAHsEvrmG86jeiO/jR3cEQecUtTmz5lgNxms2qAFBY0n3cDMb38cCqg5Ki5Av8snUnERm1gAKfJ1fzj1BDGgKG8/h00zxATcHR93l9+y1UbbZVUzrg1a0zhdfWcFbfi/ld3VDE3kQJIBjgN3sxC2xOsmLNYbKUgE5HJr72f/he/ZgVexKoBbSsAhg7bQzBnjboqUpIjf6VrdvDSa1ulIbcku4TZjI+uDNWumqqirKIO/oDX/6WhhoZdr5+WGQdZ/3PF8lWA2SRlnC1hay8mLXqRYx2vMT68w1TOUXAM6ydVc26f33L9SZ9uJcePDI6L2DiO5qpI3vSycECQ3kN+YlRHNq5m4j0GkRN7FubyHAODsWl+BQr910mQwUZe/bi02MR/QItiTych7xNna+iICOtRbUN6DXajfpLX3OpoqGdMsexvLn0durG/d0vmQAo47fx2vvHKBLbaCtt26YmaoszSU8r/hP9k2EVMorA6iOs3LCf1MaLkhNa/0rLNohpT46nl4sBNennOHKzZX6g7Xo2ycB90CQmDOyKq7k2tYWpXD26gx9+S6FWZoGLkz6F0SeITC5ABcQcjyR14CgcreVQ0NQaOVaBs3htSG+c9apJv7ifb7eeIqMWBH1/+vXU4/qW7fyeUI5IDtuPBPDOiH547k/iuml/5ky2J+30SSKvZFLxH/pdf7MzoIVpxwBC+vejb4ArWrlXiTx2hhIRQIZh7WU+XJvAtH9NYmjBelavcWTuywMJ2HeBo4XaGHYoI2bfl+zIKKRax4G+0+fywhNlLNlwjnJ1CnuWLGBPm2E0bTz9TFj//mt8WmZEwFOvMn9BCe98cJRcDYQoGPXgiecnYnfpOz78KoF6u348Me85FlYvY/WxPNQFR1m58OhfDhkq437glfk/oPCZw+qFf57AktkF0yf1e75Y9h1q1xHMfepZZuQtZVNMpYYhP0OElN/YciCZ3FIRky5hzJ23CGX+W+xNVaPMOsY3u714fdYMAlK+JFo7hNlTnIn74V0ii0RAjt3Q53lxYAW/bl3N1xl1GPuEMWf+s9SuXMHBTDXIXBg5byKONzbxwYYEKrTNcPJ0Qf1A1zpo4zthPsOMTrNx+VrS63SxdOmCLTIEuI8Zpha+/fz5edMHvFFoQuC0Bcx9upSs5QfJUgMImPp6ofxoJa/erMOq30L+38LZFLy1nrMaOTZynEY+x4LgUvZ/+Q4XCg3wGTeXJ16YQvFb3xNbreTat/9g/rf3ShM8oLbqeNDVo5IbR7JI1YtHMasrLvKbJKgAsYKrOzdz+vXnmTsijlW/5OE27in61x/ig/0NjoBg4M/Ml2fjcGUHG96Jp1jLkb7TnuSFGSW8+fUlKkUBo17TmBsMv2x4m3N5avSt3fE1bcqLilRVVoG5Ox7W2mRn/+dx27b14FHQeQFdQy3yIndxLDGb4noD3Ac/wZMvTqZoyffE1mpq3+51C0OcXCyoT0kks2kCXZdMYjr0cHFAizzq2tT5O4o0C6Rfl2qiPrlOkyuqTt/Hmwv2IbMaxmtv9yRm2XIOZreUR1ttbds2NSDDdcwbrJ3cAbEsi9jTP7Hz4DWKVICgh3tnewrjT+M++3We9bVGqzKDK0d3svNUKtUioHBl9LNP4p+3m7VvXqbafiCz53igKE/VuJ6gwHHES/zfCDi99TO+u1mMzNKLYE8zdIQUatV53EooYZhXd9yNUrlZro1Dd19sy65xJPV2FAOFO6E9U/lm7Ztk6HRh3IIZPDcum7d23EJl54KTIoffkpvGs0hRUhIlep44W8q4VphIbI43Q2a/wQRVKlGnT3Ly9ygSiu5Pp/4WZ0DQtaZLUH/69wuii0kZcedPs33l51xJK2uciZgCanJuxpKZakRyUT3VcbFkp9aQWhmMuakMCkqI3r+rRamFHDx2nUGzPHCUnyNWE8cYABWpvx/icrEKKCbmUARhS4LoYXOcA1ltKbCAoV8f/GXRfLnjLMm1QN4+dp3uwSvBgdic+IU2i3iQ1F3n4M5IkitEyNvFz916MifYB92YcxrlmVXJJ9iefPtzQcRBzgx4A293E4TUIkTU5P/+Hdu8FzNj9lhcOgzAOvor3osqbRiUCg8GDbEldsdrHLpchQjkndrF4R4rGNjDnkOZ6ajlppiZqMi7dYP0wkpESijKTnqwchA6YGKqS3VmHPFZxdRSTElBFrfuuyA1uad/5MC1bFRkc2jXSQKXBNHL8RB7G+2D8uYJDsdXoAZyIo5wcdRLBHc14lx4aduGWe5KUJAtmcc2cjg2BzUQvu0gXVdOoa/XTmKja9sq4YG1VbtzV7xVcXyVrqZeK5ZbeuPo6rSLhMaHmFh9k71fH+PVf85hqpiGd3AZ+1f+Slo9gIBZr2EEVh9n+bYzZKgBCvj5J096vxCEt84lLtQIGJiZIi+7SmxCLsUqKC7OJ6O5BiKFEbvZ7/sM095ew/DUW8TH3+DyuUhi0io0zqUCGujBo6DzarLP7GFv8+d8Lvxykr4hQ/CwlhGb9gBuIuhjaACVmZVo+8zkrfkdObf2fdLKlWgZG6ErQJ3Yhs63QoZ9nxDcCs+xI+F+gtVtt7VN2yRWknJ6F5tzUsitlGHpNYgJY57nJcUq3t2bTL1ghKmxHJOOIwkI38nG1fl08BjB7BkvMKN0KV9fqkLm1pteVukcW3eC+Fw15O7lJ99AXvLQvJ5oezFoiANp+5eyPTK/QUZFp9l9s+maWmJ3fMyW2Yt4ac1Q5GoByq6yc+33xFS0kKi6nAv7fiQqvQ44xc5DPVk+Ogj3PbeINzBEnwoqqqwZ/Mq/GFa+gxU/l1OBAcYGAmJmOpG71xP5kxFOvr3pGzKcF4ZPozQ2kvDwcCKvZmsULf4bnAEBgx4zeGFGJ/LObOXd5RFk/mnSRqS+vh5QUl+vor5eBaKSeqUCHS0BkGPuH8aU0cF42ZuhpyVDEECsOYfOfdVHRUFeYbOxURfkUYAlNpYy2tZqAXMbS4T8OLKax76SrPRsCLHBSpMiHiDqoiyymnu5lpysAmTdrDGTgSYpOkHPhdCJExnczQ0rIx0UggCoSI3SuT3LFIu5sGULfm8+x7C631jz2TWaxrBg5oiDoQHuz3xKz2dalixSlm+IDFAr4zlzupjnnnqbN3rfID45iZvR57iUUfXgcsJiOdciYhj11CKW2ccSm5hC8vWLnIvNvc/8oIqcjGya/HV1XiY56hFYW8ohtaFdFXn5VDaVqSogr1DA19oCGaWo/rzQ22hbYmVST3ZGQfP4EysyySjRwtPaFBk5bT8EH0hbtXDv2gVF/FaSlIAqntgUU4Z0deDH5LTmOtQlH+DrX31YMqE7CVve5nh2Uwvl2DnZo+3owdtfjm1dtDIeY30BatTkRp0mftBU/vVOJ2JvJJKceJXzF+IpatQdsTqRXz96jQiHznh7dqKTV19mLx5ByPYP+PS37Lbl2cg99QB4VHRe27YX46cMp6e7Hca6cmSCAOoCsnQe/CpzdW0FRUXFVNaJNOSkWgyee+h8KxTuhATbkBG+kXRNO6uRttrapm0Si7ly/FhzeakpSRTqvcm/Q0Lo9HMysWoBBAHtogi27o1qcFiztvGr/yqm9PJC+1I0CksrjGuzyCps6sB6stNzUXloXk+ZmQMOHQq5cavwLvZMG+cBMxnnlMyODzcSX66LS78pTHt+NqUrNnGxpPEqdS6ZzasBRcqysqnUtcXaQCCepv6vp7KkiKLK6oZ0IXdEApVlpMUcYWvMEfbY9WHGMzOZvsgB1atrOFnStnH4G5wBkcqYPXxpOID+IdNY/F4olyIjOH36PHG51W0YP5HGkYrMaiDzF/ajZv9Glq1JoLBahdx/Hh89Lef+VEVALmtxhUyG7AHp2qO14EmHLpOeZ6rbJTZ/+CWXMsuoE6wZ8dpb9BRaC0TbuiMOuipUHZxxs5ATl347DCOoszn4zlL2pNylJ8UKrm17m3+f9qSLRyc8u4/g6ZGD+O3DZeyMf1BLekWKzn3BG/GueHXpTCfvHox7cSR9f1rByl8z7j7GNOp3sVXHyuSyFpfJkN3n4BEQ/+I4+Q/b2hKFG119TdA3fYa1PRq/k8kRjPyx3ZdGZnMU1hgXNwtQyrF2c8DgZD5N6W8BqI/5kn9+dpbqu9xGlX2Cj1+7Skdvbzp7+NB76jBG9PiOZZ+eprBZCErKMmI5mxHL2WMHOBH2OktHDsD91FZuNjS3FYIg3Ke+N9T2odd5uQthzz1F1/RtrF96jpSSWkS9Pry4eizCg/IFxErKK0DfUB/lrX2sXgYIBoQYKFBWVFDdojH30vkmdH1DCDRKZP+53PuL5LTZVs1t022UZKXnIOqbYKItQHUllZUi6upc8ps97yqKimpQWDZFQUBUq1s5nSp1i5Y8iD7R9WfkaDdSvn+F8BsNrmn2zh/pFPASQwL3EXUk/56Xi4BYUUYlVhjoFXHwq3eJBOTuXuhTQVlLL03QxdqrJ3369iGoqwOq5PPs/eU3ojRcp/a3vKWurkjj4sFvWf36v3j7mzOU2PRnwbI1rHptAeMCHeiggWBlDm4411/lxLGbFFSrEJFhbmuD9h+uVaNWg0x+NydBjo2DTXPD5bb22JJPbn7r4axSqZBrad0hIJHC3AKwdMBWq+k7BXYOtpCfS0HLItRqRGTI5XdrnIhSqQItbbTu8ou2kJnZYafXVL4ONnYWqPJzKGzVFAX6puaYG+vSauWBzBwXV33SzxzmQkYZdSKgZY2tResWC/o+TJ7bj7qDa/gkvAMj547BrTEUIxank1Fljru7WRsGWklZ+jUij+3lm9Uf8XOGOb4+tn8YfNqGZpibG/GfToTqipO5fPowu79YxfoTZTj6eTa/11xfV9cg66ayZUaYGN15o9ZjQ2Zlj42sgJz8JnMhoG9nT/PrwFq22FuJFOQWtDCG9+jXunxyS7Wxc7BovodgYIeDiZL8vOJWBlVUq0Euv+tD615tbUKmY4S5uRkG2ne00qUrvoaJ7Fv1Fm+91fDv7bVHybbxx9+6WTOwGTCHKc7X2bRqC+k+s3iid1M/q8hKzwLnzs1j4W6INfkkRIdzcNs6Vmw+D15dcb/rNUqKC0tQd9BtsAliHXX1oKWt3XhfASMToz+Mtbb14GHR+bsjGDjjalFE1NHTJBXXohZBZm2H9R8sdFv27R6I5aSlFqDl7IZ9kzHQcsHNATJS0ptXpd9L529X2JjuId1QXD/NBQ3eQrivtmpom1ojx8beBqGyhJI6EcRy0tOLEcwtMW9WNl1MTDugLC+nWhSpzc+hrIMFFvrNRgELK/MWutl2n6iLMsisubsNFHT00deC1pEXEVEEbR3t29fIrLG3aRpgAkZ2tuhX5ZJXIaLOSiFNaUNHV71mPTB1dcWkKo3UfDXo2NFz7HxeXbmGZU8PxK70LN8ue4XXPtjMgfOplGvoqf29W9aI1eReP8nOdW/zr1dXs/uqko6B3hptRKHOzyFf2wUvVz0EBHRs+zBhoBN/WFqnLqOgUImNtx+OhjpoaSlorZsyrEMmMaqLLRa23oycEIJJylku5LSUmIrMlHQEjyD6uJpjbGyErgJApPxyBFfE7oyb0gtnSwsc/McyKcSYlMgLtFwjI9YUUFBpTGd/d4x1tNBS/FF5a9NTyDX0IbiHA2bGRhh0uM+dLrS7MGJSb1wsLXAOnMxov1pizlyj1ZpyeUfGvr6SFS8NxKplb4sl5ObWYdXZEwsFIDPCa/Rouhu0qKVgTPcZT9Kr5Ge+OXSLG/s2c0wcyNyJXugJQP1NThxLw3HM00wNcsfG3BIH9670n/w0Y7wag0663gybMoTubtaYGpti690LH6t6cjKL7phVKfCZ8S6rls+jl+F9mjnBlO6jJ9DfzxkrE2PMHP0J9DSmMju7cSYrUpWWRr5JFwLcdBHQxjZkEF0N/vBYwarvBEZ622Ju48Wwyf2xSo/kfMbtjpW5DmbqgE5YWzjQbfwYesiuc+ZSWau23LVfVSmcPZuL/eCpDPO2xdzKndBpo/CqvMCZ2JZREjWF+YXg6ENXaz20tRQomryCNtvaLBQMey9g+ap3mNGlZQBQhpO/L6Y514lOyiY7u+FfVmw0N8oc8PezQAC0nEYwb7w5Ud9tIyo5gh+2J+A27Un6W8kAkcKzR7hAEE/MG4avowUWNs549RrJ7Bl9G8eZDLvgCYzp44WDhTHGFq70DHBDpyCTnLqG+pn2nc8rT40k2K8zTnZ2uHUdxuzR3tTFxZKiAtQ5pKQrce3eHXMFyIy8GNzH5Y/hzDb14OHR+bshVuWRW2FMRy87dABBz5Wh44L5w/OvTft2L9SkRpwixawfU8b44WDtRMDECQQqrhN+vjHf3ZbONyJY9iLUq55LEZf/PIXwV9qqgW2Suw5h9pTB9PLzwM21M92HzWX+EAuyf/+dW0oAFcmRZ8iyHcT0UX44WNnQsc8UhntWc+lCHHWAKvksZ/Nc6TfYHT0BFJa9GBp421HXqE/qbnD8WAZOoxcwpZcb1mZm2Lj1YOQwf4wEEMviuZ4m4DNyCn3cbbCwciZg3DgCDfK4dr1FREVmSI8x4+jmYIFVx1CmDHOn6FwkCUoQKy8TfrGKLmHT6NvRBluPQUwb5kJ+xCni6kBm6k3PTiKxe9fw73+9xWc7fuNaTvV9R63kDg4Ob93nNQ8EdU0xmfGXiDyfSDm6uAYPxCbzGGfTO+DRry8GNw8TlWuCz8CeKK4c41JSCilVrgyaPp1xg0Pp3UnFhXP5dOwMlw9FtVBKJQU5VVgHjmTylAmMDRuCdfoRonLUILOm27CulJz8Hf0hTzE9LBDLwtN8//UvJNyxwqI6K40KhxDGTZ7A6BH9sUhtLKM2ixuJdTj3Gc3E8SMJ9dYn8+T3fPNrYqswG+oisktM8B8ykSmTxjFmhBvFp86R2mKNmFieToaqM4MmTmb8qGH01I7lt2tFiIIlQ1/7iNfnjGd0kBM6Wo70Gj2WsWPD8Ku/wOmESnTd+jDALJbjWV5MfnIyg7wVJPyyiS1n8lq/dyqzwHdwMC51cZw8dauF4taTk5SLUY9xzJwygv59u2GRGUGsljcWuac4FV+JWZ/5PD+gir2fbuNahQiqEhKSBXpNG4tz1jku59RQlniJ+DpHeg8fw7jRQwn2c8aoOplL0TfIrhRBZkjHoMEMGz6K0aOH09dTl4wT37HlZGZrpwUZtj1G0NO2iMtHz7aSU5sICkw9Qhg6fARho8MYEuSGePMXNu88T0FTfrosgxyFLyOnT2FEaDdsCy+RbOCJUdpvRCRVgcyKrkN7UBZ+Et1Bc5gZ1hub0kh+2PQz8ZUioIVjr6G4pB7jhsMYnpw2DH/9dI588x0nMlpX9q79iprShFhyDf0ZOm4CY4cG4lBzhb2bdnChsHUYtjY3D5VrX0ZPnsyEMWEE6d5oHBttt7VRKHRwCWKIvynZFw41jF0AmSP9pw3H8ubP7LvaIs8pViB3Hshgt1Iio+UMf/EJHGO+YMOJbOqBmqx4CuzDmNFHztWzCZTV5HDtSg6GPgMYNW4cI/v3wNNGRn5sDJeSi6gHdKz96TdsGCPCxhA2KADb6kvs3ryPa2UNkRYRXey69KJv/0EMHTaIYG8LqmIPsHnb7zS8XFBPbkYZtn0nMn3cYHp7aHH1WjlerrWcP3qZfLWAXlt68JDp/F1RF5KcLqPLyBlMDRtISE9HSk/HUNPFiYqzx7nWnFe5h33TALEimdj0DnQZPI4JYf3w0knm8Dff8VtGLfz/9u48LKqy/x/4e1hGZFUQ0FxDUIHAXFkUEVxywwLL5aeCRmoKWFqapg9mJWk+CH4FEREN0aww41ETM5dwyR1zyw0o0R5CQGHYB5HfHzxMjQMJMuOcI+/XdZ2r5j73mfkMTfCe+9znPtCBxRP/n5cD0EHn4f7wsbyMr79Oe2wk8i8SI1t4eLXHn6nHcEtpstyT3qv8Cb+bioCWHdBv6HB4eXtjyGA3vGRdifQft2Lz97cUc3qqCzPwa7YxHIeOhd/Y4XDpUoVrezZjx885NZ+NR4XIuPEAHbz/H6aMewWDXmqBWzfL0aXNffx85Fc8eNiQ/yaPUJj+C25WdoLbyFfh6zMc7g5tUHbzHNJ+K0BVdRF+u3oHOl36Y/jYVzFmqBu6GWbj+FdbsPtqER4BkLSyh5e7BGcPl8N18lT4DnoRlZeSsCnpFzyoAoBK3LtxE8UvuMPH7zUM798Oxee+Rvyuyyh8BFQXZ+Lszxdw8+4DlDdh/orE1dVVXKe6m0LPGdPDZ0L/i3cbeF0uUa2adQZevbdGcb0/iQD/nydqEK5sT0RE1MwxDBARETVzzes0AYmLpCVsvXzQz7r+iZVVWSfw7YksDtsTETUBwwAREVEz90yWIz558uSzeBkiInoG3NzctF0CqRnnDBARETVzDANERETNHMMAERFRM8cwQERE1MwxDBARETVzDANERETN3DO5tFDbWnaapO0SSGDKspZruwQSrG5NOroxv2/KsnY06bWI1KVZhAEiomdFIuGAK4kPwwARkRpJePaVRIifWiIiNZJIdBq8PY3k5GT4+fnB2dkZLi4umD59Ou7fv6/Yn5qaCl9fXzg5OWHo0KFITEys83ni4+Ph7e0NZ2dn+Pn5caXYZo5hgIhIjTQZBmJiYrB8+XIMGzYMcXFxWLFiBWxtbVFZWQkAuHDhAubMmQN7e3vExcXBz88PYWFh2LFDeW5CfHw8IiIiMHnyZMTGxqJLly6YOXMmrl+/rpafAYkPTxMQEamRRFL/XTabIjMzE1FRUYiKioKXl5eifejQoYp/j46OhoODA8LCwgAArq6uyM7ORnR0NCZMmAAdHR3I5XLExMTA398fgYGBAID+/fvDx8cHMTExWLt2rUbqJ2HjyAARkRppamRg165deOGFF5SCwN/J5XKcOnUKo0aNUmofM2YMcnNzcfXqVQBAWloaioqKMHr0aEUfXV1djBw5EkePHkV1NW9k2xwxDBARqVFjwoBMJsPdu3dVNplMpvK8Fy9eRPfu3bF+/XoMGDAAjo6OeP3113HmzBkAQFZWFiorK9G1a1el4+zs7ADUjCwAQEZGBgCo9LO1tUVpaSlycnLU/jMh4eNpAiIiNWrM1QQJCQmIiopSaQ8ODkZISIhSW25uLq5cuYLr169jyZIlMDY2xubNm/HWW29h3759KCwsBACYmpoqHVf7uHa/TCaDVCqFgYGBUj8zMzMAQEFBAdq2bdvg90DPB4YBIiI1aszwf0BAAHx9fVXaH/+DDgDV1dUoLS3Fl19+CXt7ewBAv379MGTIEMTHx2PMmDFPXzQ1ewwDRERq1JgwYGpqWucf/vr6tmrVShEEAKBly5bo2bMnbt26pfhm//gphtrHtftNTU0hl8tRUVGBFi1aKPrVjhy0atWqwfXT84NzBoiI1EhHotvgrTFsbW3r3VdRUYFOnTpBX19fMTegVnp6OgDAxsYGwF9zBWrnDtTKyMiAkZERrK2tG1UXPR8YBoiI1EhTVxN4eXmhoKBAcVUAAJSWluKXX36Bo6MjpFIpXF1dkZKSonTc3r17YWlpCUdHRwBA7969YWJign379in6VFVVISUlBR4eHpBIJE149yRWPE1ARKRGmro3wdChQ+Hs7Iy5c+di3rx5MDIywubNm1FeXo7p06cDAIKCgjBlyhQsXboUPj4+SEtLQ1JSEkJDQ6GjU1OXVCrF7NmzERERAXNzczg4OCApKQlZWVkIDw/XSO0kfAwDRERqpKkwoKOjg9jYWHz++edYvnw5Kioq0LNnT2zduhWdO3cGAPTq1Qvr16/HmjVrkJycDCsrKyxevBiTJinfSbF2saHExETk5eXBzs4OGzduRI8ePTRSOwmfxNXVVeMrTGh7zWvewpgex1sYU/2adgvjtg6LG9z3z18/a9JraYubm5u2SyA148gAEZEa6ejw1yqJDz+1RERqxFsYkxgxDBARqZGm5gwQaRLDABGRGvHSPBIjhgEcwWrpAAAgAElEQVQiIjXiyACJEcMAEZEacc4AiRHDABGRGvFqAhIjfmqJiNSIIwMkRgwDRETqxDkDJEIMA0REasQJhCRGDANERGrESwtJjBgGiIjUiHMGSIwYBoiI1Eiio6vtEogajWGAiEidODBAIsQwQESkTpwzQCLEMEBEpE4MAyRCDANEROrE0wQkQgwDRERqVK3DkQESH4YBIiJ1YhggERJcGMjLy8Phw4eRnZ2NiooKpX0SiQQLFizQUmVERA3AOQMkQoIKAwcPHsR7772HiooKmJmZQV9fX6UPwwARCRqzAImQoMLA6tWrMXDgQHzyyScwNzfXdjlERI3H0wQkQoKa93rv3j1MmTKFQYCIxEsiafjWCLt27UL37t1Vto8//lipX2pqKnx9feHk5IShQ4ciMTGxzueLj4+Ht7c3nJ2d4efnh5MnTz71WybxE9TIgJubG65fvw43Nzdtl0JE9HR0NTsysGnTJpiYmCget2nTRvHvFy5cwJw5c/Dqq6/igw8+QFpaGsLCwqCnp4dJkyYp+sXHxyMiIgLz5s2Dg4MDkpKSMHPmTCQlJaFHjx4arZ+ESVBhYPny5QgJCUF1dTXc3d1hamqq0ueFF17QQmVERA2k4bMEjo6O9Y6eRkdHw8HBAWFhYQAAV1dXZGdnIzo6GhMmTICOjg7kcjliYmLg7++PwMBAAED//v3h4+ODmJgYrF27VrNvgARJUGFAR0cHpqam+Pzzz1VuA1pdXQ2JRIJr165pqToioier1tLVBHK5HKdOncJ7772n1D5mzBh88803uHr1KpycnJCWloaioiKMHj1a0UdXVxcjR47E5s2bFb9rqXkRVBhYuHAhfv31VwQHB6NLly51Xk1ARCRojZhAKJPJIJPJVNpNTU3rHBkFAB8fH9y/fx/t2rWDn58f3n77bejp6SErKwuVlZXo2rWrUn87OzsAQGZmJpycnJCRkQEAKv1sbW1RWlqKnJwctG3btsHvgZ4PggoD58+fx6effooxY8ZouxQioqfTiC/VCQkJiIqKUmkPDg5GSEiIUpulpSVCQkLg7OwMXV1dHD16FOvXr8fdu3excuVKFBYWAoBKiKh9XLtfJpNBKpXCwMBAqZ+ZmRkAoKCggGGgGRJUGGjbti1atmyp7TKIiJ5eI4bYAwIC4Ovrq9Je16iAh4cHPDw8FI8HDBgAExMTrFu3DnPmzHm6Won+R1CXFs6dOxexsbF48OCBtkshIno6upIGb6ampujQoYPKVt8pgseNHDkSAHD16lXFN/vHTzvUPq7db2pqCrlcrrLCa+3IQatWrZ7+vZNoCWpkYPfu3fjzzz/h7e0Ne3t7lf8hJBIJYmJitFQdEVEDaGnyXadOnaCvr4/MzEwMGjRI0Z6eng4AsLGxAfDXXIGMjAw4ODgo+mVkZMDIyAjW1tbPsGoSCkGFgZKSEnTu3FnpMdWvp2MXLJk3Du79uqOlgRS37+ZiW9JRrNmwBy0NpPAf74kxw/vCsUdHGBsaIOP3HGz+8hDivzyER4+q631e937dcejbjwAAXfq8jZzcwmf0juhZuXo1HTEx3+DXXzOQl1cAQ0MD2Np2RGCgH7y8+mu7PHF7hmHg+++/h0QiwUsvvQSpVApXV1ekpKRg2rRpij579+6FpaUlHB0dAQC9e/eGiYkJ9u3bpwgDVVVVSElJgYeHB68kaKYEFQbqWymLVA3xcMK3mxfg4tXfser/vkNxaQVe7GSFDu0sAAAvdrLCmo+n4ciJq1gXtw+y4jIMG+SM/wsLhEsfO7w1r+4RFolEgvDl01BcUg5jI4M6+5D43bmTA7m8En5+Q2FtbY7S0gocOPAz3n77E3z00RxMmjRS2yWKl4ZOvgYGBsLFxQXdunWDRCLBsWPH8OWXX+L1119Hx44dAQBBQUGYMmUKli5dCh8fH6SlpSEpKQmhoaHQ0akpTCqVYvbs2YiIiIC5ubli0aGsrCyEh4drpngSPImrq2v9XxHVRNvLXLbsNOnJnUTExLglLv20BqfP38SktyNRXa36n9CitQmsLM1w7eZdpfYNq2chYMJg9PR6Dzcz/qty3FtThmLZ++Px1XfHERw48rkdGSjLWq7tEgSnqqoKfn7zUFZWjgMHNmq7HC3q1qSjbcdvb3Df9G8mN7jvihUrcPToUeTk5ODhw4fo0qUL/Pz8EBAQAF1dXUW/1NRUrFmzBhkZGbCyssK0adPg7++v8nzx8fHYtm0b8vLyYGdnhwULFjR49VeuEvv8EdTIAFCzcMbRo0fx22+/qUxwAWouuWnuJrw2AG2tWmHZ6q9RXV0NI8MWKC2TK4WC/AdFyH9QpHLs7h/OImDCYPSwfUElDLQ2M8Ky98fjk/AkWLZp2AQmen7o6uqibVsLXLx4U9uliFq1hpYjXrJkCZYsWfLEfp6envD09Hxiv8DAQMUKhESCCgN//vknJk2ahJycHFRXV0NPTw+VlZUAaoa29PT0GAYAeA98CYWyUrzQ1hzfxL2Hbl1fQElpOb7+z894f1kCysrl9R5rbVkzU7iuoBD6/njk5BZg0/aDWPyOn8bqJ+EoKSlDRYUcRUUlOHToNI4dS8PIkQO1XZa48Zw7iZCgwkBYWBjat2+PXbt2wc3NDV999RXat2+P3bt3IzExERs2bNB2iYLQtUtb6OnpIGnTe0j4+ieErvoK7v26IzhwJCzNTTB+xpo6j9PX10Vw4EjcvpOL02npSvte6tEJb00egtcCVv3j5EJ6vixbth579vwEoGY58GHD3BAaOlu7RYkdswCJkKDCwIULFxAaGqq4HraqqgqtWrWCv78/ysvL8cknn+CLL77QbpECYGxkACNDA2xM/BHvLUsAAPxn/1kAwNwZo+Fk3wmXr2WpHBfxyXQ4dOsA32mf4+HDKqV94csD8MNPv+DQscuafwMkGLNmvQ4/vyG4d+8+9u5NRVVVFeTySm2XJW6NWI6YSCgEtehQcXExWrVqBR0dHZiYmCAvL0+xz8nJCRcvXtRidcJRexrgm//8rNT+VfIJAIBb3+4qx8ybNQaB/28IPlr9DfYfvqC073UfV7j26YZFn2zTUMUkVHZ2neHu/jJee80bcXEfobS0HLNnf1LnpFRqIImk4RuRQAgqDHTs2BG5ubkAam6akZycrNh34MABroz1P9k5NSs03stTnuV/73+z/luZGSm1T3l9ED5dPAkbE3/EqnXfqTxf2IeTsev7U5BXPkSnDm3QqUMbtDKteY4O7SzQzrq1Jt4GCYxEIsGIEQNw+fIt/PbbH9ouR7wkjdiIBEJQpwm8vLxw8uRJjBo1Cm+//TaCgoLg6uoKPT095OfnY8GCBdouURAuXP4NQwc544W25riVma1ob9+u5h7neff/Wo50zLA+iPl8Jv6z/yzeXbqlzufr2L4NJvoOxERf1Yljx/euwNUbd9B32EI1vwsSovL/jToVF5dquRIR0xPUdyyiBhFUGJg3b57i3z09PfHll1/i4MGDqKiogLu7e4Mul2kOvt17CguCXsW0CYOR+vNVRfv0Sd6oqnqEIyeuAAAG9O+BrdFzcfz0dUybG1Xv0O/4t1QXGnljrBveGOuOGfNjcOe/+Zp5I6Q1+fkFsLBQHmmTyyuRnHwIBgZSdO3aUUuViV81v/GTCAkqDDzO2dkZzs7O2i5DcC5e/R1ffHUE0yZ6QV9fD6k/X4V7v+6Y6DsQ67fsx2+376FT+zbYGf8+qqur8d2+0/Ab7ar0HFeuZeHK9ZpJhnsOnFN5DWfHmmWhf0y9+FwuOtTczZu3GlKpHnr1soeVVWvk5NzHnj0/4fff/4tFiwJhZMS7hz41TiAkERJkGDhx4gQuXryI3NxcWFpa4uWXX4a7u7u2yxKUkA/jkfVHHgLGD4bP8L64m52PpZ99iTUb9gIAOne0VMwdWLviTZXjP43YqQgD1Py8+qoXkpMPY/v271FYWARjY0M4OnbFwoVvYsgQF22XJ26cGEgiJKjliHNzcxESEoJffvkFxsbGsLCwQH5+PoqLi9GzZ09ERUXB0tKy0a//vC1HTE3H5Yipfk1bjthm9q4G982MEefiXlyO+PkjqJkuy5Ytw507dxAfH49z587hhx9+wLlz57Bp0ybcvXsXy5Yt03aJRET/TKcRG5FACOrj+PPPP2PBggUYMGCAUvvAgQPx/vvv4+eff67nSCIigdDVafhGJBCCmjNgZmYGU9O6b5DzT/uIiISimnMGSIQEFU2nTZuGjRs3oqSkRKm9uLgYcXFxCAgI0FJlREQNxNMEJEKCGhm4e/cusrOz4enpCRcXF8UEwtOnT8PY2BjZ2dn49NNPFf2XLl2qxWqJiOrASwtJhAQVBo4cOQJdXV2Ympri2rVrivba0wOHDx9WtEkkEoYBIhIeniYgERJUGPj7H3siIlHSZRgg8RFUGCAiErtqniYgEdJ6GLh//z7u3buHHj16KLVfv34d69evR0ZGBtq0aYOAgAB4e3trqUoiogZiGCAR0vp81jVr1uDDDz9Uavvjjz8wefJkHDp0CC1atMCtW7cQHByMs2fPaqlKIqIGkkgavhEJhNbDQFpaGnx8fJTavvjiC5SWliI2Nha7du3C4cOH0bNnT8TFxWmpSiKiBuKlhSRCWv845uTkwM7OTqntyJEjsLe3x8CBAwEABgYGmDJlCm7cuKGNEomIGo4jAyRCWg8Dksf+h8jLy8Pdu3fRr18/pXZra2s8ePDgWZZGRNR4ejoN355SSUkJBg0ahO7du+Py5ctK+5KTkzFixAg4OTlh9OjR2Ldvn8rxlZWVCA8Px8CBA9GzZ09MmTJF6XJuan60HgZefPFFnDhxQvH48OHDkEgkKvcnyM3Nhbm5+bMuj4ioUaolkgZvTysqKgpVVVUq7fv378cHH3yAYcOGIS4uDm5ubpg/fz5SU1OV+n322WfYvn075s6di/Xr10NfXx/Tpk1DTk7OU9dE4qb1qwmmTp2KDz74AEVFRbCwsMCOHTvQqVMnuLu7K/U7fvw4unVr2q1FiYg0TsNfsW7evImvvvoKixYtQmhoqNK+tWvXYsSIEXjvvfcAAK6ursjMzMS6devg6ekJoObU7FdffYUlS5Zg/PjxAICePXtiyJAhSEhIwMKFCzX7BkiQtD4yMHbsWMyfPx/Hjh3D1q1b0a1bN0RFRUFP76+ckp+fjyNHjsDLy0uLlRIRNYCG5wx8/PHHmDx5Mrp06aLUfufOHWRmZmL06NFK7WPGjMHly5dx//59ADVfrKqqqjBq1ChFH2NjY3h5eeHo0aNPVROJn9ZHBgBgxowZmDFjRr37LSwsePtiIhKHRqwzIJPJIJPJVNpNTU3rvEtrcnIybt++jdjYWFy5ckVpX2ZmJgCga9euSu22traK/ebm5oq1W1q3bq3Sb+/evXj06BF0dLT+PZGeMUGEASKi50YjwkBCQgKioqJU2oODgxESEqLUVlRUhNWrV+ODDz6AkZGRyjGFhYUAoBIizMzMlPbLZDKYmJioHG9mZobKykqUlpbC2Ni4we+Bng8MA0REalTdiHsTBAQEwNfXV6W9rlGByMhIdO7cGWPHjm1SfUR1YRggIlKnRswFqO90wONu3bqFr776Cps3b1acVigtLVX8s7i4WDECIJPJYGlpqTi2dkSgdr+pqSmKiopUXqOwsBD6+vowNDRscP30/GAYICJSJw3cm+D27dt4+PAh/P39Vfb5+/ujR48eitMNmZmZSvMGMjIyAAA2NjYAauYU5Ofno6CgAK1atVLq16VLF84XaKYYBoiI1EkDCwv27t0bW7duVWq7du0aPvvsMyxfvhyOjo7o2LEjbGxssG/fPgwbNkzRb+/evXByclKs0zJw4EDo6OggJSUFkyZNAlCziNHhw4cxbtw49RdPosAwQESkRpr4Ym1ubg4XF5c69zk6OsLJyQkAMHfuXMybN0+xVsuhQ4dw4sQJxMbGKvpbW1tj4sSJ+Pe//w09PT288MIL2Lx5M4CaOQzUPDEMEBGpkTZH2UeOHIny8nJs2LAB8fHx6NSpE8LDwxULDtVavHgxDA0NERkZiaKiIjg5OWHLli2wtrbWUuWkbRJXV9dqTb/IyZMnNf0S/6hlp0lafX0SnrKs5dougQSraSuddo1p+MI9GbMHNem1tMXNzU3bJZCacWSAiEiNeDNCEiOGASIiNWIYIDFiGCAiUiMJr8wjEWIYICJSI44MkBgxDBARqZEuRwZIhBgGiIjUiCMDJEYMA0REaiRhGiARYhggIlIjTiAkMWIYICJSIw4MkBgxDBARqRFv+kdixDBARKRGGriDMZHGMQwQEakRTxOQGDEMEBGpEcMAiRHDABGRGkl4noBEiGGAiEiNODJAYsQwQESkRryagMSIYYCISI14loDEiGGAiEiNeJqAxIhhgIhIjbgcMYkRwwARkRpxZIDEiGGAiEiNeNdCEiOGASIiNeLVBCRGzSIMlGaFarsEEpjMohvaLoEEysakW5OO19TAwIEDB7BlyxZkZmaitLQU1tbWGDZsGObMmQMTExNFv9TUVERGRiI9PR3W1tYICAjA1KlTVZ4vPj4e27dvR15eHmxtbbFgwQK4ublppngSPGZYIiI10pE0fGuMwsJC9OvXD5988gk2bdoEf39/fPvtt3jnnXcUfS5cuIA5c+bA3t4ecXFx8PPzQ1hYGHbs2KH0XPHx8YiIiMDkyZMRGxuLLl26YObMmbh+/bo6fgQkQs1iZICI6FnR1DoDb7zxhtJjFxcXtGjRAqGhocjJyYG1tTWio6Ph4OCAsLAwAICrqyuys7MRHR2NCRMmQEdHB3K5HDExMfD390dgYCAAoH///vDx8UFMTAzWrl2rmTdAgsaRASIiNdKRVDd4a6rWrVsDACorKyGXy3Hq1CmMGjVKqc+YMWOQm5uLq1evAgDS0tJQVFSE0aNHK/ro6upi5MiROHr0KKqrm14XiQ9HBoiI1EivESMDMpkMMplMpd3U1BSmpqZ1HlNVVYWHDx/i1q1biI6Ohre3Nzp06ID09HRUVlaia9euSv3t7OwAAJmZmXByckJGRgYAqPSztbVFaWkpcnJy0LZt24a/CXouMAwQEalRY77xJyQkICoqSqU9ODgYISEhdR7j4uKCoqIiAICHhwfCw8MB1MwpAKASImof1+6XyWSQSqUwMDBQ6mdmZgYAKCgoYBhohhgGiIjUqDFzBgICAuDr66vSXt+oAAAkJiairKwMt27dQkxMDN5++21s2bLlaUolUmAYICJSo8ZMxPqn0wH1sbe3BwD07t0bjo6OGDduHH788UfY2toCgMpph9rHtd/8TU1NIZfLUVFRgRYtWij61Y4ctGrVqlH10POBEwiJiNRIU5cW1sXe3h46OjrIyspCp06doK+vj8zMTKU+6enpAAAbGxsAf80VqJ07UCsjIwNGRkawtrZuemEkOgwDRERqJJFUN3hrqgsXLuDRo0fo0KEDpFIpXF1dkZKSotRn7969sLS0hKOjI4CaEQUTExPs27dP0aeqqgopKSnw8PDgcsrNFE8TEBGpUWOuJmiMwMBAuLq6ws7ODi1atMC1a9cQHx+P7t27Y+jQoQCAoKAgTJkyBUuXLoWPjw/S0tKQlJSE0NBQ6PxvnWSpVIrZs2cjIiIC5ubmcHBwQFJSErKyshSTEan5YRggIlIjdawfUBcnJyfs3r0bd+/eBQB06NABEydOxPTp0yGVSgEAvXr1wvr167FmzRokJyfDysoKixcvxqRJk5Seq3axocTEROTl5cHOzg4bN25Ejx49NFI7CZ/E1dVV4ytMnDx5UtMv8Y+qcU2rr0/C81tRurZLIIGyMfFp0vFTUlMb3Hebp2eTXktbeA+D5w9HBoiI1IgTsUiMGAaIiNRIU/cmINIkhgEiIjXS1JwBIk1iGCAiUiNNXU1ApEkMA0REasSRARIjhgEiIjXinAESI8GFgd9//x3Z2dmQy+Uq+zxFehkOETUfDAMkRoIJA5mZmZg/fz5u3LiB6mrVYTaJRIJr17heABEJGy8tJDESTBj48MMPUVFRgcjISHTp0gX6+vraLomIqNH0dDhngMRHMGHgxo0biIyM5KkAIhI1jgyQGAkmDNja2qKoqEjbZRARNQnnDJAYCSbELl68GLGxsbhy5Yq2SyEiemrP8hbGROoimJGBl19+GS4uLnjjjTdgYmICExMTpf0SiQQHDx7UUnVERA3DkQESI8GEgU8//RQ7duxA37598eKLL3ICIRGJkmCGW4kaQTBh4D//+Q/mz5+PGTNmaLsUIqKnxqsJSIwEEwZatmwJBwcHbZdBRNQkPE1AYiSYEa033ngDycnJ2i6DiKhJdBuxEQmFYEYGjIyMcO7cOYwfPx7u7u4wMzNT2i+RSDBt2jTtFEdE1EC8URGJkWDCwL///W8AQHZ2Ni5duqSyn2GAiMSApwlIjAQTBq5fv67tEoiImoxhgMRIMGGAiOh5oC+YmVhEDSe4MFBYWIjbt2+joqJCZV+/fv20UBERUcNxzgCJkWDCQEVFBT744AMcOHCgzlsYA+AtjIlI8DR1miAlJQV79uzB1atXUVhYiI4dO2LSpEmYOHEidHT+Go5ITU1FZGQk0tPTYW1tjYCAAEydOlXl+eLj47F9+3bk5eXB1tYWCxYsgJubm2aKJ8ETzIBWZGQkLl26hHXr1qG6uhphYWFYu3YthgwZgvbt22Pz5s3aLpGI6Ik0dWnhli1bIJVKsXDhQmzYsAFDhw7FihUrsHr1akWfCxcuYM6cObC3t0dcXBz8/PwQFhaGHTt2KD1XfHw8IiIiMHnyZMTGxqJLly6YOXMm5241Y4IZGTh06BCCgoIwePBgADV3MXRycsLw4cPxr3/9C7t372ZqJSLB09TIwIYNG2Bubq547OrqitLSUmzfvh3z5s2DVCpFdHQ0HBwcEBYWpuiTnZ2N6OhoTJgwATo6OpDL5YiJiYG/vz8CAwMBAP3794ePjw9iYmKwdu1azbwBEjTBjAzk5OSgc+fO0NXVRYsWLSCTyRT7RowYgcOHD2uxOiKihtHXqW7w1hh/DwK17O3tUVFRgYKCAsjlcpw6dQqjRo1S6jNmzBjk5ubi6tWrAIC0tDQUFRVh9OjRij66uroYOXIkjh49Wu9pWnq+CSYMWFpaKgJAhw4dcPr0acW+zMxMSCS8XoeIhE9H0vBNJpPh7t27Ktvfvwz9k/Pnz6NVq1awsLBAVlYWKisr0bVrV6U+dnZ2AGp+jwJARkYGAKj0s7W1RWlpKXJycpr6IyAREsxpAhcXF5w9exbe3t544403sGrVKmRmZkIqleLHH3/Eq6++qu0SiYieqDGnCRISEhAVFaXSHhwcjJCQkH889vLly9i1axeCgoKgq6uLwsJCAICpqalSv9rHtftlMhmkUikMDAyU+tWu+lpQUIC2bds2/E3Qc0EwYWD+/PkoKCgAAMVKg/v370dFRQX8/f0RFBSkxeqIiBqmMWEgICAAvr6+Ku2P/0F/XG5uLubOnQsnJyfe6ZXUQjBhwMLCAhYWForH06ZN4/LDRCQ6uo1YZ8DU1PSJf/gfV1RUhBkzZsDAwAAxMTHQ19cH8Nc3+8dPMdQ+rt1vamoKuVyOiooKtGjRQtGvduSgVatWjaqHng+CmTNQq6ioCOfOnUNKSgrOnz+PoqIibZdERNRgOo3YGquiogKzZ89Gfn4+Nm3ahNatWyv2derUCfr6+oq5AbXS09MBADY2NgD+mitQO3egVkZGBoyMjGBtbf0UlZHYCWZkoKqqCmvXrkViYiLKy8sVM1pbtmyJKVOm4N1334WuLm/6SUTCpqehr1gPHz7EO++8gxs3biAxMRHt27dX2i+VSuHq6oqUlBSlUdW9e/fC0tISjo6OAIDevXvDxMQE+/btg4ODA4Ca378pKSnw8PDgZO1mSjBh4PPPP8f27dsRGBiIV155BRYWFsjPz8f+/fuxefNmyOVyLF68WNtlEhH9o8acJmiMjz/+GEeOHMGCBQtQXl6OX375RbHP1tYWxsbGCAoKwpQpU7B06VL4+PggLS0NSUlJCA0NVaxSKJVKMXv2bERERMDc3BwODg5ISkpCVlYWwsPDNVI7CZ9gwkBycjJCQkIwa9YsRZu1tTUcHBzQsmVLfPHFFwwDRCR4mlp06Pjx4wCgtOJgra1bt8LFxQW9evXC+vXrsWbNGiQnJ8PKygqLFy/GpEmTlPrXLjaUmJiIvLw82NnZYePGjejRo4dmiifBE0wYePToEV566aU69zk5OeHRo0fPuCLxKSkpQ3x8Mq5cvoXLl9Px4IEM89+bipkzx6n0zci4g5WfbcH5879CX18PHh69sWjxm2jThpOHxKystAI7E3/Czat3cPPXO5AVlGB68CiMn+at1O/GlSwc/P4cblzNwm+3svGwsgrb94fCvI3yZLaS4jLEhv8H169kIe9eIVANtOtggeFj+2HUODfo6wvmV4hgaCoMNHThNU9PT3h6ej6xX2BgoCIUEAlmAuGIESOwd+/eOvd9//33GD58+DOuSHwePJBhffTXuHnzNuwdXqy3359/5mHK5CX4/fc/8O68KXgz8DUcO5aG6dNDUVEhf4YVk7rJCkrwZdyP+D0jG127t6+339kT15Cy6xSqHj5Ch06W9fYrLa7AH7fz4DrIEW8Gj0Lg3NF40bYdYsN349+hX2niLYheYxYdIhIKwcT6Pn36IDIyElOnTsXQoUMVcwYOHjyIO3fu4N1338WBAwcU/RkOVFlZmSP16GZYW5vj7t0cDB0yq85+sRt2oqSkDDu//Tfat7cCADg52eHN6cvw7c6D+H+TR9V5HAlf6zam2JbyL1hYmiHnv/cxbWxYnf1Gv+6ONwK80cJAH9tif8DvGX/W2c+ybSuEbw5WOdbQ2AB7vjmBt94dA0trjib9XWOXGSYSAsGEgUWLFgEA/vzzT5w9e7be/QAgkUh4O+M6SMESClIAABXgSURBVKX6sLZWXb/8cQcOnISnZx9FEAAAd/ee6NLlBaTsP8EwIGJSqR4sLM2e2K+1hUmTXseqXc0lbaXF5QCvRFMimOFWokYQTBg4dOiQtktoFnJy8pGfXwjHl7qq7HN2tsPhw6pBjEguf4iy0gpUlMtx8+odfJv4E6zatkL7zvWfYmiuOPxPYiSYMPD4NbOkGffuPQAAWFqqjiBYWrZGcXEpSkvLYWhooLKfmq/D+85j7adJisd2Dh0wL3QC9PS49sfjdBkGSIQEEwb+rry8HDt37kRGRgYsLS3h6+uLdu3aabus50JFRQWAmuHkx7VoIa3pUy5nGCAl/Qb0QFj0TBQXlSHt9E3czvgT5aUV2i5LkHQ0tM4AkSZpNQxERETg8OHD2LNnj6KtrKwMr7/+OjIzMxWrECYkJGDnzp3o2LGjtkp9btSuRS6XP1TZV3slQQsD6TOtiYTPwtJMMRfBY2hP7Nh0EEuC47Bp1wcqlyM2dzxNQGKk1bkuJ06cgLe38vXPCQkJyMjIwOzZs3H+/Hns3LkTRkZG2LBhg5aqfL5YWdVM/MrNva+yLzf3AYyNDTkqQE/kMawnykorcCr1qrZLERw9ScM3IqHQahi4c+cOnJyclNoOHDiAF154AXPnzoWRkRFeeuklvPXWW3VeYUCNZ21tAXNzM1y9kqGy79KlW+hhX//6BES15BWVAICS4nItVyI8EknDNyKh0GoYqKiogInJX5c4lZaW4saNG3Bzc1PqZ2dnh5ycnGdd3nNr+HA3pKaexx9/3FO0nTx5Eb///l+MGOGuxcpIaAoeFNfZnvLdKQA1EwlJmaQRG5FQaHXOQPv27XHt2jW4uLgAAE6fPo2qqirF41qlpaUwMjLSRomis23b9yiSlUBWVAIAOH36MqoeVgEApkwdDRMTI8x6exz27z+BaQH/wlR/H5SXVyA+Phm2th3xxhvDtFk+qcHur4+jpKgcxcVlAICL59JR9bBmOe+xEwfAyLglcrLv4/D3aQCAKxdqbnmbvOMYWrZsAat2rTFkdB8AwN5vTuDnn66g/0B7WLUzR2lxGc79fB0Xz2XAxcMBL/ez08I7FDZ+4ycx0moYGDlyJDZs2ABzc3O0adMGa9asgbGxMby8vJT6nT9/Hp07d9ZSleKyeXMy/vtHruLxieO/4MTxmrub+Yz1hImJEdq1s0TithVYtXILIiO2QU9PFx6DemPRojcVVxSQeH27LRX3sh8oHqeduom0UzcBAN6jeteEgT/uY+uG/UrHJSUcAQA49bZRhIGXXbrht/RsHN6Xhgf3i6Cnp4uOL1ph5vyxGDt+wDN6R+LCRYdIjCSurq4avw7m5MmTdbaXl5cjJCQEx44dAwAYGhpixYoVGDlypKJPRUUFhgwZgokTJyI4OLjO53mSanC1QlL2W1G6tksggbIx8WnS8Rfy677HSl16WYxp0mtpy+Onckn8tDoyYGBggLi4OGRlZaGwsBAvvvgijI2Nlfo8fPgQGzZs4MgAEYkCLy0kMRLEokOdOnWqd1/tFQVERGLALEBiJIgwQET0vODIAIkRwwARkRoxC5AYMQwQEakRLy0kMWIYICJSI15aSGIkmM9tVFRUvasM3rt3D1FRUc+4IiKixtORNHwjEgrBhIHo6Oh/DAPR0dHPuCIiosbjcsQkRoI5TVB7u+K63Lt3D6amvE0qEQmfRKLxddyI1E6rYWDv3r3Yu7dmtS6JRIJVq1Yp3bgIAORyOS5fvow+ffpoo0QiokbR1Df+27dvIz4+HhcvXsStW7dgY2Oj+P35d6mpqYiMjER6ejqsra0REBCAqVOnqvSLj4/H9u3bkZeXB1tbWyxYsIArCzZjWj1NUFlZiZKSEpSUlKC6uhplZWWKx7WbRCLBa6+9huXLl2uzVCKiBtHULYxv3bqF1NRUdO7cGV27dq2zz4ULFzBnzhzY29sjLi4Ofn5+CAsLw44dO5T6xcfHIyIiApMnT0ZsbCy6dOmCmTNn4vr160/7tknktHpvgr+bOnUqPvroo3o/5E3BexPQ43hvAqpPU+9NcLt4T4P7djZu+Gs9evQIOjo1398WLVqEK1euqIwMvPXWWygsLERSUpKi7V//+heOHDmCo0ePQkdHB3K5HO7u7hg/fjwWLlwIAKiqqoKPjw/s7Oywdu3aJ9bCEYTnj2AmECYmJiqCQHV1NYqLi/9xHgERkRBpagJhbRCoj1wux6lTpzBq1Cil9jFjxiA3NxdXr14FAKSlpaGoqAijR49W9NHV1cXIkSNx9OhR/t5tpgQzgRAAzpw5g6ioKFy4cAEPHz6Enp4eevfujZCQEPTt21fb5RERPVFjhv9lMhlkMplKu6mpaaMnTWdlZaGyslJldNXOzg4AkJmZCScnJ2RkZACASj9bW1uUlpYiJycHbdu2bdRrk/gJJgwcP34cs2bNgo2NDWbNmoU2bdogLy8PP/zwA6ZNm4bY2FgMGMD7pxORsDXmG39CQkKda6gEBwcjJCSkUa9bWFgIACohovZx7X6ZTAapVAoDAwOlfmZmZgCAgoIChoFmSDBhIDIyEl5eXli3bh0kf4vWwcHBCAoKQmRkJMMAEQleYxYTCggIgK+vr0o7L6WmZ00wYeDmzZuYO3euUhCoNWHChEanZCIibWjMyMDTnA6oT+03+8dPO9Q+rt1vamoKuVyOiooKtGjRQtGvduSgVatWaqmHxEUwEwiNjY3rXYEwJycHhoaGz7giIqLG05FUN3hTp06dOkFfXx+ZmZlK7enpNVfO2NjYAPhrrkDt3IFaGRkZMDIygrW1tVrrInEQTBjw8vJCeHg4jh07ptR+/PhxREREYMiQIVqqjIio4TS1zsCTSKVSuLq6IiUlRal97969sLS0hKOjIwCgd+/eMDExwb59+xR9qqqqkJKSAg8PjzpHZ+n5J5jTBAsXLsTNmzcxY8YMGBsbw8LCAvn5+SgpKYGTk5PielgiIiHT1J/SsrIypKamAgD++OMPFBcXY//+/QAAJycntG/fHkFBQZgyZQqWLl0KHx8fpKWlISkpCaGhoYpLE6VSKWbPno2IiAiYm5vDwcEBSUlJyMrKQnh4uIaqJ6ETzKJDQM2iGkeOHMH58+chk8lgZmaGPn36YPDgwU+8xvafcNEhehwXHaL6NHXRofzy3Q3ua2EwtsF97969W+8I6WeffQY/Pz8ANcsRr1mzBhkZGbCyssK0adPg7++vckx8fDy2bduGvLw82NnZNWo5Yi469PwRVBjQFIYBehzDANWnqWHgfkXDw4B5i4aHASFhGHj+COY0ARHR80AinKlYRA2m1TDQq1evBk9WkUgkOH/+vIYrIiJqGomEYYDER6th4M0333xiGDh//jxOnjzJGa5EJBL8XUXio9Uw8E8LCZ07dw5RUVE4deoUHBwcMGfOnGdYGRHR05EwDJAICW7OwJkzZxAdHY0zZ87A3t4e69evh7e3t7bLIiJqIIYBEh/BhIFTp04hOjoaZ8+ehaOjI9avXw8vLy9tl0VE1CicM0BipPUwcPLkSURFReH8+fNwcnJCbGwsPD09tV0WEdFT4dUEJEZaDQOTJk3CL7/8gp49eyIuLg4eHh7aLIeIqMk4Z4DESKth4MKFCwCAGzdu4J133vnHvry0kIjEgSMDJD5aDQPBwcHafHkiIrXjZdAkRgwDRERqxTBA4qP1CYRERM8TzhkgMWIYICJSIwl0tV0CUaMxDBARqRHnDJAYMQwQEakVwwCJD8MAEZEacdEhEiOGASIiteLIAIkPwwARkRrx3gQkRgwDRERqxNMEJEYMA0REasXTBCQ+DANERGrERYdIjBgGiIjUiOsMkBgxDBARqRXnDJD4MAwQEakRJxCSGDEMEBGpEU8TkBgxDBARqRVHBkh8mkUYkMBe2yWQwNiY8DNBmiFBd22XQNRojLBERETNHMMAERFRM8cwQERE1MwxDBARETVzDANERETNHMMAERFRM8cwQERE1MwxDBARETVzDANERETNHMOAwO3evRuvv/46+vTpg969e2PkyJFYsmQJ8vPztV0aPaV169ahe/fumDhxYp37evXq1ejn3LVrF/bs2dOgvmVlZYiKisKoUaPQs2dPuLi4YNy4cYiIiGj06xLR86FZLEcsVnFxcQgPD0dAQADmzp0LALh16xb27NmDe/fuwcLCQssVUlNcuHABJ06cwIABA5r8XN999x0MDQ3h4+PzxL5z587FpUuXMGvWLNjb26OoqAiXL1/GwYMHMW/evCbXQkTiwzAgYImJifD19cXixYsVbYMGDUJgYCAePXqkxcqoqQwNDWFnZ4eoqCi1hIGGun37No4ePYpVq1bhtddeU7QPHz6cQYCoGeNpAgGTyWSwtLSsc5+Ozl//6by9vfHxxx9j8+bNGDRoEHr27InZs2fj3r17SsesWbMGPj4+6NWrFwYOHIi5c+ciOztbqc/UqVMxa9Ys7Nu3D6+88gp69uyJN998E7m5ubh37x5mz56NXr164ZVXXsGPP/6o/jfdjAQFBSEtLQ0nT578x34FBQVYsmQJ3Nzc4OTkhHHjxuHYsWOK/VOnTsWZM2fw008/oXv37ujevTvWrVtX53MVFhYCANq0aaOy7++fqbt376J79+747rvvsHTpUvTt2xf9+/dHWFgYKisrFf3y8vLw4YcfYsiQIXB2dsawYcOwatUqlJeXKz139+7dERcXh8jISAwYMAC9e/fG8uXLUVVVhbS0NLz++ut4+eWXMWHCBGRkZDz5h0dEasWRAQFzdHTEjh070L59e3h7e9cbDADg4MGDaNeuHUJDQ1FUVITVq1cjODgY33zzjaJPfn4+Zs6cCSsrKxQUFCAhIQGTJk3C/v37YWBgoOj366+/Ij8/HwsWLEBpaSlWrFiBDz/8EEVFRRg2bBimTJmC7du3Y/78+Th06BCsrKw0+nN4Xnl6esLJyQlRUVFwc3Ors09VVRVmzJiBrKwszJ8/H23btsXXX3+NWbNmYfPmzXB1dcWyZcuwYMECGBgY4IMPPgAAtG3bts7ns7GxgaGhIVatWgW5XA4XFxcYGRnVW2NERATc3d0RERGBK1euICoqClKpFO+//z6AmqBiamqKxYsXw9TUFLdv38b69evxxx9/4P/+7/+Unmvbtm3o27cvVq5ciWvXrmHNmjXQ0dHBqVOnMHPmTJiammLVqlWYN28edu/e/TQ/UiJ6SgwDArZs2TIEBwcjNDQUoaGh6NChA7y8vDBt2jR06NBBqW9xcTE2bdoEExMTAIClpSUCAwNx7NgxeHh4AABWrFih6F9VVYX+/fvD3d0dR48exfDhwxX7ioqKkJycrJiTcPv2bURFReH9999HYGAgAMDe3h5ubm44fPhwnRPhqGGCg4Mxa9YsnDp1Cq6urir7f/rpJ1y6dAkbN26Ep6cnAMDDwwNjx45FdHQ0XF1dYWtrC2NjYxgaGuLll1/+x9czNjbGihUrsHTpUsyePRu6urro0aMHhg0bhoCAABgaGir179ixI1auXKl43bKyMmzduhUzZsyAmZkZbG1tsWjRIkX/3r17o3Xr1ggODsaDBw/QunVrxb42bdogPDxc8VzHjh3Dtm3bkJSUBGdnZwBARUUF3nnnHWRmZsLGxuYpfqJE9DR4mkDAunXrhr1792Ljxo3w9/eHiYkJEhMTMXbsWFy7dk2pr4uLiyIIAMDAgQNhbGyMixcvKtpSU1MxceJE9O3bFw4ODnB1dcWjR4/w+++/Kz1Xjx49lCYndunSRfGctczNzWFmZqZymoEaZ/DgwXB0dER0dHSd+8+dOwcjIyNFEABqhvNHjBiBCxcuoKqqqtGvOWrUKBw5cgSrVq3Cq6++igcPHiAyMhLjxo1DaWmpUt9hw4YpPX7llVdQVlaGmzdvAgCqq6vxxRdfYNSoUXB2doajoyOCgoJQXV2N27dvKx37988PUPO5MjExUQSB2jYA+PPPPxv9vojo6TEMCJxUKoWnpyeWLFmC5ORkbNq0CeXl5Sp/POq6ssDCwgK5ubkAgEuXLmHOnDlo06YNVq5cia+//ho7d+6Evr4+KioqlI4zMzNTeqyvrw8ASmGjtl0ulzf5PTZ3wcHBOHPmDM6ePauyTyaT1Xl+38LCApWVlSp/vBvKzMwMr732Gj777DMcPnwYc+bMQWZmJnbu3KnUz9zcXOlxbS21n6uEhASsXLkSXl5eiI6ORlJSEj777DMAUPlcmZqaKj3W19evs62uY4lIs3iaQGQ8PDzQo0cPlUlWda07kJ+fr5hncPDgQRgbG2Pt2rXQ1dUFADx48EBpMhhph7e3NxwdHREVFYW+ffsq7TMzM0NeXp7KMfn5+dDX11cZ1n8aEokEgYGBWL9+vcrn6v79+0qPa2up/Vzt378f3t7eWLBggaIPR4uIxIcjAwJW1x+B8vJyZGdnq3xbPH36NIqKihSPjx8/juLiYvTs2VNxnJ6entKM8YYuUkOaFxQUhFOnTuH8+fNK7X369EFJSQmOHj2qaKuursYPP/yAXr16KYJdXSM8dSkuLlaZ6Q9Acaro8Umqj18x8sMPP6Bly5bo1q0bgJrPlVQqVerDzxWR+HBkQMB8fHzg5eWFgQMHwsrKCjk5Odi2bRsePHiAgIAApb7GxsaYMWMGZsyYAZlMhtWrV8PJyUkxeXDAgAFISEjA8uXL8corr+Dy5cv45ptvFMOypF1DhgyBg4MDTp48qfRtf/DgwXB2dsbChQsxf/58WFtb45tvvkFGRga2bNmi6GdjY4PvvvtOcXWHlZUVrK2tVV7nt99+w+zZs+Hr64s+ffrA0NAQ6enpiIuLg4mJCXx9fZX637lzB4sXL8aoUaNw5coVxMfHIyAgQHEqyd3dHVu3bsXWrVthY2OD/fv3q8xnISLhYxgQsODgYBw5cgQrV67E/fv30bp1a3Tv3h1ffPGFyszzoUOHol27dvjoo49QWFgId3d3LF++XLHf09MTCxYsQGJiIr777js4OzsjJiYG48ePf9Zvi+oRFBSEoKAgpTZdXV3ExcXh888/R3h4OEpLS9GtWzds2LABLi4uin61lx8uWrQIMpkMwcHBCAkJUXmNzp07Y8KECThx4gSSkpJQUlICa2truLq64u2330b79u2V+s+bNw9nzpzBu+++Cx0dHUyaNElpcaKgoCAUFBQgOjoajx49gre3Nz755BNMnz5dzT8dItIkiaura7WmX+RJi6pQ03h7e2Pw4MEIDQ3Vdin0nLh79y6GDBmCtWvXYsSIEdouhwSmvnUxSLw4Z4CIiKiZYxggIiJq5jhn4Dlw+PBhbZdAz5kOHTrgxo0b2i6DiJ4RjgwQERE1cwwDREREzRzDABERUTPHMEBERNTMMQwQERE1cwwDREREzdwzWYGQiIiIhIsjA0RERM0cwwAREVEzxzBARETUzDEMEBERNXMMA0RERM0cwwAREVEzxzBARETUzDEMEBERNXMMA0RERM3c/wf/5G2ezxeocQAAAABJRU5ErkJggg==)"
      ],
      "metadata": {
        "id": "l8Rkb2Ft_bcI"
      }
    },
    {
      "cell_type": "markdown",
      "source": [
        "## Or even better\n",
        "\n",
        "There is one problem with the Naive-Bayes model. If a word did not exist during the training, it was never counted. If such a word suddenly appear during inference, it will cause a division by 0 (the posterior - the previous observation is 0).\n",
        "\n",
        "### How can we solve this?\n",
        "\n",
        "One way to solve it is called the \"Add-one Smoothing\", where we add one (1) to both the denominator and numerator. This value doesn't need to be 1. We can change this value to *any* positive number, even fractions.\n",
        "\n",
        "Try playing with the Additive (also called Laplace/Lidstone) smoothing parameter. The parameter is named **alpha** in the scikit-learn implementation. \n",
        "\n",
        "Challenge yourself: Can you score above 95%? above 98%? above 99%?"
      ],
      "metadata": {
        "id": "b5rJ3U91a3Rk"
      }
    },
    {
      "cell_type": "markdown",
      "source": [
        "# Diving deeper\n",
        "\n",
        "To dive deeper into the topic and to observe more examples, please consider [reading or watching this article](http://www.cs.cornell.edu/courses/cs4780/2018fa/lectures/lecturenote05.html)"
      ],
      "metadata": {
        "id": "DsKrxogz-Q82"
      }
    }
  ]
}