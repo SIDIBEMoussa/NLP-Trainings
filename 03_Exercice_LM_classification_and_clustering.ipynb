{
  "nbformat": 4,
  "nbformat_minor": 0,
  "metadata": {
    "colab": {
      "provenance": [],
      "include_colab_link": true
    },
    "kernelspec": {
      "name": "python3",
      "display_name": "Python 3"
    },
    "language_info": {
      "name": "python"
    }
  },
  "cells": [
    {
      "cell_type": "markdown",
      "metadata": {
        "id": "view-in-github",
        "colab_type": "text"
      },
      "source": [
        "<a href=\"https://colab.research.google.com/github/SIDIBEMoussa/NLP-Trainings/blob/main/03_Exercice_LM_classification_and_clustering.ipynb\" target=\"_parent\"><img src=\"https://colab.research.google.com/assets/colab-badge.svg\" alt=\"Open In Colab\"/></a>"
      ]
    },
    {
      "cell_type": "code",
      "execution_count": 152,
      "metadata": {
        "colab": {
          "base_uri": "https://localhost:8080/"
        },
        "id": "2b-mUm2hQtoX",
        "outputId": "0828652f-38ac-4227-ae5e-2c6d975090a2"
      },
      "outputs": [
        {
          "output_type": "stream",
          "name": "stderr",
          "text": [
            "[nltk_data] Downloading package punkt to /root/nltk_data...\n",
            "[nltk_data]   Package punkt is already up-to-date!\n",
            "[nltk_data] Downloading package stopwords to /root/nltk_data...\n",
            "[nltk_data]   Package stopwords is already up-to-date!\n",
            "[nltk_data] Downloading package averaged_perceptron_tagger to\n",
            "[nltk_data]     /root/nltk_data...\n",
            "[nltk_data]   Package averaged_perceptron_tagger is already up-to-\n",
            "[nltk_data]       date!\n",
            "[nltk_data] Downloading package universal_tagset to /root/nltk_data...\n",
            "[nltk_data]   Package universal_tagset is already up-to-date!\n"
          ]
        },
        {
          "output_type": "execute_result",
          "data": {
            "text/plain": [
              "True"
            ]
          },
          "metadata": {},
          "execution_count": 152
        }
      ],
      "source": [
        "import pandas as pd\n",
        "from random import seed\n",
        "from warnings import filterwarnings\n",
        "\n",
        "filterwarnings('ignore')\n",
        "\n",
        "seed(1999)\n",
        "\n",
        "import nltk\n",
        "nltk.download('punkt')\n",
        "nltk.download('stopwords')\n",
        "nltk.download('averaged_perceptron_tagger')\n",
        "nltk.download('universal_tagset')"
      ]
    },
    {
      "cell_type": "code",
      "source": [
        "import pathlib, os"
      ],
      "metadata": {
        "id": "TnecPRtIWSHh"
      },
      "execution_count": 153,
      "outputs": []
    },
    {
      "cell_type": "code",
      "source": [
        "path = \"/content/datasets/lda_sports_politics_docs\"\n",
        "\n",
        "file_directory = pathlib.Path(path).exists()\n",
        "\n",
        "if not file_directory:\n",
        "\n",
        "    !git clone https://github.com/selva86/datasets.git\n",
        "\n",
        "\n",
        "\n",
        "text_files = os.listdir(path)"
      ],
      "metadata": {
        "id": "bwSAiHVcXKtV"
      },
      "execution_count": 154,
      "outputs": []
    },
    {
      "cell_type": "code",
      "source": [
        "text_files"
      ],
      "metadata": {
        "colab": {
          "base_uri": "https://localhost:8080/"
        },
        "id": "ZJt9xVauXgw-",
        "outputId": "bfe20176-7b73-4f5c-d562-d58db9d79621"
      },
      "execution_count": 155,
      "outputs": [
        {
          "output_type": "execute_result",
          "data": {
            "text/plain": [
              "['shinzo abe.txt',\n",
              " 'pizza.txt',\n",
              " 'lee quan yew.txt',\n",
              " 'queen elizabeth.txt',\n",
              " 'cricket.txt',\n",
              " 'idli.txt',\n",
              " 'barack obama.txt',\n",
              " 'baseball.txt',\n",
              " 'badminton.txt',\n",
              " 'noodles.txt',\n",
              " 'tipu sultan.txt',\n",
              " 'table tennis.txt',\n",
              " 'pasta.txt',\n",
              " 'narendra modi.txt',\n",
              " 'dosa.txt']"
            ]
          },
          "metadata": {},
          "execution_count": 155
        }
      ]
    },
    {
      "cell_type": "code",
      "source": [
        "articles=[]\n",
        "\n",
        "for filename in text_files:\n",
        "\n",
        "    article = pathlib.Path(path+'/'+filename).read_text()\n",
        "\n",
        "    articles.append(article)"
      ],
      "metadata": {
        "id": "oU_znckrYutX"
      },
      "execution_count": 156,
      "outputs": []
    },
    {
      "cell_type": "code",
      "source": [
        "articles[0]"
      ],
      "metadata": {
        "colab": {
          "base_uri": "https://localhost:8080/",
          "height": 157
        },
        "id": "gv_gU5CKa579",
        "outputId": "c6e4c021-9ff1-46d6-cbb6-c7d97bfa29e7"
      },
      "execution_count": 157,
      "outputs": [
        {
          "output_type": "execute_result",
          "data": {
            "text/plain": [
              "\"Shinzō Abe (Abe Shinzō, IPA: born 21 September 1954) is the current Prime Minister of Japan, re-elected to the position in December 2012. Abe is also the President of the Liberal Democratic Party (LDP).\\nAbe served for a year as Prime Minister, from 2006 to 2007. Hailing from a politically prominent family, at age 52, Abe became Japan's youngest post-war prime minister, and the first to be born after World War II, when he was elected by a special session of the National Diet in September 2006. Abe resigned on 12 September 2007, for health reasons. Abe was replaced by Yasuo Fukuda, beginning a string of five Prime Ministers, none of whom retained office for more than sixteen months, before Abe staged a political comeback.\\nOn 26 September 2012, Abe defeated former Minister of Defense Shigeru Ishiba, in a run-off vote, to win the LDP Presidential Election. Following the LDP's landslide victory in the 2012 general election, Abe became the Prime Minister again. Abe is the first former Prime Minister to return to the office since Shigeru Yoshida in 1948. Abe was re-elected at the 2014 general election, retaining his two-thirds majority with coalition partner Komeito.\""
            ],
            "application/vnd.google.colaboratory.intrinsic+json": {
              "type": "string"
            }
          },
          "metadata": {},
          "execution_count": 157
        }
      ]
    },
    {
      "cell_type": "code",
      "source": [
        "from pprint import pprint # for printing objects nicely\n",
        "\n",
        "from gensim import corpora, models\n",
        "from gensim.utils import simple_preprocess\n",
        "\n",
        "# from gensim.parsing.preprocessing import STOPWORDS \n",
        "# Instead of the gensim english stopwords, we use nltk's German stopwords\n",
        "from nltk.corpus import stopwords\n",
        "\n",
        "from nltk.stem.snowball import SnowballStemmer\n",
        "from nltk.stem.porter import *\n",
        "\n",
        "import numpy as np\n",
        "\n",
        "from random import choice\n",
        "\n",
        "np.random.seed(1234)\n",
        "\n",
        "stemmer = SnowballStemmer('english')\n",
        "german_stop_words = set(stopwords.words('english'))\n",
        "\n",
        "\n",
        "def lemmatize_stemming(text):\n",
        "  return stemmer.stem(text)\n",
        "\n",
        "def preprocess(text):\n",
        "  result = [lemmatize_stemming(token) \n",
        "            for token in simple_preprocess(text)  \n",
        "            if token not in german_stop_words and len(token) > 3]\n",
        "  return result"
      ],
      "metadata": {
        "id": "fMJuWnswbPZP"
      },
      "execution_count": 158,
      "outputs": []
    },
    {
      "cell_type": "code",
      "source": [
        "print('original document: ')\n",
        "article = choice(articles)\n",
        "print(article)\n",
        "\n",
        "# This time, we don't care about punctuations as tokens (Can you think why?):\n",
        "print('original document, broken into words: ')\n",
        "words = [word for word in article.split(' ')]\n",
        "print(words)\n",
        "print(\"Vocabulary size of the original article:\", len(set(words)))\n",
        "\n",
        "# now let's see what happens when we pass the article into our preprocessing \n",
        "# method:\n",
        "print('\\n\\n tokenized and lemmatized document: ')\n",
        "preprocessed_article = preprocess(article)\n",
        "print(preprocessed_article)\n",
        "print(\"Vocabulary size after preprocessing:\", len(set(preprocessed_article)))"
      ],
      "metadata": {
        "colab": {
          "base_uri": "https://localhost:8080/"
        },
        "id": "sHzvndkJl6Qt",
        "outputId": "ff3e05dc-4d8f-4320-9e30-8dab5702f165"
      },
      "execution_count": 159,
      "outputs": [
        {
          "output_type": "stream",
          "name": "stdout",
          "text": [
            "original document: \n",
            "Pizza is a flatbread generally topped with tomato sauce and cheese and baked in an oven. It is commonly topped with a selection of meats, vegetables and condiments. The term was first recorded in the 10th century, in a Latin manuscript from Gaeta in Central Italy. The modern pizza was invented in Naples, Italy, and the dish and its variants have since become popular in many areas of the world.\n",
            "In 2009, upon Italy's request, Neapolitan pizza was safeguarded in the European Union as a Traditional Speciality Guaranteed dish. The Associazione Verace Pizza Napoletana (the True Neapolitan Pizza Association) is a non-profit organisation founded in 1984 with headquarters in Naples. It promotes and protects the \"true Neapolitan pizza\".\n",
            "Pizza is sold fresh or frozen, either whole or in portions, and is a common fast food item in Europe and North America. Various types of ovens are used to cook them and many varieties exist. Several similar dishes are prepared from ingredients commonly used in pizza preparation, such as calzone and stromboli.\n",
            "\n",
            "original document, broken into words: \n",
            "['Pizza', 'is', 'a', 'flatbread', 'generally', 'topped', 'with', 'tomato', 'sauce', 'and', 'cheese', 'and', 'baked', 'in', 'an', 'oven.', 'It', 'is', 'commonly', 'topped', 'with', 'a', 'selection', 'of', 'meats,', 'vegetables', 'and', 'condiments.', 'The', 'term', 'was', 'first', 'recorded', 'in', 'the', '10th', 'century,', 'in', 'a', 'Latin', 'manuscript', 'from', 'Gaeta', 'in', 'Central', 'Italy.', 'The', 'modern', 'pizza', 'was', 'invented', 'in', 'Naples,', 'Italy,', 'and', 'the', 'dish', 'and', 'its', 'variants', 'have', 'since', 'become', 'popular', 'in', 'many', 'areas', 'of', 'the', 'world.\\nIn', '2009,', 'upon', \"Italy's\", 'request,', 'Neapolitan', 'pizza', 'was', 'safeguarded', 'in', 'the', 'European', 'Union', 'as', 'a', 'Traditional', 'Speciality', 'Guaranteed', 'dish.', 'The', 'Associazione', 'Verace', 'Pizza', 'Napoletana', '(the', 'True', 'Neapolitan', 'Pizza', 'Association)', 'is', 'a', 'non-profit', 'organisation', 'founded', 'in', '1984', 'with', 'headquarters', 'in', 'Naples.', 'It', 'promotes', 'and', 'protects', 'the', '\"true', 'Neapolitan', 'pizza\".\\nPizza', 'is', 'sold', 'fresh', 'or', 'frozen,', 'either', 'whole', 'or', 'in', 'portions,', 'and', 'is', 'a', 'common', 'fast', 'food', 'item', 'in', 'Europe', 'and', 'North', 'America.', 'Various', 'types', 'of', 'ovens', 'are', 'used', 'to', 'cook', 'them', 'and', 'many', 'varieties', 'exist.', 'Several', 'similar', 'dishes', 'are', 'prepared', 'from', 'ingredients', 'commonly', 'used', 'in', 'pizza', 'preparation,', 'such', 'as', 'calzone', 'and', 'stromboli.\\n']\n",
            "Vocabulary size of the original article: 113\n",
            "\n",
            "\n",
            " tokenized and lemmatized document: \n",
            "['pizza', 'flatbread', 'general', 'top', 'tomato', 'sauc', 'chees', 'bake', 'oven', 'common', 'top', 'select', 'meat', 'veget', 'condiment', 'term', 'first', 'record', 'centuri', 'latin', 'manuscript', 'gaeta', 'central', 'itali', 'modern', 'pizza', 'invent', 'napl', 'itali', 'dish', 'variant', 'sinc', 'becom', 'popular', 'mani', 'area', 'world', 'upon', 'itali', 'request', 'neapolitan', 'pizza', 'safeguard', 'european', 'union', 'tradit', 'special', 'guarante', 'dish', 'associazion', 'verac', 'pizza', 'napoletana', 'true', 'neapolitan', 'pizza', 'associ', 'profit', 'organis', 'found', 'headquart', 'napl', 'promot', 'protect', 'true', 'neapolitan', 'pizza', 'pizza', 'sold', 'fresh', 'frozen', 'either', 'whole', 'portion', 'common', 'fast', 'food', 'item', 'europ', 'north', 'america', 'various', 'type', 'oven', 'use', 'cook', 'mani', 'varieti', 'exist', 'sever', 'similar', 'dish', 'prepar', 'ingredi', 'common', 'use', 'pizza', 'prepar', 'calzon', 'stromboli']\n",
            "Vocabulary size after preprocessing: 78\n"
          ]
        }
      ]
    },
    {
      "cell_type": "code",
      "source": [
        "processed_docs = list(map(preprocess, articles))\n",
        "processed_docs[:2]"
      ],
      "metadata": {
        "colab": {
          "base_uri": "https://localhost:8080/"
        },
        "id": "2CscbY6DmTnq",
        "outputId": "3c4d9200-c4a9-4d0a-e041-fdf4bbe1020f"
      },
      "execution_count": 160,
      "outputs": [
        {
          "output_type": "execute_result",
          "data": {
            "text/plain": [
              "[['shinzō',\n",
              "  'shinzō',\n",
              "  'born',\n",
              "  'septemb',\n",
              "  'current',\n",
              "  'prime',\n",
              "  'minist',\n",
              "  'japan',\n",
              "  'elect',\n",
              "  'posit',\n",
              "  'decemb',\n",
              "  'also',\n",
              "  'presid',\n",
              "  'liber',\n",
              "  'democrat',\n",
              "  'parti',\n",
              "  'serv',\n",
              "  'year',\n",
              "  'prime',\n",
              "  'minist',\n",
              "  'hail',\n",
              "  'polit',\n",
              "  'promin',\n",
              "  'famili',\n",
              "  'becam',\n",
              "  'japan',\n",
              "  'youngest',\n",
              "  'post',\n",
              "  'prime',\n",
              "  'minist',\n",
              "  'first',\n",
              "  'born',\n",
              "  'world',\n",
              "  'elect',\n",
              "  'special',\n",
              "  'session',\n",
              "  'nation',\n",
              "  'diet',\n",
              "  'septemb',\n",
              "  'resign',\n",
              "  'septemb',\n",
              "  'health',\n",
              "  'reason',\n",
              "  'replac',\n",
              "  'yasuo',\n",
              "  'fukuda',\n",
              "  'begin',\n",
              "  'string',\n",
              "  'five',\n",
              "  'prime',\n",
              "  'minist',\n",
              "  'none',\n",
              "  'retain',\n",
              "  'offic',\n",
              "  'sixteen',\n",
              "  'month',\n",
              "  'stage',\n",
              "  'polit',\n",
              "  'comeback',\n",
              "  'septemb',\n",
              "  'defeat',\n",
              "  'former',\n",
              "  'minist',\n",
              "  'defens',\n",
              "  'shigeru',\n",
              "  'ishiba',\n",
              "  'vote',\n",
              "  'presidenti',\n",
              "  'elect',\n",
              "  'follow',\n",
              "  'landslid',\n",
              "  'victori',\n",
              "  'general',\n",
              "  'elect',\n",
              "  'becam',\n",
              "  'prime',\n",
              "  'minist',\n",
              "  'first',\n",
              "  'former',\n",
              "  'prime',\n",
              "  'minist',\n",
              "  'return',\n",
              "  'offic',\n",
              "  'sinc',\n",
              "  'shigeru',\n",
              "  'yoshida',\n",
              "  'elect',\n",
              "  'general',\n",
              "  'elect',\n",
              "  'retain',\n",
              "  'third',\n",
              "  'major',\n",
              "  'coalit',\n",
              "  'partner',\n",
              "  'komeito'],\n",
              " ['pizza',\n",
              "  'flatbread',\n",
              "  'general',\n",
              "  'top',\n",
              "  'tomato',\n",
              "  'sauc',\n",
              "  'chees',\n",
              "  'bake',\n",
              "  'oven',\n",
              "  'common',\n",
              "  'top',\n",
              "  'select',\n",
              "  'meat',\n",
              "  'veget',\n",
              "  'condiment',\n",
              "  'term',\n",
              "  'first',\n",
              "  'record',\n",
              "  'centuri',\n",
              "  'latin',\n",
              "  'manuscript',\n",
              "  'gaeta',\n",
              "  'central',\n",
              "  'itali',\n",
              "  'modern',\n",
              "  'pizza',\n",
              "  'invent',\n",
              "  'napl',\n",
              "  'itali',\n",
              "  'dish',\n",
              "  'variant',\n",
              "  'sinc',\n",
              "  'becom',\n",
              "  'popular',\n",
              "  'mani',\n",
              "  'area',\n",
              "  'world',\n",
              "  'upon',\n",
              "  'itali',\n",
              "  'request',\n",
              "  'neapolitan',\n",
              "  'pizza',\n",
              "  'safeguard',\n",
              "  'european',\n",
              "  'union',\n",
              "  'tradit',\n",
              "  'special',\n",
              "  'guarante',\n",
              "  'dish',\n",
              "  'associazion',\n",
              "  'verac',\n",
              "  'pizza',\n",
              "  'napoletana',\n",
              "  'true',\n",
              "  'neapolitan',\n",
              "  'pizza',\n",
              "  'associ',\n",
              "  'profit',\n",
              "  'organis',\n",
              "  'found',\n",
              "  'headquart',\n",
              "  'napl',\n",
              "  'promot',\n",
              "  'protect',\n",
              "  'true',\n",
              "  'neapolitan',\n",
              "  'pizza',\n",
              "  'pizza',\n",
              "  'sold',\n",
              "  'fresh',\n",
              "  'frozen',\n",
              "  'either',\n",
              "  'whole',\n",
              "  'portion',\n",
              "  'common',\n",
              "  'fast',\n",
              "  'food',\n",
              "  'item',\n",
              "  'europ',\n",
              "  'north',\n",
              "  'america',\n",
              "  'various',\n",
              "  'type',\n",
              "  'oven',\n",
              "  'use',\n",
              "  'cook',\n",
              "  'mani',\n",
              "  'varieti',\n",
              "  'exist',\n",
              "  'sever',\n",
              "  'similar',\n",
              "  'dish',\n",
              "  'prepar',\n",
              "  'ingredi',\n",
              "  'common',\n",
              "  'use',\n",
              "  'pizza',\n",
              "  'prepar',\n",
              "  'calzon',\n",
              "  'stromboli']]"
            ]
          },
          "metadata": {},
          "execution_count": 160
        }
      ]
    },
    {
      "cell_type": "code",
      "source": [
        "dictionary = corpora.Dictionary(processed_docs)"
      ],
      "metadata": {
        "id": "bdoCd4MeoUTT"
      },
      "execution_count": 161,
      "outputs": []
    },
    {
      "cell_type": "code",
      "source": [
        "for idx, (k, v) in enumerate(dictionary.iteritems()):\n",
        "    print(k, v)\n",
        "    if idx >= 10:\n",
        "        break"
      ],
      "metadata": {
        "colab": {
          "base_uri": "https://localhost:8080/"
        },
        "id": "2-zj_g3iop0-",
        "outputId": "2234bf5d-fa02-4f0d-b60f-5d49e11efc67"
      },
      "execution_count": 162,
      "outputs": [
        {
          "output_type": "stream",
          "name": "stdout",
          "text": [
            "0 also\n",
            "1 becam\n",
            "2 begin\n",
            "3 born\n",
            "4 coalit\n",
            "5 comeback\n",
            "6 current\n",
            "7 decemb\n",
            "8 defeat\n",
            "9 defens\n",
            "10 democrat\n"
          ]
        }
      ]
    },
    {
      "cell_type": "markdown",
      "source": [
        "### Model Hyperparameter tuning"
      ],
      "metadata": {
        "id": "TtxfwvLko5z1"
      }
    },
    {
      "cell_type": "code",
      "source": [
        "## Model hyper parameters:\n",
        "\n",
        "## These are the dictionary preparation parameters:\n",
        "filter_tokens_if_container_documents_are_less_than = 5\n",
        "filter_tokens_if_appeared_percentage_more_than = 0.842\n",
        "keep_the_first_n_tokens=100000\n",
        "\n",
        "## and the LDA Parameters: \n",
        "\n",
        "# NB:  we can adjust number of topic with visualisation also because some topic won't be assign\n",
        "num_of_topics = 7"
      ],
      "metadata": {
        "id": "q_9o3iwgovvs"
      },
      "execution_count": 163,
      "outputs": []
    },
    {
      "cell_type": "code",
      "source": [
        "dictionary.filter_extremes(\n",
        "        no_below=filter_tokens_if_container_documents_are_less_than, \n",
        "        no_above=filter_tokens_if_appeared_percentage_more_than, \n",
        "        keep_n=keep_the_first_n_tokens)"
      ],
      "metadata": {
        "id": "pc_2C0A_P49e"
      },
      "execution_count": 164,
      "outputs": []
    },
    {
      "cell_type": "code",
      "source": [
        "bow_corpus = [dictionary.doc2bow(doc) for doc in processed_docs]\n",
        "\n",
        "#bow_corpus[:1]"
      ],
      "metadata": {
        "id": "iSBwUHL4pOwV"
      },
      "execution_count": 165,
      "outputs": []
    },
    {
      "cell_type": "code",
      "source": [
        "# randomly choose an article from the corpus:\n",
        "sample_bow_doc = choice(bow_corpus)\n",
        "\n",
        "print('The processed bag-of-word document is just pairs of (word_id, # of occurnces) and looks like this:')\n",
        "print(sample_bow_doc, '\\n\\n')\n",
        "\n",
        "print ('We peek in the dictionary: for each word_id, we get its assigned word:')\n",
        "for word_id, word_freq in sample_bow_doc:\n",
        "  real_word = dictionary[word_id]\n",
        "  print(f'Word {word_id} (\"{real_word}\") appears {word_freq} time.')"
      ],
      "metadata": {
        "colab": {
          "base_uri": "https://localhost:8080/"
        },
        "id": "X14slQgapdFj",
        "outputId": "18eebff9-bf05-4a42-9d94-8ee64686f5e5"
      },
      "execution_count": 166,
      "outputs": [
        {
          "output_type": "stream",
          "name": "stdout",
          "text": [
            "The processed bag-of-word document is just pairs of (word_id, # of occurnces) and looks like this:\n",
            "[(6, 2)] \n",
            "\n",
            "\n",
            "We peek in the dictionary: for each word_id, we get its assigned word:\n",
            "Word 6 (\"known\") appears 2 time.\n"
          ]
        }
      ]
    },
    {
      "cell_type": "markdown",
      "source": [
        "## LDA model using Bag-of-words"
      ],
      "metadata": {
        "id": "_ahfDQuTq-AF"
      }
    },
    {
      "cell_type": "code",
      "source": [
        "lda_model = models.LdaMulticore(bow_corpus, \n",
        "                                num_topics=num_of_topics, \n",
        "                                id2word=dictionary, \n",
        "                                passes=10, \n",
        "                                workers=2)"
      ],
      "metadata": {
        "id": "GpGCUPDIpxvB"
      },
      "execution_count": 167,
      "outputs": []
    },
    {
      "cell_type": "code",
      "source": [
        "for idx, topic in lda_model.print_topics(num_of_topics):\n",
        "    print(f'Topic: {idx} \\t Words: {topic}')"
      ],
      "metadata": {
        "id": "pUFKZu13rC-V",
        "outputId": "83a34e06-4be1-4510-bfe8-71efcda23772",
        "colab": {
          "base_uri": "https://localhost:8080/"
        }
      },
      "execution_count": 168,
      "outputs": [
        {
          "output_type": "stream",
          "name": "stdout",
          "text": [
            "Topic: 0 \t Words: 0.191*\"serv\" + 0.190*\"also\" + 0.190*\"known\" + 0.190*\"general\" + 0.190*\"use\" + 0.024*\"first\" + 0.024*\"born\"\n",
            "Topic: 1 \t Words: 0.523*\"use\" + 0.191*\"first\" + 0.190*\"general\" + 0.024*\"serv\" + 0.024*\"known\" + 0.024*\"born\" + 0.024*\"also\"\n",
            "Topic: 2 \t Words: 0.307*\"born\" + 0.257*\"first\" + 0.257*\"general\" + 0.107*\"serv\" + 0.057*\"also\" + 0.007*\"use\" + 0.007*\"known\"\n",
            "Topic: 3 \t Words: 0.143*\"first\" + 0.143*\"serv\" + 0.143*\"use\" + 0.143*\"known\" + 0.143*\"also\" + 0.143*\"general\" + 0.143*\"born\"\n",
            "Topic: 4 \t Words: 0.303*\"also\" + 0.244*\"serv\" + 0.185*\"known\" + 0.126*\"use\" + 0.126*\"first\" + 0.008*\"general\" + 0.008*\"born\"\n",
            "Topic: 5 \t Words: 0.306*\"born\" + 0.306*\"known\" + 0.163*\"serv\" + 0.163*\"also\" + 0.020*\"first\" + 0.020*\"use\" + 0.020*\"general\"\n",
            "Topic: 6 \t Words: 0.467*\"first\" + 0.195*\"serv\" + 0.104*\"known\" + 0.104*\"general\" + 0.104*\"born\" + 0.013*\"use\" + 0.013*\"also\"\n"
          ]
        }
      ]
    },
    {
      "cell_type": "markdown",
      "source": [
        "## TF / IDF"
      ],
      "metadata": {
        "id": "u7LgcbhKrQRZ"
      }
    },
    {
      "cell_type": "code",
      "source": [
        "# initialize a tfidf from our corpus\n",
        "tfidf = models.TfidfModel(bow_corpus)\n",
        "\n",
        "# apply it on our corpus \n",
        "tfidf_corpus = tfidf[bow_corpus]\n",
        "\n",
        "pprint(tfidf_corpus[0][:10])"
      ],
      "metadata": {
        "id": "wbff7C1KrJix",
        "outputId": "4c945f67-ec20-4316-a281-8818d2afbd23",
        "colab": {
          "base_uri": "https://localhost:8080/"
        }
      },
      "execution_count": 169,
      "outputs": [
        {
          "output_type": "stream",
          "name": "stdout",
          "text": [
            "[(0, 0.273950907686604),\n",
            " (1, 0.6569221388078413),\n",
            " (2, 0.3758805078737172),\n",
            " (3, 0.547901815373208),\n",
            " (4, 0.22786322264278713)]\n"
          ]
        }
      ]
    },
    {
      "cell_type": "code",
      "source": [
        "# the new tfidf corpus is just our corpus - but transformed. It has the same size of documents:\n",
        "assert len(bow_corpus) == len(tfidf_corpus)"
      ],
      "metadata": {
        "id": "e4oCnXR2rJen"
      },
      "execution_count": 170,
      "outputs": []
    },
    {
      "cell_type": "markdown",
      "source": [
        "Now let's apply LDA on the tfidf corpus, with the same amount of topics.\n",
        "\n",
        "You can play with the # of passes, if the model doesn't converge properly"
      ],
      "metadata": {
        "id": "DxizY1d9rcqc"
      }
    },
    {
      "cell_type": "code",
      "source": [
        "lda_model_tfidf = models.LdaMulticore(tfidf_corpus, \n",
        "                                      num_topics=num_of_topics, \n",
        "                                      id2word=dictionary, \n",
        "                                      passes=10, \n",
        "                                      workers=4)"
      ],
      "metadata": {
        "id": "kaKEXtUarJXd"
      },
      "execution_count": 171,
      "outputs": []
    },
    {
      "cell_type": "code",
      "source": [
        "for idx, topic in lda_model_tfidf.print_topics(num_of_topics):\n",
        "    print(f'Topic: {idx} \\t Word: {topic}')"
      ],
      "metadata": {
        "id": "dZf1dpQ5rgdj",
        "outputId": "083d5231-6528-4663-9308-8b4762fe19af",
        "colab": {
          "base_uri": "https://localhost:8080/"
        }
      },
      "execution_count": 172,
      "outputs": [
        {
          "output_type": "stream",
          "name": "stdout",
          "text": [
            "Topic: 0 \t Word: 0.148*\"born\" + 0.146*\"general\" + 0.144*\"first\" + 0.143*\"also\" + 0.142*\"serv\" + 0.139*\"known\" + 0.139*\"use\"\n",
            "Topic: 1 \t Word: 0.644*\"first\" + 0.068*\"general\" + 0.064*\"use\" + 0.059*\"also\" + 0.058*\"serv\" + 0.053*\"known\" + 0.053*\"born\"\n",
            "Topic: 2 \t Word: 0.321*\"also\" + 0.229*\"serv\" + 0.191*\"known\" + 0.160*\"use\" + 0.059*\"general\" + 0.022*\"first\" + 0.017*\"born\"\n",
            "Topic: 3 \t Word: 0.700*\"use\" + 0.050*\"general\" + 0.050*\"first\" + 0.050*\"known\" + 0.050*\"serv\" + 0.050*\"also\" + 0.050*\"born\"\n",
            "Topic: 4 \t Word: 0.143*\"serv\" + 0.143*\"known\" + 0.143*\"first\" + 0.143*\"use\" + 0.143*\"also\" + 0.143*\"general\" + 0.143*\"born\"\n",
            "Topic: 5 \t Word: 0.346*\"born\" + 0.240*\"general\" + 0.216*\"first\" + 0.120*\"serv\" + 0.048*\"known\" + 0.015*\"also\" + 0.015*\"use\"\n",
            "Topic: 6 \t Word: 0.552*\"known\" + 0.088*\"general\" + 0.080*\"born\" + 0.075*\"first\" + 0.069*\"also\" + 0.069*\"use\" + 0.069*\"serv\"\n"
          ]
        }
      ]
    },
    {
      "cell_type": "markdown",
      "source": [
        "## Inference\n",
        "\n",
        "Now that we have a topic-modeler, let's use it on one of the articles."
      ],
      "metadata": {
        "id": "rRmuhjMvrrhi"
      }
    },
    {
      "cell_type": "code",
      "source": [
        "# randomly pick an article:\n",
        "test_doc = choice(range(len(processed_docs)))\n",
        "processed_docs[test_doc][:10]"
      ],
      "metadata": {
        "id": "U5vc4WDarknL",
        "outputId": "d118359c-823d-4df6-a339-88e35fc1cce9",
        "colab": {
          "base_uri": "https://localhost:8080/"
        }
      },
      "execution_count": 173,
      "outputs": [
        {
          "output_type": "execute_result",
          "data": {
            "text/plain": [
              "['kuan',\n",
              " 'gcmg',\n",
              " 'spmj',\n",
              " 'born',\n",
              " 'harri',\n",
              " 'kuan',\n",
              " 'septemb',\n",
              " 'march',\n",
              " 'inform',\n",
              " 'known']"
            ]
          },
          "metadata": {},
          "execution_count": 173
        }
      ]
    },
    {
      "cell_type": "markdown",
      "source": [
        "Using the original BOW model:"
      ],
      "metadata": {
        "id": "dlqMzBPdr1yj"
      }
    },
    {
      "cell_type": "code",
      "source": [
        "for index, score in sorted(lda_model[bow_corpus[test_doc]], key=lambda tup: -1*tup[1]):\n",
        "    print(f\"Topic match score: {score} \\nTopic: {lda_model.print_topic(index, num_of_topics)}\")\n"
      ],
      "metadata": {
        "id": "EEC7IrEXrw9Q",
        "outputId": "c38b0faa-4ef2-4cea-d96c-ad76c5f831ae",
        "colab": {
          "base_uri": "https://localhost:8080/"
        }
      },
      "execution_count": 174,
      "outputs": [
        {
          "output_type": "stream",
          "name": "stdout",
          "text": [
            "Topic match score: 0.9140203595161438 \n",
            "Topic: 0.467*\"first\" + 0.195*\"serv\" + 0.104*\"known\" + 0.104*\"general\" + 0.104*\"born\" + 0.013*\"use\" + 0.013*\"also\"\n",
            "Topic match score: 0.014372478239238262 \n",
            "Topic: 0.307*\"born\" + 0.257*\"first\" + 0.257*\"general\" + 0.107*\"serv\" + 0.057*\"also\" + 0.007*\"use\" + 0.007*\"known\"\n",
            "Topic match score: 0.014354689046740532 \n",
            "Topic: 0.306*\"born\" + 0.306*\"known\" + 0.163*\"serv\" + 0.163*\"also\" + 0.020*\"first\" + 0.020*\"use\" + 0.020*\"general\"\n",
            "Topic match score: 0.014331722632050514 \n",
            "Topic: 0.303*\"also\" + 0.244*\"serv\" + 0.185*\"known\" + 0.126*\"use\" + 0.126*\"first\" + 0.008*\"general\" + 0.008*\"born\"\n",
            "Topic match score: 0.014326144941151142 \n",
            "Topic: 0.191*\"serv\" + 0.190*\"also\" + 0.190*\"known\" + 0.190*\"general\" + 0.190*\"use\" + 0.024*\"first\" + 0.024*\"born\"\n",
            "Topic match score: 0.014308372512459755 \n",
            "Topic: 0.523*\"use\" + 0.191*\"first\" + 0.190*\"general\" + 0.024*\"serv\" + 0.024*\"known\" + 0.024*\"born\" + 0.024*\"also\"\n",
            "Topic match score: 0.014286269433796406 \n",
            "Topic: 0.143*\"first\" + 0.143*\"serv\" + 0.143*\"use\" + 0.143*\"known\" + 0.143*\"also\" + 0.143*\"general\" + 0.143*\"born\"\n"
          ]
        }
      ]
    },
    {
      "cell_type": "markdown",
      "source": [
        "And with the TF/IDF model:"
      ],
      "metadata": {
        "id": "apxeLH5JsBRX"
      }
    },
    {
      "cell_type": "code",
      "source": [
        "for index, score in sorted(lda_model_tfidf[bow_corpus[test_doc]], key=lambda tup: -1*tup[1]):\n",
        "    print(\"Topic match score: {}\\t \\nTopic: {}\".format(score, lda_model_tfidf.print_topic(index, num_of_topics)))"
      ],
      "metadata": {
        "id": "tCCzFiLVr8QD",
        "outputId": "65392558-c5b2-4fb8-931b-687230ac71fe",
        "colab": {
          "base_uri": "https://localhost:8080/"
        }
      },
      "execution_count": 175,
      "outputs": [
        {
          "output_type": "stream",
          "name": "stdout",
          "text": [
            "Topic match score: 0.5290020704269409\t \n",
            "Topic: 0.346*\"born\" + 0.240*\"general\" + 0.216*\"first\" + 0.120*\"serv\" + 0.048*\"known\" + 0.015*\"also\" + 0.015*\"use\"\n",
            "Topic match score: 0.24329952895641327\t \n",
            "Topic: 0.644*\"first\" + 0.068*\"general\" + 0.064*\"use\" + 0.059*\"also\" + 0.058*\"serv\" + 0.053*\"known\" + 0.053*\"born\"\n",
            "Topic match score: 0.1704336702823639\t \n",
            "Topic: 0.321*\"also\" + 0.229*\"serv\" + 0.191*\"known\" + 0.160*\"use\" + 0.059*\"general\" + 0.022*\"first\" + 0.017*\"born\"\n",
            "Topic match score: 0.014405757188796997\t \n",
            "Topic: 0.552*\"known\" + 0.088*\"general\" + 0.080*\"born\" + 0.075*\"first\" + 0.069*\"also\" + 0.069*\"use\" + 0.069*\"serv\"\n",
            "Topic match score: 0.01428660936653614\t \n",
            "Topic: 0.148*\"born\" + 0.146*\"general\" + 0.144*\"first\" + 0.143*\"also\" + 0.142*\"serv\" + 0.139*\"known\" + 0.139*\"use\"\n",
            "Topic match score: 0.014286510646343231\t \n",
            "Topic: 0.143*\"serv\" + 0.143*\"known\" + 0.143*\"first\" + 0.143*\"use\" + 0.143*\"also\" + 0.143*\"general\" + 0.143*\"born\"\n",
            "Topic match score: 0.014285904355347157\t \n",
            "Topic: 0.700*\"use\" + 0.050*\"general\" + 0.050*\"first\" + 0.050*\"known\" + 0.050*\"serv\" + 0.050*\"also\" + 0.050*\"born\"\n"
          ]
        }
      ]
    },
    {
      "cell_type": "code",
      "source": [
        "print('Perplexity: ', lda_model.log_perplexity(bow_corpus)) \n",
        "print('Perplexity TFIDF: ', lda_model_tfidf.log_perplexity(bow_corpus)) "
      ],
      "metadata": {
        "id": "Eyz4sodNsKln",
        "outputId": "e5913858-dbf9-4280-b18c-b79c23c0a86f",
        "colab": {
          "base_uri": "https://localhost:8080/"
        }
      },
      "execution_count": 176,
      "outputs": [
        {
          "output_type": "stream",
          "name": "stdout",
          "text": [
            "Perplexity:  -2.822894106821093\n",
            "Perplexity TFIDF:  -2.7974312019066123\n"
          ]
        }
      ]
    },
    {
      "cell_type": "code",
      "source": [
        "import matplotlib.pyplot as plt\n",
        "\n",
        "def optimize_topic(processed_docs,max_num_topic,num_more_than):\n",
        "\n",
        "    perplexity_bow = {}\n",
        "    perplexity_tfidf = {}\n",
        "\n",
        "    for more_than in np.linspace(0.0001,1,num_more_than):\n",
        "        keep_the_first_n_tokens = 10000\n",
        "\n",
        "        dictionary = corpora.Dictionary(processed_docs)\n",
        "\n",
        "        dictionary.filter_extremes(\n",
        "            no_below=6, \n",
        "            no_above=more_than, \n",
        "            keep_n=keep_the_first_n_tokens)\n",
        "        \n",
        "        bow_corpus = [dictionary.doc2bow(doc) for doc in processed_docs]\n",
        "\n",
        "        # initialize a tfidf from our corpus\n",
        "        tfidf = models.TfidfModel(bow_corpus)\n",
        "\n",
        "        # apply it on our corpus \n",
        "        tfidf_corpus = tfidf[bow_corpus]\n",
        "        if dictionary.keys() != []:\n",
        "\n",
        "            for num_topic in range(2, max_num_topic):\n",
        "\n",
        "                  lda_model = models.LdaMulticore(bow_corpus, \n",
        "                                        num_topics=num_topic, \n",
        "                                        id2word=dictionary,\n",
        "                                        passes=10, \n",
        "                                        workers=2)\n",
        "                  \n",
        "                  lda_model_tfidf = models.LdaMulticore(tfidf_corpus, \n",
        "                                              num_topics=num_topic, \n",
        "                                              id2word=dictionary, \n",
        "                                              passes=10, \n",
        "                                              workers=4)\n",
        "                  \n",
        "                  perplexity_bow[num_topic] = lda_model.log_perplexity(bow_corpus)\n",
        "\n",
        "                  perplexity_tfidf[num_topic] = lda_model_tfidf.log_perplexity(tfidf_corpus)\n",
        "\n",
        "            print(\"no_above: \",more_than)\n",
        "            plt.plot(list(perplexity_bow.keys()),list(perplexity_bow.values()),\"b\",label = \"bow\")\n",
        "            plt.plot(list(perplexity_tfidf.keys()),list(perplexity_tfidf.values()), \"g\", label = \"tfidf\")\n",
        "            plt.xlabel(\"Number topic\")\n",
        "            plt.ylabel(\"Perplexity score\")\n",
        "            plt.legend()\n",
        "            plt.show()\n",
        "    \n",
        "    return 0\n",
        "\n",
        "\n",
        "\n",
        "          "
      ],
      "metadata": {
        "id": "VjinBiP4uH6Q"
      },
      "execution_count": 177,
      "outputs": []
    },
    {
      "cell_type": "code",
      "source": [
        "optimize_topic(processed_docs,max_num_topic = 10,num_more_than = 20)"
      ],
      "metadata": {
        "colab": {
          "base_uri": "https://localhost:8080/",
          "height": 1000
        },
        "id": "5_0XnEDmv7Wk",
        "outputId": "86b32c99-5fa3-4bed-fa49-197b5adc1f19"
      },
      "execution_count": 178,
      "outputs": [
        {
          "output_type": "stream",
          "name": "stdout",
          "text": [
            "no_above:  0.4211105263157895\n"
          ]
        },
        {
          "output_type": "display_data",
          "data": {
            "text/plain": [
              "<Figure size 432x288 with 1 Axes>"
            ],
            "image/png": "[encoded data removed]"
          },
          "metadata": {
            "needs_background": "light"
          }
        },
        {
          "output_type": "stream",
          "name": "stdout",
          "text": [
            "no_above:  0.4737368421052632\n"
          ]
        },
        {
          "output_type": "display_data",
          "data": {
            "text/plain": [
              "<Figure size 432x288 with 1 Axes>"
            ],
            "image/png": "[encoded data removed]"
          },
          "metadata": {
            "needs_background": "light"
          }
        },
        {
          "output_type": "stream",
          "name": "stdout",
          "text": [
            "no_above:  0.5263631578947369\n"
          ]
        },
        {
          "output_type": "display_data",
          "data": {
            "text/plain": [
              "<Figure size 432x288 with 1 Axes>"
            ],
            "image/png": "[encoded data removed]"
          },
          "metadata": {
            "needs_background": "light"
          }
        },
        {
          "output_type": "stream",
          "name": "stdout",
          "text": [
            "no_above:  0.5789894736842105\n"
          ]
        },
        {
          "output_type": "display_data",
          "data": {
            "text/plain": [
              "<Figure size 432x288 with 1 Axes>"
            ],
            "image/png": "[encoded data removed]"
          },
          "metadata": {
            "needs_background": "light"
          }
        },
        {
          "output_type": "stream",
          "name": "stdout",
          "text": [
            "no_above:  0.6316157894736842\n"
          ]
        },
        {
          "output_type": "display_data",
          "data": {
            "text/plain": [
              "<Figure size 432x288 with 1 Axes>"
            ],
            "image/png": "[encoded data removed]"
          },
          "metadata": {
            "needs_background": "light"
          }
        },
        {
          "output_type": "stream",
          "name": "stdout",
          "text": [
            "no_above:  0.684242105263158\n"
          ]
        },
        {
          "output_type": "display_data",
          "data": {
            "text/plain": [
              "<Figure size 432x288 with 1 Axes>"
            ],
            "image/png": "[encoded data removed]"
          },
          "metadata": {
            "needs_background": "light"
          }
        },
        {
          "output_type": "stream",
          "name": "stdout",
          "text": [
            "no_above:  0.7368684210526316\n"
          ]
        },
        {
          "output_type": "display_data",
          "data": {
            "text/plain": [
              "<Figure size 432x288 with 1 Axes>"
            ],
            "image/png": "[encoded data removed]"
          },
          "metadata": {
            "needs_background": "light"
          }
        },
        {
          "output_type": "stream",
          "name": "stdout",
          "text": [
            "no_above:  0.7894947368421052\n"
          ]
        },
        {
          "output_type": "display_data",
          "data": {
            "text/plain": [
              "<Figure size 432x288 with 1 Axes>"
            ],
            "image/png": "[encoded data removed]"
          },
          "metadata": {
            "needs_background": "light"
          }
        },
        {
          "output_type": "stream",
          "name": "stdout",
          "text": [
            "no_above:  0.842121052631579\n"
          ]
        },
        {
          "output_type": "display_data",
          "data": {
            "text/plain": [
              "<Figure size 432x288 with 1 Axes>"
            ],
            "image/png": "[encoded data removed]"
          },
          "metadata": {
            "needs_background": "light"
          }
        },
        {
          "output_type": "stream",
          "name": "stdout",
          "text": [
            "no_above:  0.8947473684210527\n"
          ]
        },
        {
          "output_type": "display_data",
          "data": {
            "text/plain": [
              "<Figure size 432x288 with 1 Axes>"
            ],
            "image/png": "[encoded data removed]"
          },
          "metadata": {
            "needs_background": "light"
          }
        },
        {
          "output_type": "stream",
          "name": "stdout",
          "text": [
            "no_above:  0.9473736842105264\n"
          ]
        },
        {
          "output_type": "display_data",
          "data": {
            "text/plain": [
              "<Figure size 432x288 with 1 Axes>"
            ],
            "image/png": "[encoded data removed]"
          },
          "metadata": {
            "needs_background": "light"
          }
        },
        {
          "output_type": "stream",
          "name": "stdout",
          "text": [
            "no_above:  1.0\n"
          ]
        },
        {
          "output_type": "display_data",
          "data": {
            "text/plain": [
              "<Figure size 432x288 with 1 Axes>"
            ],
            "image/png": "[encoded data removed]"
          },
          "metadata": {
            "needs_background": "light"
          }
        },
        {
          "output_type": "execute_result",
          "data": {
            "text/plain": [
              "0"
            ]
          },
          "metadata": {},
          "execution_count": 178
        }
      ]
    },
    {
      "cell_type": "markdown",
      "source": [
        "### Exercise - inference\n",
        "\n",
        "Now try it on a new document!\n",
        "\n",
        "Go to a news website, such as [orf.at](https://orf.at/) and copy an article of your choice here:"
      ],
      "metadata": {
        "id": "WlrqLTEFsTDL"
      }
    },
    {
      "cell_type": "code",
      "source": [
        "#https://www.lemonde.fr/en/opinion/article/2022/12/27/speaking-the-truth-about-immigration_6009281_23.html\n",
        "\n",
        "unseen_document = \"\"\"You can share an article by clicking on the share icons at the top right of it. \n",
        "The total or partial reproduction of an article, without the prior written authorization of Le Monde, is strictly forbidden. \n",
        "For more information, see our Terms and Conditions. \n",
        "For all authorization requests, contact droitsdauteur@lemonde.fr. \n",
        "\n",
        "The French reversal may have only a remote connection to migration issues. In each of the target countries,\n",
        "visa restrictions fueled strong criticism of France. But in a context of rising anti-French sentiment throughout\n",
        "Africa and faced with the risk of emerging countries leaving the Western bloc, Paris was able to give precedence\n",
        "to these fundamental concerns over the math of deportations. Other bilateral issues (Western Sahara, gas, etc.),\n",
        "as well as the difficulty of giving in to Morocco without doing the same for Algeria, may also have played roles.\n",
        "The equation cannot be summed up as a simple trade-off between visas and deportations, because relations between \n",
        "France and its former colonies, marked by the presence of large communities of Maghrebi origin, are a matter of \n",
        "both foreign policy and domestic affairs.\"\"\"\n",
        "\n",
        "bow_vector = dictionary.doc2bow(preprocess(unseen_document))\n",
        "\n",
        "print(\"Simply printing the lda_model output would look like this:\")\n",
        "pprint(lda_model[bow_vector])\n",
        "\n",
        "print(\"\\n\\nSo let's make it nicer, by printing the topic contents:\")\n",
        "for index, score in sorted(lda_model[bow_vector], key=lambda tup: -1*tup[1]):\n",
        "    print(\"Score: {}\\t Topic: {}\".format(score, lda_model.print_topic(index, 5)))\n"
      ],
      "metadata": {
        "id": "jgZV3-Z7sXAc",
        "outputId": "28327fd4-ab0c-4c23-df9c-efe9477e9af1",
        "colab": {
          "base_uri": "https://localhost:8080/"
        }
      },
      "execution_count": 179,
      "outputs": [
        {
          "output_type": "stream",
          "name": "stdout",
          "text": [
            "Simply printing the lda_model output would look like this:\n",
            "[(0, 0.07163874),\n",
            " (1, 0.07142875),\n",
            " (2, 0.071486495),\n",
            " (3, 0.07143039),\n",
            " (4, 0.57098174),\n",
            " (5, 0.0716052),\n",
            " (6, 0.071428664)]\n",
            "\n",
            "\n",
            "So let's make it nicer, by printing the topic contents:\n",
            "Score: 0.5709735751152039\t Topic: 0.303*\"also\" + 0.244*\"serv\" + 0.185*\"known\" + 0.126*\"use\" + 0.126*\"first\"\n",
            "Score: 0.07164695113897324\t Topic: 0.191*\"serv\" + 0.190*\"also\" + 0.190*\"known\" + 0.190*\"general\" + 0.190*\"use\"\n",
            "Score: 0.07160506397485733\t Topic: 0.306*\"born\" + 0.306*\"known\" + 0.163*\"serv\" + 0.163*\"also\" + 0.020*\"first\"\n",
            "Score: 0.07148655503988266\t Topic: 0.307*\"born\" + 0.257*\"first\" + 0.257*\"general\" + 0.107*\"serv\" + 0.057*\"also\"\n",
            "Score: 0.07143040001392365\t Topic: 0.143*\"first\" + 0.143*\"serv\" + 0.143*\"use\" + 0.143*\"known\" + 0.143*\"also\"\n",
            "Score: 0.07142875343561172\t Topic: 0.523*\"use\" + 0.191*\"first\" + 0.190*\"general\" + 0.024*\"serv\" + 0.024*\"known\"\n",
            "Score: 0.07142866402864456\t Topic: 0.467*\"first\" + 0.195*\"serv\" + 0.104*\"known\" + 0.104*\"general\" + 0.104*\"born\"\n"
          ]
        }
      ]
    },
    {
      "cell_type": "markdown",
      "source": [
        "## Visualization"
      ],
      "metadata": {
        "id": "dbF83i4lsena"
      }
    },
    {
      "cell_type": "code",
      "source": [
        "! pip install pyLDAvis"
      ],
      "metadata": {
        "id": "seo3yGz0YPUB",
        "outputId": "92523af6-eeab-4c6c-d7cc-c5b957f781db",
        "colab": {
          "base_uri": "https://localhost:8080/"
        }
      },
      "execution_count": 180,
      "outputs": [
        {
          "metadata": {
            "tags": null
          },
          "name": "stdout",
          "output_type": "stream",
          "text": [
            "Looking in indexes: https://pypi.org/simple, https://us-python.pkg.dev/colab-wheels/public/simple/\n",
            "Requirement already satisfied: pyLDAvis in /usr/local/lib/python3.8/dist-packages (3.3.1)\n",
            "Requirement already satisfied: sklearn in /usr/local/lib/python3.8/dist-packages (from pyLDAvis) (0.0.post1)\n",
            "Requirement already satisfied: future in /usr/local/lib/python3.8/dist-packages (from pyLDAvis) (0.16.0)\n",
            "Requirement already satisfied: gensim in /usr/local/lib/python3.8/dist-packages (from pyLDAvis) (3.6.0)\n",
            "Requirement already satisfied: joblib in /usr/local/lib/python3.8/dist-packages (from pyLDAvis) (1.2.0)\n",
            "Requirement already satisfied: jinja2 in /usr/local/lib/python3.8/dist-packages (from pyLDAvis) (2.11.3)\n",
            "Requirement already satisfied: pandas>=1.2.0 in /usr/local/lib/python3.8/dist-packages (from pyLDAvis) (1.3.5)\n",
            "Requirement already satisfied: scipy in /usr/local/lib/python3.8/dist-packages (from pyLDAvis) (1.7.3)\n",
            "Requirement already satisfied: numexpr in /usr/local/lib/python3.8/dist-packages (from pyLDAvis) (2.8.4)\n",
            "Requirement already satisfied: scikit-learn in /usr/local/lib/python3.8/dist-packages (from pyLDAvis) (1.0.2)\n",
            "Requirement already satisfied: setuptools in /usr/local/lib/python3.8/dist-packages (from pyLDAvis) (57.4.0)\n",
            "Requirement already satisfied: funcy in /usr/local/lib/python3.8/dist-packages (from pyLDAvis) (1.17)\n",
            "Requirement already satisfied: numpy>=1.20.0 in /usr/local/lib/python3.8/dist-packages (from pyLDAvis) (1.21.6)\n",
            "Requirement already satisfied: pytz>=2017.3 in /usr/local/lib/python3.8/dist-packages (from pandas>=1.2.0->pyLDAvis) (2022.6)\n",
            "Requirement already satisfied: python-dateutil>=2.7.3 in /usr/local/lib/python3.8/dist-packages (from pandas>=1.2.0->pyLDAvis) (2.8.2)\n",
            "Requirement already satisfied: six>=1.5 in /usr/local/lib/python3.8/dist-packages (from python-dateutil>=2.7.3->pandas>=1.2.0->pyLDAvis) (1.15.0)\n",
            "Requirement already satisfied: smart-open>=1.2.1 in /usr/local/lib/python3.8/dist-packages (from gensim->pyLDAvis) (6.3.0)\n",
            "Requirement already satisfied: MarkupSafe>=0.23 in /usr/local/lib/python3.8/dist-packages (from jinja2->pyLDAvis) (2.0.1)\n",
            "Requirement already satisfied: threadpoolctl>=2.0.0 in /usr/local/lib/python3.8/dist-packages (from scikit-learn->pyLDAvis) (3.1.0)\n"
          ]
        }
      ]
    },
    {
      "cell_type": "code",
      "source": [
        "import pyLDAvis.gensim_models as gensimvis\n",
        "import pyLDAvis\n",
        "\n",
        "bow_lda_data = gensimvis.prepare(lda_model, bow_corpus, dictionary)\n",
        "\n",
        "pyLDAvis.display(bow_lda_data)"
      ],
      "metadata": {
        "id": "3DAlOWCwsfBW",
        "outputId": "361d252d-91f6-47e3-9b42-d2b81c0d31ed",
        "colab": {
          "base_uri": "https://localhost:8080/",
          "height": 881
        }
      },
      "execution_count": 181,
      "outputs": [
        {
          "data": {
            "text/html": [
              "\n",
              "<link rel=\"stylesheet\" type=\"text/css\" href=\"https://cdn.jsdelivr.net/gh/bmabey/pyLDAvis@3.3.1/pyLDAvis/js/ldavis.v1.0.0.css\">\n",
              "\n",
              "\n",
              "<div id=\"ldavis_el29181402712496608327251782161\"></div>\n",
              "<script type=\"text/javascript\">\n",
              "\n",
              "var ldavis_el29181402712496608327251782161_data = {\"mdsDat\": {\"x\": [-0.03411096875876841, 0.06923901830813659, -0.01738172800790791, 0.19717011104920804, 0.010381431546284915, -0.2214488329634665, -0.003849031173486743], \"y\": [0.1647119374380559, -0.11894479929052593, 0.10249291944102597, 0.019420158339988947, -0.1064157777009172, -0.05825131013293844, -0.003013128094689282], \"topics\": [1, 2, 3, 4, 5, 6, 7], \"cluster\": [1, 1, 1, 1, 1, 1, 1], \"Freq\": [29.444937900842383, 23.604660014237595, 16.604703733220898, 9.935761575915993, 9.335552964221579, 8.571053565871976, 2.5033302456895745]}, \"tinfo\": {\"Term\": [\"use\", \"born\", \"first\", \"known\", \"also\", \"general\", \"serv\", \"born\", \"general\", \"first\", \"serv\", \"also\", \"use\", \"known\", \"also\", \"known\", \"serv\", \"use\", \"first\", \"general\", \"born\", \"first\", \"serv\", \"known\", \"general\", \"born\", \"use\", \"also\", \"known\", \"born\", \"also\", \"serv\", \"use\", \"general\", \"first\", \"use\", \"known\", \"also\", \"general\", \"serv\", \"born\", \"first\", \"use\", \"general\", \"first\", \"known\", \"also\", \"born\", \"serv\", \"use\", \"known\", \"also\", \"general\", \"born\", \"serv\", \"first\"], \"Freq\": [6.0, 9.0, 12.0, 7.0, 7.0, 8.0, 9.0, 5.517097916706694, 4.618989611558024, 4.619201051820306, 1.9240108371743498, 1.0254953087863614, 0.12830925286713976, 0.12830847502123816, 4.356713454175041, 2.6617392774679973, 3.5083830397924065, 1.816783239999205, 1.8132123266033204, 0.12100590011537628, 0.12100522961700687, 4.734544341060916, 1.9743618290690226, 1.0523598815185535, 1.0523111305095982, 1.052153783986886, 0.1315701342203678, 0.13156837020359638, 1.8554092454076683, 1.8555499533362116, 0.9893933989704191, 0.9893985468214634, 0.12368762024541145, 0.12368603976482768, 0.12368942650893576, 1.08453113994482, 1.0847426895799108, 1.084792500905943, 1.084586806435241, 1.0849155442155625, 0.135556856636607, 0.13556173594026433, 2.736023823360303, 0.9956079938501654, 0.9988874691241673, 0.12445618987697149, 0.12445502125129776, 0.124455410793189, 0.12445724164007785, 0.21814872855972778, 0.2181474543053672, 0.21814611178738016, 0.2181428806423944, 0.21814008183370953, 0.21815155012295478, 0.2181547585133984], \"Total\": [6.0, 9.0, 12.0, 7.0, 7.0, 8.0, 9.0, 9.023959232910302, 8.214330362875627, 12.643251109571308, 9.823678588835836, 7.930564166080038, 6.239053939196975, 7.125163213177707, 7.930564166080038, 7.125163213177707, 9.823678588835836, 6.239053939196975, 12.643251109571308, 8.214330362875627, 9.023959232910302, 12.643251109571308, 9.823678588835836, 7.125163213177707, 8.214330362875627, 9.023959232910302, 6.239053939196975, 7.930564166080038, 7.125163213177707, 9.023959232910302, 7.930564166080038, 9.823678588835836, 6.239053939196975, 8.214330362875627, 12.643251109571308, 6.239053939196975, 7.125163213177707, 7.930564166080038, 8.214330362875627, 9.823678588835836, 9.023959232910302, 12.643251109571308, 6.239053939196975, 8.214330362875627, 12.643251109571308, 7.125163213177707, 7.930564166080038, 9.023959232910302, 9.823678588835836, 6.239053939196975, 7.125163213177707, 7.930564166080038, 8.214330362875627, 9.023959232910302, 9.823678588835836, 12.643251109571308], \"Category\": [\"Default\", \"Default\", \"Default\", \"Default\", \"Default\", \"Default\", \"Default\", \"Topic1\", \"Topic1\", \"Topic1\", \"Topic1\", \"Topic1\", \"Topic1\", \"Topic1\", \"Topic2\", \"Topic2\", \"Topic2\", \"Topic2\", \"Topic2\", \"Topic2\", \"Topic2\", \"Topic3\", \"Topic3\", \"Topic3\", \"Topic3\", \"Topic3\", \"Topic3\", \"Topic3\", \"Topic4\", \"Topic4\", \"Topic4\", \"Topic4\", \"Topic4\", \"Topic4\", \"Topic4\", \"Topic5\", \"Topic5\", \"Topic5\", \"Topic5\", \"Topic5\", \"Topic5\", \"Topic5\", \"Topic6\", \"Topic6\", \"Topic6\", \"Topic6\", \"Topic6\", \"Topic6\", \"Topic6\", \"Topic7\", \"Topic7\", \"Topic7\", \"Topic7\", \"Topic7\", \"Topic7\", \"Topic7\"], \"logprob\": [7.0, 6.0, 5.0, 4.0, 3.0, 2.0, 1.0, -1.1804, -1.358, -1.358, -2.2338, -2.863, -4.9415, -4.9415, -1.1954, -1.6882, -1.412, -2.0701, -2.072, -4.7791, -4.7791, -0.7605, -1.6351, -2.2644, -2.2644, -2.2646, -4.3436, -4.3436, -1.1837, -1.1837, -1.8125, -1.8125, -3.8918, -3.8919, -3.8918, -1.6584, -1.6582, -1.6581, -1.6583, -1.658, -3.7379, -3.7379, -0.6476, -1.6585, -1.6552, -3.7379, -3.7379, -3.7379, -3.7379, -1.9459, -1.9459, -1.9459, -1.9459, -1.9459, -1.9459, -1.9459], \"loglift\": [7.0, 6.0, 5.0, 4.0, 3.0, 2.0, 1.0, 0.7306, 0.6469, 0.2157, -0.4077, -0.8229, -2.6615, -2.7943, 0.8447, 0.4591, 0.4141, 0.21, -0.4983, -2.7741, -2.8681, 0.8132, 0.1909, -0.1171, -0.2594, -0.3536, -2.0636, -2.3035, 0.9635, 0.7273, 0.2276, 0.0136, -1.6118, -1.8869, -2.3181, 0.6217, 0.4891, 0.382, 0.3467, 0.168, -1.8269, -2.1641, 1.6325, 0.3465, -0.0815, -1.5907, -1.6978, -1.8269, -1.9118, 0.3341, 0.2013, 0.0942, 0.0591, -0.035, -0.1198, -0.3721]}, \"token.table\": {\"Topic\": [1, 2, 4, 5, 1, 3, 4, 1, 2, 3, 6, 1, 3, 5, 6, 2, 3, 4, 5, 1, 2, 3, 4, 5, 2, 5, 6], \"Freq\": [0.12609443402237616, 0.5043777360895046, 0.12609443402237616, 0.12609443402237616, 0.6648966207779453, 0.1108161034629909, 0.2216322069259818, 0.3954679027307189, 0.15818716109228756, 0.3954679027307189, 0.07909358054614378, 0.608692343638542, 0.1217384687277084, 0.1217384687277084, 0.1217384687277084, 0.42104298669981605, 0.14034766223327202, 0.28069532446654405, 0.14034766223327202, 0.2035897227208664, 0.4071794454417328, 0.2035897227208664, 0.1017948613604332, 0.1017948613604332, 0.3205614215698573, 0.16028071078492864, 0.4808421323547859], \"Term\": [\"also\", \"also\", \"also\", \"also\", \"born\", \"born\", \"born\", \"first\", \"first\", \"first\", \"first\", \"general\", \"general\", \"general\", \"general\", \"known\", \"known\", \"known\", \"known\", \"serv\", \"serv\", \"serv\", \"serv\", \"serv\", \"use\", \"use\", \"use\"]}, \"R\": 7, \"lambda.step\": 0.01, \"plot.opts\": {\"xlab\": \"PC1\", \"ylab\": \"PC2\"}, \"topic.order\": [3, 5, 7, 6, 1, 2, 4]};\n",
              "\n",
              "function LDAvis_load_lib(url, callback){\n",
              "  var s = document.createElement('script');\n",
              "  s.src = url;\n",
              "  s.async = true;\n",
              "  s.onreadystatechange = s.onload = callback;\n",
              "  s.onerror = function(){console.warn(\"failed to load library \" + url);};\n",
              "  document.getElementsByTagName(\"head\")[0].appendChild(s);\n",
              "}\n",
              "\n",
              "if(typeof(LDAvis) !== \"undefined\"){\n",
              "   // already loaded: just create the visualization\n",
              "   !function(LDAvis){\n",
              "       new LDAvis(\"#\" + \"ldavis_el29181402712496608327251782161\", ldavis_el29181402712496608327251782161_data);\n",
              "   }(LDAvis);\n",
              "}else if(typeof define === \"function\" && define.amd){\n",
              "   // require.js is available: use it to load d3/LDAvis\n",
              "   require.config({paths: {d3: \"https://d3js.org/d3.v5\"}});\n",
              "   require([\"d3\"], function(d3){\n",
              "      window.d3 = d3;\n",
              "      LDAvis_load_lib(\"https://cdn.jsdelivr.net/gh/bmabey/pyLDAvis@3.3.1/pyLDAvis/js/ldavis.v3.0.0.js\", function(){\n",
              "        new LDAvis(\"#\" + \"ldavis_el29181402712496608327251782161\", ldavis_el29181402712496608327251782161_data);\n",
              "      });\n",
              "    });\n",
              "}else{\n",
              "    // require.js not available: dynamically load d3 & LDAvis\n",
              "    LDAvis_load_lib(\"https://d3js.org/d3.v5.js\", function(){\n",
              "         LDAvis_load_lib(\"https://cdn.jsdelivr.net/gh/bmabey/pyLDAvis@3.3.1/pyLDAvis/js/ldavis.v3.0.0.js\", function(){\n",
              "                 new LDAvis(\"#\" + \"ldavis_el29181402712496608327251782161\", ldavis_el29181402712496608327251782161_data);\n",
              "            })\n",
              "         });\n",
              "}\n",
              "</script>"
            ],
            "text/plain": [
              "<IPython.core.display.HTML object>"
            ]
          },
          "execution_count": 181,
          "metadata": {},
          "output_type": "execute_result"
        }
      ]
    },
    {
      "cell_type": "code",
      "source": [],
      "metadata": {
        "id": "STlpdQYsYNfU"
      },
      "execution_count": 181,
      "outputs": []
    }
  ]
}