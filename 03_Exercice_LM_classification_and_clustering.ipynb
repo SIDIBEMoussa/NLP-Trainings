{
  "nbformat": 4,
  "nbformat_minor": 0,
  "metadata": {
    "colab": {
      "provenance": [],
      "include_colab_link": true
    },
    "kernelspec": {
      "name": "python3",
      "display_name": "Python 3"
    },
    "language_info": {
      "name": "python"
    }
  },
  "cells": [
    {
      "cell_type": "markdown",
      "metadata": {
        "id": "view-in-github",
        "colab_type": "text"
      },
      "source": [
        "<a href=\"https://colab.research.google.com/github/SIDIBEMoussa/NLP-Trainings/blob/main/03_Exercice_LM_classification_and_clustering.ipynb\" target=\"_parent\"><img src=\"https://colab.research.google.com/assets/colab-badge.svg\" alt=\"Open In Colab\"/></a>"
      ]
    },
    {
      "cell_type": "code",
      "execution_count": 459,
      "metadata": {
        "colab": {
          "base_uri": "https://localhost:8080/"
        },
        "id": "2b-mUm2hQtoX",
        "outputId": "0b34872d-317e-41bb-d528-cf95b90039bc"
      },
      "outputs": [
        {
          "output_type": "stream",
          "name": "stderr",
          "text": [
            "[nltk_data] Downloading package punkt to /root/nltk_data...\n",
            "[nltk_data]   Package punkt is already up-to-date!\n",
            "[nltk_data] Downloading package stopwords to /root/nltk_data...\n",
            "[nltk_data]   Package stopwords is already up-to-date!\n",
            "[nltk_data] Downloading package averaged_perceptron_tagger to\n",
            "[nltk_data]     /root/nltk_data...\n",
            "[nltk_data]   Package averaged_perceptron_tagger is already up-to-\n",
            "[nltk_data]       date!\n",
            "[nltk_data] Downloading package universal_tagset to /root/nltk_data...\n",
            "[nltk_data]   Package universal_tagset is already up-to-date!\n"
          ]
        },
        {
          "output_type": "execute_result",
          "data": {
            "text/plain": [
              "True"
            ]
          },
          "metadata": {},
          "execution_count": 459
        }
      ],
      "source": [
        "import pandas as pd\n",
        "from random import seed\n",
        "from warnings import filterwarnings\n",
        "\n",
        "filterwarnings('ignore')\n",
        "\n",
        "seed(1999)\n",
        "\n",
        "import nltk\n",
        "nltk.download('punkt')\n",
        "nltk.download('stopwords')\n",
        "nltk.download('averaged_perceptron_tagger')\n",
        "nltk.download('universal_tagset')"
      ]
    },
    {
      "cell_type": "code",
      "source": [
        "import pathlib, os"
      ],
      "metadata": {
        "id": "TnecPRtIWSHh"
      },
      "execution_count": 460,
      "outputs": []
    },
    {
      "cell_type": "code",
      "source": [
        "path = \"/content/datasets/lda_sports_politics_docs\"\n",
        "\n",
        "file_directory = pathlib.Path(path).exists()\n",
        "\n",
        "if not file_directory:\n",
        "\n",
        "    !git clone https://github.com/selva86/datasets.git\n",
        "\n",
        "\n",
        "\n",
        "text_files = os.listdir(path)"
      ],
      "metadata": {
        "id": "bwSAiHVcXKtV"
      },
      "execution_count": 461,
      "outputs": []
    },
    {
      "cell_type": "code",
      "source": [
        "text_files"
      ],
      "metadata": {
        "colab": {
          "base_uri": "https://localhost:8080/"
        },
        "id": "ZJt9xVauXgw-",
        "outputId": "13bcb724-a413-45f9-e01b-a3ae64043121"
      },
      "execution_count": 462,
      "outputs": [
        {
          "output_type": "execute_result",
          "data": {
            "text/plain": [
              "['shinzo abe.txt',\n",
              " 'pizza.txt',\n",
              " 'lee quan yew.txt',\n",
              " 'queen elizabeth.txt',\n",
              " 'cricket.txt',\n",
              " 'idli.txt',\n",
              " 'barack obama.txt',\n",
              " 'baseball.txt',\n",
              " 'badminton.txt',\n",
              " 'noodles.txt',\n",
              " 'tipu sultan.txt',\n",
              " 'table tennis.txt',\n",
              " 'pasta.txt',\n",
              " 'narendra modi.txt',\n",
              " 'dosa.txt']"
            ]
          },
          "metadata": {},
          "execution_count": 462
        }
      ]
    },
    {
      "cell_type": "code",
      "source": [
        "articles=[]\n",
        "\n",
        "for filename in text_files:\n",
        "\n",
        "    article = pathlib.Path(path+'/'+filename).read_text()\n",
        "\n",
        "    articles.append(article)"
      ],
      "metadata": {
        "id": "oU_znckrYutX"
      },
      "execution_count": 463,
      "outputs": []
    },
    {
      "cell_type": "code",
      "source": [
        "articles[0]"
      ],
      "metadata": {
        "colab": {
          "base_uri": "https://localhost:8080/",
          "height": 192
        },
        "id": "gv_gU5CKa579",
        "outputId": "13726ee0-da62-42a5-dfb3-232dcd0268ef"
      },
      "execution_count": 464,
      "outputs": [
        {
          "output_type": "execute_result",
          "data": {
            "text/plain": [
              "\"Shinzō Abe (Abe Shinzō, IPA: born 21 September 1954) is the current Prime Minister of Japan, re-elected to the position in December 2012. Abe is also the President of the Liberal Democratic Party (LDP).\\nAbe served for a year as Prime Minister, from 2006 to 2007. Hailing from a politically prominent family, at age 52, Abe became Japan's youngest post-war prime minister, and the first to be born after World War II, when he was elected by a special session of the National Diet in September 2006. Abe resigned on 12 September 2007, for health reasons. Abe was replaced by Yasuo Fukuda, beginning a string of five Prime Ministers, none of whom retained office for more than sixteen months, before Abe staged a political comeback.\\nOn 26 September 2012, Abe defeated former Minister of Defense Shigeru Ishiba, in a run-off vote, to win the LDP Presidential Election. Following the LDP's landslide victory in the 2012 general election, Abe became the Prime Minister again. Abe is the first former Prime Minister to return to the office since Shigeru Yoshida in 1948. Abe was re-elected at the 2014 general election, retaining his two-thirds majority with coalition partner Komeito.\""
            ],
            "application/vnd.google.colaboratory.intrinsic+json": {
              "type": "string"
            }
          },
          "metadata": {},
          "execution_count": 464
        }
      ]
    },
    {
      "cell_type": "code",
      "source": [
        "from pprint import pprint # for printing objects nicely\n",
        "\n",
        "from gensim import corpora, models\n",
        "from gensim.utils import simple_preprocess\n",
        "\n",
        "# from gensim.parsing.preprocessing import STOPWORDS \n",
        "# Instead of the gensim english stopwords, we use nltk's German stopwords\n",
        "from nltk.corpus import stopwords\n",
        "\n",
        "from nltk.stem.snowball import SnowballStemmer\n",
        "from nltk.stem.porter import *\n",
        "\n",
        "import numpy as np\n",
        "\n",
        "from random import choice\n",
        "\n",
        "np.random.seed(1234)\n",
        "\n",
        "stemmer = SnowballStemmer('english')\n",
        "german_stop_words = set(stopwords.words('english'))\n",
        "\n",
        "\n",
        "def lemmatize_stemming(text):\n",
        "  return stemmer.stem(text)\n",
        "\n",
        "def preprocess(text):\n",
        "  result = [lemmatize_stemming(token) \n",
        "            for token in simple_preprocess(text)  \n",
        "            if token not in german_stop_words and len(token) > 3]\n",
        "  return result"
      ],
      "metadata": {
        "id": "fMJuWnswbPZP"
      },
      "execution_count": 465,
      "outputs": []
    },
    {
      "cell_type": "code",
      "source": [
        "print('original document: ')\n",
        "article = choice(articles)\n",
        "print(article)\n",
        "\n",
        "# This time, we don't care about punctuations as tokens (Can you think why?):\n",
        "print('original document, broken into words: ')\n",
        "words = [word for word in article.split(' ')]\n",
        "print(words)\n",
        "print(\"Vocabulary size of the original article:\", len(set(words)))\n",
        "\n",
        "# now let's see what happens when we pass the article into our preprocessing \n",
        "# method:\n",
        "print('\\n\\n tokenized and lemmatized document: ')\n",
        "preprocessed_article = preprocess(article)\n",
        "print(preprocessed_article)\n",
        "print(\"Vocabulary size after preprocessing:\", len(set(preprocessed_article)))"
      ],
      "metadata": {
        "colab": {
          "base_uri": "https://localhost:8080/"
        },
        "id": "sHzvndkJl6Qt",
        "outputId": "99d5b664-1aac-436d-f3f5-4bc6666ea064"
      },
      "execution_count": 466,
      "outputs": [
        {
          "output_type": "stream",
          "name": "stdout",
          "text": [
            "original document: \n",
            "Pizza is a flatbread generally topped with tomato sauce and cheese and baked in an oven. It is commonly topped with a selection of meats, vegetables and condiments. The term was first recorded in the 10th century, in a Latin manuscript from Gaeta in Central Italy. The modern pizza was invented in Naples, Italy, and the dish and its variants have since become popular in many areas of the world.\n",
            "In 2009, upon Italy's request, Neapolitan pizza was safeguarded in the European Union as a Traditional Speciality Guaranteed dish. The Associazione Verace Pizza Napoletana (the True Neapolitan Pizza Association) is a non-profit organisation founded in 1984 with headquarters in Naples. It promotes and protects the \"true Neapolitan pizza\".\n",
            "Pizza is sold fresh or frozen, either whole or in portions, and is a common fast food item in Europe and North America. Various types of ovens are used to cook them and many varieties exist. Several similar dishes are prepared from ingredients commonly used in pizza preparation, such as calzone and stromboli.\n",
            "\n",
            "original document, broken into words: \n",
            "['Pizza', 'is', 'a', 'flatbread', 'generally', 'topped', 'with', 'tomato', 'sauce', 'and', 'cheese', 'and', 'baked', 'in', 'an', 'oven.', 'It', 'is', 'commonly', 'topped', 'with', 'a', 'selection', 'of', 'meats,', 'vegetables', 'and', 'condiments.', 'The', 'term', 'was', 'first', 'recorded', 'in', 'the', '10th', 'century,', 'in', 'a', 'Latin', 'manuscript', 'from', 'Gaeta', 'in', 'Central', 'Italy.', 'The', 'modern', 'pizza', 'was', 'invented', 'in', 'Naples,', 'Italy,', 'and', 'the', 'dish', 'and', 'its', 'variants', 'have', 'since', 'become', 'popular', 'in', 'many', 'areas', 'of', 'the', 'world.\\nIn', '2009,', 'upon', \"Italy's\", 'request,', 'Neapolitan', 'pizza', 'was', 'safeguarded', 'in', 'the', 'European', 'Union', 'as', 'a', 'Traditional', 'Speciality', 'Guaranteed', 'dish.', 'The', 'Associazione', 'Verace', 'Pizza', 'Napoletana', '(the', 'True', 'Neapolitan', 'Pizza', 'Association)', 'is', 'a', 'non-profit', 'organisation', 'founded', 'in', '1984', 'with', 'headquarters', 'in', 'Naples.', 'It', 'promotes', 'and', 'protects', 'the', '\"true', 'Neapolitan', 'pizza\".\\nPizza', 'is', 'sold', 'fresh', 'or', 'frozen,', 'either', 'whole', 'or', 'in', 'portions,', 'and', 'is', 'a', 'common', 'fast', 'food', 'item', 'in', 'Europe', 'and', 'North', 'America.', 'Various', 'types', 'of', 'ovens', 'are', 'used', 'to', 'cook', 'them', 'and', 'many', 'varieties', 'exist.', 'Several', 'similar', 'dishes', 'are', 'prepared', 'from', 'ingredients', 'commonly', 'used', 'in', 'pizza', 'preparation,', 'such', 'as', 'calzone', 'and', 'stromboli.\\n']\n",
            "Vocabulary size of the original article: 113\n",
            "\n",
            "\n",
            " tokenized and lemmatized document: \n",
            "['pizza', 'flatbread', 'general', 'top', 'tomato', 'sauc', 'chees', 'bake', 'oven', 'common', 'top', 'select', 'meat', 'veget', 'condiment', 'term', 'first', 'record', 'centuri', 'latin', 'manuscript', 'gaeta', 'central', 'itali', 'modern', 'pizza', 'invent', 'napl', 'itali', 'dish', 'variant', 'sinc', 'becom', 'popular', 'mani', 'area', 'world', 'upon', 'itali', 'request', 'neapolitan', 'pizza', 'safeguard', 'european', 'union', 'tradit', 'special', 'guarante', 'dish', 'associazion', 'verac', 'pizza', 'napoletana', 'true', 'neapolitan', 'pizza', 'associ', 'profit', 'organis', 'found', 'headquart', 'napl', 'promot', 'protect', 'true', 'neapolitan', 'pizza', 'pizza', 'sold', 'fresh', 'frozen', 'either', 'whole', 'portion', 'common', 'fast', 'food', 'item', 'europ', 'north', 'america', 'various', 'type', 'oven', 'use', 'cook', 'mani', 'varieti', 'exist', 'sever', 'similar', 'dish', 'prepar', 'ingredi', 'common', 'use', 'pizza', 'prepar', 'calzon', 'stromboli']\n",
            "Vocabulary size after preprocessing: 78\n"
          ]
        }
      ]
    },
    {
      "cell_type": "code",
      "source": [
        "processed_docs = list(map(preprocess, articles))\n",
        "processed_docs[:2]"
      ],
      "metadata": {
        "colab": {
          "base_uri": "https://localhost:8080/"
        },
        "id": "2CscbY6DmTnq",
        "outputId": "d55ca02b-35ee-4374-a8c5-aca8d4bb8d83"
      },
      "execution_count": 467,
      "outputs": [
        {
          "output_type": "execute_result",
          "data": {
            "text/plain": [
              "[['shinzō',\n",
              "  'shinzō',\n",
              "  'born',\n",
              "  'septemb',\n",
              "  'current',\n",
              "  'prime',\n",
              "  'minist',\n",
              "  'japan',\n",
              "  'elect',\n",
              "  'posit',\n",
              "  'decemb',\n",
              "  'also',\n",
              "  'presid',\n",
              "  'liber',\n",
              "  'democrat',\n",
              "  'parti',\n",
              "  'serv',\n",
              "  'year',\n",
              "  'prime',\n",
              "  'minist',\n",
              "  'hail',\n",
              "  'polit',\n",
              "  'promin',\n",
              "  'famili',\n",
              "  'becam',\n",
              "  'japan',\n",
              "  'youngest',\n",
              "  'post',\n",
              "  'prime',\n",
              "  'minist',\n",
              "  'first',\n",
              "  'born',\n",
              "  'world',\n",
              "  'elect',\n",
              "  'special',\n",
              "  'session',\n",
              "  'nation',\n",
              "  'diet',\n",
              "  'septemb',\n",
              "  'resign',\n",
              "  'septemb',\n",
              "  'health',\n",
              "  'reason',\n",
              "  'replac',\n",
              "  'yasuo',\n",
              "  'fukuda',\n",
              "  'begin',\n",
              "  'string',\n",
              "  'five',\n",
              "  'prime',\n",
              "  'minist',\n",
              "  'none',\n",
              "  'retain',\n",
              "  'offic',\n",
              "  'sixteen',\n",
              "  'month',\n",
              "  'stage',\n",
              "  'polit',\n",
              "  'comeback',\n",
              "  'septemb',\n",
              "  'defeat',\n",
              "  'former',\n",
              "  'minist',\n",
              "  'defens',\n",
              "  'shigeru',\n",
              "  'ishiba',\n",
              "  'vote',\n",
              "  'presidenti',\n",
              "  'elect',\n",
              "  'follow',\n",
              "  'landslid',\n",
              "  'victori',\n",
              "  'general',\n",
              "  'elect',\n",
              "  'becam',\n",
              "  'prime',\n",
              "  'minist',\n",
              "  'first',\n",
              "  'former',\n",
              "  'prime',\n",
              "  'minist',\n",
              "  'return',\n",
              "  'offic',\n",
              "  'sinc',\n",
              "  'shigeru',\n",
              "  'yoshida',\n",
              "  'elect',\n",
              "  'general',\n",
              "  'elect',\n",
              "  'retain',\n",
              "  'third',\n",
              "  'major',\n",
              "  'coalit',\n",
              "  'partner',\n",
              "  'komeito'],\n",
              " ['pizza',\n",
              "  'flatbread',\n",
              "  'general',\n",
              "  'top',\n",
              "  'tomato',\n",
              "  'sauc',\n",
              "  'chees',\n",
              "  'bake',\n",
              "  'oven',\n",
              "  'common',\n",
              "  'top',\n",
              "  'select',\n",
              "  'meat',\n",
              "  'veget',\n",
              "  'condiment',\n",
              "  'term',\n",
              "  'first',\n",
              "  'record',\n",
              "  'centuri',\n",
              "  'latin',\n",
              "  'manuscript',\n",
              "  'gaeta',\n",
              "  'central',\n",
              "  'itali',\n",
              "  'modern',\n",
              "  'pizza',\n",
              "  'invent',\n",
              "  'napl',\n",
              "  'itali',\n",
              "  'dish',\n",
              "  'variant',\n",
              "  'sinc',\n",
              "  'becom',\n",
              "  'popular',\n",
              "  'mani',\n",
              "  'area',\n",
              "  'world',\n",
              "  'upon',\n",
              "  'itali',\n",
              "  'request',\n",
              "  'neapolitan',\n",
              "  'pizza',\n",
              "  'safeguard',\n",
              "  'european',\n",
              "  'union',\n",
              "  'tradit',\n",
              "  'special',\n",
              "  'guarante',\n",
              "  'dish',\n",
              "  'associazion',\n",
              "  'verac',\n",
              "  'pizza',\n",
              "  'napoletana',\n",
              "  'true',\n",
              "  'neapolitan',\n",
              "  'pizza',\n",
              "  'associ',\n",
              "  'profit',\n",
              "  'organis',\n",
              "  'found',\n",
              "  'headquart',\n",
              "  'napl',\n",
              "  'promot',\n",
              "  'protect',\n",
              "  'true',\n",
              "  'neapolitan',\n",
              "  'pizza',\n",
              "  'pizza',\n",
              "  'sold',\n",
              "  'fresh',\n",
              "  'frozen',\n",
              "  'either',\n",
              "  'whole',\n",
              "  'portion',\n",
              "  'common',\n",
              "  'fast',\n",
              "  'food',\n",
              "  'item',\n",
              "  'europ',\n",
              "  'north',\n",
              "  'america',\n",
              "  'various',\n",
              "  'type',\n",
              "  'oven',\n",
              "  'use',\n",
              "  'cook',\n",
              "  'mani',\n",
              "  'varieti',\n",
              "  'exist',\n",
              "  'sever',\n",
              "  'similar',\n",
              "  'dish',\n",
              "  'prepar',\n",
              "  'ingredi',\n",
              "  'common',\n",
              "  'use',\n",
              "  'pizza',\n",
              "  'prepar',\n",
              "  'calzon',\n",
              "  'stromboli']]"
            ]
          },
          "metadata": {},
          "execution_count": 467
        }
      ]
    },
    {
      "cell_type": "code",
      "source": [
        "dictionary = corpora.Dictionary(processed_docs)"
      ],
      "metadata": {
        "id": "bdoCd4MeoUTT"
      },
      "execution_count": 468,
      "outputs": []
    },
    {
      "cell_type": "code",
      "source": [
        "for idx, (k, v) in enumerate(dictionary.iteritems()):\n",
        "    print(k, v)\n",
        "    if idx >= 10:\n",
        "        break"
      ],
      "metadata": {
        "colab": {
          "base_uri": "https://localhost:8080/"
        },
        "id": "2-zj_g3iop0-",
        "outputId": "99cfbd67-a39b-4092-a155-f49151985e97"
      },
      "execution_count": 469,
      "outputs": [
        {
          "output_type": "stream",
          "name": "stdout",
          "text": [
            "0 also\n",
            "1 becam\n",
            "2 begin\n",
            "3 born\n",
            "4 coalit\n",
            "5 comeback\n",
            "6 current\n",
            "7 decemb\n",
            "8 defeat\n",
            "9 defens\n",
            "10 democrat\n"
          ]
        }
      ]
    },
    {
      "cell_type": "markdown",
      "source": [
        "### Model Hyperparameter tuning"
      ],
      "metadata": {
        "id": "TtxfwvLko5z1"
      }
    },
    {
      "cell_type": "code",
      "source": [
        "## Model hyper parameters:\n",
        "\n",
        "## These are the dictionary preparation parameters:\n",
        "filter_tokens_if_container_documents_are_less_than = 5\n",
        "filter_tokens_if_appeared_percentage_more_than = 0.526\n",
        "keep_the_first_n_tokens=100000\n",
        "\n",
        "## and the LDA Parameters: \n",
        "num_of_topics = 7"
      ],
      "metadata": {
        "id": "q_9o3iwgovvs"
      },
      "execution_count": 470,
      "outputs": []
    },
    {
      "cell_type": "code",
      "source": [
        "dictionary.filter_extremes(\n",
        "        no_below=filter_tokens_if_container_documents_are_less_than, \n",
        "        no_above=filter_tokens_if_appeared_percentage_more_than, \n",
        "        keep_n=keep_the_first_n_tokens)"
      ],
      "metadata": {
        "id": "pc_2C0A_P49e"
      },
      "execution_count": 471,
      "outputs": []
    },
    {
      "cell_type": "code",
      "source": [
        "bow_corpus = [dictionary.doc2bow(doc) for doc in processed_docs]\n",
        "\n",
        "#bow_corpus[:1]"
      ],
      "metadata": {
        "id": "iSBwUHL4pOwV"
      },
      "execution_count": 472,
      "outputs": []
    },
    {
      "cell_type": "code",
      "source": [
        "# randomly choose an article from the corpus:\n",
        "sample_bow_doc = choice(bow_corpus)\n",
        "\n",
        "print('The processed bag-of-word document is just pairs of (word_id, # of occurnces) and looks like this:')\n",
        "print(sample_bow_doc, '\\n\\n')\n",
        "\n",
        "print ('We peek in the dictionary: for each word_id, we get its assigned word:')\n",
        "for word_id, word_freq in sample_bow_doc:\n",
        "  real_word = dictionary[word_id]\n",
        "  print(f'Word {word_id} (\"{real_word}\") appears {word_freq} time.')"
      ],
      "metadata": {
        "colab": {
          "base_uri": "https://localhost:8080/"
        },
        "id": "X14slQgapdFj",
        "outputId": "5d06363b-b10f-4bdc-ba93-da5dfcf7064e"
      },
      "execution_count": 473,
      "outputs": [
        {
          "output_type": "stream",
          "name": "stdout",
          "text": [
            "The processed bag-of-word document is just pairs of (word_id, # of occurnces) and looks like this:\n",
            "[(5, 2)] \n",
            "\n",
            "\n",
            "We peek in the dictionary: for each word_id, we get its assigned word:\n",
            "Word 5 (\"known\") appears 2 time.\n"
          ]
        }
      ]
    },
    {
      "cell_type": "markdown",
      "source": [
        "## LDA model using Bag-of-words"
      ],
      "metadata": {
        "id": "_ahfDQuTq-AF"
      }
    },
    {
      "cell_type": "code",
      "source": [
        "lda_model = models.LdaMulticore(bow_corpus, \n",
        "                                num_topics=num_of_topics, \n",
        "                                id2word=dictionary, \n",
        "                                passes=10, \n",
        "                                workers=2)"
      ],
      "metadata": {
        "id": "GpGCUPDIpxvB"
      },
      "execution_count": 474,
      "outputs": []
    },
    {
      "cell_type": "code",
      "source": [
        "for idx, topic in lda_model.print_topics(num_of_topics):\n",
        "    print(f'Topic: {idx} \\t Words: {topic}')"
      ],
      "metadata": {
        "id": "pUFKZu13rC-V",
        "outputId": "ddfeb514-43fc-4d48-afd2-eae8598e4e43",
        "colab": {
          "base_uri": "https://localhost:8080/"
        }
      },
      "execution_count": 475,
      "outputs": [
        {
          "output_type": "stream",
          "name": "stdout",
          "text": [
            "Topic: 0 \t Words: 0.400*\"also\" + 0.400*\"serv\" + 0.050*\"use\" + 0.050*\"general\" + 0.050*\"born\" + 0.050*\"known\"\n",
            "Topic: 1 \t Words: 0.167*\"serv\" + 0.167*\"also\" + 0.167*\"use\" + 0.167*\"general\" + 0.167*\"known\" + 0.167*\"born\"\n",
            "Topic: 2 \t Words: 0.599*\"serv\" + 0.137*\"general\" + 0.123*\"known\" + 0.113*\"born\" + 0.014*\"also\" + 0.014*\"use\"\n",
            "Topic: 3 \t Words: 0.441*\"born\" + 0.235*\"also\" + 0.235*\"serv\" + 0.029*\"use\" + 0.029*\"general\" + 0.029*\"known\"\n",
            "Topic: 4 \t Words: 0.600*\"use\" + 0.297*\"general\" + 0.032*\"serv\" + 0.024*\"also\" + 0.024*\"known\" + 0.023*\"born\"\n",
            "Topic: 5 \t Words: 0.413*\"born\" + 0.345*\"general\" + 0.146*\"serv\" + 0.077*\"also\" + 0.010*\"use\" + 0.010*\"known\"\n",
            "Topic: 6 \t Words: 0.430*\"known\" + 0.366*\"also\" + 0.174*\"use\" + 0.010*\"general\" + 0.010*\"serv\" + 0.010*\"born\"\n"
          ]
        }
      ]
    },
    {
      "cell_type": "markdown",
      "source": [
        "## TF / IDF"
      ],
      "metadata": {
        "id": "u7LgcbhKrQRZ"
      }
    },
    {
      "cell_type": "code",
      "source": [
        "# initialize a tfidf from our corpus\n",
        "tfidf = models.TfidfModel(bow_corpus)\n",
        "\n",
        "# apply it on our corpus \n",
        "tfidf_corpus = tfidf[bow_corpus]\n",
        "\n",
        "pprint(tfidf_corpus[0][:10])"
      ],
      "metadata": {
        "id": "wbff7C1KrJix",
        "outputId": "89007366-936e-4ae3-fada-2d3e21e9fc60",
        "colab": {
          "base_uri": "https://localhost:8080/"
        }
      },
      "execution_count": 476,
      "outputs": [
        {
          "output_type": "stream",
          "name": "stdout",
          "text": [
            "[(0, 0.29563000552722885),\n",
            " (1, 0.7089076549032278),\n",
            " (2, 0.5912600110544577),\n",
            " (3, 0.2458951727453369)]\n"
          ]
        }
      ]
    },
    {
      "cell_type": "code",
      "source": [
        "# the new tfidf corpus is just our corpus - but transformed. It has the same size of documents:\n",
        "assert len(bow_corpus) == len(tfidf_corpus)"
      ],
      "metadata": {
        "id": "e4oCnXR2rJen"
      },
      "execution_count": 477,
      "outputs": []
    },
    {
      "cell_type": "markdown",
      "source": [
        "Now let's apply LDA on the tfidf corpus, with the same amount of topics.\n",
        "\n",
        "You can play with the # of passes, if the model doesn't converge properly"
      ],
      "metadata": {
        "id": "DxizY1d9rcqc"
      }
    },
    {
      "cell_type": "code",
      "source": [
        "lda_model_tfidf = models.LdaMulticore(tfidf_corpus, \n",
        "                                      num_topics=num_of_topics, \n",
        "                                      id2word=dictionary, \n",
        "                                      passes=10, \n",
        "                                      workers=4)"
      ],
      "metadata": {
        "id": "kaKEXtUarJXd"
      },
      "execution_count": 478,
      "outputs": []
    },
    {
      "cell_type": "code",
      "source": [
        "for idx, topic in lda_model_tfidf.print_topics(num_of_topics):\n",
        "    print(f'Topic: {idx} \\t Word: {topic}')"
      ],
      "metadata": {
        "id": "dZf1dpQ5rgdj",
        "outputId": "8fcda1da-0c46-428b-b846-ab45356e6841",
        "colab": {
          "base_uri": "https://localhost:8080/"
        }
      },
      "execution_count": 479,
      "outputs": [
        {
          "output_type": "stream",
          "name": "stdout",
          "text": [
            "Topic: 0 \t Word: 0.167*\"also\" + 0.167*\"serv\" + 0.167*\"known\" + 0.167*\"general\" + 0.167*\"born\" + 0.167*\"use\"\n",
            "Topic: 1 \t Word: 0.615*\"known\" + 0.078*\"use\" + 0.077*\"general\" + 0.077*\"serv\" + 0.077*\"also\" + 0.077*\"born\"\n",
            "Topic: 2 \t Word: 0.167*\"also\" + 0.167*\"serv\" + 0.167*\"known\" + 0.167*\"general\" + 0.167*\"use\" + 0.167*\"born\"\n",
            "Topic: 3 \t Word: 0.372*\"born\" + 0.301*\"general\" + 0.168*\"serv\" + 0.081*\"known\" + 0.058*\"also\" + 0.019*\"use\"\n",
            "Topic: 4 \t Word: 0.434*\"serv\" + 0.266*\"also\" + 0.212*\"born\" + 0.030*\"known\" + 0.030*\"use\" + 0.030*\"general\"\n",
            "Topic: 5 \t Word: 0.398*\"use\" + 0.212*\"known\" + 0.208*\"also\" + 0.109*\"general\" + 0.056*\"serv\" + 0.016*\"born\"\n",
            "Topic: 6 \t Word: 0.168*\"born\" + 0.167*\"known\" + 0.167*\"use\" + 0.167*\"also\" + 0.166*\"general\" + 0.165*\"serv\"\n"
          ]
        }
      ]
    },
    {
      "cell_type": "markdown",
      "source": [
        "## Inference\n",
        "\n",
        "Now that we have a topic-modeler, let's use it on one of the articles."
      ],
      "metadata": {
        "id": "rRmuhjMvrrhi"
      }
    },
    {
      "cell_type": "code",
      "source": [
        "# randomly pick an article:\n",
        "test_doc = choice(range(len(processed_docs)))\n",
        "processed_docs[test_doc][:10]"
      ],
      "metadata": {
        "id": "U5vc4WDarknL",
        "outputId": "c51374ff-c37d-4c53-bec0-43946c990460",
        "colab": {
          "base_uri": "https://localhost:8080/"
        }
      },
      "execution_count": 480,
      "outputs": [
        {
          "output_type": "execute_result",
          "data": {
            "text/plain": [
              "['kuan',\n",
              " 'gcmg',\n",
              " 'spmj',\n",
              " 'born',\n",
              " 'harri',\n",
              " 'kuan',\n",
              " 'septemb',\n",
              " 'march',\n",
              " 'inform',\n",
              " 'known']"
            ]
          },
          "metadata": {},
          "execution_count": 480
        }
      ]
    },
    {
      "cell_type": "markdown",
      "source": [
        "Using the original BOW model:"
      ],
      "metadata": {
        "id": "dlqMzBPdr1yj"
      }
    },
    {
      "cell_type": "code",
      "source": [
        "for index, score in sorted(lda_model[bow_corpus[test_doc]], key=lambda tup: -1*tup[1]):\n",
        "    print(f\"Topic match score: {score} \\nTopic: {lda_model.print_topic(index, num_of_topics)}\")\n"
      ],
      "metadata": {
        "id": "EEC7IrEXrw9Q",
        "outputId": "79c8332a-c08e-4891-a79c-cf023c6ad575",
        "colab": {
          "base_uri": "https://localhost:8080/"
        }
      },
      "execution_count": 481,
      "outputs": [
        {
          "output_type": "stream",
          "name": "stdout",
          "text": [
            "Topic match score: 0.8565735816955566 \n",
            "Topic: 0.599*\"serv\" + 0.137*\"general\" + 0.123*\"known\" + 0.113*\"born\" + 0.014*\"also\" + 0.014*\"use\"\n",
            "Topic match score: 0.024039827287197113 \n",
            "Topic: 0.413*\"born\" + 0.345*\"general\" + 0.146*\"serv\" + 0.077*\"also\" + 0.010*\"use\" + 0.010*\"known\"\n",
            "Topic match score: 0.023947512730956078 \n",
            "Topic: 0.441*\"born\" + 0.235*\"also\" + 0.235*\"serv\" + 0.029*\"use\" + 0.029*\"general\" + 0.029*\"known\"\n",
            "Topic match score: 0.023927561938762665 \n",
            "Topic: 0.430*\"known\" + 0.366*\"also\" + 0.174*\"use\" + 0.010*\"general\" + 0.010*\"serv\" + 0.010*\"born\"\n",
            "Topic match score: 0.023867739364504814 \n",
            "Topic: 0.600*\"use\" + 0.297*\"general\" + 0.032*\"serv\" + 0.024*\"also\" + 0.024*\"known\" + 0.023*\"born\"\n",
            "Topic match score: 0.023832909762859344 \n",
            "Topic: 0.400*\"also\" + 0.400*\"serv\" + 0.050*\"use\" + 0.050*\"general\" + 0.050*\"born\" + 0.050*\"known\"\n",
            "Topic match score: 0.02381085604429245 \n",
            "Topic: 0.167*\"serv\" + 0.167*\"also\" + 0.167*\"use\" + 0.167*\"general\" + 0.167*\"known\" + 0.167*\"born\"\n"
          ]
        }
      ]
    },
    {
      "cell_type": "markdown",
      "source": [
        "And with the TF/IDF model:"
      ],
      "metadata": {
        "id": "apxeLH5JsBRX"
      }
    },
    {
      "cell_type": "code",
      "source": [
        "for index, score in sorted(lda_model_tfidf[bow_corpus[test_doc]], key=lambda tup: -1*tup[1]):\n",
        "    print(\"Topic match score: {}\\t \\nTopic: {}\".format(score, lda_model_tfidf.print_topic(index, num_of_topics)))"
      ],
      "metadata": {
        "id": "tCCzFiLVr8QD",
        "outputId": "2254edb1-1c99-418e-e89e-af8f0c84a70f",
        "colab": {
          "base_uri": "https://localhost:8080/"
        }
      },
      "execution_count": 482,
      "outputs": [
        {
          "output_type": "stream",
          "name": "stdout",
          "text": [
            "Topic match score: 0.8025507926940918\t \n",
            "Topic: 0.372*\"born\" + 0.301*\"general\" + 0.168*\"serv\" + 0.081*\"known\" + 0.058*\"also\" + 0.019*\"use\"\n",
            "Topic match score: 0.07811284065246582\t \n",
            "Topic: 0.615*\"known\" + 0.078*\"use\" + 0.077*\"general\" + 0.077*\"serv\" + 0.077*\"also\" + 0.077*\"born\"\n",
            "Topic match score: 0.02398836612701416\t \n",
            "Topic: 0.434*\"serv\" + 0.266*\"also\" + 0.212*\"born\" + 0.030*\"known\" + 0.030*\"use\" + 0.030*\"general\"\n",
            "Topic match score: 0.023914337158203125\t \n",
            "Topic: 0.398*\"use\" + 0.212*\"known\" + 0.208*\"also\" + 0.109*\"general\" + 0.056*\"serv\" + 0.016*\"born\"\n",
            "Topic match score: 0.023811286315321922\t \n",
            "Topic: 0.168*\"born\" + 0.167*\"known\" + 0.167*\"use\" + 0.167*\"also\" + 0.166*\"general\" + 0.165*\"serv\"\n",
            "Topic match score: 0.023811182007193565\t \n",
            "Topic: 0.167*\"also\" + 0.167*\"serv\" + 0.167*\"known\" + 0.167*\"general\" + 0.167*\"born\" + 0.167*\"use\"\n",
            "Topic match score: 0.023811182007193565\t \n",
            "Topic: 0.167*\"also\" + 0.167*\"serv\" + 0.167*\"known\" + 0.167*\"general\" + 0.167*\"use\" + 0.167*\"born\"\n"
          ]
        }
      ]
    },
    {
      "cell_type": "code",
      "source": [
        "print('Perplexity: ', lda_model.log_perplexity(bow_corpus)) \n",
        "print('Perplexity TFIDF: ', lda_model_tfidf.log_perplexity(bow_corpus)) "
      ],
      "metadata": {
        "id": "Eyz4sodNsKln",
        "outputId": "af56baff-a583-44a5-a33f-1d2c4f1f838e",
        "colab": {
          "base_uri": "https://localhost:8080/"
        }
      },
      "execution_count": 483,
      "outputs": [
        {
          "output_type": "stream",
          "name": "stdout",
          "text": [
            "Perplexity:  -2.575956247363411\n",
            "Perplexity TFIDF:  -2.681679596503576\n"
          ]
        }
      ]
    },
    {
      "cell_type": "code",
      "source": [
        "import matplotlib.pyplot as plt\n",
        "\n",
        "def optimize_topic(processed_docs,max_num_topic,num_more_than):\n",
        "\n",
        "    perplexity_bow = {}\n",
        "    perplexity_tfidf = {}\n",
        "\n",
        "    for more_than in np.linspace(0.0001,1,num_more_than):\n",
        "        keep_the_first_n_tokens = 10000\n",
        "\n",
        "        dictionary = corpora.Dictionary(processed_docs)\n",
        "\n",
        "        dictionary.filter_extremes(\n",
        "            no_below=6, \n",
        "            no_above=more_than, \n",
        "            keep_n=keep_the_first_n_tokens)\n",
        "        \n",
        "        bow_corpus = [dictionary.doc2bow(doc) for doc in processed_docs]\n",
        "\n",
        "        # initialize a tfidf from our corpus\n",
        "        tfidf = models.TfidfModel(bow_corpus)\n",
        "\n",
        "        # apply it on our corpus \n",
        "        tfidf_corpus = tfidf[bow_corpus]\n",
        "        if dictionary.keys() != []:\n",
        "\n",
        "            for num_topic in range(2, max_num_topic):\n",
        "\n",
        "                  lda_model = models.LdaMulticore(bow_corpus, \n",
        "                                        num_topics=num_topic, \n",
        "                                        id2word=dictionary,\n",
        "                                        passes=10, \n",
        "                                        workers=2)\n",
        "                  \n",
        "                  lda_model_tfidf = models.LdaMulticore(tfidf_corpus, \n",
        "                                              num_topics=num_topic, \n",
        "                                              id2word=dictionary, \n",
        "                                              passes=10, \n",
        "                                              workers=4)\n",
        "                  \n",
        "                  perplexity_bow[num_topic] = lda_model.log_perplexity(bow_corpus)\n",
        "\n",
        "                  perplexity_tfidf[num_topic] = lda_model_tfidf.log_perplexity(tfidf_corpus)\n",
        "\n",
        "            print(\"no_above: \",more_than)\n",
        "            plt.plot(list(perplexity_bow.keys()),list(perplexity_bow.values()),\"b\",label = \"bow\")\n",
        "            plt.plot(list(perplexity_tfidf.keys()),list(perplexity_tfidf.values()), \"g\", label = \"tfidf\")\n",
        "\n",
        "            plt.show()\n",
        "    \n",
        "    return 0\n",
        "\n",
        "\n",
        "\n",
        "          "
      ],
      "metadata": {
        "id": "VjinBiP4uH6Q"
      },
      "execution_count": 454,
      "outputs": []
    },
    {
      "cell_type": "code",
      "source": [
        "optimize_topic(processed_docs,max_num_topic = 10,num_more_than = 20)"
      ],
      "metadata": {
        "colab": {
          "base_uri": "https://localhost:8080/",
          "height": 1000
        },
        "id": "5_0XnEDmv7Wk",
        "outputId": "1f6e031d-6f7d-4d6e-f34c-6f0deb63ec7c"
      },
      "execution_count": 455,
      "outputs": [
        {
          "output_type": "stream",
          "name": "stdout",
          "text": [
            "no_above:  0.4211105263157895\n"
          ]
        },
        {
          "output_type": "display_data",
          "data": {
            "text/plain": [
              "<Figure size 432x288 with 1 Axes>"
            ],
            "image/png": "[encoded data removed]"
          },
          "metadata": {
            "needs_background": "light"
          }
        },
        {
          "output_type": "stream",
          "name": "stdout",
          "text": [
            "no_above:  0.4737368421052632\n"
          ]
        },
        {
          "output_type": "display_data",
          "data": {
            "text/plain": [
              "<Figure size 432x288 with 1 Axes>"
            ],
            "image/png": "[encoded data removed]"
          },
          "metadata": {
            "needs_background": "light"
          }
        },
        {
          "output_type": "stream",
          "name": "stdout",
          "text": [
            "no_above:  0.5263631578947369\n"
          ]
        },
        {
          "output_type": "display_data",
          "data": {
            "text/plain": [
              "<Figure size 432x288 with 1 Axes>"
            ],
            "image/png": "[encoded data removed]"
          },
          "metadata": {
            "needs_background": "light"
          }
        },
        {
          "output_type": "stream",
          "name": "stdout",
          "text": [
            "no_above:  0.5789894736842105\n"
          ]
        },
        {
          "output_type": "display_data",
          "data": {
            "text/plain": [
              "<Figure size 432x288 with 1 Axes>"
            ],
            "image/png": "[encoded data removed]"
          },
          "metadata": {
            "needs_background": "light"
          }
        },
        {
          "output_type": "stream",
          "name": "stdout",
          "text": [
            "no_above:  0.6316157894736842\n"
          ]
        },
        {
          "output_type": "display_data",
          "data": {
            "text/plain": [
              "<Figure size 432x288 with 1 Axes>"
            ],
            "image/png": "[encoded data removed]"
          },
          "metadata": {
            "needs_background": "light"
          }
        },
        {
          "output_type": "stream",
          "name": "stdout",
          "text": [
            "no_above:  0.684242105263158\n"
          ]
        },
        {
          "output_type": "display_data",
          "data": {
            "text/plain": [
              "<Figure size 432x288 with 1 Axes>"
            ],
            "image/png": "[encoded data removed]"
          },
          "metadata": {
            "needs_background": "light"
          }
        },
        {
          "output_type": "stream",
          "name": "stdout",
          "text": [
            "no_above:  0.7368684210526316\n"
          ]
        },
        {
          "output_type": "display_data",
          "data": {
            "text/plain": [
              "<Figure size 432x288 with 1 Axes>"
            ],
            "image/png": "[encoded data removed]"
          },
          "metadata": {
            "needs_background": "light"
          }
        },
        {
          "output_type": "stream",
          "name": "stdout",
          "text": [
            "no_above:  0.7894947368421052\n"
          ]
        },
        {
          "output_type": "display_data",
          "data": {
            "text/plain": [
              "<Figure size 432x288 with 1 Axes>"
            ],
            "image/png": "[encoded data removed]"
          },
          "metadata": {
            "needs_background": "light"
          }
        },
        {
          "output_type": "stream",
          "name": "stdout",
          "text": [
            "no_above:  0.842121052631579\n"
          ]
        },
        {
          "output_type": "display_data",
          "data": {
            "text/plain": [
              "<Figure size 432x288 with 1 Axes>"
            ],
            "image/png": "[encoded data removed]"
          },
          "metadata": {
            "needs_background": "light"
          }
        },
        {
          "output_type": "stream",
          "name": "stdout",
          "text": [
            "no_above:  0.8947473684210527\n"
          ]
        },
        {
          "output_type": "display_data",
          "data": {
            "text/plain": [
              "<Figure size 432x288 with 1 Axes>"
            ],
            "image/png": "[encoded data removed]"
          },
          "metadata": {
            "needs_background": "light"
          }
        },
        {
          "output_type": "stream",
          "name": "stdout",
          "text": [
            "no_above:  0.9473736842105264\n"
          ]
        },
        {
          "output_type": "display_data",
          "data": {
            "text/plain": [
              "<Figure size 432x288 with 1 Axes>"
            ],
            "image/png": "[encoded data removed]"
          },
          "metadata": {
            "needs_background": "light"
          }
        },
        {
          "output_type": "stream",
          "name": "stdout",
          "text": [
            "no_above:  1.0\n"
          ]
        },
        {
          "output_type": "display_data",
          "data": {
            "text/plain": [
              "<Figure size 432x288 with 1 Axes>"
            ],
            "image/png": "[encoded data removed]"
          },
          "metadata": {
            "needs_background": "light"
          }
        },
        {
          "output_type": "execute_result",
          "data": {
            "text/plain": [
              "0"
            ]
          },
          "metadata": {},
          "execution_count": 455
        }
      ]
    },
    {
      "cell_type": "markdown",
      "source": [
        "### Exercise - inference\n",
        "\n",
        "Now try it on a new document!\n",
        "\n",
        "Go to a news website, such as [orf.at](https://orf.at/) and copy an article of your choice here:"
      ],
      "metadata": {
        "id": "WlrqLTEFsTDL"
      }
    },
    {
      "cell_type": "code",
      "source": [
        "#https://www.lemonde.fr/en/opinion/article/2022/12/27/speaking-the-truth-about-immigration_6009281_23.html\n",
        "\n",
        "unseen_document = \"\"\"You can share an article by clicking on the share icons at the top right of it. \n",
        "The total or partial reproduction of an article, without the prior written authorization of Le Monde, is strictly forbidden. \n",
        "For more information, see our Terms and Conditions. \n",
        "For all authorization requests, contact droitsdauteur@lemonde.fr. \n",
        "\n",
        "The French reversal may have only a remote connection to migration issues. In each of the target countries,\n",
        "visa restrictions fueled strong criticism of France. But in a context of rising anti-French sentiment throughout\n",
        "Africa and faced with the risk of emerging countries leaving the Western bloc, Paris was able to give precedence\n",
        "to these fundamental concerns over the math of deportations. Other bilateral issues (Western Sahara, gas, etc.),\n",
        "as well as the difficulty of giving in to Morocco without doing the same for Algeria, may also have played roles.\n",
        "The equation cannot be summed up as a simple trade-off between visas and deportations, because relations between \n",
        "France and its former colonies, marked by the presence of large communities of Maghrebi origin, are a matter of \n",
        "both foreign policy and domestic affairs.\"\"\"\n",
        "\n",
        "bow_vector = dictionary.doc2bow(preprocess(unseen_document))\n",
        "\n",
        "print(\"Simply printing the lda_model output would look like this:\")\n",
        "pprint(lda_model[bow_vector])\n",
        "\n",
        "print(\"\\n\\nSo let's make it nicer, by printing the topic contents:\")\n",
        "for index, score in sorted(lda_model[bow_vector], key=lambda tup: -1*tup[1]):\n",
        "    print(\"Score: {}\\t Topic: {}\".format(score, lda_model.print_topic(index, 5)))\n"
      ],
      "metadata": {
        "id": "jgZV3-Z7sXAc",
        "outputId": "305f5282-8134-4d91-9d7f-998c232acb5a",
        "colab": {
          "base_uri": "https://localhost:8080/"
        }
      },
      "execution_count": 456,
      "outputs": [
        {
          "output_type": "stream",
          "name": "stdout",
          "text": [
            "Simply printing the lda_model output would look like this:\n",
            "[(0, 0.07143178),\n",
            " (1, 0.5714022),\n",
            " (2, 0.07142863),\n",
            " (3, 0.07143178),\n",
            " (4, 0.07144477),\n",
            " (5, 0.071429476),\n",
            " (6, 0.071431436)]\n",
            "\n",
            "\n",
            "So let's make it nicer, by printing the topic contents:\n",
            "Score: 0.5714021325111389\t Topic: 0.965*\"also\" + 0.017*\"serv\" + 0.017*\"general\"\n",
            "Score: 0.07144481688737869\t Topic: 0.384*\"also\" + 0.335*\"serv\" + 0.281*\"general\"\n",
            "Score: 0.07143177837133408\t Topic: 0.333*\"serv\" + 0.333*\"also\" + 0.333*\"general\"\n",
            "Score: 0.07143177837133408\t Topic: 0.333*\"serv\" + 0.333*\"general\" + 0.333*\"also\"\n",
            "Score: 0.07143143564462662\t Topic: 0.349*\"serv\" + 0.331*\"general\" + 0.320*\"also\"\n",
            "Score: 0.07142947614192963\t Topic: 0.807*\"general\" + 0.167*\"serv\" + 0.026*\"also\"\n",
            "Score: 0.07142862677574158\t Topic: 0.967*\"serv\" + 0.017*\"also\" + 0.016*\"general\"\n"
          ]
        }
      ]
    },
    {
      "cell_type": "markdown",
      "source": [
        "## Visualization"
      ],
      "metadata": {
        "id": "dbF83i4lsena"
      }
    },
    {
      "cell_type": "code",
      "source": [
        "! pip install pyLDAvis"
      ],
      "metadata": {
        "id": "seo3yGz0YPUB",
        "outputId": "45e649cd-660a-4804-9af4-97f9ead03705",
        "colab": {
          "base_uri": "https://localhost:8080/"
        }
      },
      "execution_count": 457,
      "outputs": [
        {
          "output_type": "stream",
          "name": "stdout",
          "text": [
            "Looking in indexes: https://pypi.org/simple, https://us-python.pkg.dev/colab-wheels/public/simple/\n",
            "Requirement already satisfied: pyLDAvis in /usr/local/lib/python3.8/dist-packages (3.3.1)\n",
            "Requirement already satisfied: scipy in /usr/local/lib/python3.8/dist-packages (from pyLDAvis) (1.7.3)\n",
            "Requirement already satisfied: jinja2 in /usr/local/lib/python3.8/dist-packages (from pyLDAvis) (2.11.3)\n",
            "Requirement already satisfied: future in /usr/local/lib/python3.8/dist-packages (from pyLDAvis) (0.16.0)\n",
            "Requirement already satisfied: sklearn in /usr/local/lib/python3.8/dist-packages (from pyLDAvis) (0.0.post1)\n",
            "Requirement already satisfied: setuptools in /usr/local/lib/python3.8/dist-packages (from pyLDAvis) (57.4.0)\n",
            "Requirement already satisfied: pandas>=1.2.0 in /usr/local/lib/python3.8/dist-packages (from pyLDAvis) (1.3.5)\n",
            "Requirement already satisfied: joblib in /usr/local/lib/python3.8/dist-packages (from pyLDAvis) (1.2.0)\n",
            "Requirement already satisfied: funcy in /usr/local/lib/python3.8/dist-packages (from pyLDAvis) (1.17)\n",
            "Requirement already satisfied: gensim in /usr/local/lib/python3.8/dist-packages (from pyLDAvis) (3.6.0)\n",
            "Requirement already satisfied: scikit-learn in /usr/local/lib/python3.8/dist-packages (from pyLDAvis) (1.0.2)\n",
            "Requirement already satisfied: numpy>=1.20.0 in /usr/local/lib/python3.8/dist-packages (from pyLDAvis) (1.21.6)\n",
            "Requirement already satisfied: numexpr in /usr/local/lib/python3.8/dist-packages (from pyLDAvis) (2.8.4)\n",
            "Requirement already satisfied: pytz>=2017.3 in /usr/local/lib/python3.8/dist-packages (from pandas>=1.2.0->pyLDAvis) (2022.6)\n",
            "Requirement already satisfied: python-dateutil>=2.7.3 in /usr/local/lib/python3.8/dist-packages (from pandas>=1.2.0->pyLDAvis) (2.8.2)\n",
            "Requirement already satisfied: six>=1.5 in /usr/local/lib/python3.8/dist-packages (from python-dateutil>=2.7.3->pandas>=1.2.0->pyLDAvis) (1.15.0)\n",
            "Requirement already satisfied: smart-open>=1.2.1 in /usr/local/lib/python3.8/dist-packages (from gensim->pyLDAvis) (6.3.0)\n",
            "Requirement already satisfied: MarkupSafe>=0.23 in /usr/local/lib/python3.8/dist-packages (from jinja2->pyLDAvis) (2.0.1)\n",
            "Requirement already satisfied: threadpoolctl>=2.0.0 in /usr/local/lib/python3.8/dist-packages (from scikit-learn->pyLDAvis) (3.1.0)\n"
          ]
        }
      ]
    },
    {
      "cell_type": "code",
      "source": [
        "import pyLDAvis.gensim_models as gensimvis\n",
        "import pyLDAvis\n",
        "\n",
        "bow_lda_data = gensimvis.prepare(lda_model, bow_corpus, dictionary)\n",
        "\n",
        "pyLDAvis.display(bow_lda_data)"
      ],
      "metadata": {
        "id": "3DAlOWCwsfBW",
        "outputId": "f6a3704a-99f1-4694-8f14-e6a5309434fc",
        "colab": {
          "base_uri": "https://localhost:8080/",
          "height": 881
        }
      },
      "execution_count": 458,
      "outputs": [
        {
          "output_type": "execute_result",
          "data": {
            "text/plain": [
              "<IPython.core.display.HTML object>"
            ],
            "text/html": [
              "\n",
              "<link rel=\"stylesheet\" type=\"text/css\" href=\"https://cdn.jsdelivr.net/gh/bmabey/pyLDAvis@3.3.1/pyLDAvis/js/ldavis.v1.0.0.css\">\n",
              "\n",
              "\n",
              "<div id=\"ldavis_el1351405735758770087251782161\"></div>\n",
              "<script type=\"text/javascript\">\n",
              "\n",
              "var ldavis_el1351405735758770087251782161_data = {\"mdsDat\": {\"x\": [0.16473058354197792, 0.22832838004125877, -0.3455180169313034, -0.0264020257657112, -0.0023266285020039257, -0.009406434580276221, -0.009405857803942307], \"y\": [-0.2021063194372036, 0.19562968211698117, 0.03330131941073088, 0.004129786129720353, -0.007152769274426459, -0.011900301113938697, -0.011901397831863787], \"topics\": [1, 2, 3, 4, 5, 6, 7], \"cluster\": [1, 1, 1, 1, 1, 1, 1], \"Freq\": [30.075105245750315, 27.773736026509166, 25.738902555887496, 4.103469795129656, 4.102989848793115, 4.102898263965125, 4.102898263965125]}, \"tinfo\": {\"Term\": [\"also\", \"general\", \"serv\", \"general\", \"serv\", \"also\", \"serv\", \"also\", \"general\", \"also\", \"general\", \"serv\", \"also\", \"general\", \"serv\", \"general\", \"also\", \"serv\", \"general\", \"also\", \"serv\", \"general\", \"also\", \"serv\"], \"Freq\": [8.0, 7.0, 9.0, 6.306580473772094, 1.3086006724015349, 0.20434602837638824, 6.981760234219321, 0.12250671622333463, 0.11690469890980608, 6.4596217040377715, 0.11612633600586487, 0.1163670607633397, 0.4097210211566562, 0.30017840954133135, 0.35700269815038155, 0.35334000598529225, 0.34114715891100467, 0.3722901779066635, 0.3555744216725717, 0.35557629738485286, 0.35560284348239135, 0.3555776326376632, 0.35557416733870306, 0.3556018261469168], \"Total\": [8.0, 7.0, 9.0, 7.904281978524624, 9.847225513070548, 8.248493093428712, 9.847225513070548, 8.248493093428712, 7.904281978524624, 8.248493093428712, 7.904281978524624, 9.847225513070548, 8.248493093428712, 7.904281978524624, 9.847225513070548, 7.904281978524624, 8.248493093428712, 9.847225513070548, 7.904281978524624, 8.248493093428712, 9.847225513070548, 7.904281978524624, 8.248493093428712, 9.847225513070548], \"Category\": [\"Default\", \"Default\", \"Default\", \"Topic1\", \"Topic1\", \"Topic1\", \"Topic2\", \"Topic2\", \"Topic2\", \"Topic3\", \"Topic3\", \"Topic3\", \"Topic4\", \"Topic4\", \"Topic4\", \"Topic5\", \"Topic5\", \"Topic5\", \"Topic6\", \"Topic6\", \"Topic6\", \"Topic7\", \"Topic7\", \"Topic7\"], \"logprob\": [3.0, 2.0, 1.0, -0.215, -1.7877, -3.6446, -0.0337, -4.0766, -4.1234, -0.0354, -4.054, -4.0519, -0.957, -1.2681, -1.0948, -1.105, -1.1401, -1.0527, -1.0986, -1.0986, -1.0986, -1.0986, -1.0986, -1.0986], \"loglift\": [3.0, 2.0, 1.0, 0.9757, -0.8168, -2.4965, 0.9372, -2.9285, -2.9327, 1.1127, -2.8633, -3.081, 0.191, -0.0774, -0.1239, 0.0857, 0.008, -0.0818, 0.0921, 0.0494, -0.1277, 0.0921, 0.0494, -0.1277]}, \"token.table\": {\"Topic\": [3, 1, 1, 2], \"Freq\": [0.7274055917898496, 0.7590822311630046, 0.10155144702156632, 0.7108601291509643], \"Term\": [\"also\", \"general\", \"serv\", \"serv\"]}, \"R\": 3, \"lambda.step\": 0.01, \"plot.opts\": {\"xlab\": \"PC1\", \"ylab\": \"PC2\"}, \"topic.order\": [6, 3, 2, 5, 7, 1, 4]};\n",
              "\n",
              "function LDAvis_load_lib(url, callback){\n",
              "  var s = document.createElement('script');\n",
              "  s.src = url;\n",
              "  s.async = true;\n",
              "  s.onreadystatechange = s.onload = callback;\n",
              "  s.onerror = function(){console.warn(\"failed to load library \" + url);};\n",
              "  document.getElementsByTagName(\"head\")[0].appendChild(s);\n",
              "}\n",
              "\n",
              "if(typeof(LDAvis) !== \"undefined\"){\n",
              "   // already loaded: just create the visualization\n",
              "   !function(LDAvis){\n",
              "       new LDAvis(\"#\" + \"ldavis_el1351405735758770087251782161\", ldavis_el1351405735758770087251782161_data);\n",
              "   }(LDAvis);\n",
              "}else if(typeof define === \"function\" && define.amd){\n",
              "   // require.js is available: use it to load d3/LDAvis\n",
              "   require.config({paths: {d3: \"https://d3js.org/d3.v5\"}});\n",
              "   require([\"d3\"], function(d3){\n",
              "      window.d3 = d3;\n",
              "      LDAvis_load_lib(\"https://cdn.jsdelivr.net/gh/bmabey/pyLDAvis@3.3.1/pyLDAvis/js/ldavis.v3.0.0.js\", function(){\n",
              "        new LDAvis(\"#\" + \"ldavis_el1351405735758770087251782161\", ldavis_el1351405735758770087251782161_data);\n",
              "      });\n",
              "    });\n",
              "}else{\n",
              "    // require.js not available: dynamically load d3 & LDAvis\n",
              "    LDAvis_load_lib(\"https://d3js.org/d3.v5.js\", function(){\n",
              "         LDAvis_load_lib(\"https://cdn.jsdelivr.net/gh/bmabey/pyLDAvis@3.3.1/pyLDAvis/js/ldavis.v3.0.0.js\", function(){\n",
              "                 new LDAvis(\"#\" + \"ldavis_el1351405735758770087251782161\", ldavis_el1351405735758770087251782161_data);\n",
              "            })\n",
              "         });\n",
              "}\n",
              "</script>"
            ]
          },
          "metadata": {},
          "execution_count": 458
        }
      ]
    },
    {
      "cell_type": "code",
      "source": [],
      "metadata": {
        "id": "STlpdQYsYNfU"
      },
      "execution_count": 458,
      "outputs": []
    }
  ]
}