{
  "nbformat": 4,
  "nbformat_minor": 0,
  "metadata": {
    "colab": {
      "provenance": [],
      "include_colab_link": true
    },
    "kernelspec": {
      "name": "python3",
      "display_name": "Python 3"
    },
    "language_info": {
      "name": "python"
    }
  },
  "cells": [
    {
      "cell_type": "markdown",
      "metadata": {
        "id": "view-in-github",
        "colab_type": "text"
      },
      "source": [
        "<a href=\"https://colab.research.google.com/github/SIDIBEMoussa/NLP-Trainings/blob/main/03_Exercice_LM_classification_and_clustering.ipynb\" target=\"_parent\"><img src=\"https://colab.research.google.com/assets/colab-badge.svg\" alt=\"Open In Colab\"/></a>"
      ]
    },
    {
      "cell_type": "code",
      "execution_count": 37,
      "metadata": {
        "colab": {
          "base_uri": "https://localhost:8080/"
        },
        "id": "2b-mUm2hQtoX",
        "outputId": "9ba33ecc-8498-4c89-d767-dc1f4cf8c73e"
      },
      "outputs": [
        {
          "output_type": "stream",
          "name": "stderr",
          "text": [
            "[nltk_data] Downloading package punkt to /root/nltk_data...\n",
            "[nltk_data]   Package punkt is already up-to-date!\n",
            "[nltk_data] Downloading package stopwords to /root/nltk_data...\n",
            "[nltk_data]   Package stopwords is already up-to-date!\n",
            "[nltk_data] Downloading package averaged_perceptron_tagger to\n",
            "[nltk_data]     /root/nltk_data...\n",
            "[nltk_data]   Package averaged_perceptron_tagger is already up-to-\n",
            "[nltk_data]       date!\n",
            "[nltk_data] Downloading package universal_tagset to /root/nltk_data...\n",
            "[nltk_data]   Package universal_tagset is already up-to-date!\n"
          ]
        },
        {
          "output_type": "execute_result",
          "data": {
            "text/plain": [
              "True"
            ]
          },
          "metadata": {},
          "execution_count": 37
        }
      ],
      "source": [
        "import pandas as pd\n",
        "\n",
        "import nltk\n",
        "nltk.download('punkt')\n",
        "nltk.download('stopwords')\n",
        "nltk.download('averaged_perceptron_tagger')\n",
        "nltk.download('universal_tagset')"
      ]
    },
    {
      "cell_type": "code",
      "source": [
        "import pathlib, os"
      ],
      "metadata": {
        "id": "TnecPRtIWSHh"
      },
      "execution_count": 38,
      "outputs": []
    },
    {
      "cell_type": "code",
      "source": [
        "path = \"/content/datasets/lda_sports_politics_docs\"\n",
        "\n",
        "file_directory = pathlib.Path(path).exists()\n",
        "\n",
        "if not file_directory:\n",
        "\n",
        "    !git clone https://github.com/selva86/datasets.git\n",
        "\n",
        "\n",
        "\n",
        "text_files = os.listdir(path)"
      ],
      "metadata": {
        "id": "bwSAiHVcXKtV"
      },
      "execution_count": 39,
      "outputs": []
    },
    {
      "cell_type": "code",
      "source": [
        "text_files"
      ],
      "metadata": {
        "colab": {
          "base_uri": "https://localhost:8080/"
        },
        "id": "ZJt9xVauXgw-",
        "outputId": "cb07b01e-c25c-4a94-de70-bfd3e9b31894"
      },
      "execution_count": 40,
      "outputs": [
        {
          "output_type": "execute_result",
          "data": {
            "text/plain": [
              "['shinzo abe.txt',\n",
              " 'pizza.txt',\n",
              " 'lee quan yew.txt',\n",
              " 'queen elizabeth.txt',\n",
              " 'cricket.txt',\n",
              " 'idli.txt',\n",
              " 'barack obama.txt',\n",
              " 'baseball.txt',\n",
              " 'badminton.txt',\n",
              " 'noodles.txt',\n",
              " 'tipu sultan.txt',\n",
              " 'table tennis.txt',\n",
              " 'pasta.txt',\n",
              " 'narendra modi.txt',\n",
              " 'dosa.txt']"
            ]
          },
          "metadata": {},
          "execution_count": 40
        }
      ]
    },
    {
      "cell_type": "code",
      "source": [
        "articles=[]\n",
        "\n",
        "for filename in text_files:\n",
        "\n",
        "    article = pathlib.Path(path+'/'+filename).read_text()\n",
        "\n",
        "    articles.append(article)"
      ],
      "metadata": {
        "id": "oU_znckrYutX"
      },
      "execution_count": 41,
      "outputs": []
    },
    {
      "cell_type": "code",
      "source": [
        "articles[0]"
      ],
      "metadata": {
        "colab": {
          "base_uri": "https://localhost:8080/",
          "height": 157
        },
        "id": "gv_gU5CKa579",
        "outputId": "23446ff9-4c2a-473c-ba9a-22a020ea1973"
      },
      "execution_count": 42,
      "outputs": [
        {
          "output_type": "execute_result",
          "data": {
            "text/plain": [
              "\"Shinzō Abe (Abe Shinzō, IPA: born 21 September 1954) is the current Prime Minister of Japan, re-elected to the position in December 2012. Abe is also the President of the Liberal Democratic Party (LDP).\\nAbe served for a year as Prime Minister, from 2006 to 2007. Hailing from a politically prominent family, at age 52, Abe became Japan's youngest post-war prime minister, and the first to be born after World War II, when he was elected by a special session of the National Diet in September 2006. Abe resigned on 12 September 2007, for health reasons. Abe was replaced by Yasuo Fukuda, beginning a string of five Prime Ministers, none of whom retained office for more than sixteen months, before Abe staged a political comeback.\\nOn 26 September 2012, Abe defeated former Minister of Defense Shigeru Ishiba, in a run-off vote, to win the LDP Presidential Election. Following the LDP's landslide victory in the 2012 general election, Abe became the Prime Minister again. Abe is the first former Prime Minister to return to the office since Shigeru Yoshida in 1948. Abe was re-elected at the 2014 general election, retaining his two-thirds majority with coalition partner Komeito.\""
            ],
            "application/vnd.google.colaboratory.intrinsic+json": {
              "type": "string"
            }
          },
          "metadata": {},
          "execution_count": 42
        }
      ]
    },
    {
      "cell_type": "code",
      "source": [
        "from pprint import pprint # for printing objects nicely\n",
        "\n",
        "from gensim import corpora, models\n",
        "from gensim.utils import simple_preprocess\n",
        "\n",
        "# from gensim.parsing.preprocessing import STOPWORDS \n",
        "# Instead of the gensim english stopwords, we use nltk's German stopwords\n",
        "from nltk.corpus import stopwords\n",
        "\n",
        "from nltk.stem.snowball import SnowballStemmer\n",
        "from nltk.stem.porter import *\n",
        "\n",
        "import numpy as np\n",
        "\n",
        "from random import choice\n",
        "\n",
        "np.random.seed(1234)\n",
        "\n",
        "stemmer = SnowballStemmer('english')\n",
        "german_stop_words = set(stopwords.words('english'))\n",
        "\n",
        "\n",
        "def lemmatize_stemming(text):\n",
        "  return stemmer.stem(text)\n",
        "\n",
        "def preprocess(text):\n",
        "  result = [lemmatize_stemming(token) \n",
        "            for token in simple_preprocess(text)  \n",
        "            if token not in german_stop_words and len(token) > 3]\n",
        "  return result"
      ],
      "metadata": {
        "id": "fMJuWnswbPZP"
      },
      "execution_count": 43,
      "outputs": []
    },
    {
      "cell_type": "code",
      "source": [
        "print('original document: ')\n",
        "article = choice(articles)\n",
        "print(article)\n",
        "\n",
        "# This time, we don't care about punctuations as tokens (Can you think why?):\n",
        "print('original document, broken into words: ')\n",
        "words = [word for word in article.split(' ')]\n",
        "print(words)\n",
        "print(\"Vocabulary size of the original article:\", len(set(words)))\n",
        "\n",
        "# now let's see what happens when we pass the article into our preprocessing \n",
        "# method:\n",
        "print('\\n\\n tokenized and lemmatized document: ')\n",
        "preprocessed_article = preprocess(article)\n",
        "print(preprocessed_article)\n",
        "print(\"Vocabulary size after preprocessing:\", len(set(preprocessed_article)))"
      ],
      "metadata": {
        "colab": {
          "base_uri": "https://localhost:8080/"
        },
        "id": "sHzvndkJl6Qt",
        "outputId": "445b6591-9d2d-45d6-d5a2-32855345244b"
      },
      "execution_count": 44,
      "outputs": [
        {
          "output_type": "stream",
          "name": "stdout",
          "text": [
            "original document: \n",
            "Pasta is a staple food of traditional Italian cuisine, with the first reference dating to 1154 in Sicily. It is also commonly used to refer to the variety of pasta dishes. Typically, pasta is a noodle made from an unleavened dough of a durum wheat flour mixed with water or eggs and formed into sheets or various shapes, then cooked by boiling or baking. It can also be made with flour from other cereals or grains. Pastas may be divided into two broad categories, dried (pasta secca) and fresh (pasta fresca).\n",
            "Most dried pasta is commercially produced via an extrusion process. Fresh pasta was traditionally produced by hand, sometimes with the aid of simple machines, but today many varieties of fresh pasta are also commercially produced by large-scale machines, and the products are widely available in supermarkets.\n",
            "Both dried and fresh pasta come in a number of shapes and varieties, with 310 specific forms known variably by over 1300 names having been documented. In Italy the names of specific pasta shapes or types often vary with locale. For example, the form cavatelli is known by 28 different names depending on region and town. Common forms of pasta include long shapes, short shapes, tubes, flat shapes and sheets, miniature soup shapes, filled or stuffed, and specialty or decorative shapes.\n",
            "original document, broken into words: \n",
            "['Pasta', 'is', 'a', 'staple', 'food', 'of', 'traditional', 'Italian', 'cuisine,', 'with', 'the', 'first', 'reference', 'dating', 'to', '1154', 'in', 'Sicily.', 'It', 'is', 'also', 'commonly', 'used', 'to', 'refer', 'to', 'the', 'variety', 'of', 'pasta', 'dishes.', 'Typically,', 'pasta', 'is', 'a', 'noodle', 'made', 'from', 'an', 'unleavened', 'dough', 'of', 'a', 'durum', 'wheat', 'flour', 'mixed', 'with', 'water', 'or', 'eggs', 'and', 'formed', 'into', 'sheets', 'or', 'various', 'shapes,', 'then', 'cooked', 'by', 'boiling', 'or', 'baking.', 'It', 'can', 'also', 'be', 'made', 'with', 'flour', 'from', 'other', 'cereals', 'or', 'grains.', 'Pastas', 'may', 'be', 'divided', 'into', 'two', 'broad', 'categories,', 'dried', '(pasta', 'secca)', 'and', 'fresh', '(pasta', 'fresca).\\nMost', 'dried', 'pasta', 'is', 'commercially', 'produced', 'via', 'an', 'extrusion', 'process.', 'Fresh', 'pasta', 'was', 'traditionally', 'produced', 'by', 'hand,', 'sometimes', 'with', 'the', 'aid', 'of', 'simple', 'machines,', 'but', 'today', 'many', 'varieties', 'of', 'fresh', 'pasta', 'are', 'also', 'commercially', 'produced', 'by', 'large-scale', 'machines,', 'and', 'the', 'products', 'are', 'widely', 'available', 'in', 'supermarkets.\\nBoth', 'dried', 'and', 'fresh', 'pasta', 'come', 'in', 'a', 'number', 'of', 'shapes', 'and', 'varieties,', 'with', '310', 'specific', 'forms', 'known', 'variably', 'by', 'over', '1300', 'names', 'having', 'been', 'documented.', 'In', 'Italy', 'the', 'names', 'of', 'specific', 'pasta', 'shapes', 'or', 'types', 'often', 'vary', 'with', 'locale.', 'For', 'example,', 'the', 'form', 'cavatelli', 'is', 'known', 'by', '28', 'different', 'names', 'depending', 'on', 'region', 'and', 'town.', 'Common', 'forms', 'of', 'pasta', 'include', 'long', 'shapes,', 'short', 'shapes,', 'tubes,', 'flat', 'shapes', 'and', 'sheets,', 'miniature', 'soup', 'shapes,', 'filled', 'or', 'stuffed,', 'and', 'specialty', 'or', 'decorative', 'shapes.']\n",
            "Vocabulary size of the original article: 135\n",
            "\n",
            "\n",
            " tokenized and lemmatized document: \n",
            "['pasta', 'stapl', 'food', 'tradit', 'italian', 'cuisin', 'first', 'refer', 'date', 'sicili', 'also', 'common', 'use', 'refer', 'varieti', 'pasta', 'dish', 'typic', 'pasta', 'noodl', 'made', 'unleaven', 'dough', 'durum', 'wheat', 'flour', 'mix', 'water', 'egg', 'form', 'sheet', 'various', 'shape', 'cook', 'boil', 'bake', 'also', 'made', 'flour', 'cereal', 'grain', 'pasta', 'divid', 'broad', 'categori', 'dri', 'pasta', 'secca', 'fresh', 'pasta', 'fresca', 'dri', 'pasta', 'commerci', 'produc', 'extrus', 'process', 'fresh', 'pasta', 'tradit', 'produc', 'hand', 'sometim', 'simpl', 'machin', 'today', 'mani', 'varieti', 'fresh', 'pasta', 'also', 'commerci', 'produc', 'larg', 'scale', 'machin', 'product', 'wide', 'avail', 'supermarket', 'dri', 'fresh', 'pasta', 'come', 'number', 'shape', 'varieti', 'specif', 'form', 'known', 'variabl', 'name', 'document', 'itali', 'name', 'specif', 'pasta', 'shape', 'type', 'often', 'vari', 'local', 'exampl', 'form', 'cavatelli', 'known', 'differ', 'name', 'depend', 'region', 'town', 'common', 'form', 'pasta', 'includ', 'long', 'shape', 'short', 'shape', 'tube', 'flat', 'shape', 'sheet', 'miniatur', 'soup', 'shape', 'fill', 'stuf', 'specialti', 'decor', 'shape']\n",
            "Vocabulary size after preprocessing: 87\n"
          ]
        }
      ]
    },
    {
      "cell_type": "code",
      "source": [
        "processed_docs = list(map(preprocess, articles))\n",
        "processed_docs[:2]"
      ],
      "metadata": {
        "colab": {
          "base_uri": "https://localhost:8080/"
        },
        "id": "2CscbY6DmTnq",
        "outputId": "64c107a4-1a3b-402c-e17b-20241ca3786d"
      },
      "execution_count": 45,
      "outputs": [
        {
          "output_type": "execute_result",
          "data": {
            "text/plain": [
              "[['shinzō',\n",
              "  'shinzō',\n",
              "  'born',\n",
              "  'septemb',\n",
              "  'current',\n",
              "  'prime',\n",
              "  'minist',\n",
              "  'japan',\n",
              "  'elect',\n",
              "  'posit',\n",
              "  'decemb',\n",
              "  'also',\n",
              "  'presid',\n",
              "  'liber',\n",
              "  'democrat',\n",
              "  'parti',\n",
              "  'serv',\n",
              "  'year',\n",
              "  'prime',\n",
              "  'minist',\n",
              "  'hail',\n",
              "  'polit',\n",
              "  'promin',\n",
              "  'famili',\n",
              "  'becam',\n",
              "  'japan',\n",
              "  'youngest',\n",
              "  'post',\n",
              "  'prime',\n",
              "  'minist',\n",
              "  'first',\n",
              "  'born',\n",
              "  'world',\n",
              "  'elect',\n",
              "  'special',\n",
              "  'session',\n",
              "  'nation',\n",
              "  'diet',\n",
              "  'septemb',\n",
              "  'resign',\n",
              "  'septemb',\n",
              "  'health',\n",
              "  'reason',\n",
              "  'replac',\n",
              "  'yasuo',\n",
              "  'fukuda',\n",
              "  'begin',\n",
              "  'string',\n",
              "  'five',\n",
              "  'prime',\n",
              "  'minist',\n",
              "  'none',\n",
              "  'retain',\n",
              "  'offic',\n",
              "  'sixteen',\n",
              "  'month',\n",
              "  'stage',\n",
              "  'polit',\n",
              "  'comeback',\n",
              "  'septemb',\n",
              "  'defeat',\n",
              "  'former',\n",
              "  'minist',\n",
              "  'defens',\n",
              "  'shigeru',\n",
              "  'ishiba',\n",
              "  'vote',\n",
              "  'presidenti',\n",
              "  'elect',\n",
              "  'follow',\n",
              "  'landslid',\n",
              "  'victori',\n",
              "  'general',\n",
              "  'elect',\n",
              "  'becam',\n",
              "  'prime',\n",
              "  'minist',\n",
              "  'first',\n",
              "  'former',\n",
              "  'prime',\n",
              "  'minist',\n",
              "  'return',\n",
              "  'offic',\n",
              "  'sinc',\n",
              "  'shigeru',\n",
              "  'yoshida',\n",
              "  'elect',\n",
              "  'general',\n",
              "  'elect',\n",
              "  'retain',\n",
              "  'third',\n",
              "  'major',\n",
              "  'coalit',\n",
              "  'partner',\n",
              "  'komeito'],\n",
              " ['pizza',\n",
              "  'flatbread',\n",
              "  'general',\n",
              "  'top',\n",
              "  'tomato',\n",
              "  'sauc',\n",
              "  'chees',\n",
              "  'bake',\n",
              "  'oven',\n",
              "  'common',\n",
              "  'top',\n",
              "  'select',\n",
              "  'meat',\n",
              "  'veget',\n",
              "  'condiment',\n",
              "  'term',\n",
              "  'first',\n",
              "  'record',\n",
              "  'centuri',\n",
              "  'latin',\n",
              "  'manuscript',\n",
              "  'gaeta',\n",
              "  'central',\n",
              "  'itali',\n",
              "  'modern',\n",
              "  'pizza',\n",
              "  'invent',\n",
              "  'napl',\n",
              "  'itali',\n",
              "  'dish',\n",
              "  'variant',\n",
              "  'sinc',\n",
              "  'becom',\n",
              "  'popular',\n",
              "  'mani',\n",
              "  'area',\n",
              "  'world',\n",
              "  'upon',\n",
              "  'itali',\n",
              "  'request',\n",
              "  'neapolitan',\n",
              "  'pizza',\n",
              "  'safeguard',\n",
              "  'european',\n",
              "  'union',\n",
              "  'tradit',\n",
              "  'special',\n",
              "  'guarante',\n",
              "  'dish',\n",
              "  'associazion',\n",
              "  'verac',\n",
              "  'pizza',\n",
              "  'napoletana',\n",
              "  'true',\n",
              "  'neapolitan',\n",
              "  'pizza',\n",
              "  'associ',\n",
              "  'profit',\n",
              "  'organis',\n",
              "  'found',\n",
              "  'headquart',\n",
              "  'napl',\n",
              "  'promot',\n",
              "  'protect',\n",
              "  'true',\n",
              "  'neapolitan',\n",
              "  'pizza',\n",
              "  'pizza',\n",
              "  'sold',\n",
              "  'fresh',\n",
              "  'frozen',\n",
              "  'either',\n",
              "  'whole',\n",
              "  'portion',\n",
              "  'common',\n",
              "  'fast',\n",
              "  'food',\n",
              "  'item',\n",
              "  'europ',\n",
              "  'north',\n",
              "  'america',\n",
              "  'various',\n",
              "  'type',\n",
              "  'oven',\n",
              "  'use',\n",
              "  'cook',\n",
              "  'mani',\n",
              "  'varieti',\n",
              "  'exist',\n",
              "  'sever',\n",
              "  'similar',\n",
              "  'dish',\n",
              "  'prepar',\n",
              "  'ingredi',\n",
              "  'common',\n",
              "  'use',\n",
              "  'pizza',\n",
              "  'prepar',\n",
              "  'calzon',\n",
              "  'stromboli']]"
            ]
          },
          "metadata": {},
          "execution_count": 45
        }
      ]
    },
    {
      "cell_type": "code",
      "source": [
        "dictionary = corpora.Dictionary(processed_docs)"
      ],
      "metadata": {
        "id": "bdoCd4MeoUTT"
      },
      "execution_count": 46,
      "outputs": []
    },
    {
      "cell_type": "code",
      "source": [
        "for idx, (k, v) in enumerate(dictionary.iteritems()):\n",
        "    print(k, v)\n",
        "    if idx >= 10:\n",
        "        break"
      ],
      "metadata": {
        "colab": {
          "base_uri": "https://localhost:8080/"
        },
        "id": "2-zj_g3iop0-",
        "outputId": "abb3b96d-48a1-44e6-9134-a5a888fe5e61"
      },
      "execution_count": 47,
      "outputs": [
        {
          "output_type": "stream",
          "name": "stdout",
          "text": [
            "0 also\n",
            "1 becam\n",
            "2 begin\n",
            "3 born\n",
            "4 coalit\n",
            "5 comeback\n",
            "6 current\n",
            "7 decemb\n",
            "8 defeat\n",
            "9 defens\n",
            "10 democrat\n"
          ]
        }
      ]
    },
    {
      "cell_type": "markdown",
      "source": [
        "### Model Hyperparameter tuning"
      ],
      "metadata": {
        "id": "TtxfwvLko5z1"
      }
    },
    {
      "cell_type": "code",
      "source": [
        "## Model hyper parameters:\n",
        "\n",
        "## These are the dictionary preparation parameters:\n",
        "filter_tokens_if_container_documents_are_less_than = 1\n",
        "filter_tokens_if_appeared_percentage_more_than = 0.5\n",
        "keep_the_first_n_tokens=100000\n",
        "\n",
        "## and the LDA Parameters: \n",
        "num_of_topics = 10"
      ],
      "metadata": {
        "id": "q_9o3iwgovvs"
      },
      "execution_count": 48,
      "outputs": []
    },
    {
      "cell_type": "code",
      "source": [
        "dictionary.filter_extremes(\n",
        "        no_below=filter_tokens_if_container_documents_are_less_than, \n",
        "        no_above=filter_tokens_if_appeared_percentage_more_than, \n",
        "        keep_n=keep_the_first_n_tokens)"
      ],
      "metadata": {
        "id": "pc_2C0A_P49e"
      },
      "execution_count": 49,
      "outputs": []
    },
    {
      "cell_type": "code",
      "source": [
        "def optimization(min_topic=4, max_topic=10,more_than_number=10,less_than_range=20):\n",
        "\n",
        "    perplexity = {}\n",
        "    \n",
        "    for num_topic in range(min_topic,max_topic+1):\n",
        "\n",
        "      for more_than in np.linspace(0,1,more_than_number):\n",
        "\n",
        "        for less_than in range(less_than_range):\n",
        "\n",
        "            dictionary.filter_extremes(\n",
        "            no_below=less_than, \n",
        "            no_above=more_than, \n",
        "            keep_n=keep_the_first_n_tokens)\n",
        "\n",
        "            bow_corpus = [dictionary.doc2bow(doc) for doc in processed_docs]\n",
        "\n",
        "            lda_model = models.LdaMulticore(bow_corpus, \n",
        "                                  num_topics=num_topic, \n",
        "                                  id2word=dictionary, \n",
        "                                  passes=10, \n",
        "                                  workers=2)"
      ],
      "metadata": {
        "id": "DenJMAVwrPZ4"
      },
      "execution_count": null,
      "outputs": []
    },
    {
      "cell_type": "code",
      "source": [
        "bow_corpus = [dictionary.doc2bow(doc) for doc in processed_docs]\n",
        "\n",
        "bow_corpus[:1]"
      ],
      "metadata": {
        "colab": {
          "base_uri": "https://localhost:8080/"
        },
        "id": "iSBwUHL4pOwV",
        "outputId": "691e85cc-d6cf-454c-c770-cdad101b079d"
      },
      "execution_count": 58,
      "outputs": [
        {
          "output_type": "execute_result",
          "data": {
            "text/plain": [
              "[[(0, 1),\n",
              "  (1, 2),\n",
              "  (2, 1),\n",
              "  (3, 2),\n",
              "  (4, 1),\n",
              "  (5, 1),\n",
              "  (6, 1),\n",
              "  (7, 1),\n",
              "  (8, 1),\n",
              "  (9, 1),\n",
              "  (10, 1),\n",
              "  (11, 1),\n",
              "  (12, 6),\n",
              "  (13, 1),\n",
              "  (14, 1),\n",
              "  (15, 1),\n",
              "  (16, 2),\n",
              "  (17, 1),\n",
              "  (18, 2),\n",
              "  (19, 1),\n",
              "  (20, 1),\n",
              "  (21, 1),\n",
              "  (22, 2),\n",
              "  (23, 1),\n",
              "  (24, 1),\n",
              "  (25, 1),\n",
              "  (26, 1),\n",
              "  (27, 7),\n",
              "  (28, 1),\n",
              "  (29, 1),\n",
              "  (30, 1),\n",
              "  (31, 2),\n",
              "  (32, 1),\n",
              "  (33, 1),\n",
              "  (34, 2),\n",
              "  (35, 1),\n",
              "  (36, 1),\n",
              "  (37, 1),\n",
              "  (38, 1),\n",
              "  (39, 6),\n",
              "  (40, 1),\n",
              "  (41, 1),\n",
              "  (42, 1),\n",
              "  (43, 1),\n",
              "  (44, 2),\n",
              "  (45, 1),\n",
              "  (46, 4),\n",
              "  (47, 1),\n",
              "  (48, 1),\n",
              "  (49, 2),\n",
              "  (50, 2),\n",
              "  (51, 1),\n",
              "  (52, 1),\n",
              "  (53, 1),\n",
              "  (54, 1),\n",
              "  (55, 1),\n",
              "  (56, 1),\n",
              "  (57, 1),\n",
              "  (58, 1),\n",
              "  (59, 1),\n",
              "  (60, 1),\n",
              "  (61, 1),\n",
              "  (62, 1),\n",
              "  (63, 1)]]"
            ]
          },
          "metadata": {},
          "execution_count": 58
        }
      ]
    },
    {
      "cell_type": "code",
      "source": [
        "# randomly choose an article from the corpus:\n",
        "sample_bow_doc = choice(bow_corpus)\n",
        "\n",
        "print('The processed bag-of-word document is just pairs of (word_id, # of occurnces) and looks like this:')\n",
        "print(sample_bow_doc, '\\n\\n')\n",
        "\n",
        "print ('We peek in the dictionary: for each word_id, we get its assigned word:')\n",
        "for word_id, word_freq in sample_bow_doc:\n",
        "  real_word = dictionary[word_id]\n",
        "  print(f'Word {word_id} (\"{real_word}\") appears {word_freq} time.')"
      ],
      "metadata": {
        "colab": {
          "base_uri": "https://localhost:8080/"
        },
        "id": "X14slQgapdFj",
        "outputId": "f3904137-88a0-4065-8967-88e4f15b1394"
      },
      "execution_count": 52,
      "outputs": [
        {
          "output_type": "stream",
          "name": "stdout",
          "text": [
            "The processed bag-of-word document is just pairs of (word_id, # of occurnces) and looks like this:\n",
            "[(0, 1), (1, 1), (7, 1), (57, 1), (103, 1), (129, 1), (130, 1), (150, 1), (155, 4), (167, 1), (168, 1), (242, 2), (244, 1), (286, 1), (289, 1), (392, 1), (413, 1), (422, 2), (425, 1), (439, 1), (501, 1), (502, 1), (503, 2), (504, 2), (505, 1), (506, 1), (507, 1), (508, 1), (509, 1), (510, 3), (511, 1), (512, 1), (513, 1), (514, 1), (515, 1), (516, 1), (517, 1), (518, 1), (519, 1), (520, 1), (521, 1), (522, 1), (523, 1), (524, 1), (525, 1), (526, 1), (527, 1), (528, 1), (529, 1), (530, 1), (531, 3), (532, 1), (533, 1), (534, 2), (535, 1), (536, 1), (537, 1), (538, 1), (539, 1), (540, 1), (541, 1), (542, 1), (543, 1), (544, 1), (545, 1), (546, 1), (547, 1), (548, 1), (549, 1), (550, 1), (551, 1), (552, 8), (553, 1), (554, 1), (555, 1), (556, 1), (557, 2), (558, 1), (559, 1), (560, 3), (561, 1), (562, 1), (563, 2), (564, 1), (565, 1), (566, 1), (567, 1), (568, 1), (569, 1), (570, 1), (571, 1), (572, 2), (573, 1), (574, 1), (575, 4), (576, 1), (577, 1), (578, 1), (579, 10), (580, 1), (581, 1), (582, 1), (583, 1), (584, 1)] \n",
            "\n",
            "\n",
            "We peek in the dictionary: for each word_id, we get its assigned word:\n",
            "Word 0 (\"also\") appears 1 time.\n",
            "Word 1 (\"becam\") appears 1 time.\n",
            "Word 7 (\"decemb\") appears 1 time.\n",
            "Word 57 (\"victori\") appears 1 time.\n",
            "Word 103 (\"north\") appears 1 time.\n",
            "Word 129 (\"upon\") appears 1 time.\n",
            "Word 130 (\"use\") appears 1 time.\n",
            "Word 150 (\"death\") appears 1 time.\n",
            "Word 155 (\"father\") appears 4 time.\n",
            "Word 167 (\"initi\") appears 1 time.\n",
            "Word 168 (\"known\") appears 1 time.\n",
            "Word 242 (\"kingdom\") appears 2 time.\n",
            "Word 244 (\"later\") appears 1 time.\n",
            "Word 286 (\"includ\") appears 1 time.\n",
            "Word 289 (\"number\") appears 1 time.\n",
            "Word 392 (\"novemb\") appears 1 time.\n",
            "Word 413 (\"advanc\") appears 1 time.\n",
            "Word 422 (\"second\") appears 2 time.\n",
            "Word 425 (\"take\") appears 1 time.\n",
            "Word 439 (\"land\") appears 1 time.\n",
            "Word 501 (\"administr\") appears 1 time.\n",
            "Word 502 (\"alli\") appears 1 time.\n",
            "Word 503 (\"allianc\") appears 2 time.\n",
            "Word 504 (\"anglo\") appears 2 time.\n",
            "Word 505 (\"arabian\") appears 1 time.\n",
            "Word 506 (\"armi\") appears 1 time.\n",
            "Word 507 (\"artilleri\") appears 1 time.\n",
            "Word 508 (\"bednor\") appears 1 time.\n",
            "Word 509 (\"border\") appears 1 time.\n",
            "Word 510 (\"british\") appears 3 time.\n",
            "Word 511 (\"calendar\") appears 1 time.\n",
            "Word 512 (\"cancer\") appears 1 time.\n",
            "Word 513 (\"carnat\") appears 1 time.\n",
            "Word 514 (\"case\") appears 1 time.\n",
            "Word 515 (\"chief\") appears 1 time.\n",
            "Word 516 (\"childhood\") appears 1 time.\n",
            "Word 517 (\"coinag\") appears 1 time.\n",
            "Word 518 (\"command\") appears 1 time.\n",
            "Word 519 (\"commiss\") appears 1 time.\n",
            "Word 520 (\"consid\") appears 1 time.\n",
            "Word 521 (\"deploy\") appears 1 time.\n",
            "Word 522 (\"die\") appears 1 time.\n",
            "Word 523 (\"east\") appears 1 time.\n",
            "Word 524 (\"eastern\") appears 1 time.\n",
            "Word 525 (\"eldest\") appears 1 time.\n",
            "Word 526 (\"emperor\") appears 1 time.\n",
            "Word 527 (\"expand\") appears 1 time.\n",
            "Word 528 (\"fateh\") appears 1 time.\n",
            "Word 529 (\"fathul\") appears 1 time.\n",
            "Word 530 (\"forc\") appears 1 time.\n",
            "Word 531 (\"french\") appears 3 time.\n",
            "Word 532 (\"ghat\") appears 1 time.\n",
            "Word 533 (\"growth\") appears 1 time.\n",
            "Word 534 (\"hyder\") appears 2 time.\n",
            "Word 535 (\"import\") appears 1 time.\n",
            "Word 536 (\"industri\") appears 1 time.\n",
            "Word 537 (\"innov\") appears 1 time.\n",
            "Word 538 (\"introduc\") appears 1 time.\n",
            "Word 539 (\"iron\") appears 1 time.\n",
            "Word 540 (\"khan\") appears 1 time.\n",
            "Word 541 (\"kodagu\") appears 1 time.\n",
            "Word 542 (\"krishna\") appears 1 time.\n",
            "Word 543 (\"larg\") appears 1 time.\n",
            "Word 544 (\"lunisolar\") appears 1 time.\n",
            "Word 545 (\"malabar\") appears 1 time.\n",
            "Word 546 (\"mangalor\") appears 1 time.\n",
            "Word 547 (\"manual\") appears 1 time.\n",
            "Word 548 (\"maratha\") appears 1 time.\n",
            "Word 549 (\"mauludi\") appears 1 time.\n",
            "Word 550 (\"militari\") appears 1 time.\n",
            "Word 551 (\"mujahidin\") appears 1 time.\n",
            "Word 552 (\"mysor\") appears 8 time.\n",
            "Word 553 (\"mysorean\") appears 1 time.\n",
            "Word 554 (\"napoleon\") appears 1 time.\n",
            "Word 555 (\"negoti\") appears 1 time.\n",
            "Word 556 (\"pioneer\") appears 1 time.\n",
            "Word 557 (\"power\") appears 2 time.\n",
            "Word 558 (\"revenu\") appears 1 time.\n",
            "Word 559 (\"river\") appears 1 time.\n",
            "Word 560 (\"rocket\") appears 3 time.\n",
            "Word 561 (\"rose\") appears 1 time.\n",
            "Word 562 (\"rule\") appears 1 time.\n",
            "Word 563 (\"ruler\") appears 2 time.\n",
            "Word 564 (\"sahab\") appears 1 time.\n",
            "Word 565 (\"sahib\") appears 1 time.\n",
            "Word 566 (\"sayyid\") appears 1 time.\n",
            "Word 567 (\"sieg\") appears 1 time.\n",
            "Word 568 (\"silk\") appears 1 time.\n",
            "Word 569 (\"sira\") appears 1 time.\n",
            "Word 570 (\"sought\") appears 1 time.\n",
            "Word 571 (\"srirangapatna\") appears 1 time.\n",
            "Word 572 (\"struggl\") appears 2 time.\n",
            "Word 573 (\"succeed\") appears 1 time.\n",
            "Word 574 (\"sudden\") appears 1 time.\n",
            "Word 575 (\"sultan\") appears 4 time.\n",
            "Word 576 (\"surround\") appears 1 time.\n",
            "Word 577 (\"system\") appears 1 time.\n",
            "Word 578 (\"tiger\") appears 1 time.\n",
            "Word 579 (\"tipu\") appears 10 time.\n",
            "Word 580 (\"train\") appears 1 time.\n",
            "Word 581 (\"travancor\") appears 1 time.\n",
            "Word 582 (\"treati\") appears 1 time.\n",
            "Word 583 (\"walshareef\") appears 1 time.\n",
            "Word 584 (\"west\") appears 1 time.\n"
          ]
        }
      ]
    },
    {
      "cell_type": "markdown",
      "source": [
        "## LDA model using Bag-of-words"
      ],
      "metadata": {
        "id": "_ahfDQuTq-AF"
      }
    },
    {
      "cell_type": "code",
      "source": [
        "lda_model = models.LdaMulticore(bow_corpus, \n",
        "                                num_topics=num_of_topics, \n",
        "                                id2word=dictionary, \n",
        "                                passes=10, \n",
        "                                workers=2)"
      ],
      "metadata": {
        "colab": {
          "base_uri": "https://localhost:8080/"
        },
        "id": "GpGCUPDIpxvB",
        "outputId": "78d100fe-1c3a-478a-b66f-7c1a8f712d11"
      },
      "execution_count": 54,
      "outputs": [
        {
          "output_type": "stream",
          "name": "stderr",
          "text": [
            "/usr/local/lib/python3.8/dist-packages/gensim/models/ldamodel.py:1077: DeprecationWarning: Calling np.sum(generator) is deprecated, and in the future will give a different result. Use np.sum(np.fromiter(generator)) or the python sum builtin instead.\n",
            "  score += np.sum(cnt * logsumexp(Elogthetad + Elogbeta[:, int(id)]) for id, cnt in doc)\n",
            "/usr/local/lib/python3.8/dist-packages/gensim/models/ldamodel.py:1077: DeprecationWarning: Calling np.sum(generator) is deprecated, and in the future will give a different result. Use np.sum(np.fromiter(generator)) or the python sum builtin instead.\n",
            "  score += np.sum(cnt * logsumexp(Elogthetad + Elogbeta[:, int(id)]) for id, cnt in doc)\n",
            "/usr/local/lib/python3.8/dist-packages/gensim/models/ldamodel.py:1077: DeprecationWarning: Calling np.sum(generator) is deprecated, and in the future will give a different result. Use np.sum(np.fromiter(generator)) or the python sum builtin instead.\n",
            "  score += np.sum(cnt * logsumexp(Elogthetad + Elogbeta[:, int(id)]) for id, cnt in doc)\n",
            "/usr/local/lib/python3.8/dist-packages/gensim/models/ldamodel.py:1077: DeprecationWarning: Calling np.sum(generator) is deprecated, and in the future will give a different result. Use np.sum(np.fromiter(generator)) or the python sum builtin instead.\n",
            "  score += np.sum(cnt * logsumexp(Elogthetad + Elogbeta[:, int(id)]) for id, cnt in doc)\n",
            "/usr/local/lib/python3.8/dist-packages/gensim/models/ldamodel.py:1077: DeprecationWarning: Calling np.sum(generator) is deprecated, and in the future will give a different result. Use np.sum(np.fromiter(generator)) or the python sum builtin instead.\n",
            "  score += np.sum(cnt * logsumexp(Elogthetad + Elogbeta[:, int(id)]) for id, cnt in doc)\n",
            "/usr/local/lib/python3.8/dist-packages/gensim/models/ldamodel.py:1077: DeprecationWarning: Calling np.sum(generator) is deprecated, and in the future will give a different result. Use np.sum(np.fromiter(generator)) or the python sum builtin instead.\n",
            "  score += np.sum(cnt * logsumexp(Elogthetad + Elogbeta[:, int(id)]) for id, cnt in doc)\n",
            "/usr/local/lib/python3.8/dist-packages/gensim/models/ldamodel.py:1077: DeprecationWarning: Calling np.sum(generator) is deprecated, and in the future will give a different result. Use np.sum(np.fromiter(generator)) or the python sum builtin instead.\n",
            "  score += np.sum(cnt * logsumexp(Elogthetad + Elogbeta[:, int(id)]) for id, cnt in doc)\n",
            "/usr/local/lib/python3.8/dist-packages/gensim/models/ldamodel.py:1077: DeprecationWarning: Calling np.sum(generator) is deprecated, and in the future will give a different result. Use np.sum(np.fromiter(generator)) or the python sum builtin instead.\n",
            "  score += np.sum(cnt * logsumexp(Elogthetad + Elogbeta[:, int(id)]) for id, cnt in doc)\n",
            "/usr/local/lib/python3.8/dist-packages/gensim/models/ldamodel.py:1077: DeprecationWarning: Calling np.sum(generator) is deprecated, and in the future will give a different result. Use np.sum(np.fromiter(generator)) or the python sum builtin instead.\n",
            "  score += np.sum(cnt * logsumexp(Elogthetad + Elogbeta[:, int(id)]) for id, cnt in doc)\n",
            "/usr/local/lib/python3.8/dist-packages/gensim/models/ldamodel.py:1077: DeprecationWarning: Calling np.sum(generator) is deprecated, and in the future will give a different result. Use np.sum(np.fromiter(generator)) or the python sum builtin instead.\n",
            "  score += np.sum(cnt * logsumexp(Elogthetad + Elogbeta[:, int(id)]) for id, cnt in doc)\n",
            "/usr/local/lib/python3.8/dist-packages/gensim/models/ldamodel.py:1077: DeprecationWarning: Calling np.sum(generator) is deprecated, and in the future will give a different result. Use np.sum(np.fromiter(generator)) or the python sum builtin instead.\n",
            "  score += np.sum(cnt * logsumexp(Elogthetad + Elogbeta[:, int(id)]) for id, cnt in doc)\n",
            "/usr/local/lib/python3.8/dist-packages/gensim/models/ldamodel.py:1077: DeprecationWarning: Calling np.sum(generator) is deprecated, and in the future will give a different result. Use np.sum(np.fromiter(generator)) or the python sum builtin instead.\n",
            "  score += np.sum(cnt * logsumexp(Elogthetad + Elogbeta[:, int(id)]) for id, cnt in doc)\n",
            "/usr/local/lib/python3.8/dist-packages/gensim/models/ldamodel.py:1077: DeprecationWarning: Calling np.sum(generator) is deprecated, and in the future will give a different result. Use np.sum(np.fromiter(generator)) or the python sum builtin instead.\n",
            "  score += np.sum(cnt * logsumexp(Elogthetad + Elogbeta[:, int(id)]) for id, cnt in doc)\n",
            "/usr/local/lib/python3.8/dist-packages/gensim/models/ldamodel.py:1077: DeprecationWarning: Calling np.sum(generator) is deprecated, and in the future will give a different result. Use np.sum(np.fromiter(generator)) or the python sum builtin instead.\n",
            "  score += np.sum(cnt * logsumexp(Elogthetad + Elogbeta[:, int(id)]) for id, cnt in doc)\n",
            "/usr/local/lib/python3.8/dist-packages/gensim/models/ldamodel.py:1077: DeprecationWarning: Calling np.sum(generator) is deprecated, and in the future will give a different result. Use np.sum(np.fromiter(generator)) or the python sum builtin instead.\n",
            "  score += np.sum(cnt * logsumexp(Elogthetad + Elogbeta[:, int(id)]) for id, cnt in doc)\n",
            "/usr/local/lib/python3.8/dist-packages/gensim/models/ldamodel.py:1077: DeprecationWarning: Calling np.sum(generator) is deprecated, and in the future will give a different result. Use np.sum(np.fromiter(generator)) or the python sum builtin instead.\n",
            "  score += np.sum(cnt * logsumexp(Elogthetad + Elogbeta[:, int(id)]) for id, cnt in doc)\n",
            "/usr/local/lib/python3.8/dist-packages/gensim/models/ldamodel.py:1077: DeprecationWarning: Calling np.sum(generator) is deprecated, and in the future will give a different result. Use np.sum(np.fromiter(generator)) or the python sum builtin instead.\n",
            "  score += np.sum(cnt * logsumexp(Elogthetad + Elogbeta[:, int(id)]) for id, cnt in doc)\n",
            "/usr/local/lib/python3.8/dist-packages/gensim/models/ldamodel.py:1077: DeprecationWarning: Calling np.sum(generator) is deprecated, and in the future will give a different result. Use np.sum(np.fromiter(generator)) or the python sum builtin instead.\n",
            "  score += np.sum(cnt * logsumexp(Elogthetad + Elogbeta[:, int(id)]) for id, cnt in doc)\n",
            "/usr/local/lib/python3.8/dist-packages/gensim/models/ldamodel.py:1077: DeprecationWarning: Calling np.sum(generator) is deprecated, and in the future will give a different result. Use np.sum(np.fromiter(generator)) or the python sum builtin instead.\n",
            "  score += np.sum(cnt * logsumexp(Elogthetad + Elogbeta[:, int(id)]) for id, cnt in doc)\n",
            "/usr/local/lib/python3.8/dist-packages/gensim/models/ldamodel.py:1077: DeprecationWarning: Calling np.sum(generator) is deprecated, and in the future will give a different result. Use np.sum(np.fromiter(generator)) or the python sum builtin instead.\n",
            "  score += np.sum(cnt * logsumexp(Elogthetad + Elogbeta[:, int(id)]) for id, cnt in doc)\n",
            "/usr/local/lib/python3.8/dist-packages/gensim/models/ldamodel.py:1077: DeprecationWarning: Calling np.sum(generator) is deprecated, and in the future will give a different result. Use np.sum(np.fromiter(generator)) or the python sum builtin instead.\n",
            "  score += np.sum(cnt * logsumexp(Elogthetad + Elogbeta[:, int(id)]) for id, cnt in doc)\n",
            "/usr/local/lib/python3.8/dist-packages/gensim/models/ldamodel.py:1077: DeprecationWarning: Calling np.sum(generator) is deprecated, and in the future will give a different result. Use np.sum(np.fromiter(generator)) or the python sum builtin instead.\n",
            "  score += np.sum(cnt * logsumexp(Elogthetad + Elogbeta[:, int(id)]) for id, cnt in doc)\n",
            "/usr/local/lib/python3.8/dist-packages/gensim/models/ldamodel.py:1077: DeprecationWarning: Calling np.sum(generator) is deprecated, and in the future will give a different result. Use np.sum(np.fromiter(generator)) or the python sum builtin instead.\n",
            "  score += np.sum(cnt * logsumexp(Elogthetad + Elogbeta[:, int(id)]) for id, cnt in doc)\n",
            "/usr/local/lib/python3.8/dist-packages/gensim/models/ldamodel.py:1077: DeprecationWarning: Calling np.sum(generator) is deprecated, and in the future will give a different result. Use np.sum(np.fromiter(generator)) or the python sum builtin instead.\n",
            "  score += np.sum(cnt * logsumexp(Elogthetad + Elogbeta[:, int(id)]) for id, cnt in doc)\n",
            "/usr/local/lib/python3.8/dist-packages/gensim/models/ldamodel.py:1077: DeprecationWarning: Calling np.sum(generator) is deprecated, and in the future will give a different result. Use np.sum(np.fromiter(generator)) or the python sum builtin instead.\n",
            "  score += np.sum(cnt * logsumexp(Elogthetad + Elogbeta[:, int(id)]) for id, cnt in doc)\n",
            "/usr/local/lib/python3.8/dist-packages/gensim/models/ldamodel.py:1077: DeprecationWarning: Calling np.sum(generator) is deprecated, and in the future will give a different result. Use np.sum(np.fromiter(generator)) or the python sum builtin instead.\n",
            "  score += np.sum(cnt * logsumexp(Elogthetad + Elogbeta[:, int(id)]) for id, cnt in doc)\n",
            "/usr/local/lib/python3.8/dist-packages/gensim/models/ldamodel.py:1077: DeprecationWarning: Calling np.sum(generator) is deprecated, and in the future will give a different result. Use np.sum(np.fromiter(generator)) or the python sum builtin instead.\n",
            "  score += np.sum(cnt * logsumexp(Elogthetad + Elogbeta[:, int(id)]) for id, cnt in doc)\n",
            "/usr/local/lib/python3.8/dist-packages/gensim/models/ldamodel.py:1077: DeprecationWarning: Calling np.sum(generator) is deprecated, and in the future will give a different result. Use np.sum(np.fromiter(generator)) or the python sum builtin instead.\n",
            "  score += np.sum(cnt * logsumexp(Elogthetad + Elogbeta[:, int(id)]) for id, cnt in doc)\n",
            "/usr/local/lib/python3.8/dist-packages/gensim/models/ldamodel.py:1077: DeprecationWarning: Calling np.sum(generator) is deprecated, and in the future will give a different result. Use np.sum(np.fromiter(generator)) or the python sum builtin instead.\n",
            "  score += np.sum(cnt * logsumexp(Elogthetad + Elogbeta[:, int(id)]) for id, cnt in doc)\n",
            "/usr/local/lib/python3.8/dist-packages/gensim/models/ldamodel.py:1077: DeprecationWarning: Calling np.sum(generator) is deprecated, and in the future will give a different result. Use np.sum(np.fromiter(generator)) or the python sum builtin instead.\n",
            "  score += np.sum(cnt * logsumexp(Elogthetad + Elogbeta[:, int(id)]) for id, cnt in doc)\n",
            "/usr/local/lib/python3.8/dist-packages/gensim/models/ldamodel.py:1077: DeprecationWarning: Calling np.sum(generator) is deprecated, and in the future will give a different result. Use np.sum(np.fromiter(generator)) or the python sum builtin instead.\n",
            "  score += np.sum(cnt * logsumexp(Elogthetad + Elogbeta[:, int(id)]) for id, cnt in doc)\n",
            "/usr/local/lib/python3.8/dist-packages/gensim/models/ldamodel.py:1077: DeprecationWarning: Calling np.sum(generator) is deprecated, and in the future will give a different result. Use np.sum(np.fromiter(generator)) or the python sum builtin instead.\n",
            "  score += np.sum(cnt * logsumexp(Elogthetad + Elogbeta[:, int(id)]) for id, cnt in doc)\n",
            "/usr/local/lib/python3.8/dist-packages/gensim/models/ldamodel.py:1077: DeprecationWarning: Calling np.sum(generator) is deprecated, and in the future will give a different result. Use np.sum(np.fromiter(generator)) or the python sum builtin instead.\n",
            "  score += np.sum(cnt * logsumexp(Elogthetad + Elogbeta[:, int(id)]) for id, cnt in doc)\n",
            "/usr/local/lib/python3.8/dist-packages/gensim/models/ldamodel.py:1077: DeprecationWarning: Calling np.sum(generator) is deprecated, and in the future will give a different result. Use np.sum(np.fromiter(generator)) or the python sum builtin instead.\n",
            "  score += np.sum(cnt * logsumexp(Elogthetad + Elogbeta[:, int(id)]) for id, cnt in doc)\n",
            "/usr/local/lib/python3.8/dist-packages/gensim/models/ldamodel.py:1077: DeprecationWarning: Calling np.sum(generator) is deprecated, and in the future will give a different result. Use np.sum(np.fromiter(generator)) or the python sum builtin instead.\n",
            "  score += np.sum(cnt * logsumexp(Elogthetad + Elogbeta[:, int(id)]) for id, cnt in doc)\n",
            "/usr/local/lib/python3.8/dist-packages/gensim/models/ldamodel.py:1077: DeprecationWarning: Calling np.sum(generator) is deprecated, and in the future will give a different result. Use np.sum(np.fromiter(generator)) or the python sum builtin instead.\n",
            "  score += np.sum(cnt * logsumexp(Elogthetad + Elogbeta[:, int(id)]) for id, cnt in doc)\n",
            "/usr/local/lib/python3.8/dist-packages/gensim/models/ldamodel.py:1077: DeprecationWarning: Calling np.sum(generator) is deprecated, and in the future will give a different result. Use np.sum(np.fromiter(generator)) or the python sum builtin instead.\n",
            "  score += np.sum(cnt * logsumexp(Elogthetad + Elogbeta[:, int(id)]) for id, cnt in doc)\n",
            "/usr/local/lib/python3.8/dist-packages/gensim/models/ldamodel.py:1077: DeprecationWarning: Calling np.sum(generator) is deprecated, and in the future will give a different result. Use np.sum(np.fromiter(generator)) or the python sum builtin instead.\n",
            "  score += np.sum(cnt * logsumexp(Elogthetad + Elogbeta[:, int(id)]) for id, cnt in doc)\n",
            "/usr/local/lib/python3.8/dist-packages/gensim/models/ldamodel.py:1077: DeprecationWarning: Calling np.sum(generator) is deprecated, and in the future will give a different result. Use np.sum(np.fromiter(generator)) or the python sum builtin instead.\n",
            "  score += np.sum(cnt * logsumexp(Elogthetad + Elogbeta[:, int(id)]) for id, cnt in doc)\n",
            "/usr/local/lib/python3.8/dist-packages/gensim/models/ldamodel.py:1077: DeprecationWarning: Calling np.sum(generator) is deprecated, and in the future will give a different result. Use np.sum(np.fromiter(generator)) or the python sum builtin instead.\n",
            "  score += np.sum(cnt * logsumexp(Elogthetad + Elogbeta[:, int(id)]) for id, cnt in doc)\n",
            "/usr/local/lib/python3.8/dist-packages/gensim/models/ldamodel.py:1077: DeprecationWarning: Calling np.sum(generator) is deprecated, and in the future will give a different result. Use np.sum(np.fromiter(generator)) or the python sum builtin instead.\n",
            "  score += np.sum(cnt * logsumexp(Elogthetad + Elogbeta[:, int(id)]) for id, cnt in doc)\n",
            "/usr/local/lib/python3.8/dist-packages/gensim/models/ldamodel.py:1077: DeprecationWarning: Calling np.sum(generator) is deprecated, and in the future will give a different result. Use np.sum(np.fromiter(generator)) or the python sum builtin instead.\n",
            "  score += np.sum(cnt * logsumexp(Elogthetad + Elogbeta[:, int(id)]) for id, cnt in doc)\n",
            "/usr/local/lib/python3.8/dist-packages/gensim/models/ldamodel.py:1077: DeprecationWarning: Calling np.sum(generator) is deprecated, and in the future will give a different result. Use np.sum(np.fromiter(generator)) or the python sum builtin instead.\n",
            "  score += np.sum(cnt * logsumexp(Elogthetad + Elogbeta[:, int(id)]) for id, cnt in doc)\n",
            "/usr/local/lib/python3.8/dist-packages/gensim/models/ldamodel.py:1077: DeprecationWarning: Calling np.sum(generator) is deprecated, and in the future will give a different result. Use np.sum(np.fromiter(generator)) or the python sum builtin instead.\n",
            "  score += np.sum(cnt * logsumexp(Elogthetad + Elogbeta[:, int(id)]) for id, cnt in doc)\n",
            "/usr/local/lib/python3.8/dist-packages/gensim/models/ldamodel.py:1077: DeprecationWarning: Calling np.sum(generator) is deprecated, and in the future will give a different result. Use np.sum(np.fromiter(generator)) or the python sum builtin instead.\n",
            "  score += np.sum(cnt * logsumexp(Elogthetad + Elogbeta[:, int(id)]) for id, cnt in doc)\n",
            "/usr/local/lib/python3.8/dist-packages/gensim/models/ldamodel.py:1077: DeprecationWarning: Calling np.sum(generator) is deprecated, and in the future will give a different result. Use np.sum(np.fromiter(generator)) or the python sum builtin instead.\n",
            "  score += np.sum(cnt * logsumexp(Elogthetad + Elogbeta[:, int(id)]) for id, cnt in doc)\n",
            "/usr/local/lib/python3.8/dist-packages/gensim/models/ldamodel.py:1077: DeprecationWarning: Calling np.sum(generator) is deprecated, and in the future will give a different result. Use np.sum(np.fromiter(generator)) or the python sum builtin instead.\n",
            "  score += np.sum(cnt * logsumexp(Elogthetad + Elogbeta[:, int(id)]) for id, cnt in doc)\n",
            "/usr/local/lib/python3.8/dist-packages/gensim/models/ldamodel.py:1077: DeprecationWarning: Calling np.sum(generator) is deprecated, and in the future will give a different result. Use np.sum(np.fromiter(generator)) or the python sum builtin instead.\n",
            "  score += np.sum(cnt * logsumexp(Elogthetad + Elogbeta[:, int(id)]) for id, cnt in doc)\n",
            "/usr/local/lib/python3.8/dist-packages/gensim/models/ldamodel.py:1077: DeprecationWarning: Calling np.sum(generator) is deprecated, and in the future will give a different result. Use np.sum(np.fromiter(generator)) or the python sum builtin instead.\n",
            "  score += np.sum(cnt * logsumexp(Elogthetad + Elogbeta[:, int(id)]) for id, cnt in doc)\n",
            "/usr/local/lib/python3.8/dist-packages/gensim/models/ldamodel.py:1077: DeprecationWarning: Calling np.sum(generator) is deprecated, and in the future will give a different result. Use np.sum(np.fromiter(generator)) or the python sum builtin instead.\n",
            "  score += np.sum(cnt * logsumexp(Elogthetad + Elogbeta[:, int(id)]) for id, cnt in doc)\n",
            "/usr/local/lib/python3.8/dist-packages/gensim/models/ldamodel.py:1077: DeprecationWarning: Calling np.sum(generator) is deprecated, and in the future will give a different result. Use np.sum(np.fromiter(generator)) or the python sum builtin instead.\n",
            "  score += np.sum(cnt * logsumexp(Elogthetad + Elogbeta[:, int(id)]) for id, cnt in doc)\n",
            "/usr/local/lib/python3.8/dist-packages/gensim/models/ldamodel.py:1077: DeprecationWarning: Calling np.sum(generator) is deprecated, and in the future will give a different result. Use np.sum(np.fromiter(generator)) or the python sum builtin instead.\n",
            "  score += np.sum(cnt * logsumexp(Elogthetad + Elogbeta[:, int(id)]) for id, cnt in doc)\n",
            "/usr/local/lib/python3.8/dist-packages/gensim/models/ldamodel.py:1077: DeprecationWarning: Calling np.sum(generator) is deprecated, and in the future will give a different result. Use np.sum(np.fromiter(generator)) or the python sum builtin instead.\n",
            "  score += np.sum(cnt * logsumexp(Elogthetad + Elogbeta[:, int(id)]) for id, cnt in doc)\n",
            "/usr/local/lib/python3.8/dist-packages/gensim/models/ldamodel.py:1077: DeprecationWarning: Calling np.sum(generator) is deprecated, and in the future will give a different result. Use np.sum(np.fromiter(generator)) or the python sum builtin instead.\n",
            "  score += np.sum(cnt * logsumexp(Elogthetad + Elogbeta[:, int(id)]) for id, cnt in doc)\n",
            "/usr/local/lib/python3.8/dist-packages/gensim/models/ldamodel.py:1077: DeprecationWarning: Calling np.sum(generator) is deprecated, and in the future will give a different result. Use np.sum(np.fromiter(generator)) or the python sum builtin instead.\n",
            "  score += np.sum(cnt * logsumexp(Elogthetad + Elogbeta[:, int(id)]) for id, cnt in doc)\n",
            "/usr/local/lib/python3.8/dist-packages/gensim/models/ldamodel.py:1077: DeprecationWarning: Calling np.sum(generator) is deprecated, and in the future will give a different result. Use np.sum(np.fromiter(generator)) or the python sum builtin instead.\n",
            "  score += np.sum(cnt * logsumexp(Elogthetad + Elogbeta[:, int(id)]) for id, cnt in doc)\n",
            "/usr/local/lib/python3.8/dist-packages/gensim/models/ldamodel.py:1077: DeprecationWarning: Calling np.sum(generator) is deprecated, and in the future will give a different result. Use np.sum(np.fromiter(generator)) or the python sum builtin instead.\n",
            "  score += np.sum(cnt * logsumexp(Elogthetad + Elogbeta[:, int(id)]) for id, cnt in doc)\n",
            "/usr/local/lib/python3.8/dist-packages/gensim/models/ldamodel.py:1077: DeprecationWarning: Calling np.sum(generator) is deprecated, and in the future will give a different result. Use np.sum(np.fromiter(generator)) or the python sum builtin instead.\n",
            "  score += np.sum(cnt * logsumexp(Elogthetad + Elogbeta[:, int(id)]) for id, cnt in doc)\n",
            "/usr/local/lib/python3.8/dist-packages/gensim/models/ldamodel.py:1077: DeprecationWarning: Calling np.sum(generator) is deprecated, and in the future will give a different result. Use np.sum(np.fromiter(generator)) or the python sum builtin instead.\n",
            "  score += np.sum(cnt * logsumexp(Elogthetad + Elogbeta[:, int(id)]) for id, cnt in doc)\n",
            "/usr/local/lib/python3.8/dist-packages/gensim/models/ldamodel.py:1077: DeprecationWarning: Calling np.sum(generator) is deprecated, and in the future will give a different result. Use np.sum(np.fromiter(generator)) or the python sum builtin instead.\n",
            "  score += np.sum(cnt * logsumexp(Elogthetad + Elogbeta[:, int(id)]) for id, cnt in doc)\n",
            "/usr/local/lib/python3.8/dist-packages/gensim/models/ldamodel.py:1077: DeprecationWarning: Calling np.sum(generator) is deprecated, and in the future will give a different result. Use np.sum(np.fromiter(generator)) or the python sum builtin instead.\n",
            "  score += np.sum(cnt * logsumexp(Elogthetad + Elogbeta[:, int(id)]) for id, cnt in doc)\n",
            "/usr/local/lib/python3.8/dist-packages/gensim/models/ldamodel.py:1077: DeprecationWarning: Calling np.sum(generator) is deprecated, and in the future will give a different result. Use np.sum(np.fromiter(generator)) or the python sum builtin instead.\n",
            "  score += np.sum(cnt * logsumexp(Elogthetad + Elogbeta[:, int(id)]) for id, cnt in doc)\n",
            "/usr/local/lib/python3.8/dist-packages/gensim/models/ldamodel.py:1077: DeprecationWarning: Calling np.sum(generator) is deprecated, and in the future will give a different result. Use np.sum(np.fromiter(generator)) or the python sum builtin instead.\n",
            "  score += np.sum(cnt * logsumexp(Elogthetad + Elogbeta[:, int(id)]) for id, cnt in doc)\n",
            "/usr/local/lib/python3.8/dist-packages/gensim/models/ldamodel.py:1077: DeprecationWarning: Calling np.sum(generator) is deprecated, and in the future will give a different result. Use np.sum(np.fromiter(generator)) or the python sum builtin instead.\n",
            "  score += np.sum(cnt * logsumexp(Elogthetad + Elogbeta[:, int(id)]) for id, cnt in doc)\n",
            "/usr/local/lib/python3.8/dist-packages/gensim/models/ldamodel.py:1077: DeprecationWarning: Calling np.sum(generator) is deprecated, and in the future will give a different result. Use np.sum(np.fromiter(generator)) or the python sum builtin instead.\n",
            "  score += np.sum(cnt * logsumexp(Elogthetad + Elogbeta[:, int(id)]) for id, cnt in doc)\n",
            "/usr/local/lib/python3.8/dist-packages/gensim/models/ldamodel.py:1077: DeprecationWarning: Calling np.sum(generator) is deprecated, and in the future will give a different result. Use np.sum(np.fromiter(generator)) or the python sum builtin instead.\n",
            "  score += np.sum(cnt * logsumexp(Elogthetad + Elogbeta[:, int(id)]) for id, cnt in doc)\n",
            "/usr/local/lib/python3.8/dist-packages/gensim/models/ldamodel.py:1077: DeprecationWarning: Calling np.sum(generator) is deprecated, and in the future will give a different result. Use np.sum(np.fromiter(generator)) or the python sum builtin instead.\n",
            "  score += np.sum(cnt * logsumexp(Elogthetad + Elogbeta[:, int(id)]) for id, cnt in doc)\n",
            "/usr/local/lib/python3.8/dist-packages/gensim/models/ldamodel.py:1077: DeprecationWarning: Calling np.sum(generator) is deprecated, and in the future will give a different result. Use np.sum(np.fromiter(generator)) or the python sum builtin instead.\n",
            "  score += np.sum(cnt * logsumexp(Elogthetad + Elogbeta[:, int(id)]) for id, cnt in doc)\n",
            "/usr/local/lib/python3.8/dist-packages/gensim/models/ldamodel.py:1077: DeprecationWarning: Calling np.sum(generator) is deprecated, and in the future will give a different result. Use np.sum(np.fromiter(generator)) or the python sum builtin instead.\n",
            "  score += np.sum(cnt * logsumexp(Elogthetad + Elogbeta[:, int(id)]) for id, cnt in doc)\n",
            "/usr/local/lib/python3.8/dist-packages/gensim/models/ldamodel.py:1077: DeprecationWarning: Calling np.sum(generator) is deprecated, and in the future will give a different result. Use np.sum(np.fromiter(generator)) or the python sum builtin instead.\n",
            "  score += np.sum(cnt * logsumexp(Elogthetad + Elogbeta[:, int(id)]) for id, cnt in doc)\n",
            "/usr/local/lib/python3.8/dist-packages/gensim/models/ldamodel.py:1077: DeprecationWarning: Calling np.sum(generator) is deprecated, and in the future will give a different result. Use np.sum(np.fromiter(generator)) or the python sum builtin instead.\n",
            "  score += np.sum(cnt * logsumexp(Elogthetad + Elogbeta[:, int(id)]) for id, cnt in doc)\n",
            "/usr/local/lib/python3.8/dist-packages/gensim/models/ldamodel.py:1077: DeprecationWarning: Calling np.sum(generator) is deprecated, and in the future will give a different result. Use np.sum(np.fromiter(generator)) or the python sum builtin instead.\n",
            "  score += np.sum(cnt * logsumexp(Elogthetad + Elogbeta[:, int(id)]) for id, cnt in doc)\n",
            "/usr/local/lib/python3.8/dist-packages/gensim/models/ldamodel.py:1077: DeprecationWarning: Calling np.sum(generator) is deprecated, and in the future will give a different result. Use np.sum(np.fromiter(generator)) or the python sum builtin instead.\n",
            "  score += np.sum(cnt * logsumexp(Elogthetad + Elogbeta[:, int(id)]) for id, cnt in doc)\n",
            "/usr/local/lib/python3.8/dist-packages/gensim/models/ldamodel.py:1077: DeprecationWarning: Calling np.sum(generator) is deprecated, and in the future will give a different result. Use np.sum(np.fromiter(generator)) or the python sum builtin instead.\n",
            "  score += np.sum(cnt * logsumexp(Elogthetad + Elogbeta[:, int(id)]) for id, cnt in doc)\n",
            "/usr/local/lib/python3.8/dist-packages/gensim/models/ldamodel.py:1077: DeprecationWarning: Calling np.sum(generator) is deprecated, and in the future will give a different result. Use np.sum(np.fromiter(generator)) or the python sum builtin instead.\n",
            "  score += np.sum(cnt * logsumexp(Elogthetad + Elogbeta[:, int(id)]) for id, cnt in doc)\n",
            "/usr/local/lib/python3.8/dist-packages/gensim/models/ldamodel.py:1077: DeprecationWarning: Calling np.sum(generator) is deprecated, and in the future will give a different result. Use np.sum(np.fromiter(generator)) or the python sum builtin instead.\n",
            "  score += np.sum(cnt * logsumexp(Elogthetad + Elogbeta[:, int(id)]) for id, cnt in doc)\n",
            "/usr/local/lib/python3.8/dist-packages/gensim/models/ldamodel.py:1077: DeprecationWarning: Calling np.sum(generator) is deprecated, and in the future will give a different result. Use np.sum(np.fromiter(generator)) or the python sum builtin instead.\n",
            "  score += np.sum(cnt * logsumexp(Elogthetad + Elogbeta[:, int(id)]) for id, cnt in doc)\n",
            "/usr/local/lib/python3.8/dist-packages/gensim/models/ldamodel.py:1077: DeprecationWarning: Calling np.sum(generator) is deprecated, and in the future will give a different result. Use np.sum(np.fromiter(generator)) or the python sum builtin instead.\n",
            "  score += np.sum(cnt * logsumexp(Elogthetad + Elogbeta[:, int(id)]) for id, cnt in doc)\n",
            "/usr/local/lib/python3.8/dist-packages/gensim/models/ldamodel.py:1077: DeprecationWarning: Calling np.sum(generator) is deprecated, and in the future will give a different result. Use np.sum(np.fromiter(generator)) or the python sum builtin instead.\n",
            "  score += np.sum(cnt * logsumexp(Elogthetad + Elogbeta[:, int(id)]) for id, cnt in doc)\n",
            "/usr/local/lib/python3.8/dist-packages/gensim/models/ldamodel.py:1077: DeprecationWarning: Calling np.sum(generator) is deprecated, and in the future will give a different result. Use np.sum(np.fromiter(generator)) or the python sum builtin instead.\n",
            "  score += np.sum(cnt * logsumexp(Elogthetad + Elogbeta[:, int(id)]) for id, cnt in doc)\n",
            "/usr/local/lib/python3.8/dist-packages/gensim/models/ldamodel.py:1077: DeprecationWarning: Calling np.sum(generator) is deprecated, and in the future will give a different result. Use np.sum(np.fromiter(generator)) or the python sum builtin instead.\n",
            "  score += np.sum(cnt * logsumexp(Elogthetad + Elogbeta[:, int(id)]) for id, cnt in doc)\n",
            "/usr/local/lib/python3.8/dist-packages/gensim/models/ldamodel.py:1077: DeprecationWarning: Calling np.sum(generator) is deprecated, and in the future will give a different result. Use np.sum(np.fromiter(generator)) or the python sum builtin instead.\n",
            "  score += np.sum(cnt * logsumexp(Elogthetad + Elogbeta[:, int(id)]) for id, cnt in doc)\n",
            "/usr/local/lib/python3.8/dist-packages/gensim/models/ldamodel.py:1077: DeprecationWarning: Calling np.sum(generator) is deprecated, and in the future will give a different result. Use np.sum(np.fromiter(generator)) or the python sum builtin instead.\n",
            "  score += np.sum(cnt * logsumexp(Elogthetad + Elogbeta[:, int(id)]) for id, cnt in doc)\n",
            "/usr/local/lib/python3.8/dist-packages/gensim/models/ldamodel.py:1077: DeprecationWarning: Calling np.sum(generator) is deprecated, and in the future will give a different result. Use np.sum(np.fromiter(generator)) or the python sum builtin instead.\n",
            "  score += np.sum(cnt * logsumexp(Elogthetad + Elogbeta[:, int(id)]) for id, cnt in doc)\n",
            "/usr/local/lib/python3.8/dist-packages/gensim/models/ldamodel.py:1077: DeprecationWarning: Calling np.sum(generator) is deprecated, and in the future will give a different result. Use np.sum(np.fromiter(generator)) or the python sum builtin instead.\n",
            "  score += np.sum(cnt * logsumexp(Elogthetad + Elogbeta[:, int(id)]) for id, cnt in doc)\n",
            "/usr/local/lib/python3.8/dist-packages/gensim/models/ldamodel.py:1077: DeprecationWarning: Calling np.sum(generator) is deprecated, and in the future will give a different result. Use np.sum(np.fromiter(generator)) or the python sum builtin instead.\n",
            "  score += np.sum(cnt * logsumexp(Elogthetad + Elogbeta[:, int(id)]) for id, cnt in doc)\n",
            "/usr/local/lib/python3.8/dist-packages/gensim/models/ldamodel.py:1077: DeprecationWarning: Calling np.sum(generator) is deprecated, and in the future will give a different result. Use np.sum(np.fromiter(generator)) or the python sum builtin instead.\n",
            "  score += np.sum(cnt * logsumexp(Elogthetad + Elogbeta[:, int(id)]) for id, cnt in doc)\n",
            "/usr/local/lib/python3.8/dist-packages/gensim/models/ldamodel.py:1077: DeprecationWarning: Calling np.sum(generator) is deprecated, and in the future will give a different result. Use np.sum(np.fromiter(generator)) or the python sum builtin instead.\n",
            "  score += np.sum(cnt * logsumexp(Elogthetad + Elogbeta[:, int(id)]) for id, cnt in doc)\n",
            "/usr/local/lib/python3.8/dist-packages/gensim/models/ldamodel.py:1077: DeprecationWarning: Calling np.sum(generator) is deprecated, and in the future will give a different result. Use np.sum(np.fromiter(generator)) or the python sum builtin instead.\n",
            "  score += np.sum(cnt * logsumexp(Elogthetad + Elogbeta[:, int(id)]) for id, cnt in doc)\n",
            "/usr/local/lib/python3.8/dist-packages/gensim/models/ldamodel.py:1077: DeprecationWarning: Calling np.sum(generator) is deprecated, and in the future will give a different result. Use np.sum(np.fromiter(generator)) or the python sum builtin instead.\n",
            "  score += np.sum(cnt * logsumexp(Elogthetad + Elogbeta[:, int(id)]) for id, cnt in doc)\n",
            "/usr/local/lib/python3.8/dist-packages/gensim/models/ldamodel.py:1077: DeprecationWarning: Calling np.sum(generator) is deprecated, and in the future will give a different result. Use np.sum(np.fromiter(generator)) or the python sum builtin instead.\n",
            "  score += np.sum(cnt * logsumexp(Elogthetad + Elogbeta[:, int(id)]) for id, cnt in doc)\n",
            "/usr/local/lib/python3.8/dist-packages/gensim/models/ldamodel.py:1077: DeprecationWarning: Calling np.sum(generator) is deprecated, and in the future will give a different result. Use np.sum(np.fromiter(generator)) or the python sum builtin instead.\n",
            "  score += np.sum(cnt * logsumexp(Elogthetad + Elogbeta[:, int(id)]) for id, cnt in doc)\n",
            "/usr/local/lib/python3.8/dist-packages/gensim/models/ldamodel.py:1077: DeprecationWarning: Calling np.sum(generator) is deprecated, and in the future will give a different result. Use np.sum(np.fromiter(generator)) or the python sum builtin instead.\n",
            "  score += np.sum(cnt * logsumexp(Elogthetad + Elogbeta[:, int(id)]) for id, cnt in doc)\n",
            "/usr/local/lib/python3.8/dist-packages/gensim/models/ldamodel.py:1077: DeprecationWarning: Calling np.sum(generator) is deprecated, and in the future will give a different result. Use np.sum(np.fromiter(generator)) or the python sum builtin instead.\n",
            "  score += np.sum(cnt * logsumexp(Elogthetad + Elogbeta[:, int(id)]) for id, cnt in doc)\n",
            "/usr/local/lib/python3.8/dist-packages/gensim/models/ldamodel.py:1077: DeprecationWarning: Calling np.sum(generator) is deprecated, and in the future will give a different result. Use np.sum(np.fromiter(generator)) or the python sum builtin instead.\n",
            "  score += np.sum(cnt * logsumexp(Elogthetad + Elogbeta[:, int(id)]) for id, cnt in doc)\n",
            "/usr/local/lib/python3.8/dist-packages/gensim/models/ldamodel.py:1077: DeprecationWarning: Calling np.sum(generator) is deprecated, and in the future will give a different result. Use np.sum(np.fromiter(generator)) or the python sum builtin instead.\n",
            "  score += np.sum(cnt * logsumexp(Elogthetad + Elogbeta[:, int(id)]) for id, cnt in doc)\n",
            "/usr/local/lib/python3.8/dist-packages/gensim/models/ldamodel.py:1077: DeprecationWarning: Calling np.sum(generator) is deprecated, and in the future will give a different result. Use np.sum(np.fromiter(generator)) or the python sum builtin instead.\n",
            "  score += np.sum(cnt * logsumexp(Elogthetad + Elogbeta[:, int(id)]) for id, cnt in doc)\n",
            "/usr/local/lib/python3.8/dist-packages/gensim/models/ldamodel.py:1077: DeprecationWarning: Calling np.sum(generator) is deprecated, and in the future will give a different result. Use np.sum(np.fromiter(generator)) or the python sum builtin instead.\n",
            "  score += np.sum(cnt * logsumexp(Elogthetad + Elogbeta[:, int(id)]) for id, cnt in doc)\n",
            "/usr/local/lib/python3.8/dist-packages/gensim/models/ldamodel.py:1077: DeprecationWarning: Calling np.sum(generator) is deprecated, and in the future will give a different result. Use np.sum(np.fromiter(generator)) or the python sum builtin instead.\n",
            "  score += np.sum(cnt * logsumexp(Elogthetad + Elogbeta[:, int(id)]) for id, cnt in doc)\n",
            "/usr/local/lib/python3.8/dist-packages/gensim/models/ldamodel.py:1077: DeprecationWarning: Calling np.sum(generator) is deprecated, and in the future will give a different result. Use np.sum(np.fromiter(generator)) or the python sum builtin instead.\n",
            "  score += np.sum(cnt * logsumexp(Elogthetad + Elogbeta[:, int(id)]) for id, cnt in doc)\n",
            "/usr/local/lib/python3.8/dist-packages/gensim/models/ldamodel.py:1077: DeprecationWarning: Calling np.sum(generator) is deprecated, and in the future will give a different result. Use np.sum(np.fromiter(generator)) or the python sum builtin instead.\n",
            "  score += np.sum(cnt * logsumexp(Elogthetad + Elogbeta[:, int(id)]) for id, cnt in doc)\n",
            "/usr/local/lib/python3.8/dist-packages/gensim/models/ldamodel.py:1077: DeprecationWarning: Calling np.sum(generator) is deprecated, and in the future will give a different result. Use np.sum(np.fromiter(generator)) or the python sum builtin instead.\n",
            "  score += np.sum(cnt * logsumexp(Elogthetad + Elogbeta[:, int(id)]) for id, cnt in doc)\n",
            "/usr/local/lib/python3.8/dist-packages/gensim/models/ldamodel.py:1077: DeprecationWarning: Calling np.sum(generator) is deprecated, and in the future will give a different result. Use np.sum(np.fromiter(generator)) or the python sum builtin instead.\n",
            "  score += np.sum(cnt * logsumexp(Elogthetad + Elogbeta[:, int(id)]) for id, cnt in doc)\n",
            "/usr/local/lib/python3.8/dist-packages/gensim/models/ldamodel.py:1077: DeprecationWarning: Calling np.sum(generator) is deprecated, and in the future will give a different result. Use np.sum(np.fromiter(generator)) or the python sum builtin instead.\n",
            "  score += np.sum(cnt * logsumexp(Elogthetad + Elogbeta[:, int(id)]) for id, cnt in doc)\n",
            "/usr/local/lib/python3.8/dist-packages/gensim/models/ldamodel.py:1077: DeprecationWarning: Calling np.sum(generator) is deprecated, and in the future will give a different result. Use np.sum(np.fromiter(generator)) or the python sum builtin instead.\n",
            "  score += np.sum(cnt * logsumexp(Elogthetad + Elogbeta[:, int(id)]) for id, cnt in doc)\n",
            "/usr/local/lib/python3.8/dist-packages/gensim/models/ldamodel.py:1077: DeprecationWarning: Calling np.sum(generator) is deprecated, and in the future will give a different result. Use np.sum(np.fromiter(generator)) or the python sum builtin instead.\n",
            "  score += np.sum(cnt * logsumexp(Elogthetad + Elogbeta[:, int(id)]) for id, cnt in doc)\n",
            "/usr/local/lib/python3.8/dist-packages/gensim/models/ldamodel.py:1077: DeprecationWarning: Calling np.sum(generator) is deprecated, and in the future will give a different result. Use np.sum(np.fromiter(generator)) or the python sum builtin instead.\n",
            "  score += np.sum(cnt * logsumexp(Elogthetad + Elogbeta[:, int(id)]) for id, cnt in doc)\n",
            "/usr/local/lib/python3.8/dist-packages/gensim/models/ldamodel.py:1077: DeprecationWarning: Calling np.sum(generator) is deprecated, and in the future will give a different result. Use np.sum(np.fromiter(generator)) or the python sum builtin instead.\n",
            "  score += np.sum(cnt * logsumexp(Elogthetad + Elogbeta[:, int(id)]) for id, cnt in doc)\n",
            "/usr/local/lib/python3.8/dist-packages/gensim/models/ldamodel.py:1077: DeprecationWarning: Calling np.sum(generator) is deprecated, and in the future will give a different result. Use np.sum(np.fromiter(generator)) or the python sum builtin instead.\n",
            "  score += np.sum(cnt * logsumexp(Elogthetad + Elogbeta[:, int(id)]) for id, cnt in doc)\n",
            "/usr/local/lib/python3.8/dist-packages/gensim/models/ldamodel.py:1077: DeprecationWarning: Calling np.sum(generator) is deprecated, and in the future will give a different result. Use np.sum(np.fromiter(generator)) or the python sum builtin instead.\n",
            "  score += np.sum(cnt * logsumexp(Elogthetad + Elogbeta[:, int(id)]) for id, cnt in doc)\n",
            "/usr/local/lib/python3.8/dist-packages/gensim/models/ldamodel.py:1077: DeprecationWarning: Calling np.sum(generator) is deprecated, and in the future will give a different result. Use np.sum(np.fromiter(generator)) or the python sum builtin instead.\n",
            "  score += np.sum(cnt * logsumexp(Elogthetad + Elogbeta[:, int(id)]) for id, cnt in doc)\n",
            "/usr/local/lib/python3.8/dist-packages/gensim/models/ldamodel.py:1077: DeprecationWarning: Calling np.sum(generator) is deprecated, and in the future will give a different result. Use np.sum(np.fromiter(generator)) or the python sum builtin instead.\n",
            "  score += np.sum(cnt * logsumexp(Elogthetad + Elogbeta[:, int(id)]) for id, cnt in doc)\n",
            "/usr/local/lib/python3.8/dist-packages/gensim/models/ldamodel.py:1077: DeprecationWarning: Calling np.sum(generator) is deprecated, and in the future will give a different result. Use np.sum(np.fromiter(generator)) or the python sum builtin instead.\n",
            "  score += np.sum(cnt * logsumexp(Elogthetad + Elogbeta[:, int(id)]) for id, cnt in doc)\n",
            "/usr/local/lib/python3.8/dist-packages/gensim/models/ldamodel.py:1077: DeprecationWarning: Calling np.sum(generator) is deprecated, and in the future will give a different result. Use np.sum(np.fromiter(generator)) or the python sum builtin instead.\n",
            "  score += np.sum(cnt * logsumexp(Elogthetad + Elogbeta[:, int(id)]) for id, cnt in doc)\n",
            "/usr/local/lib/python3.8/dist-packages/gensim/models/ldamodel.py:1077: DeprecationWarning: Calling np.sum(generator) is deprecated, and in the future will give a different result. Use np.sum(np.fromiter(generator)) or the python sum builtin instead.\n",
            "  score += np.sum(cnt * logsumexp(Elogthetad + Elogbeta[:, int(id)]) for id, cnt in doc)\n",
            "/usr/local/lib/python3.8/dist-packages/gensim/models/ldamodel.py:1077: DeprecationWarning: Calling np.sum(generator) is deprecated, and in the future will give a different result. Use np.sum(np.fromiter(generator)) or the python sum builtin instead.\n",
            "  score += np.sum(cnt * logsumexp(Elogthetad + Elogbeta[:, int(id)]) for id, cnt in doc)\n",
            "/usr/local/lib/python3.8/dist-packages/gensim/models/ldamodel.py:1077: DeprecationWarning: Calling np.sum(generator) is deprecated, and in the future will give a different result. Use np.sum(np.fromiter(generator)) or the python sum builtin instead.\n",
            "  score += np.sum(cnt * logsumexp(Elogthetad + Elogbeta[:, int(id)]) for id, cnt in doc)\n",
            "/usr/local/lib/python3.8/dist-packages/gensim/models/ldamodel.py:1077: DeprecationWarning: Calling np.sum(generator) is deprecated, and in the future will give a different result. Use np.sum(np.fromiter(generator)) or the python sum builtin instead.\n",
            "  score += np.sum(cnt * logsumexp(Elogthetad + Elogbeta[:, int(id)]) for id, cnt in doc)\n",
            "/usr/local/lib/python3.8/dist-packages/gensim/models/ldamodel.py:1077: DeprecationWarning: Calling np.sum(generator) is deprecated, and in the future will give a different result. Use np.sum(np.fromiter(generator)) or the python sum builtin instead.\n",
            "  score += np.sum(cnt * logsumexp(Elogthetad + Elogbeta[:, int(id)]) for id, cnt in doc)\n",
            "/usr/local/lib/python3.8/dist-packages/gensim/models/ldamodel.py:1077: DeprecationWarning: Calling np.sum(generator) is deprecated, and in the future will give a different result. Use np.sum(np.fromiter(generator)) or the python sum builtin instead.\n",
            "  score += np.sum(cnt * logsumexp(Elogthetad + Elogbeta[:, int(id)]) for id, cnt in doc)\n",
            "/usr/local/lib/python3.8/dist-packages/gensim/models/ldamodel.py:1077: DeprecationWarning: Calling np.sum(generator) is deprecated, and in the future will give a different result. Use np.sum(np.fromiter(generator)) or the python sum builtin instead.\n",
            "  score += np.sum(cnt * logsumexp(Elogthetad + Elogbeta[:, int(id)]) for id, cnt in doc)\n",
            "/usr/local/lib/python3.8/dist-packages/gensim/models/ldamodel.py:1077: DeprecationWarning: Calling np.sum(generator) is deprecated, and in the future will give a different result. Use np.sum(np.fromiter(generator)) or the python sum builtin instead.\n",
            "  score += np.sum(cnt * logsumexp(Elogthetad + Elogbeta[:, int(id)]) for id, cnt in doc)\n",
            "/usr/local/lib/python3.8/dist-packages/gensim/models/ldamodel.py:1077: DeprecationWarning: Calling np.sum(generator) is deprecated, and in the future will give a different result. Use np.sum(np.fromiter(generator)) or the python sum builtin instead.\n",
            "  score += np.sum(cnt * logsumexp(Elogthetad + Elogbeta[:, int(id)]) for id, cnt in doc)\n",
            "/usr/local/lib/python3.8/dist-packages/gensim/models/ldamodel.py:1077: DeprecationWarning: Calling np.sum(generator) is deprecated, and in the future will give a different result. Use np.sum(np.fromiter(generator)) or the python sum builtin instead.\n",
            "  score += np.sum(cnt * logsumexp(Elogthetad + Elogbeta[:, int(id)]) for id, cnt in doc)\n",
            "/usr/local/lib/python3.8/dist-packages/gensim/models/ldamodel.py:1077: DeprecationWarning: Calling np.sum(generator) is deprecated, and in the future will give a different result. Use np.sum(np.fromiter(generator)) or the python sum builtin instead.\n",
            "  score += np.sum(cnt * logsumexp(Elogthetad + Elogbeta[:, int(id)]) for id, cnt in doc)\n",
            "/usr/local/lib/python3.8/dist-packages/gensim/models/ldamodel.py:1077: DeprecationWarning: Calling np.sum(generator) is deprecated, and in the future will give a different result. Use np.sum(np.fromiter(generator)) or the python sum builtin instead.\n",
            "  score += np.sum(cnt * logsumexp(Elogthetad + Elogbeta[:, int(id)]) for id, cnt in doc)\n",
            "/usr/local/lib/python3.8/dist-packages/gensim/models/ldamodel.py:1077: DeprecationWarning: Calling np.sum(generator) is deprecated, and in the future will give a different result. Use np.sum(np.fromiter(generator)) or the python sum builtin instead.\n",
            "  score += np.sum(cnt * logsumexp(Elogthetad + Elogbeta[:, int(id)]) for id, cnt in doc)\n",
            "/usr/local/lib/python3.8/dist-packages/gensim/models/ldamodel.py:1077: DeprecationWarning: Calling np.sum(generator) is deprecated, and in the future will give a different result. Use np.sum(np.fromiter(generator)) or the python sum builtin instead.\n",
            "  score += np.sum(cnt * logsumexp(Elogthetad + Elogbeta[:, int(id)]) for id, cnt in doc)\n",
            "/usr/local/lib/python3.8/dist-packages/gensim/models/ldamodel.py:1077: DeprecationWarning: Calling np.sum(generator) is deprecated, and in the future will give a different result. Use np.sum(np.fromiter(generator)) or the python sum builtin instead.\n",
            "  score += np.sum(cnt * logsumexp(Elogthetad + Elogbeta[:, int(id)]) for id, cnt in doc)\n",
            "/usr/local/lib/python3.8/dist-packages/gensim/models/ldamodel.py:1077: DeprecationWarning: Calling np.sum(generator) is deprecated, and in the future will give a different result. Use np.sum(np.fromiter(generator)) or the python sum builtin instead.\n",
            "  score += np.sum(cnt * logsumexp(Elogthetad + Elogbeta[:, int(id)]) for id, cnt in doc)\n",
            "/usr/local/lib/python3.8/dist-packages/gensim/models/ldamodel.py:1077: DeprecationWarning: Calling np.sum(generator) is deprecated, and in the future will give a different result. Use np.sum(np.fromiter(generator)) or the python sum builtin instead.\n",
            "  score += np.sum(cnt * logsumexp(Elogthetad + Elogbeta[:, int(id)]) for id, cnt in doc)\n",
            "/usr/local/lib/python3.8/dist-packages/gensim/models/ldamodel.py:1077: DeprecationWarning: Calling np.sum(generator) is deprecated, and in the future will give a different result. Use np.sum(np.fromiter(generator)) or the python sum builtin instead.\n",
            "  score += np.sum(cnt * logsumexp(Elogthetad + Elogbeta[:, int(id)]) for id, cnt in doc)\n",
            "/usr/local/lib/python3.8/dist-packages/gensim/models/ldamodel.py:1077: DeprecationWarning: Calling np.sum(generator) is deprecated, and in the future will give a different result. Use np.sum(np.fromiter(generator)) or the python sum builtin instead.\n",
            "  score += np.sum(cnt * logsumexp(Elogthetad + Elogbeta[:, int(id)]) for id, cnt in doc)\n",
            "/usr/local/lib/python3.8/dist-packages/gensim/models/ldamodel.py:1077: DeprecationWarning: Calling np.sum(generator) is deprecated, and in the future will give a different result. Use np.sum(np.fromiter(generator)) or the python sum builtin instead.\n",
            "  score += np.sum(cnt * logsumexp(Elogthetad + Elogbeta[:, int(id)]) for id, cnt in doc)\n",
            "/usr/local/lib/python3.8/dist-packages/gensim/models/ldamodel.py:1077: DeprecationWarning: Calling np.sum(generator) is deprecated, and in the future will give a different result. Use np.sum(np.fromiter(generator)) or the python sum builtin instead.\n",
            "  score += np.sum(cnt * logsumexp(Elogthetad + Elogbeta[:, int(id)]) for id, cnt in doc)\n",
            "/usr/local/lib/python3.8/dist-packages/gensim/models/ldamodel.py:1077: DeprecationWarning: Calling np.sum(generator) is deprecated, and in the future will give a different result. Use np.sum(np.fromiter(generator)) or the python sum builtin instead.\n",
            "  score += np.sum(cnt * logsumexp(Elogthetad + Elogbeta[:, int(id)]) for id, cnt in doc)\n",
            "/usr/local/lib/python3.8/dist-packages/gensim/models/ldamodel.py:1077: DeprecationWarning: Calling np.sum(generator) is deprecated, and in the future will give a different result. Use np.sum(np.fromiter(generator)) or the python sum builtin instead.\n",
            "  score += np.sum(cnt * logsumexp(Elogthetad + Elogbeta[:, int(id)]) for id, cnt in doc)\n",
            "/usr/local/lib/python3.8/dist-packages/gensim/models/ldamodel.py:1077: DeprecationWarning: Calling np.sum(generator) is deprecated, and in the future will give a different result. Use np.sum(np.fromiter(generator)) or the python sum builtin instead.\n",
            "  score += np.sum(cnt * logsumexp(Elogthetad + Elogbeta[:, int(id)]) for id, cnt in doc)\n",
            "/usr/local/lib/python3.8/dist-packages/gensim/models/ldamodel.py:1077: DeprecationWarning: Calling np.sum(generator) is deprecated, and in the future will give a different result. Use np.sum(np.fromiter(generator)) or the python sum builtin instead.\n",
            "  score += np.sum(cnt * logsumexp(Elogthetad + Elogbeta[:, int(id)]) for id, cnt in doc)\n",
            "/usr/local/lib/python3.8/dist-packages/gensim/models/ldamodel.py:1077: DeprecationWarning: Calling np.sum(generator) is deprecated, and in the future will give a different result. Use np.sum(np.fromiter(generator)) or the python sum builtin instead.\n",
            "  score += np.sum(cnt * logsumexp(Elogthetad + Elogbeta[:, int(id)]) for id, cnt in doc)\n",
            "/usr/local/lib/python3.8/dist-packages/gensim/models/ldamodel.py:1077: DeprecationWarning: Calling np.sum(generator) is deprecated, and in the future will give a different result. Use np.sum(np.fromiter(generator)) or the python sum builtin instead.\n",
            "  score += np.sum(cnt * logsumexp(Elogthetad + Elogbeta[:, int(id)]) for id, cnt in doc)\n",
            "/usr/local/lib/python3.8/dist-packages/gensim/models/ldamodel.py:1077: DeprecationWarning: Calling np.sum(generator) is deprecated, and in the future will give a different result. Use np.sum(np.fromiter(generator)) or the python sum builtin instead.\n",
            "  score += np.sum(cnt * logsumexp(Elogthetad + Elogbeta[:, int(id)]) for id, cnt in doc)\n",
            "/usr/local/lib/python3.8/dist-packages/gensim/models/ldamodel.py:1077: DeprecationWarning: Calling np.sum(generator) is deprecated, and in the future will give a different result. Use np.sum(np.fromiter(generator)) or the python sum builtin instead.\n",
            "  score += np.sum(cnt * logsumexp(Elogthetad + Elogbeta[:, int(id)]) for id, cnt in doc)\n",
            "/usr/local/lib/python3.8/dist-packages/gensim/models/ldamodel.py:1077: DeprecationWarning: Calling np.sum(generator) is deprecated, and in the future will give a different result. Use np.sum(np.fromiter(generator)) or the python sum builtin instead.\n",
            "  score += np.sum(cnt * logsumexp(Elogthetad + Elogbeta[:, int(id)]) for id, cnt in doc)\n",
            "/usr/local/lib/python3.8/dist-packages/gensim/models/ldamodel.py:1077: DeprecationWarning: Calling np.sum(generator) is deprecated, and in the future will give a different result. Use np.sum(np.fromiter(generator)) or the python sum builtin instead.\n",
            "  score += np.sum(cnt * logsumexp(Elogthetad + Elogbeta[:, int(id)]) for id, cnt in doc)\n",
            "/usr/local/lib/python3.8/dist-packages/gensim/models/ldamodel.py:1077: DeprecationWarning: Calling np.sum(generator) is deprecated, and in the future will give a different result. Use np.sum(np.fromiter(generator)) or the python sum builtin instead.\n",
            "  score += np.sum(cnt * logsumexp(Elogthetad + Elogbeta[:, int(id)]) for id, cnt in doc)\n",
            "/usr/local/lib/python3.8/dist-packages/gensim/models/ldamodel.py:1077: DeprecationWarning: Calling np.sum(generator) is deprecated, and in the future will give a different result. Use np.sum(np.fromiter(generator)) or the python sum builtin instead.\n",
            "  score += np.sum(cnt * logsumexp(Elogthetad + Elogbeta[:, int(id)]) for id, cnt in doc)\n",
            "/usr/local/lib/python3.8/dist-packages/gensim/models/ldamodel.py:1077: DeprecationWarning: Calling np.sum(generator) is deprecated, and in the future will give a different result. Use np.sum(np.fromiter(generator)) or the python sum builtin instead.\n",
            "  score += np.sum(cnt * logsumexp(Elogthetad + Elogbeta[:, int(id)]) for id, cnt in doc)\n",
            "/usr/local/lib/python3.8/dist-packages/gensim/models/ldamodel.py:1077: DeprecationWarning: Calling np.sum(generator) is deprecated, and in the future will give a different result. Use np.sum(np.fromiter(generator)) or the python sum builtin instead.\n",
            "  score += np.sum(cnt * logsumexp(Elogthetad + Elogbeta[:, int(id)]) for id, cnt in doc)\n",
            "/usr/local/lib/python3.8/dist-packages/gensim/models/ldamodel.py:1077: DeprecationWarning: Calling np.sum(generator) is deprecated, and in the future will give a different result. Use np.sum(np.fromiter(generator)) or the python sum builtin instead.\n",
            "  score += np.sum(cnt * logsumexp(Elogthetad + Elogbeta[:, int(id)]) for id, cnt in doc)\n"
          ]
        }
      ]
    },
    {
      "cell_type": "code",
      "source": [
        "for idx, topic in lda_model.print_topics(num_of_topics):\n",
        "    print(f'Topic: {idx} \\t Words: {topic}')"
      ],
      "metadata": {
        "id": "pUFKZu13rC-V",
        "outputId": "b4bb7af8-c87f-4e95-ddce-c7d8ab9faf61",
        "colab": {
          "base_uri": "https://localhost:8080/"
        }
      },
      "execution_count": 20,
      "outputs": [
        {
          "output_type": "stream",
          "name": "stdout",
          "text": [
            "Topic: 0 \t Words: 0.028*\"ball\" + 0.028*\"tabl\" + 0.021*\"player\" + 0.014*\"rule\" + 0.014*\"must\" + 0.014*\"play\" + 0.014*\"side\" + 0.014*\"return\" + 0.014*\"bounc\" + 0.008*\"also\"\n",
            "Topic: 1 \t Words: 0.057*\"dosa\" + 0.017*\"origin\" + 0.017*\"udupi\" + 0.017*\"present\" + 0.017*\"karnataka\" + 0.017*\"popular\" + 0.012*\"made\" + 0.012*\"accord\" + 0.012*\"tamil\" + 0.012*\"centuri\"\n",
            "Topic: 2 \t Words: 0.023*\"minist\" + 0.018*\"prime\" + 0.016*\"elect\" + 0.013*\"play\" + 0.012*\"born\" + 0.011*\"septemb\" + 0.009*\"elizabeth\" + 0.009*\"world\" + 0.009*\"serv\" + 0.009*\"team\"\n",
            "Topic: 3 \t Words: 0.036*\"noodl\" + 0.016*\"minist\" + 0.016*\"modi\" + 0.016*\"gujarat\" + 0.012*\"sinc\" + 0.012*\"common\" + 0.012*\"improv\" + 0.012*\"serv\" + 0.012*\"word\" + 0.012*\"mani\"\n",
            "Topic: 4 \t Words: 0.047*\"tipu\" + 0.038*\"mysor\" + 0.019*\"father\" + 0.019*\"sultan\" + 0.014*\"rocket\" + 0.014*\"british\" + 0.014*\"french\" + 0.010*\"struggl\" + 0.010*\"ruler\" + 0.010*\"kingdom\"\n",
            "Topic: 5 \t Words: 0.034*\"team\" + 0.031*\"bat\" + 0.031*\"run\" + 0.026*\"score\" + 0.024*\"ball\" + 0.021*\"field\" + 0.020*\"player\" + 0.016*\"home\" + 0.016*\"around\" + 0.016*\"base\"\n",
            "Topic: 6 \t Words: 0.016*\"democrat\" + 0.016*\"obama\" + 0.016*\"state\" + 0.016*\"presid\" + 0.016*\"primari\" + 0.016*\"unit\" + 0.012*\"id\" + 0.012*\"senat\" + 0.012*\"repres\" + 0.012*\"popular\"\n",
            "Topic: 7 \t Words: 0.001*\"pasta\" + 0.001*\"shape\" + 0.001*\"fresh\" + 0.001*\"also\" + 0.001*\"specif\" + 0.001*\"form\" + 0.001*\"name\" + 0.001*\"produc\" + 0.001*\"dri\" + 0.001*\"sheet\"\n",
            "Topic: 8 \t Words: 0.001*\"elect\" + 0.001*\"born\" + 0.001*\"pasta\" + 0.001*\"presid\" + 0.001*\"shape\" + 0.001*\"minist\" + 0.001*\"tipu\" + 0.001*\"prime\" + 0.001*\"primari\" + 0.001*\"obama\"\n",
            "Topic: 9 \t Words: 0.040*\"pasta\" + 0.027*\"shape\" + 0.027*\"pizza\" + 0.017*\"common\" + 0.017*\"fresh\" + 0.013*\"form\" + 0.013*\"varieti\" + 0.013*\"itali\" + 0.013*\"dish\" + 0.010*\"dri\"\n"
          ]
        }
      ]
    },
    {
      "cell_type": "markdown",
      "source": [
        "## TF / IDF"
      ],
      "metadata": {
        "id": "u7LgcbhKrQRZ"
      }
    },
    {
      "cell_type": "code",
      "source": [
        "# initialize a tfidf from our corpus\n",
        "tfidf = models.TfidfModel(bow_corpus)\n",
        "\n",
        "# apply it on our corpus \n",
        "tfidf_corpus = tfidf[bow_corpus]\n",
        "\n",
        "pprint(tfidf_corpus[0][:10])"
      ],
      "metadata": {
        "id": "wbff7C1KrJix",
        "outputId": "07d82fbc-4309-43f1-94fc-46f0591976b1",
        "colab": {
          "base_uri": "https://localhost:8080/"
        }
      },
      "execution_count": 21,
      "outputs": [
        {
          "output_type": "stream",
          "name": "stdout",
          "text": [
            "[(0, 0.03278411436243488),\n",
            " (1, 0.09458263214900205),\n",
            " (2, 0.09689176633988147),\n",
            " (3, 0.07861485368951274),\n",
            " (4, 0.09689176633988147),\n",
            " (5, 0.09689176633988147),\n",
            " (6, 0.0575843394951251),\n",
            " (7, 0.07209154120719125),\n",
            " (8, 0.07209154120719125),\n",
            " (9, 0.09689176633988147)]\n"
          ]
        }
      ]
    },
    {
      "cell_type": "code",
      "source": [
        "# the new tfidf corpus is just our corpus - but transformed. It has the same size of documents:\n",
        "assert len(bow_corpus) == len(tfidf_corpus)"
      ],
      "metadata": {
        "id": "e4oCnXR2rJen"
      },
      "execution_count": 22,
      "outputs": []
    },
    {
      "cell_type": "markdown",
      "source": [
        "Now let's apply LDA on the tfidf corpus, with the same amount of topics.\n",
        "\n",
        "You can play with the # of passes, if the model doesn't converge properly"
      ],
      "metadata": {
        "id": "DxizY1d9rcqc"
      }
    },
    {
      "cell_type": "code",
      "source": [
        "lda_model_tfidf = models.LdaMulticore(tfidf_corpus, \n",
        "                                      num_topics=num_of_topics, \n",
        "                                      id2word=dictionary, \n",
        "                                      passes=10, \n",
        "                                      workers=4)"
      ],
      "metadata": {
        "id": "kaKEXtUarJXd"
      },
      "execution_count": 24,
      "outputs": []
    },
    {
      "cell_type": "code",
      "source": [
        "for idx, topic in lda_model_tfidf.print_topics(num_of_topics):\n",
        "    print(f'Topic: {idx} \\t Word: {topic}')"
      ],
      "metadata": {
        "id": "dZf1dpQ5rgdj",
        "outputId": "bfc73d82-5ce4-48bd-9b44-d10a0d16cca0",
        "colab": {
          "base_uri": "https://localhost:8080/"
        }
      },
      "execution_count": 25,
      "outputs": [
        {
          "output_type": "stream",
          "name": "stdout",
          "text": [
            "Topic: 0 \t Word: 0.008*\"pizza\" + 0.006*\"ball\" + 0.006*\"tabl\" + 0.005*\"player\" + 0.005*\"plate\" + 0.005*\"base\" + 0.004*\"around\" + 0.004*\"home\" + 0.004*\"run\" + 0.004*\"bat\"\n",
            "Topic: 1 \t Word: 0.009*\"dosa\" + 0.008*\"noodl\" + 0.005*\"popular\" + 0.005*\"id\" + 0.004*\"cake\" + 0.004*\"word\" + 0.004*\"ferment\" + 0.003*\"made\" + 0.003*\"origin\" + 0.003*\"variant\"\n",
            "Topic: 2 \t Word: 0.001*\"serv\" + 0.001*\"also\" + 0.001*\"mani\" + 0.001*\"rule\" + 0.001*\"food\" + 0.001*\"team\" + 0.001*\"minist\" + 0.001*\"take\" + 0.001*\"world\" + 0.001*\"known\"\n",
            "Topic: 3 \t Word: 0.004*\"tanjong\" + 0.004*\"kuan\" + 0.004*\"pagar\" + 0.004*\"minist\" + 0.003*\"member\" + 0.003*\"year\" + 0.003*\"prime\" + 0.003*\"harri\" + 0.003*\"spmj\" + 0.003*\"star\"\n",
            "Topic: 4 \t Word: 0.001*\"also\" + 0.001*\"serv\" + 0.001*\"mani\" + 0.001*\"team\" + 0.001*\"dish\" + 0.001*\"food\" + 0.001*\"minist\" + 0.001*\"world\" + 0.001*\"sinc\" + 0.001*\"becam\"\n",
            "Topic: 5 \t Word: 0.001*\"serv\" + 0.001*\"also\" + 0.001*\"team\" + 0.001*\"mani\" + 0.001*\"food\" + 0.001*\"world\" + 0.001*\"known\" + 0.001*\"side\" + 0.001*\"take\" + 0.001*\"noodl\"\n",
            "Topic: 6 \t Word: 0.006*\"team\" + 0.005*\"inning\" + 0.005*\"cricket\" + 0.004*\"field\" + 0.004*\"bat\" + 0.004*\"run\" + 0.003*\"swap\" + 0.003*\"design\" + 0.003*\"call\" + 0.003*\"phase\"\n",
            "Topic: 7 \t Word: 0.006*\"modi\" + 0.006*\"gujarat\" + 0.005*\"improv\" + 0.004*\"minist\" + 0.004*\"encourag\" + 0.004*\"foreign\" + 0.004*\"econom\" + 0.003*\"administr\" + 0.003*\"chief\" + 0.003*\"fail\"\n",
            "Topic: 8 \t Word: 0.006*\"elizabeth\" + 0.005*\"saint\" + 0.005*\"queen\" + 0.004*\"access\" + 0.004*\"duke\" + 0.004*\"edward\" + 0.002*\"head\" + 0.002*\"mari\" + 0.002*\"papua\" + 0.002*\"heir\"\n",
            "Topic: 9 \t Word: 0.007*\"pasta\" + 0.006*\"tipu\" + 0.005*\"mysor\" + 0.005*\"racquet\" + 0.005*\"minist\" + 0.004*\"elect\" + 0.004*\"shape\" + 0.004*\"prime\" + 0.004*\"side\" + 0.004*\"unit\"\n"
          ]
        }
      ]
    },
    {
      "cell_type": "markdown",
      "source": [
        "## Inference\n",
        "\n",
        "Now that we have a topic-modeler, let's use it on one of the articles."
      ],
      "metadata": {
        "id": "rRmuhjMvrrhi"
      }
    },
    {
      "cell_type": "code",
      "source": [
        "# randomly pick an article:\n",
        "test_doc = choice(range(len(processed_docs)))\n",
        "processed_docs[test_doc][:10]"
      ],
      "metadata": {
        "id": "U5vc4WDarknL",
        "outputId": "66f0bccf-e0d9-46c2-e285-cdd20afc6ab7",
        "colab": {
          "base_uri": "https://localhost:8080/"
        }
      },
      "execution_count": 36,
      "outputs": [
        {
          "output_type": "execute_result",
          "data": {
            "text/plain": [
              "['pasta',\n",
              " 'stapl',\n",
              " 'food',\n",
              " 'tradit',\n",
              " 'italian',\n",
              " 'cuisin',\n",
              " 'first',\n",
              " 'refer',\n",
              " 'date',\n",
              " 'sicili']"
            ]
          },
          "metadata": {},
          "execution_count": 36
        }
      ]
    },
    {
      "cell_type": "markdown",
      "source": [
        "Using the original BOW model:"
      ],
      "metadata": {
        "id": "dlqMzBPdr1yj"
      }
    },
    {
      "cell_type": "code",
      "source": [
        "for index, score in sorted(lda_model[bow_corpus[test_doc]], key=lambda tup: -1*tup[1]):\n",
        "    print(f\"Topic match score: {score} \\nTopic: {lda_model.print_topic(index, num_of_topics)}\")\n"
      ],
      "metadata": {
        "id": "EEC7IrEXrw9Q",
        "outputId": "be358a3b-bb02-4bb3-eb79-9ba3dc4fd847",
        "colab": {
          "base_uri": "https://localhost:8080/"
        }
      },
      "execution_count": 27,
      "outputs": [
        {
          "output_type": "stream",
          "name": "stdout",
          "text": [
            "Topic match score: 0.9936169385910034 \n",
            "Topic: 0.047*\"tipu\" + 0.038*\"mysor\" + 0.019*\"father\" + 0.019*\"sultan\" + 0.014*\"rocket\" + 0.014*\"british\" + 0.014*\"french\" + 0.010*\"struggl\" + 0.010*\"ruler\" + 0.010*\"kingdom\"\n"
          ]
        }
      ]
    },
    {
      "cell_type": "markdown",
      "source": [
        "And with the TF/IDF model:"
      ],
      "metadata": {
        "id": "apxeLH5JsBRX"
      }
    },
    {
      "cell_type": "code",
      "source": [
        "for index, score in sorted(lda_model_tfidf[bow_corpus[test_doc]], key=lambda tup: -1*tup[1]):\n",
        "    print(\"Topic match score: {}\\t \\nTopic: {}\".format(score, lda_model_tfidf.print_topic(index, num_of_topics)))"
      ],
      "metadata": {
        "id": "tCCzFiLVr8QD",
        "outputId": "86fe4d11-13f4-434a-947a-834e30519c0a",
        "colab": {
          "base_uri": "https://localhost:8080/"
        }
      },
      "execution_count": 28,
      "outputs": [
        {
          "output_type": "stream",
          "name": "stdout",
          "text": [
            "Topic match score: 0.9936166405677795\t \n",
            "Topic: 0.007*\"pasta\" + 0.006*\"tipu\" + 0.005*\"mysor\" + 0.005*\"racquet\" + 0.005*\"minist\" + 0.004*\"elect\" + 0.004*\"shape\" + 0.004*\"prime\" + 0.004*\"side\" + 0.004*\"unit\"\n"
          ]
        }
      ]
    },
    {
      "cell_type": "code",
      "source": [
        "print('Perplexity: ', lda_model.log_perplexity(bow_corpus)) \n",
        "print('Perplexity TFIDF: ', lda_model_tfidf.log_perplexity(bow_corpus)) "
      ],
      "metadata": {
        "id": "Eyz4sodNsKln",
        "outputId": "e9413dbe-8aaa-4e29-cf9b-a031dbb73e7d",
        "colab": {
          "base_uri": "https://localhost:8080/"
        }
      },
      "execution_count": 29,
      "outputs": [
        {
          "output_type": "stream",
          "name": "stdout",
          "text": [
            "Perplexity:  -6.678647591068424\n",
            "Perplexity TFIDF:  -9.63845659098846\n"
          ]
        }
      ]
    },
    {
      "cell_type": "markdown",
      "source": [
        "### Exercise - inference\n",
        "\n",
        "Now try it on a new document!\n",
        "\n",
        "Go to a news website, such as [orf.at](https://orf.at/) and copy an article of your choice here:"
      ],
      "metadata": {
        "id": "WlrqLTEFsTDL"
      }
    },
    {
      "cell_type": "code",
      "source": [
        "#https://www.lemonde.fr/en/opinion/article/2022/12/27/speaking-the-truth-about-immigration_6009281_23.html\n",
        "\n",
        "unseen_document = \"\"\"You can share an article by clicking on the share icons at the top right of it. \n",
        "The total or partial reproduction of an article, without the prior written authorization of Le Monde, is strictly forbidden. \n",
        "For more information, see our Terms and Conditions. \n",
        "For all authorization requests, contact droitsdauteur@lemonde.fr. \n",
        "\n",
        "The French reversal may have only a remote connection to migration issues. In each of the target countries,\n",
        "visa restrictions fueled strong criticism of France. But in a context of rising anti-French sentiment throughout\n",
        "Africa and faced with the risk of emerging countries leaving the Western bloc, Paris was able to give precedence\n",
        "to these fundamental concerns over the math of deportations. Other bilateral issues (Western Sahara, gas, etc.),\n",
        "as well as the difficulty of giving in to Morocco without doing the same for Algeria, may also have played roles.\n",
        "The equation cannot be summed up as a simple trade-off between visas and deportations, because relations between \n",
        "France and its former colonies, marked by the presence of large communities of Maghrebi origin, are a matter of \n",
        "both foreign policy and domestic affairs.\"\"\"\n",
        "\n",
        "bow_vector = dictionary.doc2bow(preprocess(unseen_document))\n",
        "\n",
        "print(\"Simply printing the lda_model output would look like this:\")\n",
        "pprint(lda_model[bow_vector])\n",
        "\n",
        "print(\"\\n\\nSo let's make it nicer, by printing the topic contents:\")\n",
        "for index, score in sorted(lda_model[bow_vector], key=lambda tup: -1*tup[1]):\n",
        "    print(\"Score: {}\\t Topic: {}\".format(score, lda_model.print_topic(index, 5)))\n"
      ],
      "metadata": {
        "id": "jgZV3-Z7sXAc",
        "outputId": "a304eb5b-18cd-49a1-c769-fcc94e2ba737",
        "colab": {
          "base_uri": "https://localhost:8080/"
        }
      },
      "execution_count": 30,
      "outputs": [
        {
          "output_type": "stream",
          "name": "stdout",
          "text": [
            "Simply printing the lda_model output would look like this:\n",
            "[(0, 0.09516191),\n",
            " (1, 0.14162324),\n",
            " (2, 0.23643194),\n",
            " (3, 0.1383363),\n",
            " (4, 0.10559635),\n",
            " (6, 0.15127546),\n",
            " (9, 0.12003621)]\n",
            "\n",
            "\n",
            "So let's make it nicer, by printing the topic contents:\n",
            "Score: 0.23641768097877502\t Topic: 0.023*\"minist\" + 0.018*\"prime\" + 0.016*\"elect\" + 0.013*\"play\" + 0.012*\"born\"\n",
            "Score: 0.15127290785312653\t Topic: 0.016*\"democrat\" + 0.016*\"obama\" + 0.016*\"state\" + 0.016*\"presid\" + 0.016*\"primari\"\n",
            "Score: 0.14163684844970703\t Topic: 0.057*\"dosa\" + 0.017*\"origin\" + 0.017*\"udupi\" + 0.017*\"present\" + 0.017*\"karnataka\"\n",
            "Score: 0.13833248615264893\t Topic: 0.036*\"noodl\" + 0.016*\"minist\" + 0.016*\"modi\" + 0.016*\"gujarat\" + 0.012*\"sinc\"\n",
            "Score: 0.12004640698432922\t Topic: 0.040*\"pasta\" + 0.027*\"shape\" + 0.027*\"pizza\" + 0.017*\"common\" + 0.017*\"fresh\"\n",
            "Score: 0.10559042543172836\t Topic: 0.047*\"tipu\" + 0.038*\"mysor\" + 0.019*\"father\" + 0.019*\"sultan\" + 0.014*\"rocket\"\n",
            "Score: 0.09516466408967972\t Topic: 0.028*\"ball\" + 0.028*\"tabl\" + 0.021*\"player\" + 0.014*\"rule\" + 0.014*\"must\"\n"
          ]
        }
      ]
    },
    {
      "cell_type": "markdown",
      "source": [
        "## Visualization"
      ],
      "metadata": {
        "id": "dbF83i4lsena"
      }
    },
    {
      "cell_type": "code",
      "source": [
        "! pip install pyLDAvis"
      ],
      "metadata": {
        "id": "seo3yGz0YPUB",
        "outputId": "d19b5b55-9d61-4ddd-ecf4-ff51806e3399",
        "colab": {
          "base_uri": "https://localhost:8080/"
        }
      },
      "execution_count": 32,
      "outputs": [
        {
          "output_type": "stream",
          "name": "stdout",
          "text": [
            "Looking in indexes: https://pypi.org/simple, https://us-python.pkg.dev/colab-wheels/public/simple/\n",
            "Collecting pyLDAvis\n",
            "  Downloading pyLDAvis-3.3.1.tar.gz (1.7 MB)\n",
            "\u001b[K     |████████████████████████████████| 1.7 MB 27.0 MB/s \n",
            "\u001b[?25h  Installing build dependencies ... \u001b[?25l\u001b[?25hdone\n",
            "  Getting requirements to build wheel ... \u001b[?25l\u001b[?25hdone\n",
            "  Installing backend dependencies ... \u001b[?25l\u001b[?25hdone\n",
            "    Preparing wheel metadata ... \u001b[?25l\u001b[?25hdone\n",
            "Requirement already satisfied: numexpr in /usr/local/lib/python3.8/dist-packages (from pyLDAvis) (2.8.4)\n",
            "Requirement already satisfied: scipy in /usr/local/lib/python3.8/dist-packages (from pyLDAvis) (1.7.3)\n",
            "Requirement already satisfied: future in /usr/local/lib/python3.8/dist-packages (from pyLDAvis) (0.16.0)\n",
            "Requirement already satisfied: gensim in /usr/local/lib/python3.8/dist-packages (from pyLDAvis) (3.6.0)\n",
            "Collecting funcy\n",
            "  Downloading funcy-1.17-py2.py3-none-any.whl (33 kB)\n",
            "Requirement already satisfied: numpy>=1.20.0 in /usr/local/lib/python3.8/dist-packages (from pyLDAvis) (1.21.6)\n",
            "Requirement already satisfied: jinja2 in /usr/local/lib/python3.8/dist-packages (from pyLDAvis) (2.11.3)\n",
            "Requirement already satisfied: scikit-learn in /usr/local/lib/python3.8/dist-packages (from pyLDAvis) (1.0.2)\n",
            "Requirement already satisfied: setuptools in /usr/local/lib/python3.8/dist-packages (from pyLDAvis) (57.4.0)\n",
            "Requirement already satisfied: pandas>=1.2.0 in /usr/local/lib/python3.8/dist-packages (from pyLDAvis) (1.3.5)\n",
            "Requirement already satisfied: joblib in /usr/local/lib/python3.8/dist-packages (from pyLDAvis) (1.2.0)\n",
            "Collecting sklearn\n",
            "  Downloading sklearn-0.0.post1.tar.gz (3.6 kB)\n",
            "Requirement already satisfied: python-dateutil>=2.7.3 in /usr/local/lib/python3.8/dist-packages (from pandas>=1.2.0->pyLDAvis) (2.8.2)\n",
            "Requirement already satisfied: pytz>=2017.3 in /usr/local/lib/python3.8/dist-packages (from pandas>=1.2.0->pyLDAvis) (2022.6)\n",
            "Requirement already satisfied: six>=1.5 in /usr/local/lib/python3.8/dist-packages (from python-dateutil>=2.7.3->pandas>=1.2.0->pyLDAvis) (1.15.0)\n",
            "Requirement already satisfied: smart-open>=1.2.1 in /usr/local/lib/python3.8/dist-packages (from gensim->pyLDAvis) (6.3.0)\n",
            "Requirement already satisfied: MarkupSafe>=0.23 in /usr/local/lib/python3.8/dist-packages (from jinja2->pyLDAvis) (2.0.1)\n",
            "Requirement already satisfied: threadpoolctl>=2.0.0 in /usr/local/lib/python3.8/dist-packages (from scikit-learn->pyLDAvis) (3.1.0)\n",
            "Building wheels for collected packages: pyLDAvis, sklearn\n",
            "  Building wheel for pyLDAvis (PEP 517) ... \u001b[?25l\u001b[?25hdone\n",
            "  Created wheel for pyLDAvis: filename=pyLDAvis-3.3.1-py2.py3-none-any.whl size=136898 sha256=03b7274780823a65f3805d126014f05b1ea9d3411f6e7d69bd0bfd25c90e1f1d\n",
            "  Stored in directory: /root/.cache/pip/wheels/90/61/ec/9dbe9efc3acf9c4e37ba70fbbcc3f3a0ebd121060aa593181a\n",
            "  Building wheel for sklearn (setup.py) ... \u001b[?25l\u001b[?25hdone\n",
            "  Created wheel for sklearn: filename=sklearn-0.0.post1-py3-none-any.whl size=2344 sha256=deb781396c95b28f9bef1bf33365dce530c8deb7a94c598b57bf94afad6205c5\n",
            "  Stored in directory: /root/.cache/pip/wheels/14/25/f7/1cc0956978ae479e75140219088deb7a36f60459df242b1a72\n",
            "Successfully built pyLDAvis sklearn\n",
            "Installing collected packages: sklearn, funcy, pyLDAvis\n",
            "Successfully installed funcy-1.17 pyLDAvis-3.3.1 sklearn-0.0.post1\n"
          ]
        }
      ]
    },
    {
      "cell_type": "code",
      "source": [
        "import pyLDAvis.gensim_models as gensimvis\n",
        "import pyLDAvis\n",
        "\n",
        "bow_lda_data = gensimvis.prepare(lda_model, bow_corpus, dictionary)\n",
        "\n",
        "pyLDAvis.display(bow_lda_data)"
      ],
      "metadata": {
        "id": "3DAlOWCwsfBW",
        "outputId": "1ccbddd5-a8ef-40ad-b5f4-564b34e6e577",
        "colab": {
          "base_uri": "https://localhost:8080/",
          "height": 951
        }
      },
      "execution_count": 33,
      "outputs": [
        {
          "output_type": "stream",
          "name": "stderr",
          "text": [
            "/usr/local/lib/python3.8/dist-packages/past/types/oldstr.py:5: DeprecationWarning: Using or importing the ABCs from 'collections' instead of from 'collections.abc' is deprecated since Python 3.3, and in 3.10 it will stop working\n",
            "  from collections import Iterable\n",
            "/usr/local/lib/python3.8/dist-packages/pyLDAvis/_prepare.py:246: FutureWarning: In a future version of pandas all arguments of DataFrame.drop except for the argument 'labels' will be keyword-only\n",
            "  default_term_info = default_term_info.sort_values(\n"
          ]
        },
        {
          "output_type": "execute_result",
          "data": {
            "text/plain": [
              "<IPython.core.display.HTML object>"
            ],
            "text/html": [
              "\n",
              "<link rel=\"stylesheet\" type=\"text/css\" href=\"https://cdn.jsdelivr.net/gh/bmabey/pyLDAvis@3.3.1/pyLDAvis/js/ldavis.v1.0.0.css\">\n",
              "\n",
              "\n",
              "<div id=\"ldavis_el1071397946057320164613946106\"></div>\n",
              "<script type=\"text/javascript\">\n",
              "\n",
              "var ldavis_el1071397946057320164613946106_data = {\"mdsDat\": {\"x\": [-0.14957281495910188, 0.21311962351427977, 0.056458143442261126, -0.04599054086029936, -0.025661314368319893, 0.04150694643463333, -0.040237989667667555, -0.048661010019786205, -0.00024427698343372034, -0.0007167665325655249], \"y\": [-0.10271878000213402, -0.019624629637164603, -0.12971951967292852, -0.017015148381118183, 0.18824684594297755, 0.03945482853573969, 0.01181955277854302, 0.019873827659637078, 0.004808681955292448, 0.00487434082115568], \"topics\": [1, 2, 3, 4, 5, 6, 7, 8, 9, 10], \"cluster\": [1, 1, 1, 1, 1, 1, 1, 1, 1, 1], \"Freq\": [27.540491122792965, 17.349921660820122, 13.629674259806714, 13.25035682455612, 10.667267858673346, 7.858045413797764, 5.352691459350739, 4.126673393103117, 0.11243900354955458, 0.11243900354955458]}, \"tinfo\": {\"Term\": [\"dosa\", \"pasta\", \"tipu\", \"team\", \"mysor\", \"noodl\", \"pizza\", \"player\", \"minist\", \"shape\", \"play\", \"ball\", \"score\", \"prime\", \"father\", \"run\", \"bat\", \"tabl\", \"popular\", \"fresh\", \"side\", \"common\", \"sultan\", \"return\", \"presid\", \"democrat\", \"obama\", \"primari\", \"unit\", \"game\", \"elizabeth\", \"saint\", \"queen\", \"racquet\", \"access\", \"inning\", \"duke\", \"edward\", \"cricket\", \"yard\", \"rectangular\", \"kuan\", \"tanjong\", \"shuttlecock\", \"doubl\", \"pagar\", \"badminton\", \"court\", \"posit\", \"post\", \"polit\", \"shigeru\", \"japan\", \"retain\", \"former\", \"shinz\\u014d\", \"septemb\", \"prime\", \"world\", \"minist\", \"play\", \"elect\", \"year\", \"born\", \"team\", \"side\", \"becam\", \"game\", \"serv\", \"parti\", \"sinc\", \"general\", \"player\", \"three\", \"father\", \"countri\", \"nation\", \"member\", \"pasta\", \"pizza\", \"fresh\", \"itali\", \"produc\", \"neapolitan\", \"machin\", \"sheet\", \"specif\", \"commerci\", \"flour\", \"type\", \"various\", \"bake\", \"napl\", \"oven\", \"true\", \"prepar\", \"top\", \"shape\", \"dish\", \"name\", \"dri\", \"depend\", \"scale\", \"grain\", \"cavatelli\", \"variabl\", \"fill\", \"document\", \"varieti\", \"form\", \"refer\", \"common\", \"tradit\", \"use\", \"mani\", \"also\", \"food\", \"made\", \"cook\", \"modi\", \"gujarat\", \"noodl\", \"improv\", \"word\", \"encourag\", \"econom\", \"foreign\", \"cultur\", \"fri\", \"modernis\", \"signific\", \"standard\", \"lower\", \"focus\", \"criticis\", \"reduc\", \"human\", \"direct\", \"infrastructur\", \"prais\", \"prevent\", \"gave\", \"sanit\", \"varanasi\", \"invest\", \"increas\", \"riot\", \"sabha\", \"reform\", \"fail\", \"chief\", \"administr\", \"parliament\", \"mani\", \"sinc\", \"cook\", \"often\", \"minist\", \"common\", \"india\", \"serv\", \"offic\", \"varieti\", \"made\", \"parti\", \"general\", \"shape\", \"prime\", \"elect\", \"obama\", \"primari\", \"unit\", \"repres\", \"campaign\", \"senat\", \"receiv\", \"illinoi\", \"chicago\", \"school\", \"harvard\", \"cake\", \"inaugur\", \"state\", \"democrat\", \"presid\", \"id\", \"rush\", \"suffici\", \"hussein\", \"laureat\", \"clinton\", \"work\", \"lentil\", \"unsuccess\", \"right\", \"enduri\", \"peac\", \"keynot\", \"degre\", \"august\", \"goan\", \"neighbour\", \"ferment\", \"variant\", \"univers\", \"presidenti\", \"popular\", \"born\", \"nation\", \"known\", \"parti\", \"elect\", \"tipu\", \"mysor\", \"sultan\", \"french\", \"british\", \"rocket\", \"struggl\", \"ruler\", \"allianc\", \"power\", \"hyder\", \"anglo\", \"system\", \"ghat\", \"khan\", \"sought\", \"command\", \"commiss\", \"srirangapatna\", \"deploy\", \"travancor\", \"childhood\", \"innov\", \"alli\", \"mauludi\", \"sira\", \"river\", \"silk\", \"armi\", \"industri\", \"second\", \"negoti\", \"father\", \"kingdom\", \"becam\", \"also\", \"decemb\", \"victori\", \"known\", \"death\", \"initi\", \"rule\", \"take\", \"use\", \"dosa\", \"udupi\", \"present\", \"karnataka\", \"tamil\", \"accord\", \"origin\", \"along\", \"ancient\", \"conjectur\", \"dosaka\", \"chutney\", \"sangam\", \"sanskrit\", \"manasollasa\", \"thicker\", \"birthplac\", \"parcel\", \"historian\", \"subcontin\", \"link\", \"sambar\", \"podi\", \"main\", \"thankappan\", \"dosai\", \"achaya\", \"someshvara\", \"well\", \"part\", \"south\", \"centuri\", \"popular\", \"indian\", \"india\", \"tradit\", \"made\", \"serv\", \"becam\", \"region\", \"dish\", \"found\", \"food\", \"refer\", \"tabl\", \"bounc\", \"advantag\", \"allow\", \"alter\", \"back\", \"demand\", \"except\", \"forth\", \"give\", \"great\", \"hard\", \"hitter\", \"least\", \"lightweight\", \"limit\", \"opposit\", \"option\", \"paddl\", \"ping\", \"place\", \"pong\", \"quick\", \"reaction\", \"small\", \"spin\", \"tenni\", \"toward\", \"trajectori\", \"ball\", \"must\", \"rule\", \"player\", \"return\", \"side\", \"play\", \"also\", \"serv\", \"known\", \"use\", \"four\", \"general\", \"fast\", \"fail\", \"time\", \"take\", \"initi\", \"oppon\", \"across\", \"point\", \"sport\", \"within\", \"follow\", \"game\", \"divid\", \"bat\", \"run\", \"base\", \"plate\", \"attempt\", \"field\", \"basebal\", \"counter\", \"hit\", \"pitcher\", \"swung\", \"thrown\", \"clockwis\", \"seri\", \"turn\", \"around\", \"home\", \"score\", \"ball\", \"team\", \"advanc\", \"nine\", \"player\", \"batter\", \"second\", \"third\", \"take\", \"four\", \"game\", \"return\", \"play\", \"basebal\", \"counter\", \"hit\", \"pitcher\", \"swung\", \"thrown\", \"clockwis\", \"seri\", \"turn\", \"advantag\", \"allow\", \"alter\", \"back\", \"demand\", \"except\", \"forth\", \"give\", \"great\", \"hard\", \"hitter\", \"least\", \"lightweight\", \"limit\", \"opposit\", \"option\", \"paddl\", \"ping\", \"place\", \"pong\", \"quick\", \"pasta\", \"cuisin\", \"specif\", \"italian\", \"fresca\", \"decor\", \"wide\", \"document\", \"durum\", \"local\", \"categori\", \"egg\", \"supermarket\", \"fill\", \"vari\", \"exampl\", \"today\", \"come\", \"grain\", \"stuf\", \"differ\", \"shape\", \"sheet\", \"fresh\", \"flour\", \"produc\", \"secca\", \"sicili\", \"cavatelli\", \"product\", \"also\", \"form\", \"name\", \"dri\", \"varieti\", \"modi\", \"known\", \"refer\", \"made\", \"tradit\", \"gujarat\", \"minist\", \"machin\", \"commerci\", \"common\", \"sometim\", \"sinc\", \"foreign\", \"clockwis\", \"basebal\", \"counter\", \"hit\", \"pitcher\", \"swung\", \"thrown\", \"seri\", \"turn\", \"advantag\", \"allow\", \"alter\", \"back\", \"demand\", \"except\", \"forth\", \"give\", \"great\", \"hard\", \"hitter\", \"least\", \"lightweight\", \"limit\", \"opposit\", \"option\", \"paddl\", \"ping\", \"place\", \"pong\", \"quick\", \"januari\", \"prize\", \"address\", \"civil\", \"honolulu\", \"barack\", \"juli\", \"convent\", \"incumb\", \"nomine\", \"review\", \"clinton\", \"degre\", \"district\", \"keynot\", \"hussein\", \"deleg\", \"american\", \"outsid\", \"bobbi\", \"close\", \"right\", \"rush\", \"organ\", \"peac\", \"republican\", \"mccain\", \"unsuccess\", \"communiti\", \"attorney\", \"presid\", \"elect\", \"repres\", \"primari\", \"campaign\", \"born\", \"harvard\", \"obama\", \"unit\", \"inaugur\", \"illinoi\", \"presidenti\", \"pasta\", \"shape\", \"tipu\", \"minist\", \"prime\", \"state\", \"democrat\", \"mysor\", \"senat\", \"school\", \"novemb\", \"fresh\", \"month\", \"defeat\", \"septemb\", \"also\", \"serv\", \"name\", \"victori\", \"parti\", \"sultan\"], \"Freq\": [6.0, 9.0, 7.0, 5.0, 5.0, 7.0, 6.0, 5.0, 11.0, 7.0, 6.0, 3.0, 3.0, 8.0, 4.0, 2.0, 2.0, 2.0, 5.0, 4.0, 3.0, 7.0, 3.0, 3.0, 4.0, 4.0, 3.0, 3.0, 3.0, 3.0, 3.3639940722871344, 2.543601509921414, 2.5427218828896385, 2.541969943652798, 1.7228154124205106, 1.722452616939663, 1.7226350280752847, 1.7225507473746595, 1.7221075558747787, 1.7224210327893286, 1.722253484783276, 1.7223919821269886, 1.7222865890264074, 1.721954533199896, 1.7219430480543199, 1.7218420463329294, 1.721326734874798, 1.721254952714947, 1.7199360188648822, 1.7198828156169927, 1.7185491875365586, 1.717253392876846, 1.7171876910881823, 1.716635728503727, 1.7155946338370862, 1.7144961134425647, 4.171042077787731, 6.6203973276070105, 3.361582867312935, 8.270108099443139, 4.786223970470254, 5.808513062423644, 2.539181586765781, 4.184304718541024, 3.1737493917856985, 2.5410315396995444, 2.5338100855193217, 2.3358137762499624, 3.358196100561559, 2.5421504968972237, 2.543267427304507, 2.542186979124348, 2.1644182464294337, 1.7235279981438327, 1.7234312189024334, 1.7228968218347418, 1.7228613530028152, 1.722808487553325, 9.089991340301696, 6.0836597904622804, 3.8316413198698496, 3.0803336966897144, 2.3287336783643657, 2.328665154902387, 1.5780854339014392, 1.5777754822791659, 1.5773427417203654, 1.577763458752452, 1.577344231360843, 1.5777413269510676, 1.5777394116990249, 1.5777268561578548, 1.5777172798976404, 1.5775674646267304, 1.5775619316763843, 1.5773824299988095, 1.5773406136625399, 6.085453743209115, 3.080247510347785, 2.328996067894241, 2.3297955792192537, 0.8267439746018799, 0.8267762678793806, 0.8266796540541063, 0.8266931140198521, 0.8267555725170284, 0.8266868362492671, 0.8266038951955211, 3.0809321065502244, 3.081814612130429, 1.5779339161842687, 3.8330722259516663, 2.329635336464999, 2.329225898139387, 2.3287607046987486, 2.3289777665969424, 1.5782794063722267, 1.5781873678712772, 1.577782292064207, 2.883123126760293, 2.8825266462897527, 6.391680768784938, 2.1798340345638, 2.177328749717523, 1.4766793510832021, 1.476523042439717, 1.4761586008966179, 1.475110747872698, 1.4749218401003577, 0.7736790537333623, 0.7736482099422147, 0.7736278981773126, 0.7735932929482202, 0.7735821758094055, 0.7736161959259287, 0.7735886956351765, 0.773602905511857, 0.7735874418225283, 0.7735457316550955, 0.7735236645524859, 0.773511210013513, 0.7735191508269521, 0.7734890593233934, 0.7735045230127222, 0.7734429190179368, 0.7734215206154063, 0.7734654876456059, 0.7734744315091635, 0.7734557914944592, 1.4769520135404475, 1.4766703236321346, 1.476338314042871, 1.4763446666936222, 2.176978016526045, 2.183047305618804, 1.4751597301534907, 1.4772512568258362, 2.8863509420420166, 2.18116558359627, 1.4767236524634413, 2.17842224152184, 1.4779008989526634, 1.475148529427166, 1.4751664171542815, 1.4773973677931154, 1.478389384360432, 1.4748964294973526, 1.4809175721844174, 1.4804742240319868, 2.8608454458204786, 2.8599015151706406, 2.8598638099518454, 2.162330751608089, 2.1620898932707853, 2.1623744701591923, 1.4653692848785682, 1.4650512283562314, 1.465265107959397, 1.4648064694790524, 1.4645563473595447, 1.464937137564877, 1.4643476684762127, 2.8607043762949864, 2.8610238955197764, 2.860072163790188, 2.1624854730231453, 0.7676811800747662, 0.7676755730486954, 0.7675724525257405, 0.7676199090942241, 0.7675427109091908, 0.7676002438723524, 0.7677767433017125, 0.7675470177553032, 0.767540354333016, 0.7677857633001743, 0.7675266211822049, 0.7674927352420376, 0.7674730700201661, 0.7675355599194192, 0.7677094589888626, 0.7677331872731044, 1.4653041133581508, 1.465589990426516, 1.4653592084838902, 1.464799806056765, 2.162201221179728, 2.1618288821441256, 1.465106160959476, 1.465374485598402, 1.4652724214716635, 1.4653138647078392, 6.5702162804312705, 5.27131587278266, 2.666618242087939, 2.0168243227140583, 2.0169064899638234, 2.0169804143206984, 1.36675485520641, 1.366677136502014, 1.3662431416493523, 1.3661472362447695, 1.3660488448883628, 1.3659146034898608, 0.7159666205226698, 0.7160536942562985, 0.7160149003238855, 0.7159781344048025, 0.7159799661587782, 0.7159621065575156, 0.7160002462920801, 0.7159793119609298, 0.7159473871059254, 0.7159664896831002, 0.7159452282530255, 0.7159742092177118, 0.7158886401391346, 0.7159491534401162, 0.7159194528577966, 0.7159163781279089, 0.7158537059740273, 0.7158773879361412, 1.366213702746172, 0.7159429385605559, 2.6686025550018577, 1.3663574954332613, 0.725853447186511, 0.7194574856617842, 0.7192232174122543, 0.7191547883173064, 0.7182488551367727, 0.7176137598654975, 0.7173641833863137, 0.7161231700678039, 0.7160785537745397, 0.7160147040645309, 5.848070152976995, 1.796222314542492, 1.7959865617239135, 1.7958566374395946, 1.2166961045511533, 1.2167854515923726, 1.796509535883197, 0.6380106434708779, 0.6380068363423685, 0.6378735386530414, 0.6377819748028167, 0.6377246751091761, 0.6376418821119728, 0.6375989916768676, 0.6375806307153226, 0.6375937388033547, 0.6375406799617245, 0.6375012111231276, 0.6375223190001794, 0.6374920547381051, 0.6374670915410439, 0.6374391404709753, 0.6373817443943344, 0.6374035269523879, 0.6373065656541499, 0.6373132160811662, 0.6372766869240766, 0.6372045442483995, 0.6371844965843503, 0.637124064443202, 1.2144967408687553, 1.216094578246677, 1.7918363097337273, 1.213824276676105, 1.2145767387589517, 1.2147664205034172, 1.2169129663016856, 0.6392522492799252, 0.6386023869008303, 0.6383343939686725, 0.6382954552365769, 0.6382856723620529, 0.6378752253555455, 0.6375564867737633, 1.9860252212177678, 1.0172323967524117, 0.5328359845197337, 0.5328359845197337, 0.5328359845197337, 0.5328359845197337, 0.5328359845197337, 0.5328359845197337, 0.5328359845197337, 0.5328359845197337, 0.5328359845197337, 0.5328359845197337, 0.5328359845197337, 0.5328359845197337, 0.5328359845197337, 0.5328359845197337, 0.5328359845197337, 0.5328359845197337, 0.5328359845197337, 0.5328359845197337, 0.5328359845197337, 0.5328359845197337, 0.5328359845197337, 0.5328359845197337, 0.5328359845197337, 0.5328359845197337, 0.5328359845197337, 0.5328359845197337, 0.5328359845197337, 1.986027059516757, 1.0173960710159873, 1.0201159000240678, 1.501631730567412, 1.0172337754766536, 1.017234038090795, 1.017234038090795, 0.5353413562546616, 0.5349913572578219, 0.5339906004187998, 0.5337180397668808, 0.5336121406143949, 0.5333039629195598, 0.5332578741377588, 0.5329055116136473, 0.532894186378803, 0.5328927420010258, 0.5328386434879145, 0.532837034976299, 0.5328369693227637, 0.5328369693227637, 0.5328369693227637, 0.5328369693227637, 0.5328365097480163, 0.5328364112677134, 0.5328361814803397, 1.6862448400409351, 1.6801453338636148, 0.891676475355469, 0.891676475355469, 0.8812473958839089, 1.1659369091401994, 0.46706862512755154, 0.46706862512755154, 0.46706862512755154, 0.46706862512755154, 0.46706862512755154, 0.46706862512755154, 0.46706862512755154, 0.46706862512755154, 0.46706862512755154, 0.8916766778186219, 0.8916775889028102, 1.3967515847861984, 1.3118904702380856, 1.840923145788856, 0.4670713583801164, 0.46706862512755154, 1.087763253765571, 0.46706892882228096, 0.46707257315903405, 0.4670687769749163, 0.4672136393608513, 0.4670692325170104, 0.5746985433931651, 0.4670682708170339, 0.5810484458748953, 0.001972205225472332, 0.001972205225472332, 0.001972205225472332, 0.001972205225472332, 0.001972205225472332, 0.001972205225472332, 0.001972205225472332, 0.001972205225472332, 0.001972205225472332, 0.001972205225472332, 0.001972205225472332, 0.001972205225472332, 0.001972205225472332, 0.001972205225472332, 0.001972205225472332, 0.001972205225472332, 0.001972205225472332, 0.001972205225472332, 0.001972205225472332, 0.001972205225472332, 0.001972205225472332, 0.001972205225472332, 0.001972205225472332, 0.001972205225472332, 0.001972205225472332, 0.001972205225472332, 0.001972205225472332, 0.001972205225472332, 0.001972205225472332, 0.001972205225472332, 0.0020905891147404076, 0.001986262450371253, 0.0020040857144782206, 0.001984986417128647, 0.0019849069451852745, 0.001984188422278603, 0.0019841618741673686, 0.0019840686109973806, 0.001984031719466184, 0.00198371159061837, 0.0019835447167763217, 0.001983450246874005, 0.001983215278850542, 0.001983031165975224, 0.0019830242703619163, 0.0019828530867615508, 0.001982851190467891, 0.001982784475409138, 0.0019826594924179344, 0.0019826198426414147, 0.0019826017416564815, 0.002031629897055508, 0.0019954630948174996, 0.0020099264713402485, 0.0019937507416428434, 0.0019991519031564995, 0.0019824872744755723, 0.001982390563498931, 0.0019822962659869466, 0.0019822847158346563, 0.002009779939557458, 0.0020023209546424256, 0.00199977888679651, 0.001997583323519311, 0.0019940994872858844, 0.001992692954561429, 0.0019918628951095044, 0.0019915698315439235, 0.0019908463093176038, 0.0019908238985743535, 0.001990468429708337, 0.0019904575691173775, 0.0019903331032971715, 0.001989370992850403, 0.001985010724165557, 0.001984486140383167, 0.0019843339197193974, 0.00198424513869806, 0.0019663687783686217, 0.0019663686059782893, 0.0019663686059782893, 0.0019663686059782893, 0.0019663686059782893, 0.0019663686059782893, 0.0019663686059782893, 0.0019663686059782893, 0.0019663686059782893, 0.0019663686059782893, 0.0019663686059782893, 0.0019663686059782893, 0.0019663686059782893, 0.0019663686059782893, 0.0019663686059782893, 0.0019663686059782893, 0.0019663686059782893, 0.0019663686059782893, 0.0019663686059782893, 0.0019663686059782893, 0.0019663686059782893, 0.0019663686059782893, 0.0019663686059782893, 0.0019663686059782893, 0.0019663686059782893, 0.0019663686059782893, 0.0019663686059782893, 0.0019663686059782893, 0.0019663686059782893, 0.0019663686059782893, 0.001987044757701021, 0.0019865805105350742, 0.0019860869570125696, 0.001986058512607675, 0.001985858539821749, 0.0019854563531755726, 0.0019853311977940363, 0.001984955386868762, 0.0019849271148542, 0.001984745932614538, 0.0019845619921295527, 0.0019843875331128657, 0.001984127051320164, 0.0019839348360992095, 0.001983932767415217, 0.0019837612390341862, 0.0019836540122472497, 0.0019835447167763217, 0.001983323022808476, 0.0019831058109892807, 0.0019830411646145204, 0.0019829856549273927, 0.0019829580724741616, 0.001982662595443923, 0.0019825477834823483, 0.0019825393363560465, 0.001982397976283237, 0.0019823435009381054, 0.001982098361885013, 0.0019820040643730294, 0.0020555483661555607, 0.002085083829465804, 0.002027371683447617, 0.0020367673013601414, 0.002026322171102172, 0.0020635091793290675, 0.0020078796809201646, 0.0020292143637137905, 0.002028477567431853, 0.00200267694067944, 0.0020020799529573184, 0.0020160440870765836, 0.0020596566001740073, 0.002050321318877926, 0.002046437709462981, 0.0020493816191744074, 0.002041028445603688, 0.0020257886230224823, 0.0020209789327403013, 0.0020247206649114387, 0.002007342512643488, 0.0020009076986949948, 0.001996870317103286, 0.0020126105888203043, 0.001996580011783028, 0.001996463131137461, 0.0020156587946830113, 0.002016291294813668, 0.0020085564853663243, 0.0020067112192451607, 0.002004698217330285, 0.0020035845757810774, 0.002003426493845996], \"Total\": [6.0, 9.0, 7.0, 5.0, 5.0, 7.0, 6.0, 5.0, 11.0, 7.0, 6.0, 3.0, 3.0, 8.0, 4.0, 2.0, 2.0, 2.0, 5.0, 4.0, 3.0, 7.0, 3.0, 3.0, 4.0, 4.0, 3.0, 3.0, 3.0, 3.0, 3.8009444288038656, 2.9798599595078996, 2.9793104257035132, 2.9799638620279074, 2.158287436531207, 2.1578493677228825, 2.1582457697098354, 2.1581835779113554, 2.157691466214237, 2.158391964895724, 2.158288072644785, 2.158638876513261, 2.1586171389625504, 2.158593231402299, 2.1585938847345085, 2.158525380636322, 2.158516238885043, 2.1585290296188284, 2.157701559205686, 2.157737446203951, 2.157087517677001, 2.156892285032761, 2.1569608101671762, 2.1568306311031975, 2.1565273463575103, 2.1564369454282315, 5.322475975004796, 8.487337980613706, 4.553134303450441, 11.538744422123795, 6.732044504001661, 9.06402881444905, 3.682594135951716, 7.420408967611386, 5.407312101778511, 3.948641542133841, 4.210662104719555, 3.7888754455050053, 7.674416666134821, 5.783919152992076, 5.842970635565041, 6.321914617152213, 5.099522776190328, 2.856987430271171, 4.765423662625994, 3.438353607574702, 4.259220329753924, 2.862326194416336, 9.53756461725564, 6.534539599196852, 4.275277878844295, 3.5248439301311505, 2.7711242031758587, 2.772964940699753, 2.019601595154565, 2.0193640715265775, 2.018987098020449, 2.019596311960324, 2.0191839897141133, 2.0200284063437293, 2.0200938012304688, 2.0200865861952533, 2.0206798135388926, 2.0206091813432083, 2.0206203889375973, 2.020550965582297, 2.020564438902051, 7.937537901951426, 4.105988900080232, 3.4699766641656353, 3.475241686936883, 1.2677953252756056, 1.2678600697606346, 1.2677572720172618, 1.2677787144176578, 1.2678901438775532, 1.2677876222771787, 1.2676844071954252, 4.931431326517289, 5.048848619110741, 2.6008248215646943, 7.209295297657088, 4.633092710746657, 4.730094849834991, 5.700442480694626, 6.130202114947074, 3.305103732477062, 5.287943588674663, 3.4271786448385484, 3.3306642277553995, 3.3306599888607242, 7.600171075760953, 2.627079594423079, 2.626692566681342, 1.9233891759854687, 1.9233104889371828, 1.923134905798895, 1.9230920946368113, 1.9231158050047605, 1.219654815667115, 1.2196459537569204, 1.2196447295534099, 1.2195903483215482, 1.2195952884413375, 1.2196521483900598, 1.219609452190275, 1.2196582758627785, 1.2196483443595065, 1.2196026565750657, 1.2196250258994579, 1.2196253966061452, 1.2196428211143786, 1.2196026239442879, 1.2196281199658923, 1.2196015027534695, 1.2195690116783604, 1.219638748339098, 1.2196570808866358, 1.219641380192351, 2.407720422636229, 2.5751199160695415, 2.5750091190021096, 2.744731251015975, 5.700442480694626, 5.842970635565041, 3.4271786448385484, 3.496119894421188, 11.538744422123795, 7.209295297657088, 3.784270208214283, 7.674416666134821, 4.263139363240575, 4.931431326517289, 5.287943588674663, 5.783919152992076, 6.321914617152213, 7.937537901951426, 8.487337980613706, 9.06402881444905, 3.309842788707957, 3.309435692375898, 3.3097525878897702, 2.6108381161031313, 2.6108902326958208, 2.6114676864977193, 1.9129751919691576, 1.9127360839828653, 1.9131626794847374, 1.9127429584173163, 1.9124407936286336, 1.9133892589786836, 1.9126450759550926, 4.0135886701941885, 4.131368712626361, 4.1300420394662165, 3.1928968412377037, 1.2143532289316454, 1.2144651296886437, 1.2143466675362662, 1.2144220750482413, 1.2143082235403384, 1.2144111056593876, 1.2147345724921932, 1.214377335200185, 1.2143721648162429, 1.2147749878373688, 1.214383438779307, 1.214339537822111, 1.2143199749773603, 1.2144219654652562, 1.2147093685230745, 1.2147538547776848, 2.4944189084703656, 2.6660073589777187, 2.73447240243026, 2.733286070512017, 5.107690146445878, 7.420408967611386, 4.259220329753924, 5.37431709689058, 5.783919152992076, 9.06402881444905, 7.032797856937676, 5.7298962914547875, 3.122587174598149, 2.4709329535947453, 2.4710783645126972, 2.471292820905311, 1.8194022064488178, 1.819444137016601, 1.8192834303841565, 1.8191891458089344, 1.8193200058643304, 1.8191423466308734, 1.167569629556584, 1.1677126900517276, 1.1676508188981294, 1.1676325897511661, 1.167638919014521, 1.1676442350965608, 1.1677100752565497, 1.1676892216867865, 1.1676409084350916, 1.1676864881550173, 1.1676546940983588, 1.1677064636109737, 1.1676027356035443, 1.1677051195770256, 1.1676642778208728, 1.167668175090769, 1.167573345030742, 1.1676147714542227, 2.2439541852764027, 1.167726723424481, 4.765423662625994, 2.6406812196128784, 4.210662104719555, 6.130202114947074, 1.9878126894787729, 3.50787869336571, 5.37431709689058, 1.9888909931922785, 2.473408028935097, 2.7173119660025398, 2.780395755974323, 4.730094849834991, 6.328478850389794, 2.259900475055045, 2.259835614127869, 2.2597245022139973, 1.678501306990655, 1.6786314934130513, 2.963236575350168, 1.0972861684904056, 1.0973048875223963, 1.0972640494358727, 1.0973178339935346, 1.0972913950301522, 1.0972072966505437, 1.097208789386295, 1.0971968903036313, 1.0972604306194151, 1.0972220544219902, 1.0971742478460875, 1.0972273443500868, 1.097238155160608, 1.0972069172706171, 1.097225430855975, 1.0971595845961806, 1.0972059256479043, 1.0971712071010369, 1.0971925130945062, 1.097210519428347, 1.0971895937892653, 1.0972074205976348, 1.0971280665735237, 2.376832551019867, 2.4306777464912557, 5.107690146445878, 3.0803938284076535, 3.784270208214283, 4.633092710746657, 5.287943588674663, 7.674416666134821, 4.210662104719555, 1.8491796677988128, 4.105988900080232, 4.195721054304735, 3.305103732477062, 2.6008248215646943, 2.45350771569718, 1.4847148664823195, 1.0003184542496415, 1.0003184542496415, 1.0003184542496415, 1.0003184542496415, 1.0003184542496415, 1.0003184542496415, 1.0003184542496415, 1.0003184542496415, 1.0003184542496415, 1.0003184542496415, 1.0003184542496415, 1.0003184542496415, 1.0003184542496415, 1.0003184542496415, 1.0003184542496415, 1.0003184542496415, 1.0003184542496415, 1.0003184542496415, 1.0003184542496415, 1.0003184542496415, 1.0003184542496415, 1.0003184542496415, 1.0003184542496415, 1.0003184542496415, 1.0003184542496415, 1.0003184542496415, 1.0003184542496415, 3.731425449460498, 2.1883449755664794, 2.7173119660025398, 5.099522776190328, 3.551221033946733, 3.948641542133841, 6.732044504001661, 6.130202114947074, 7.674416666134821, 5.37431709689058, 4.730094849834991, 2.9448437992918457, 6.321914617152213, 1.7526617173132257, 2.407720422636229, 2.525237800527805, 2.780395755974323, 2.473408028935097, 1.8208755222631017, 1.8216470325280334, 1.8215866513960235, 1.8215727860528865, 1.8216581617663903, 1.820914483619917, 3.7888754455050053, 1.7521928521619707, 2.2654232906894625, 2.271142846897141, 1.3651378335074107, 1.3651378335074107, 1.374872531626463, 1.9303237990209603, 0.940529952511302, 0.940529952511302, 0.940529952511302, 0.940529952511302, 0.940529952511302, 0.940529952511302, 0.9405299579617923, 0.9405299591614827, 0.9405299618388673, 1.9464139063448163, 2.1863763588249463, 3.842051212122669, 3.731425449460498, 5.407312101778511, 1.5922990774156847, 1.639072395043309, 5.099522776190328, 2.2205217003219198, 2.2439541852764027, 2.5825642069018575, 2.780395755974323, 2.9448437992918457, 3.7888754455050053, 3.551221033946733, 6.732044504001661, 0.940529952511302, 0.940529952511302, 0.940529952511302, 0.940529952511302, 0.940529952511302, 0.940529952511302, 0.9405299579617923, 0.9405299591614827, 0.9405299618388673, 1.0003184542496415, 1.0003184542496415, 1.0003184542496415, 1.0003184542496415, 1.0003184542496415, 1.0003184542496415, 1.0003184542496415, 1.0003184542496415, 1.0003184542496415, 1.0003184542496415, 1.0003184542496415, 1.0003184542496415, 1.0003184542496415, 1.0003184542496415, 1.0003184542496415, 1.0003184542496415, 1.0003184542496415, 1.0003184542496415, 1.0003184542496415, 1.0003184542496415, 1.0003184542496415, 9.53756461725564, 1.267535632711847, 2.018987098020449, 1.26758458593341, 1.2676554654166976, 1.2675786103917586, 1.2676422771292686, 1.2676844071954252, 1.2675719344874494, 1.267529236174407, 1.2675087515184615, 1.2676280961068251, 1.2676826430923476, 1.2677876222771787, 1.2676802769613011, 1.267621963519004, 1.2676650994966039, 1.2676416644351582, 1.2677572720172618, 1.2676939752803298, 1.2676805619958733, 7.937537901951426, 2.0193640715265775, 4.275277878844295, 2.0191839897141133, 2.7711242031758587, 1.267628916948492, 1.2676365395609104, 1.2677787144176578, 1.2676412061763025, 6.130202114947074, 5.048848619110741, 3.4699766641656353, 3.475241686936883, 4.931431326517289, 3.3306642277553995, 5.37431709689058, 2.6008248215646943, 5.287943588674663, 4.633092710746657, 3.3306599888607242, 11.538744422123795, 2.019601595154565, 2.019596311960324, 7.209295297657088, 1.971141789282045, 5.842970635565041, 1.923134905798895, 0.9405299579617923, 0.940529952511302, 0.940529952511302, 0.940529952511302, 0.940529952511302, 0.940529952511302, 0.940529952511302, 0.9405299591614827, 0.9405299618388673, 1.0003184542496415, 1.0003184542496415, 1.0003184542496415, 1.0003184542496415, 1.0003184542496415, 1.0003184542496415, 1.0003184542496415, 1.0003184542496415, 1.0003184542496415, 1.0003184542496415, 1.0003184542496415, 1.0003184542496415, 1.0003184542496415, 1.0003184542496415, 1.0003184542496415, 1.0003184542496415, 1.0003184542496415, 1.0003184542496415, 1.0003184542496415, 1.0003184542496415, 1.0003184542496415, 1.2142114741721588, 1.214230659312998, 1.2142381689785051, 1.2142438553623385, 1.2142452439865652, 1.2142582258128392, 1.2142526243577707, 1.2142685599879277, 1.2143012606073869, 1.2142860478840756, 1.2142753702773974, 1.2143082235403384, 1.2143199749773603, 1.2143134725209286, 1.214339537822111, 1.2143466675362662, 1.2143148057942723, 1.2143224100498853, 1.2143394483574688, 1.2143641298081662, 1.2143909821994252, 1.2143721648162429, 1.2143532289316454, 1.2143421600512272, 1.214383438779307, 1.2143465108120477, 1.2143478049609582, 1.214377335200185, 1.214384888070488, 1.2144071762888156, 4.1300420394662165, 9.06402881444905, 2.6108381161031313, 3.309435692375898, 2.6108902326958208, 7.420408967611386, 1.9124407936286336, 3.309842788707957, 3.3097525878897702, 1.9126450759550926, 1.9127360839828653, 2.733286070512017, 9.53756461725564, 7.937537901951426, 7.032797856937676, 11.538744422123795, 8.487337980613706, 4.0135886701941885, 4.131368712626361, 5.7298962914547875, 2.6114676864977193, 1.9127429584173163, 1.8659087620351464, 4.275277878844295, 2.0347865795597353, 2.035105718848223, 5.322475975004796, 6.130202114947074, 7.674416666134821, 3.4699766641656353, 3.50787869336571, 5.783919152992076, 3.122587174598149], \"Category\": [\"Default\", \"Default\", \"Default\", \"Default\", \"Default\", \"Default\", \"Default\", \"Default\", \"Default\", \"Default\", \"Default\", \"Default\", \"Default\", \"Default\", \"Default\", \"Default\", \"Default\", \"Default\", \"Default\", \"Default\", \"Default\", \"Default\", \"Default\", \"Default\", \"Default\", \"Default\", \"Default\", \"Default\", \"Default\", \"Default\", \"Topic1\", \"Topic1\", \"Topic1\", \"Topic1\", \"Topic1\", \"Topic1\", \"Topic1\", \"Topic1\", \"Topic1\", \"Topic1\", \"Topic1\", \"Topic1\", \"Topic1\", \"Topic1\", \"Topic1\", \"Topic1\", \"Topic1\", \"Topic1\", \"Topic1\", \"Topic1\", \"Topic1\", \"Topic1\", \"Topic1\", \"Topic1\", \"Topic1\", \"Topic1\", \"Topic1\", \"Topic1\", \"Topic1\", \"Topic1\", \"Topic1\", \"Topic1\", \"Topic1\", \"Topic1\", \"Topic1\", \"Topic1\", \"Topic1\", \"Topic1\", \"Topic1\", \"Topic1\", \"Topic1\", \"Topic1\", \"Topic1\", \"Topic1\", \"Topic1\", \"Topic1\", \"Topic1\", \"Topic1\", \"Topic2\", \"Topic2\", \"Topic2\", \"Topic2\", \"Topic2\", \"Topic2\", \"Topic2\", \"Topic2\", \"Topic2\", \"Topic2\", \"Topic2\", \"Topic2\", \"Topic2\", \"Topic2\", \"Topic2\", \"Topic2\", \"Topic2\", \"Topic2\", \"Topic2\", \"Topic2\", \"Topic2\", \"Topic2\", \"Topic2\", \"Topic2\", \"Topic2\", \"Topic2\", \"Topic2\", \"Topic2\", \"Topic2\", \"Topic2\", \"Topic2\", \"Topic2\", \"Topic2\", \"Topic2\", \"Topic2\", \"Topic2\", \"Topic2\", \"Topic2\", \"Topic2\", \"Topic2\", \"Topic2\", \"Topic3\", \"Topic3\", \"Topic3\", \"Topic3\", \"Topic3\", \"Topic3\", \"Topic3\", \"Topic3\", \"Topic3\", \"Topic3\", \"Topic3\", \"Topic3\", \"Topic3\", \"Topic3\", \"Topic3\", \"Topic3\", \"Topic3\", \"Topic3\", \"Topic3\", \"Topic3\", \"Topic3\", \"Topic3\", \"Topic3\", \"Topic3\", \"Topic3\", \"Topic3\", \"Topic3\", \"Topic3\", \"Topic3\", \"Topic3\", \"Topic3\", \"Topic3\", \"Topic3\", \"Topic3\", \"Topic3\", \"Topic3\", \"Topic3\", \"Topic3\", \"Topic3\", \"Topic3\", \"Topic3\", \"Topic3\", \"Topic3\", \"Topic3\", \"Topic3\", \"Topic3\", \"Topic3\", \"Topic3\", \"Topic3\", \"Topic3\", \"Topic4\", \"Topic4\", \"Topic4\", \"Topic4\", \"Topic4\", \"Topic4\", \"Topic4\", \"Topic4\", \"Topic4\", \"Topic4\", \"Topic4\", \"Topic4\", \"Topic4\", \"Topic4\", \"Topic4\", \"Topic4\", \"Topic4\", \"Topic4\", \"Topic4\", \"Topic4\", \"Topic4\", \"Topic4\", \"Topic4\", \"Topic4\", \"Topic4\", \"Topic4\", \"Topic4\", \"Topic4\", \"Topic4\", \"Topic4\", \"Topic4\", \"Topic4\", \"Topic4\", \"Topic4\", \"Topic4\", \"Topic4\", \"Topic4\", \"Topic4\", \"Topic4\", \"Topic4\", \"Topic4\", \"Topic4\", \"Topic4\", \"Topic5\", \"Topic5\", \"Topic5\", \"Topic5\", \"Topic5\", \"Topic5\", \"Topic5\", \"Topic5\", \"Topic5\", \"Topic5\", \"Topic5\", \"Topic5\", \"Topic5\", \"Topic5\", \"Topic5\", \"Topic5\", \"Topic5\", \"Topic5\", \"Topic5\", \"Topic5\", \"Topic5\", \"Topic5\", \"Topic5\", \"Topic5\", \"Topic5\", \"Topic5\", \"Topic5\", \"Topic5\", \"Topic5\", \"Topic5\", \"Topic5\", \"Topic5\", \"Topic5\", \"Topic5\", \"Topic5\", \"Topic5\", \"Topic5\", \"Topic5\", \"Topic5\", \"Topic5\", \"Topic5\", \"Topic5\", \"Topic5\", \"Topic5\", \"Topic6\", \"Topic6\", \"Topic6\", \"Topic6\", \"Topic6\", \"Topic6\", \"Topic6\", \"Topic6\", \"Topic6\", \"Topic6\", \"Topic6\", \"Topic6\", \"Topic6\", \"Topic6\", \"Topic6\", \"Topic6\", \"Topic6\", \"Topic6\", \"Topic6\", \"Topic6\", \"Topic6\", \"Topic6\", \"Topic6\", \"Topic6\", \"Topic6\", \"Topic6\", \"Topic6\", \"Topic6\", \"Topic6\", \"Topic6\", \"Topic6\", \"Topic6\", \"Topic6\", \"Topic6\", \"Topic6\", \"Topic6\", \"Topic6\", \"Topic6\", \"Topic6\", \"Topic6\", \"Topic6\", \"Topic6\", \"Topic6\", \"Topic6\", \"Topic7\", \"Topic7\", \"Topic7\", \"Topic7\", \"Topic7\", \"Topic7\", \"Topic7\", \"Topic7\", \"Topic7\", \"Topic7\", \"Topic7\", \"Topic7\", \"Topic7\", \"Topic7\", \"Topic7\", \"Topic7\", \"Topic7\", \"Topic7\", \"Topic7\", \"Topic7\", \"Topic7\", \"Topic7\", \"Topic7\", \"Topic7\", \"Topic7\", \"Topic7\", \"Topic7\", \"Topic7\", \"Topic7\", \"Topic7\", \"Topic7\", \"Topic7\", \"Topic7\", \"Topic7\", \"Topic7\", \"Topic7\", \"Topic7\", \"Topic7\", \"Topic7\", \"Topic7\", \"Topic7\", \"Topic7\", \"Topic7\", \"Topic7\", \"Topic7\", \"Topic7\", \"Topic7\", \"Topic7\", \"Topic7\", \"Topic7\", \"Topic7\", \"Topic7\", \"Topic7\", \"Topic7\", \"Topic7\", \"Topic8\", \"Topic8\", \"Topic8\", \"Topic8\", \"Topic8\", \"Topic8\", \"Topic8\", \"Topic8\", \"Topic8\", \"Topic8\", \"Topic8\", \"Topic8\", \"Topic8\", \"Topic8\", \"Topic8\", \"Topic8\", \"Topic8\", \"Topic8\", \"Topic8\", \"Topic8\", \"Topic8\", \"Topic8\", \"Topic8\", \"Topic8\", \"Topic8\", \"Topic8\", \"Topic8\", \"Topic8\", \"Topic8\", \"Topic8\", \"Topic8\", \"Topic9\", \"Topic9\", \"Topic9\", \"Topic9\", \"Topic9\", \"Topic9\", \"Topic9\", \"Topic9\", \"Topic9\", \"Topic9\", \"Topic9\", \"Topic9\", \"Topic9\", \"Topic9\", \"Topic9\", \"Topic9\", \"Topic9\", \"Topic9\", \"Topic9\", \"Topic9\", \"Topic9\", \"Topic9\", \"Topic9\", \"Topic9\", \"Topic9\", \"Topic9\", \"Topic9\", \"Topic9\", \"Topic9\", \"Topic9\", \"Topic9\", \"Topic9\", \"Topic9\", \"Topic9\", \"Topic9\", \"Topic9\", \"Topic9\", \"Topic9\", \"Topic9\", \"Topic9\", \"Topic9\", \"Topic9\", \"Topic9\", \"Topic9\", \"Topic9\", \"Topic9\", \"Topic9\", \"Topic9\", \"Topic9\", \"Topic9\", \"Topic9\", \"Topic9\", \"Topic9\", \"Topic9\", \"Topic9\", \"Topic9\", \"Topic9\", \"Topic9\", \"Topic9\", \"Topic9\", \"Topic9\", \"Topic9\", \"Topic9\", \"Topic9\", \"Topic9\", \"Topic9\", \"Topic9\", \"Topic9\", \"Topic9\", \"Topic9\", \"Topic9\", \"Topic9\", \"Topic9\", \"Topic9\", \"Topic9\", \"Topic9\", \"Topic9\", \"Topic9\", \"Topic10\", \"Topic10\", \"Topic10\", \"Topic10\", \"Topic10\", \"Topic10\", \"Topic10\", \"Topic10\", \"Topic10\", \"Topic10\", \"Topic10\", \"Topic10\", \"Topic10\", \"Topic10\", \"Topic10\", \"Topic10\", \"Topic10\", \"Topic10\", \"Topic10\", \"Topic10\", \"Topic10\", \"Topic10\", \"Topic10\", \"Topic10\", \"Topic10\", \"Topic10\", \"Topic10\", \"Topic10\", \"Topic10\", \"Topic10\", \"Topic10\", \"Topic10\", \"Topic10\", \"Topic10\", \"Topic10\", \"Topic10\", \"Topic10\", \"Topic10\", \"Topic10\", \"Topic10\", \"Topic10\", \"Topic10\", \"Topic10\", \"Topic10\", \"Topic10\", \"Topic10\", \"Topic10\", \"Topic10\", \"Topic10\", \"Topic10\", \"Topic10\", \"Topic10\", \"Topic10\", \"Topic10\", \"Topic10\", \"Topic10\", \"Topic10\", \"Topic10\", \"Topic10\", \"Topic10\", \"Topic10\", \"Topic10\", \"Topic10\", \"Topic10\", \"Topic10\", \"Topic10\", \"Topic10\", \"Topic10\", \"Topic10\", \"Topic10\", \"Topic10\", \"Topic10\", \"Topic10\", \"Topic10\", \"Topic10\", \"Topic10\", \"Topic10\", \"Topic10\", \"Topic10\", \"Topic10\", \"Topic10\", \"Topic10\", \"Topic10\", \"Topic10\", \"Topic10\", \"Topic10\", \"Topic10\", \"Topic10\", \"Topic10\", \"Topic10\", \"Topic10\", \"Topic10\", \"Topic10\"], \"logprob\": [30.0, 29.0, 28.0, 27.0, 26.0, 25.0, 24.0, 23.0, 22.0, 21.0, 20.0, 19.0, 18.0, 17.0, 16.0, 15.0, 14.0, 13.0, 12.0, 11.0, 10.0, 9.0, 8.0, 7.0, 6.0, 5.0, 4.0, 3.0, 2.0, 1.0, -4.6805, -4.96, -4.9604, -4.9607, -5.3496, -5.3498, -5.3497, -5.3498, -5.35, -5.3499, -5.35, -5.3499, -5.3499, -5.3501, -5.3501, -5.3502, -5.3505, -5.3505, -5.3513, -5.3513, -5.3521, -5.3529, -5.3529, -5.3532, -5.3538, -5.3545, -4.4654, -4.0034, -4.6812, -3.781, -4.3279, -4.1343, -4.9618, -4.4623, -4.7387, -4.961, -4.9639, -5.0452, -4.6822, -4.9606, -4.9601, -4.9606, -5.1214, -5.3492, -5.3493, -5.3496, -5.3496, -5.3496, -3.2244, -3.6259, -4.0882, -4.3065, -4.5862, -4.5862, -4.9753, -4.9755, -4.9758, -4.9755, -4.9758, -4.9755, -4.9755, -4.9755, -4.9756, -4.9756, -4.9756, -4.9758, -4.9758, -3.6256, -4.3065, -4.5861, -4.5857, -5.6218, -5.6218, -5.6219, -5.6219, -5.6218, -5.6219, -5.622, -4.3063, -4.306, -4.9754, -4.0879, -4.5858, -4.586, -4.5862, -4.5861, -4.9752, -4.9753, -4.9755, -4.1313, -4.1315, -3.3352, -4.4109, -4.4121, -4.8004, -4.8005, -4.8007, -4.8015, -4.8016, -5.4468, -5.4468, -5.4469, -5.4469, -5.4469, -5.4469, -5.4469, -5.4469, -5.4469, -5.447, -5.447, -5.447, -5.447, -5.447, -5.447, -5.4471, -5.4471, -5.4471, -5.4471, -5.4471, -4.8002, -4.8004, -4.8006, -4.8006, -4.4123, -4.4095, -4.8014, -4.8, -4.1302, -4.4103, -4.8004, -4.4116, -4.7996, -4.8014, -4.8014, -4.7999, -4.7992, -4.8016, -4.7975, -4.7978, -4.1108, -4.1112, -4.1112, -4.3908, -4.3909, -4.3908, -4.7799, -4.7801, -4.7799, -4.7802, -4.7804, -4.7802, -4.7806, -4.1109, -4.1108, -4.1111, -4.3907, -5.4263, -5.4264, -5.4265, -5.4264, -5.4265, -5.4265, -5.4262, -5.4265, -5.4265, -5.4262, -5.4265, -5.4266, -5.4266, -5.4265, -5.4263, -5.4263, -4.7799, -4.7797, -4.7799, -4.7802, -4.3908, -4.391, -4.78, -4.7799, -4.7799, -4.7799, -3.0626, -3.2828, -3.9643, -4.2436, -4.2436, -4.2435, -4.6327, -4.6327, -4.6331, -4.6331, -4.6332, -4.6333, -5.2792, -5.2791, -5.2792, -5.2792, -5.2792, -5.2792, -5.2792, -5.2792, -5.2793, -5.2792, -5.2793, -5.2792, -5.2794, -5.2793, -5.2793, -5.2793, -5.2794, -5.2794, -4.6331, -5.2793, -3.9636, -4.633, -5.2655, -5.2744, -5.2747, -5.2748, -5.2761, -5.2769, -5.2773, -5.279, -5.2791, -5.2792, -2.8734, -4.0538, -4.0539, -4.054, -4.4433, -4.4433, -4.0536, -5.0889, -5.0889, -5.0891, -5.0892, -5.0893, -5.0895, -5.0895, -5.0896, -5.0895, -5.0896, -5.0897, -5.0896, -5.0897, -5.0897, -5.0898, -5.0899, -5.0898, -5.09, -5.09, -5.09, -5.0901, -5.0902, -5.0903, -4.4451, -4.4438, -4.0562, -4.4457, -4.4451, -4.4449, -4.4432, -5.0869, -5.088, -5.0884, -5.0884, -5.0884, -5.0891, -5.0896, -3.5694, -4.2385, -4.8851, -4.8851, -4.8851, -4.8851, -4.8851, -4.8851, -4.8851, -4.8851, -4.8851, -4.8851, -4.8851, -4.8851, -4.8851, -4.8851, -4.8851, -4.8851, -4.8851, -4.8851, -4.8851, -4.8851, -4.8851, -4.8851, -4.8851, -4.8851, -4.8851, -4.8851, -4.8851, -3.5694, -4.2383, -4.2356, -3.849, -4.2385, -4.2385, -4.2385, -4.8804, -4.881, -4.8829, -4.8834, -4.8836, -4.8842, -4.8843, -4.885, -4.885, -4.885, -4.8851, -4.8851, -4.8851, -4.8851, -4.8851, -4.8851, -4.8851, -4.8851, -4.8851, -3.4729, -3.4765, -4.1101, -4.1101, -4.1218, -3.8419, -4.7567, -4.7567, -4.7567, -4.7567, -4.7567, -4.7567, -4.7567, -4.7567, -4.7567, -4.1101, -4.1101, -3.6613, -3.7239, -3.3851, -4.7567, -4.7567, -3.9113, -4.7567, -4.7567, -4.7567, -4.7564, -4.7567, -4.5493, -4.7567, -4.5383, -6.6212, -6.6212, -6.6212, -6.6212, -6.6212, -6.6212, -6.6212, -6.6212, -6.6212, -6.6212, -6.6212, -6.6212, -6.6212, -6.6212, -6.6212, -6.6212, -6.6212, -6.6212, -6.6212, -6.6212, -6.6212, -6.6212, -6.6212, -6.6212, -6.6212, -6.6212, -6.6212, -6.6212, -6.6212, -6.6212, -6.5629, -6.6141, -6.6052, -6.6147, -6.6148, -6.6151, -6.6152, -6.6152, -6.6152, -6.6154, -6.6155, -6.6155, -6.6156, -6.6157, -6.6157, -6.6158, -6.6158, -6.6159, -6.6159, -6.6159, -6.6159, -6.5915, -6.6095, -6.6023, -6.6103, -6.6076, -6.616, -6.616, -6.6161, -6.6161, -6.6023, -6.606, -6.6073, -6.6084, -6.6102, -6.6109, -6.6113, -6.6114, -6.6118, -6.6118, -6.612, -6.612, -6.6121, -6.6125, -6.6147, -6.615, -6.6151, -6.6151, -6.6242, -6.6242, -6.6242, -6.6242, -6.6242, -6.6242, -6.6242, -6.6242, -6.6242, -6.6242, -6.6242, -6.6242, -6.6242, -6.6242, -6.6242, -6.6242, -6.6242, -6.6242, -6.6242, -6.6242, -6.6242, -6.6242, -6.6242, -6.6242, -6.6242, -6.6242, -6.6242, -6.6242, -6.6242, -6.6242, -6.6137, -6.6139, -6.6142, -6.6142, -6.6143, -6.6145, -6.6146, -6.6148, -6.6148, -6.6149, -6.615, -6.615, -6.6152, -6.6153, -6.6153, -6.6154, -6.6154, -6.6155, -6.6156, -6.6157, -6.6157, -6.6157, -6.6158, -6.6159, -6.616, -6.616, -6.616, -6.6161, -6.6162, -6.6162, -6.5798, -6.5655, -6.5936, -6.589, -6.5941, -6.5759, -6.6033, -6.5927, -6.5931, -6.6059, -6.6062, -6.5992, -6.5778, -6.5824, -6.5843, -6.5828, -6.5869, -6.5944, -6.5968, -6.5949, -6.6035, -6.6068, -6.6088, -6.6009, -6.6089, -6.609, -6.5994, -6.5991, -6.6029, -6.6039, -6.6049, -6.6054, -6.6055], \"loglift\": [30.0, 29.0, 28.0, 27.0, 26.0, 25.0, 24.0, 23.0, 22.0, 21.0, 20.0, 19.0, 18.0, 17.0, 16.0, 15.0, 14.0, 13.0, 12.0, 11.0, 10.0, 9.0, 8.0, 7.0, 6.0, 5.0, 4.0, 3.0, 2.0, 1.0, 1.1674, 1.1312, 1.1311, 1.1305, 1.0642, 1.0642, 1.0641, 1.0641, 1.064, 1.0639, 1.0638, 1.0637, 1.0637, 1.0635, 1.0635, 1.0635, 1.0632, 1.0631, 1.0628, 1.0627, 1.0622, 1.0616, 1.0615, 1.0612, 1.0608, 1.0602, 1.0457, 1.0411, 0.9861, 0.9565, 0.9484, 0.8445, 0.9177, 0.7166, 0.7567, 0.8487, 0.7816, 0.8058, 0.463, 0.4674, 0.4577, 0.3785, 0.4325, 0.7841, 0.2724, 0.5985, 0.3844, 0.7818, 1.7035, 1.6801, 1.642, 1.6168, 1.5777, 1.577, 1.5049, 1.5048, 1.5047, 1.5047, 1.5046, 1.5045, 1.5044, 1.5044, 1.5041, 1.5041, 1.5041, 1.504, 1.5039, 1.4859, 1.4641, 1.3529, 1.3517, 1.324, 1.324, 1.324, 1.324, 1.324, 1.324, 1.324, 1.2812, 1.2579, 1.2519, 1.1199, 1.0641, 1.0432, 0.8564, 0.7838, 1.0124, 0.5424, 0.9759, 1.8486, 1.8484, 1.8197, 1.8063, 1.8053, 1.7286, 1.7286, 1.7284, 1.7277, 1.7276, 1.5378, 1.5377, 1.5377, 1.5377, 1.5377, 1.5377, 1.5377, 1.5377, 1.5376, 1.5376, 1.5376, 1.5376, 1.5376, 1.5376, 1.5376, 1.5375, 1.5375, 1.5375, 1.5375, 1.5375, 1.5042, 1.4368, 1.4366, 1.3728, 1.0303, 1.0084, 1.1499, 1.1315, 0.6072, 0.7974, 1.0519, 0.7336, 0.9335, 0.7861, 0.7163, 0.6281, 0.5399, 0.3099, 0.247, 0.181, 1.8754, 1.8752, 1.875, 1.8327, 1.8325, 1.8324, 1.7546, 1.7545, 1.7544, 1.7543, 1.7543, 1.7541, 1.7541, 1.6825, 1.6537, 1.6537, 1.6315, 1.5626, 1.5625, 1.5624, 1.5624, 1.5624, 1.5624, 1.5624, 1.5624, 1.5624, 1.5623, 1.5623, 1.5623, 1.5623, 1.5623, 1.5623, 1.5623, 1.4892, 1.4228, 1.3973, 1.3974, 1.1615, 0.7879, 0.954, 0.7216, 0.6481, 0.1989, 2.17, 2.1546, 2.0801, 2.0349, 2.0349, 2.0349, 1.9519, 1.9518, 1.9516, 1.9516, 1.9514, 1.9514, 1.7489, 1.7489, 1.7489, 1.7489, 1.7489, 1.7489, 1.7489, 1.7489, 1.7489, 1.7488, 1.7488, 1.7488, 1.7488, 1.7488, 1.7488, 1.7488, 1.7488, 1.7488, 1.7418, 1.7488, 1.6582, 1.5791, 0.48, 0.0955, 1.2214, 0.6533, 0.2254, 1.2186, 1.0002, 0.9044, 0.8814, 0.35, 2.4647, 2.314, 2.3139, 2.3139, 2.2219, 2.2219, 2.0432, 2.0014, 2.0014, 2.0012, 2.001, 2.0009, 2.0009, 2.0008, 2.0008, 2.0008, 2.0007, 2.0007, 2.0007, 2.0006, 2.0006, 2.0006, 2.0005, 2.0005, 2.0004, 2.0004, 2.0003, 2.0002, 2.0002, 2.0001, 1.8722, 1.8511, 1.4961, 1.6124, 1.4072, 1.205, 1.0745, 0.0583, 0.6575, 1.48, 0.6822, 0.6606, 0.8986, 1.1377, 2.7162, 2.5494, 2.2977, 2.2977, 2.2977, 2.2977, 2.2977, 2.2977, 2.2977, 2.2977, 2.2977, 2.2977, 2.2977, 2.2977, 2.2977, 2.2977, 2.2977, 2.2977, 2.2977, 2.2977, 2.2977, 2.2977, 2.2977, 2.2977, 2.2977, 2.2977, 2.2977, 2.2977, 2.2977, 2.2969, 2.1617, 1.9478, 1.705, 1.6774, 1.5713, 1.0378, 0.4895, 0.2642, 0.6186, 0.7457, 1.2194, 0.4549, 1.7377, 1.4195, 1.3718, 1.2755, 1.3924, 1.6987, 1.6983, 1.6983, 1.6983, 1.6983, 1.6987, 0.966, 1.7372, 2.8924, 2.8863, 2.7618, 2.7618, 2.7429, 2.6835, 2.4877, 2.4877, 2.4877, 2.4877, 2.4877, 2.4877, 2.4877, 2.4877, 2.4877, 2.4071, 2.2908, 2.1758, 2.1424, 2.1102, 1.9612, 1.9323, 1.6427, 1.6287, 1.6182, 1.4776, 1.4041, 1.3464, 1.3017, 1.1591, 0.7379, 0.6232, 0.6232, 0.6232, 0.6232, 0.6232, 0.6232, 0.6232, 0.6232, 0.6232, 0.5616, 0.5616, 0.5616, 0.5616, 0.5616, 0.5616, 0.5616, 0.5616, 0.5616, 0.5616, 0.5616, 0.5616, 0.5616, 0.5616, 0.5616, 0.5616, 0.5616, 0.5616, 0.5616, 0.5616, 0.5616, -1.635, 0.3319, -0.1246, 0.3313, 0.3312, 0.3309, 0.3308, 0.3307, 0.3308, 0.3307, 0.3306, 0.3304, 0.3303, 0.3301, 0.3302, 0.3302, 0.3301, 0.3301, 0.3299, 0.33, 0.33, -1.48, -0.1291, -0.872, -0.1299, -0.4438, 0.33, 0.3299, 0.3297, 0.3299, -1.2324, -1.0421, -0.6684, -0.671, -1.0227, -0.6309, -1.1098, -0.3841, -1.0941, -0.9619, -0.632, -1.8746, -0.1318, -0.1323, -1.407, -0.1105, -1.1972, -0.086, 0.6203, 0.6203, 0.6203, 0.6203, 0.6203, 0.6203, 0.6203, 0.6203, 0.6203, 0.5586, 0.5586, 0.5586, 0.5586, 0.5586, 0.5586, 0.5586, 0.5586, 0.5586, 0.5586, 0.5586, 0.5586, 0.5586, 0.5586, 0.5586, 0.5586, 0.5586, 0.5586, 0.5586, 0.5586, 0.5586, 0.3753, 0.3751, 0.3748, 0.3748, 0.3747, 0.3745, 0.3744, 0.3742, 0.3742, 0.3741, 0.374, 0.3739, 0.3738, 0.3737, 0.3736, 0.3735, 0.3735, 0.3735, 0.3733, 0.3732, 0.3731, 0.3731, 0.3731, 0.373, 0.3729, 0.3729, 0.3729, 0.3728, 0.3727, 0.3726, -0.815, -1.5867, -0.3702, -0.6027, -0.3707, -1.3971, -0.0685, -0.6065, -0.6068, -0.0712, -0.0716, -0.4216, -1.6499, -1.4708, -1.3517, -1.8454, -1.5424, -0.801, -0.8323, -1.1575, -0.3803, -0.0722, -0.0494, -0.8707, -0.1362, -0.1364, -1.0882, -1.2292, -1.4577, -0.6649, -0.6768, -1.1774, -0.561]}, \"token.table\": {\"Topic\": [1, 6, 6, 1, 7, 4, 3, 5, 5, 7, 5, 5, 7, 6, 1, 2, 5, 6, 7, 7, 4, 6, 5, 5, 6, 8, 8, 4, 4, 7, 1, 2, 7, 8, 4, 8, 8, 4, 6, 1, 5, 6, 6, 4, 1, 3, 4, 7, 5, 4, 4, 2, 2, 2, 6, 4, 3, 5, 5, 6, 4, 4, 4, 2, 5, 2, 5, 1, 2, 3, 4, 6, 4, 2, 3, 1, 4, 6, 1, 1, 3, 2, 3, 1, 5, 1, 5, 2, 1, 4, 4, 4, 7, 1, 4, 2, 5, 2, 3, 2, 6, 4, 2, 7, 2, 6, 6, 6, 1, 2, 3, 1, 2, 3, 1, 2, 1, 3, 4, 1, 3, 4, 2, 7, 3, 7, 2, 7, 1, 5, 4, 6, 8, 2, 2, 3, 1, 7, 2, 3, 6, 3, 1, 2, 3, 1, 7, 1, 2, 3, 6, 1, 4, 7, 5, 2, 2, 3, 1, 7, 8, 3, 1, 2, 3, 4, 7, 5, 7, 4, 2, 7, 3, 7, 4, 6, 7, 1, 8, 4, 3, 4, 5, 4, 6, 4, 3, 4, 3, 4, 3, 4, 6, 3, 4, 6, 5, 3, 1, 5, 7, 1, 5, 3, 2, 2, 4, 1, 4, 6, 4, 5, 1, 5, 1, 2, 4, 5, 7, 1, 4, 7, 4, 7, 7, 6, 2, 3, 2, 2, 3, 4, 6, 6, 6, 1, 2, 3, 5, 4, 1, 3, 1, 3, 3, 3, 1, 4, 3, 7, 5, 2, 4, 2, 1, 3, 4, 2, 5, 4, 4, 4, 2, 3, 4, 5, 4, 1, 3, 4, 1, 2, 3, 1, 7, 7, 7, 4, 3, 6, 4, 2, 7, 1, 6, 1, 3, 6, 1, 3, 4, 2, 4, 7, 2, 7, 8, 1, 7, 8, 1, 7, 8, 6, 1, 7, 1, 7, 2, 4, 6, 1, 1, 5, 3, 2, 6, 1, 4, 1, 4, 3, 4, 1, 3, 4, 2, 2, 1, 7, 1, 7, 4, 1, 3, 2, 6, 3, 2, 6, 4, 4, 1, 1, 7, 4, 4, 3, 5, 5, 5, 6, 7, 5, 8, 4, 3, 1, 6, 6, 3, 6, 2, 4, 1, 7, 8, 2, 5, 4, 1, 3, 1, 3, 4, 6, 7, 2, 3, 2, 1, 1, 1, 2, 1, 7, 3, 5, 1, 2, 3, 5, 7, 6, 2, 3, 5, 4, 6, 2, 7, 1, 7, 5, 3, 3, 4, 5, 2, 6, 4, 5, 2, 5, 7, 3, 5, 7, 6, 1, 1, 8, 7, 6, 6, 1, 1, 4, 1, 3, 7, 5, 2, 2, 7, 2, 4, 6, 7, 5, 2, 2, 6, 4, 1, 4, 4, 1, 2, 5, 7, 3, 2, 2, 2, 4, 2, 3, 2, 1, 4, 5, 6, 2, 1, 7, 3, 4, 1, 2, 1, 1, 3], \"Freq\": [0.9266606320122004, 0.5957233638973171, 0.9114021259302233, 0.5489537666428312, 0.5489537666428312, 0.8235616582875698, 0.38834813928252376, 0.38834813928252376, 0.6280227214745415, 0.9996816471311825, 0.8563796049459517, 0.5496669640908244, 0.9996816471311825, 0.9113392920788865, 0.3262535170126715, 0.3262535170126715, 0.16312675850633576, 0.16312675850633576, 0.16312675850633576, 0.9996816471311825, 0.8235045254241163, 0.9113237454522772, 0.5497095935631652, 0.8564772433835154, 0.5137653387803351, 0.5137653387803351, 0.7273401548120306, 0.8234470443891512, 0.8234370164878324, 0.9996816471311825, 0.9265624061429704, 0.9900565716675118, 0.5359881972957993, 0.26799409864789964, 0.8235480548880679, 0.7325267642980253, 0.8828372199666566, 0.4503446193995876, 0.4503446193995876, 0.7124770227080025, 0.2374923409026675, 0.2374923409026675, 0.9113925444442454, 0.8234762337372157, 0.5390538469590028, 0.1347634617397507, 0.2695269234795014, 0.6735299972911724, 0.8093632434819221, 0.52263280736392, 0.7660222459582077, 0.788949187768535, 0.7887811876218008, 0.411407888784733, 0.411407888784733, 0.522694703761065, 0.3883314302218285, 0.3883314302218285, 0.8563942549168592, 0.9113349512528723, 0.8235578014941598, 0.8235141462556197, 0.8234580251813676, 0.7888664660178906, 0.8564291440747734, 0.9902969163469589, 0.8564252449011602, 0.13870981263938306, 0.5548392505575322, 0.2774196252787661, 0.8234621575280636, 0.9113576631933961, 0.8235410459856937, 0.5835703963118674, 0.2917851981559337, 0.5816737393134885, 0.29083686965674427, 0.29083686965674427, 0.9265569156385991, 0.9269165825219148, 0.819905906220884, 0.7889324561712998, 0.5199958976425706, 0.5027927641197396, 0.5027927641197396, 0.503065507777904, 0.503065507777904, 0.7889057071505328, 0.4913749643266466, 0.4913749643266466, 0.8235061767954891, 0.8235096823561407, 0.9996816471311825, 0.2420505332636573, 0.7261515997909719, 0.7887708528840097, 0.8563922501189565, 0.7888422604079144, 0.8199084634720232, 0.7306400657686579, 0.24354668858955264, 0.8235105865407131, 0.5707134341782837, 0.5707134341782837, 0.7888398676547268, 0.9480951334190583, 0.9114170832059492, 0.9113129933928441, 0.9265290771663544, 0.5754995422384054, 0.2877497711192027, 0.926678522005809, 0.7889098620697659, 0.5199368514610441, 0.9267052258527321, 0.7888749098187615, 0.6619572954617428, 0.11032621591029046, 0.11032621591029046, 0.7892775219931542, 0.5199155805208477, 0.8231977197524235, 0.7888787262914982, 0.9996816471311825, 0.41533061338786725, 0.41533061338786725, 0.5705607591708958, 0.5705607591708958, 0.4196898621386995, 0.6295347932080493, 0.40089497261437246, 0.40089497261437246, 0.5180478013622323, 0.7887756454064577, 0.9904991373684429, 0.8199441318587055, 0.5491746092392178, 0.5491746092392178, 0.6051247288692717, 0.30256236443463586, 0.30256236443463586, 0.5199843219446881, 0.19806496004154925, 0.5941948801246477, 0.19806496004154925, 0.9274169434383045, 0.9996816471311825, 0.4766761121900694, 0.2383380560950347, 0.2383380560950347, 0.2383380560950347, 0.33957658475484254, 0.33957658475484254, 0.33957658475484254, 0.8094108733668285, 0.7888578776184149, 0.9356116990180977, 0.5199894865392802, 0.5278611104444547, 0.26393055522222736, 0.26393055522222736, 0.819912176489759, 0.47453978449196266, 0.15817992816398754, 0.15817992816398754, 0.15817992816398754, 0.15817992816398754, 0.8563750385856488, 0.9996816471311825, 0.823242189377256, 0.7887945287892492, 0.9996816471311825, 0.9007223823606718, 0.9996816471311825, 0.5228920044644187, 0.9113881504587577, 0.9996816471311825, 0.4573777958966971, 0.4573777958966971, 0.8235568596643927, 0.8199017870744216, 0.8234880753029573, 0.5496559136252205, 0.6263904220672266, 0.3131952110336133, 0.5228112798069419, 0.7613016386125945, 0.5228361563635339, 0.8199617983272702, 0.8235188683735744, 0.26425174339542706, 0.26425174339542706, 0.26425174339542706, 0.3246338149290896, 0.3246338149290896, 0.3246338149290896, 0.8564468559733409, 0.8199391782305868, 0.40430045843691254, 0.40430045843691254, 0.40430045843691254, 0.9268487550224803, 0.8564175736664865, 0.8199399539458753, 0.8511015124259353, 0.7889019881569725, 0.8235797645396106, 0.9272305693143257, 0.8235518539882993, 0.8850636429531438, 0.8234929102230141, 0.8564204159456373, 0.3786901624371756, 0.3786901624371756, 0.18607015216474115, 0.3721403043294823, 0.18607015216474115, 0.18607015216474115, 0.18607015216474115, 0.9265097658347087, 0.8234369421852582, 0.9996816471311825, 0.8232251083035893, 0.9996816471311825, 0.9996816471311825, 0.9114051180861796, 0.7889364374885345, 0.8199474531560882, 0.9902943257711851, 0.3782188607842671, 0.18910943039213354, 0.18910943039213354, 0.18910943039213354, 0.911405941787542, 0.9114134471555659, 0.1754249785673033, 0.3508499571346066, 0.3508499571346066, 0.8564556843754662, 0.8234873039789045, 0.6987323820399949, 0.34936619101999744, 0.6933163355851103, 0.2599936258444163, 0.8199041131592874, 0.9007212360225694, 0.4914520323877745, 0.4914520323877745, 0.4569663426769072, 0.4569663426769072, 0.8726161427139074, 0.5763727522014633, 0.28818637610073167, 0.9897659127387058, 0.4695695092429158, 0.2347847546214579, 0.2347847546214579, 0.7212496525453017, 0.8563647469395881, 0.8232120409142579, 0.6101011785837422, 0.8235291855181286, 0.1315759855971238, 0.7894559135827428, 0.5359318849595305, 0.5359318849595305, 0.9063874605268161, 0.4691378417616926, 0.2345689208808463, 0.2345689208808463, 0.28603138055869176, 0.28603138055869176, 0.28603138055869176, 0.5491863599534444, 0.5491863599534444, 0.9996816471311825, 0.9996816471311825, 0.823491131986898, 0.33746883671676775, 0.6749376734335355, 0.8234929708926223, 0.9898005108887468, 0.9996816471311825, 0.9265584819810692, 0.9114322560551756, 0.36433439508142934, 0.36433439508142934, 0.911470620857538, 0.5186794491150645, 0.17289314970502148, 0.17289314970502148, 0.94363711924079, 0.8234631402789844, 0.9996816471311825, 0.9181978177525236, 0.9996816471311825, 0.7325267642980253, 0.7427164209963111, 0.14854328419926222, 0.14854328419926222, 0.39219356158933144, 0.39219356158933144, 0.19609678079466572, 0.9114444371080794, 0.5489719631144762, 0.5489719631144762, 0.9271761037094263, 0.9996816471311825, 0.19578321537296803, 0.39156643074593606, 0.39156643074593606, 0.9269122467225075, 0.9268968305289161, 0.5496954521215178, 0.8199241396039022, 0.9898290288478943, 0.8850201260200308, 0.24212828597000047, 0.7263848579100014, 0.36585998472259196, 0.36585998472259196, 0.8199238903869193, 0.906498955973443, 0.8247580119925707, 0.11782257314179582, 0.8235667517782759, 0.7217287473827018, 0.7888667511972002, 1.0069444171100772, 0.9996816471311825, 1.0067236177684578, 0.9996816471311825, 0.5227459321992728, 0.9266603588969393, 0.8199346095621985, 0.7689868165733557, 0.38449340828667783, 0.8199131451593492, 0.5407803348770099, 0.5407803348770099, 0.7660375370132667, 0.8234881815827744, 0.9272865338420291, 0.5631865718527954, 0.2815932859263977, 0.823536427138066, 0.8234707851289712, 0.819914914446428, 0.856410544532738, 0.809293007725138, 0.36801074462977773, 0.36801074462977773, 0.36801074462977773, 0.5496184134785974, 0.8806139176725148, 0.8234836258308239, 0.8199025903847047, 1.0067587204653154, 0.911389739864007, 0.9114048029508285, 0.8199392001682677, 0.9114035629985547, 0.7887305735472802, 0.5228094008132916, 0.5205552684174226, 0.2602776342087113, 0.2602776342087113, 0.788874398989932, 0.4456418970411481, 0.7658528613395296, 0.7515299305782955, 0.18788248264457388, 0.39090918965062316, 0.2606061264337488, 0.1303030632168744, 0.1303030632168744, 0.1303030632168744, 0.7559019023424018, 0.1259836503904003, 0.9904108071448756, 0.9272600277160443, 0.9274558220865735, 0.9265293575949596, 0.7888696552928212, 0.7597549607855272, 0.2532516535951757, 0.8199100705574951, 0.8564076861324621, 0.5134374596612853, 0.1711458198870951, 0.3422916397741902, 0.8563805906428046, 0.9996816471311825, 0.9114195082240889, 0.5073201762741953, 0.5073201762741953, 0.8564337864302929, 0.4207279976752731, 0.4207279976752731, 0.9905957308795755, 0.9996816471311825, 0.5489761417477427, 0.5489761417477427, 0.8563769562237413, 0.8199108935322208, 0.24915358353142283, 0.7474607505942684, 0.549631080173218, 0.7888339137833847, 0.9113791707814108, 0.8234077500902584, 0.9607417927046584, 0.7888409654017424, 0.8564799688904009, 0.8151594499598658, 0.35966102949598766, 0.35966102949598766, 0.35966102949598766, 0.5957695688619249, 0.9265190959065659, 0.5548042989812396, 0.3698695326541597, 0.9996816471311825, 0.9114347820357188, 0.9113606688937916, 0.7744241148603528, 0.7000380816551826, 0.3500190408275913, 0.39600230908589595, 0.39600230908589595, 0.39600230908589595, 0.9953364425361207, 0.7888518824073527, 0.989822428571877, 0.9996816471311825, 0.4316770945163507, 0.21583854725817536, 0.21583854725817536, 0.9996816471311825, 0.8564276848952054, 0.9897950208507799, 0.9900850867835166, 0.8849947252439448, 0.9064121623401277, 0.3657012589014432, 0.3657012589014432, 0.8234672790851735, 0.21141225107460265, 0.4228245021492053, 0.21141225107460265, 0.21141225107460265, 0.8199220595438269, 0.7888424377770195, 0.7887118650056919, 0.3750927380723549, 0.3750927380723549, 0.6083426497026132, 0.2027808832342044, 0.9900530355480377, 0.5701451432121949, 0.28507257160609745, 0.28507257160609745, 0.9114046999931088, 0.7888660847322185, 0.5489504128646943, 0.5489504128646943, 0.7614138119433109, 0.8234443800289779, 0.6588867799762792, 0.21962892665875974, 0.9266157549361631, 0.8146431263527473, 0.2715477087842491], \"Term\": [\"access\", \"accord\", \"achaya\", \"across\", \"across\", \"address\", \"administr\", \"administr\", \"advanc\", \"advantag\", \"alli\", \"allianc\", \"allow\", \"along\", \"also\", \"also\", \"also\", \"also\", \"also\", \"alter\", \"american\", \"ancient\", \"anglo\", \"armi\", \"around\", \"around\", \"attempt\", \"attorney\", \"august\", \"back\", \"badminton\", \"bake\", \"ball\", \"ball\", \"barack\", \"base\", \"bat\", \"batter\", \"batter\", \"becam\", \"becam\", \"becam\", \"birthplac\", \"bobbi\", \"born\", \"born\", \"born\", \"bounc\", \"british\", \"cake\", \"campaign\", \"categori\", \"cavatelli\", \"centuri\", \"centuri\", \"chicago\", \"chief\", \"chief\", \"childhood\", \"chutney\", \"civil\", \"clinton\", \"close\", \"come\", \"command\", \"commerci\", \"commiss\", \"common\", \"common\", \"common\", \"communiti\", \"conjectur\", \"convent\", \"cook\", \"cook\", \"countri\", \"countri\", \"countri\", \"court\", \"cricket\", \"criticis\", \"cuisin\", \"cultur\", \"death\", \"death\", \"decemb\", \"decemb\", \"decor\", \"defeat\", \"defeat\", \"degre\", \"deleg\", \"demand\", \"democrat\", \"democrat\", \"depend\", \"deploy\", \"differ\", \"direct\", \"dish\", \"dish\", \"district\", \"divid\", \"divid\", \"document\", \"dosa\", \"dosai\", \"dosaka\", \"doubl\", \"dri\", \"dri\", \"duke\", \"durum\", \"econom\", \"edward\", \"egg\", \"elect\", \"elect\", \"elect\", \"elizabeth\", \"encourag\", \"enduri\", \"exampl\", \"except\", \"fail\", \"fail\", \"fast\", \"fast\", \"father\", \"father\", \"ferment\", \"ferment\", \"field\", \"fill\", \"flour\", \"focus\", \"follow\", \"follow\", \"food\", \"food\", \"food\", \"foreign\", \"form\", \"form\", \"form\", \"former\", \"forth\", \"found\", \"found\", \"found\", \"found\", \"four\", \"four\", \"four\", \"french\", \"fresca\", \"fresh\", \"fri\", \"game\", \"game\", \"game\", \"gave\", \"general\", \"general\", \"general\", \"general\", \"general\", \"ghat\", \"give\", \"goan\", \"grain\", \"great\", \"gujarat\", \"hard\", \"harvard\", \"historian\", \"hitter\", \"home\", \"home\", \"honolulu\", \"human\", \"hussein\", \"hyder\", \"id\", \"id\", \"illinoi\", \"improv\", \"inaugur\", \"increas\", \"incumb\", \"india\", \"india\", \"india\", \"indian\", \"indian\", \"indian\", \"industri\", \"infrastructur\", \"initi\", \"initi\", \"initi\", \"inning\", \"innov\", \"invest\", \"itali\", \"italian\", \"januari\", \"japan\", \"juli\", \"karnataka\", \"keynot\", \"khan\", \"kingdom\", \"kingdom\", \"known\", \"known\", \"known\", \"known\", \"known\", \"kuan\", \"laureat\", \"least\", \"lentil\", \"lightweight\", \"limit\", \"link\", \"local\", \"lower\", \"machin\", \"made\", \"made\", \"made\", \"made\", \"main\", \"manasollasa\", \"mani\", \"mani\", \"mani\", \"mauludi\", \"mccain\", \"member\", \"member\", \"minist\", \"minist\", \"modernis\", \"modi\", \"month\", \"month\", \"must\", \"must\", \"mysor\", \"name\", \"name\", \"napl\", \"nation\", \"nation\", \"nation\", \"neapolitan\", \"negoti\", \"neighbour\", \"nine\", \"nomine\", \"noodl\", \"noodl\", \"novemb\", \"novemb\", \"obama\", \"offic\", \"offic\", \"offic\", \"often\", \"often\", \"often\", \"oppon\", \"oppon\", \"opposit\", \"option\", \"organ\", \"origin\", \"origin\", \"outsid\", \"oven\", \"paddl\", \"pagar\", \"parcel\", \"parliament\", \"parliament\", \"part\", \"parti\", \"parti\", \"parti\", \"pasta\", \"peac\", \"ping\", \"pizza\", \"place\", \"plate\", \"play\", \"play\", \"play\", \"player\", \"player\", \"player\", \"podi\", \"point\", \"point\", \"polit\", \"pong\", \"popular\", \"popular\", \"popular\", \"posit\", \"post\", \"power\", \"prais\", \"prepar\", \"present\", \"presid\", \"presid\", \"presidenti\", \"presidenti\", \"prevent\", \"primari\", \"prime\", \"prime\", \"prize\", \"produc\", \"product\", \"queen\", \"quick\", \"racquet\", \"reaction\", \"receiv\", \"rectangular\", \"reduc\", \"refer\", \"refer\", \"reform\", \"region\", \"region\", \"repres\", \"republican\", \"retain\", \"return\", \"return\", \"review\", \"right\", \"riot\", \"river\", \"rocket\", \"rule\", \"rule\", \"rule\", \"ruler\", \"run\", \"rush\", \"sabha\", \"saint\", \"sambar\", \"sangam\", \"sanit\", \"sanskrit\", \"scale\", \"school\", \"score\", \"score\", \"score\", \"secca\", \"second\", \"senat\", \"septemb\", \"septemb\", \"serv\", \"serv\", \"serv\", \"serv\", \"serv\", \"shape\", \"shape\", \"sheet\", \"shigeru\", \"shinz\\u014d\", \"shuttlecock\", \"sicili\", \"side\", \"side\", \"signific\", \"silk\", \"sinc\", \"sinc\", \"sinc\", \"sira\", \"small\", \"someshvara\", \"sometim\", \"sometim\", \"sought\", \"south\", \"south\", \"specif\", \"spin\", \"sport\", \"sport\", \"srirangapatna\", \"standard\", \"state\", \"state\", \"struggl\", \"stuf\", \"subcontin\", \"suffici\", \"sultan\", \"supermarket\", \"system\", \"tabl\", \"take\", \"take\", \"take\", \"tamil\", \"tanjong\", \"team\", \"team\", \"tenni\", \"thankappan\", \"thicker\", \"third\", \"three\", \"three\", \"time\", \"time\", \"time\", \"tipu\", \"today\", \"top\", \"toward\", \"tradit\", \"tradit\", \"tradit\", \"trajectori\", \"travancor\", \"true\", \"type\", \"udupi\", \"unit\", \"univers\", \"univers\", \"unsuccess\", \"use\", \"use\", \"use\", \"use\", \"varanasi\", \"vari\", \"variabl\", \"variant\", \"variant\", \"varieti\", \"varieti\", \"various\", \"victori\", \"victori\", \"victori\", \"well\", \"wide\", \"within\", \"within\", \"word\", \"work\", \"world\", \"world\", \"yard\", \"year\", \"year\"]}, \"R\": 30, \"lambda.step\": 0.01, \"plot.opts\": {\"xlab\": \"PC1\", \"ylab\": \"PC2\"}, \"topic.order\": [3, 10, 4, 7, 5, 2, 1, 6, 8, 9]};\n",
              "\n",
              "function LDAvis_load_lib(url, callback){\n",
              "  var s = document.createElement('script');\n",
              "  s.src = url;\n",
              "  s.async = true;\n",
              "  s.onreadystatechange = s.onload = callback;\n",
              "  s.onerror = function(){console.warn(\"failed to load library \" + url);};\n",
              "  document.getElementsByTagName(\"head\")[0].appendChild(s);\n",
              "}\n",
              "\n",
              "if(typeof(LDAvis) !== \"undefined\"){\n",
              "   // already loaded: just create the visualization\n",
              "   !function(LDAvis){\n",
              "       new LDAvis(\"#\" + \"ldavis_el1071397946057320164613946106\", ldavis_el1071397946057320164613946106_data);\n",
              "   }(LDAvis);\n",
              "}else if(typeof define === \"function\" && define.amd){\n",
              "   // require.js is available: use it to load d3/LDAvis\n",
              "   require.config({paths: {d3: \"https://d3js.org/d3.v5\"}});\n",
              "   require([\"d3\"], function(d3){\n",
              "      window.d3 = d3;\n",
              "      LDAvis_load_lib(\"https://cdn.jsdelivr.net/gh/bmabey/pyLDAvis@3.3.1/pyLDAvis/js/ldavis.v3.0.0.js\", function(){\n",
              "        new LDAvis(\"#\" + \"ldavis_el1071397946057320164613946106\", ldavis_el1071397946057320164613946106_data);\n",
              "      });\n",
              "    });\n",
              "}else{\n",
              "    // require.js not available: dynamically load d3 & LDAvis\n",
              "    LDAvis_load_lib(\"https://d3js.org/d3.v5.js\", function(){\n",
              "         LDAvis_load_lib(\"https://cdn.jsdelivr.net/gh/bmabey/pyLDAvis@3.3.1/pyLDAvis/js/ldavis.v3.0.0.js\", function(){\n",
              "                 new LDAvis(\"#\" + \"ldavis_el1071397946057320164613946106\", ldavis_el1071397946057320164613946106_data);\n",
              "            })\n",
              "         });\n",
              "}\n",
              "</script>"
            ]
          },
          "metadata": {},
          "execution_count": 33
        }
      ]
    },
    {
      "cell_type": "code",
      "source": [],
      "metadata": {
        "id": "STlpdQYsYNfU"
      },
      "execution_count": null,
      "outputs": []
    }
  ]
}