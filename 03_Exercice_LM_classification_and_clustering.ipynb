{
  "nbformat": 4,
  "nbformat_minor": 0,
  "metadata": {
    "colab": {
      "provenance": [],
      "authorship_tag": "ABX9TyNgyN4dY4bL4nMvzOAL+KRr",
      "include_colab_link": true
    },
    "kernelspec": {
      "name": "python3",
      "display_name": "Python 3"
    },
    "language_info": {
      "name": "python"
    }
  },
  "cells": [
    {
      "cell_type": "markdown",
      "metadata": {
        "id": "view-in-github",
        "colab_type": "text"
      },
      "source": [
        "<a href=\"https://colab.research.google.com/github/SIDIBEMoussa/NLP-Trainings/blob/main/03_Exercice_LM_classification_and_clustering.ipynb\" target=\"_parent\"><img src=\"https://colab.research.google.com/assets/colab-badge.svg\" alt=\"Open In Colab\"/></a>"
      ]
    },
    {
      "cell_type": "code",
      "execution_count": 1,
      "metadata": {
        "colab": {
          "base_uri": "https://localhost:8080/"
        },
        "id": "2b-mUm2hQtoX",
        "outputId": "928fe979-1c8e-4914-eceb-5657fab8833a"
      },
      "outputs": [
        {
          "output_type": "stream",
          "name": "stderr",
          "text": [
            "[nltk_data] Downloading package punkt to /root/nltk_data...\n",
            "[nltk_data]   Unzipping tokenizers/punkt.zip.\n",
            "[nltk_data] Downloading package stopwords to /root/nltk_data...\n",
            "[nltk_data]   Unzipping corpora/stopwords.zip.\n",
            "[nltk_data] Downloading package averaged_perceptron_tagger to\n",
            "[nltk_data]     /root/nltk_data...\n",
            "[nltk_data]   Unzipping taggers/averaged_perceptron_tagger.zip.\n",
            "[nltk_data] Downloading package universal_tagset to /root/nltk_data...\n",
            "[nltk_data]   Unzipping taggers/universal_tagset.zip.\n"
          ]
        },
        {
          "output_type": "execute_result",
          "data": {
            "text/plain": [
              "True"
            ]
          },
          "metadata": {},
          "execution_count": 1
        }
      ],
      "source": [
        "import pandas as pd\n",
        "\n",
        "import nltk\n",
        "nltk.download('punkt')\n",
        "nltk.download('stopwords')\n",
        "nltk.download('averaged_perceptron_tagger')\n",
        "nltk.download('universal_tagset')"
      ]
    },
    {
      "cell_type": "code",
      "source": [
        "! git clone https://github.com/selva86/datasets.git"
      ],
      "metadata": {
        "colab": {
          "base_uri": "https://localhost:8080/"
        },
        "id": "LJEShVajUmxJ",
        "outputId": "2d396271-c930-4c13-fd2f-86f26923d8f8"
      },
      "execution_count": 3,
      "outputs": [
        {
          "output_type": "stream",
          "name": "stdout",
          "text": [
            "Cloning into 'datasets'...\n",
            "remote: Enumerating objects: 483, done.\u001b[K\n",
            "remote: Total 483 (delta 0), reused 0 (delta 0), pack-reused 483\u001b[K\n",
            "Receiving objects: 100% (483/483), 43.65 MiB | 26.39 MiB/s, done.\n",
            "Resolving deltas: 100% (156/156), done.\n"
          ]
        }
      ]
    },
    {
      "cell_type": "code",
      "source": [
        "import pathlib, os"
      ],
      "metadata": {
        "id": "TnecPRtIWSHh"
      },
      "execution_count": 6,
      "outputs": []
    },
    {
      "cell_type": "code",
      "source": [
        "path = \"/content/datasets/lda_sports_politics_docs\"\n",
        "\n",
        "file_directory = pathlib.Path(path).exists()\n",
        "\n",
        "if not file_directory:\n",
        "\n",
        "    !git clone https://github.com/selva86/datasets.git\n",
        "\n",
        "\n",
        "\n",
        "text_files = os.listdir(path)"
      ],
      "metadata": {
        "id": "bwSAiHVcXKtV"
      },
      "execution_count": 8,
      "outputs": []
    },
    {
      "cell_type": "code",
      "source": [
        "text_files"
      ],
      "metadata": {
        "colab": {
          "base_uri": "https://localhost:8080/"
        },
        "id": "ZJt9xVauXgw-",
        "outputId": "432302fd-f78c-4dfb-8e8e-e27286bfe058"
      },
      "execution_count": 9,
      "outputs": [
        {
          "output_type": "execute_result",
          "data": {
            "text/plain": [
              "['shinzo abe.txt',\n",
              " 'pizza.txt',\n",
              " 'lee quan yew.txt',\n",
              " 'queen elizabeth.txt',\n",
              " 'cricket.txt',\n",
              " 'idli.txt',\n",
              " 'barack obama.txt',\n",
              " 'baseball.txt',\n",
              " 'badminton.txt',\n",
              " 'noodles.txt',\n",
              " 'tipu sultan.txt',\n",
              " 'table tennis.txt',\n",
              " 'pasta.txt',\n",
              " 'narendra modi.txt',\n",
              " 'dosa.txt']"
            ]
          },
          "metadata": {},
          "execution_count": 9
        }
      ]
    },
    {
      "cell_type": "code",
      "source": [
        "articles=[]\n",
        "\n",
        "for filename in text_files:\n",
        "\n",
        "    article = pathlib.Path(path+'/'+filename).read_text()\n",
        "\n",
        "    articles.append(article)"
      ],
      "metadata": {
        "id": "oU_znckrYutX"
      },
      "execution_count": 12,
      "outputs": []
    },
    {
      "cell_type": "code",
      "source": [
        "articles"
      ],
      "metadata": {
        "colab": {
          "base_uri": "https://localhost:8080/"
        },
        "id": "gv_gU5CKa579",
        "outputId": "133c0a1e-1922-4280-852d-83e80a7f2c58"
      },
      "execution_count": 13,
      "outputs": [
        {
          "output_type": "execute_result",
          "data": {
            "text/plain": [
              "[\"Shinzō Abe (Abe Shinzō, IPA: born 21 September 1954) is the current Prime Minister of Japan, re-elected to the position in December 2012. Abe is also the President of the Liberal Democratic Party (LDP).\\nAbe served for a year as Prime Minister, from 2006 to 2007. Hailing from a politically prominent family, at age 52, Abe became Japan's youngest post-war prime minister, and the first to be born after World War II, when he was elected by a special session of the National Diet in September 2006. Abe resigned on 12 September 2007, for health reasons. Abe was replaced by Yasuo Fukuda, beginning a string of five Prime Ministers, none of whom retained office for more than sixteen months, before Abe staged a political comeback.\\nOn 26 September 2012, Abe defeated former Minister of Defense Shigeru Ishiba, in a run-off vote, to win the LDP Presidential Election. Following the LDP's landslide victory in the 2012 general election, Abe became the Prime Minister again. Abe is the first former Prime Minister to return to the office since Shigeru Yoshida in 1948. Abe was re-elected at the 2014 general election, retaining his two-thirds majority with coalition partner Komeito.\",\n",
              " 'Pizza is a flatbread generally topped with tomato sauce and cheese and baked in an oven. It is commonly topped with a selection of meats, vegetables and condiments. The term was first recorded in the 10th century, in a Latin manuscript from Gaeta in Central Italy. The modern pizza was invented in Naples, Italy, and the dish and its variants have since become popular in many areas of the world.\\nIn 2009, upon Italy\\'s request, Neapolitan pizza was safeguarded in the European Union as a Traditional Speciality Guaranteed dish. The Associazione Verace Pizza Napoletana (the True Neapolitan Pizza Association) is a non-profit organisation founded in 1984 with headquarters in Naples. It promotes and protects the \"true Neapolitan pizza\".\\nPizza is sold fresh or frozen, either whole or in portions, and is a common fast food item in Europe and North America. Various types of ovens are used to cook them and many varieties exist. Several similar dishes are prepared from ingredients commonly used in pizza preparation, such as calzone and stromboli.\\n',\n",
              " 'Lee Kuan Yew, GCMG, CH, SPMJ (born Harry Lee Kuan Yew, 16 September 1923 – 23 March 2015), informally known by his initials LKY, was the first Prime Minister of Singapore, governing for three decades. Lee is recognised as the nation\\'s founding father, with the country described as transitioning from the \"third world to first world in a single generation\" under his leadership.\\nLee graduated from Fitzwilliam College, Cambridge University, with double starred-first-class honours in law. In 1950, he became a barrister of the Middle Temple and practised law until 1959. Lee co-founded the People\\'s Action Party (PAP) in 1954 and was its first secretary-general until 1992, leading the party to eight consecutive victories. After Lee chose to step down as Prime Minister in 1990, he served as Senior Minister under his successor, Goh Chok Tong until 2004, then asMinister Mentor (an advisory post) until 2011, under his son Lee Hsien Loong. In total, Lee held successive ministerial positions for 56 years. He continued to serve his Tanjong Pagar constituency for nearly 60 years as a Member of Parliament until his death in 2015. From 1991, he helmed the 5-member Tanjong Pagar GRC, and was returned unopposed for a record five elections.\\n',\n",
              " 'Elizabeth II (Elizabeth Alexandra Mary; born 21 April 1926) is, and has been since her accession in 1952, Queen of theUnited Kingdom, Canada, Australia, and New Zealand, and Head of the Commonwealth. She is also Queen of 12 countries that have become independent since her accession: Jamaica, Barbados, the Bahamas, Grenada, Papua New Guinea,Solomon Islands, Tuvalu, Saint Lucia, Saint Vincent and the Grenadines, Belize, Antigua and Barbuda, and Saint Kitts and Nevis.\\nElizabeth was born in London to the Duke and Duchess of York, later King George VI and Queen Elizabeth, and was the elder of their two daughters. She was educated privately at home. Her father acceded to the throne on the abdication of his brother Edward VIII in 1936, from which time she was the heir presumptive. She began to undertake public duties during theSecond World War, serving in the Auxiliary Territorial Service. In 1947, she married Philip, Duke of Edinburgh, with whom she has four children: Charles, Anne, Andrew, and Edward.\\n',\n",
              " 'Cricket is a bat-and-ball game played between two teams of eleven players on a cricket field, at the centre of which is a rectangular 22-yard-long pitch with a wicket, a set of three wooden stumps sited at each end. One team, designated the batting team, attempts to score as many runs as possible, whilst their opponents field. Each phase of play is called an innings. After either ten batsmen have been dismissed or a set number of overs have been completed, the innings ends and the two teams then swap roles. The winning team is the one that scores the most runs, including any extras gained, during their period batting.',\n",
              " 'Idli is a traditional breakfast in South Indian households. Idli is a savoury cake that is popular throughout India and neighbouring countries like Sri Lanka The cakes are usually four to five inches in diameter and are made by steaming a batter consisting of fermented black lentils (de-husked) and rice. The fermentation process breaks down the starches so that they are more readily metabolised by the body.\\nA variant of Idli known as sanna is very popular amongst the Goans and other Konkani people. Another variant known as Enduri Pitha is very popular in Odisha.\\n',\n",
              " 'Barack Hussein Obama II (born August 4, 1961) is the 44th and current President of the United States. He is the first African American to hold the office and the first president born outside the continental United States. Born in Honolulu, Hawaii, Obama is a graduate of Columbia University and Harvard Law School, where he was president of the Harvard Law Review. He was a community organizer in Chicago before earning his law degree. He worked as a civil rights attorney and taught constitutional law at the University of Chicago Law School between 1992 and 2004. While serving three terms representing the 13th District in the Illinois Senate from 1997 to 2004, he ran unsuccessfully in the Democratic primary for the United States House of Representatives in 2000 against incumbent Bobby Rush.\\nIn 2004, Obama received national attention during his campaign to represent Illinois in the United States Senate with his victory in the March Democratic Party primary, his keynote address at the Democratic National Convention in July, and his election to the Senate in November. He began his presidential campaign in 2007 and, after a close primary campaign against Hillary Clinton in 2008, he won sufficient delegates in the Democratic Party primaries to receive the presidential nomination. He then defeated Republican nominee John McCain in the general election, and was inaugurated as president on January 20, 2009. Nine months after his inauguration, Obama was named the 2009 Nobel Peace Prize laureate.\\n',\n",
              " 'Baseball is a bat-and-ball game played between two teams of nine players each, who take turns batting and fielding.\\nThe batting team attempts to score runs by hitting a ball that is thrown by the pitcher with a bat swung by the batter, then running counter-clockwise around a series of four bases: first, second, third, and home plate. A run is scored when a player advances around the bases and returns to home plate.\\n',\n",
              " 'Badminton is a racquet sport played using racquets to hit a shuttlecock across a net. Although it may be played with larger teams, the most common forms of the game are \"singles\" (with one player per side) and \"doubles\" (with two players per side). Badminton is often played as a casual outdoor activity in a yard or on a beach; formal games are played on a rectangular indoor court. Points are scored by striking the shuttlecock with the racquet and landing it within the opposing side\\'s half of the court.',\n",
              " 'Noodles are a staple food in many cultures made from unleavened dough which is stretched, extruded, or rolled flat and cut into one of a variety of shapes. A single noodle can be made, eaten, or extracted from a serving of noodles, but it is far more common to serve and eat many at once, and thus more common to see the plural form of the word.\\nWhile long, thin strips may be the most common, many varieties of noodles are cut into waves, helices, tubes, strings, or shells, or folded over, or cut into other shapes. Noodles are usually cooked in boiling water, sometimes with cooking oil or salt added. They are often pan-fried or deep-fried. Noodles are often served with an accompanying sauce or in a soup. Noodles can be refrigerated for short-term storage, or dried and stored for future use. The material composition or geo-cultural origin must be specified when discussing noodles. The word derives from the German word Nudel. The oldest evidence of noodle consumption, from 4,000 years ago, has been found in China.\\n',\n",
              " \"Tipu Sultan (20 November 1750 – 4 May 1799), (Sayyid walShareef Sultan Fateh Ali Khan Sahab Tipu) also known as the Tiger of Mysore, and Tipu Sahib, was a ruler of the Kingdom of Mysore. He was the eldest son of Sultan Hyder Ali of Mysore. Tipu introduced a number of administrative innovations during his rule, including his coinage, a new Mauludi lunisolar calendar, and a new land revenue system which initiated the growth of Mysore silk industry. Tipu expanded the iron-cased Mysorean rockets and commissioned the military manual Fathul Mujahidin. He is considered a pioneer in the use of rocket artillery. Tipu Sultan deployed the rockets against advances of British forces and their allies in their 1792 and 1799 Siege of Srirangapatna.\\n\\nNapoleon, the French commander-in-chief who later became emperor, sought an alliance with Tipu. In alliance with the French in their struggle with the British, and in Mysore's struggles with other surrounding powers, both Tipu and his father used their French trained army against the Marathas, Sira, and rulers of Malabar, Kodagu, Bednore, Carnatic, and Travancore. During Tipu's childhood, his father rose to take power in Mysore, and upon his father's death in 1782, Tipu succeeded to a large kingdom bordered by the Krishna River in the north, the Eastern Ghats in the east, and the Arabian Sea in the west. He won important victories against the British in the Second Anglo-Mysore War, and negotiated the 1784 Treaty of Mangalore with them after his father Hyder Ali suddenly died from cancer in December 1782 during the Second Anglo-Mysore War.\",\n",
              " \"Table tennis, also known as ping pong, is a sport in which two or four players hit a lightweight ball back and forth across a table using a small paddle. The game takes place on a hard table divided by a net. Except for the initial serve, the rules are generally as follows: players must allow a ball played toward them to bounce one time on their side of the table, and must return it so that it bounces on the opposite side at least once. A point is scored when a player fails to return the ball within the rules. Play is fast and demands quick reactions. Spinning the ball alters its trajectory and limits an opponent's options, giving the hitter a great advantage.\",\n",
              " 'Pasta is a staple food of traditional Italian cuisine, with the first reference dating to 1154 in Sicily. It is also commonly used to refer to the variety of pasta dishes. Typically, pasta is a noodle made from an unleavened dough of a durum wheat flour mixed with water or eggs and formed into sheets or various shapes, then cooked by boiling or baking. It can also be made with flour from other cereals or grains. Pastas may be divided into two broad categories, dried (pasta secca) and fresh (pasta fresca).\\nMost dried pasta is commercially produced via an extrusion process. Fresh pasta was traditionally produced by hand, sometimes with the aid of simple machines, but today many varieties of fresh pasta are also commercially produced by large-scale machines, and the products are widely available in supermarkets.\\nBoth dried and fresh pasta come in a number of shapes and varieties, with 310 specific forms known variably by over 1300 names having been documented. In Italy the names of specific pasta shapes or types often vary with locale. For example, the form cavatelli is known by 28 different names depending on region and town. Common forms of pasta include long shapes, short shapes, tubes, flat shapes and sheets, miniature soup shapes, filled or stuffed, and specialty or decorative shapes.',\n",
              " \"Narendra Damodardas Modi (born 17 September 1950) is the 14th and current Prime Minister of India, in office since 26 May 2014. Modi, a leader of the Bharatiya Janata Party (BJP), was the Chief Minister of Gujarat from 2001 to 2014 and is the Member of Parliament from Varanasi. He led the BJP in the 2014 general election, which gave the party a majority in the Lok Sabha (the lower house of the Indian parliament), for the first time since 1984 general elections.\\nSince Modi's taking office as Prime Minister, his administration has focused on reforming and modernising India's infrastructure and government, reducing bureaucracy, encouraging increased foreign direct investment, improving national standards of health and sanitation and improving foreign relations. Earlier, as Chief Minister of Gujarat, Modi's economic policies (credited with encouraging economic growth in Gujarat) have been praised, although his administration has been criticised for failing to significantly improve the human development in the state and for failing to prevent the 2002 Gujarat riots.\\n\",\n",
              " \"Dosa is a kind of pancake made from a fermented batter. Its main ingredients are rice and urad beans. Dosa is part and parcel of the South Indian diet and popular all over the Indian subcontinent. Traditionally, Dosa is served hot along with Sambar and Chutney. It can be consumed with Idli podi as well.\\n\\nDosa is indigenous to South India; its exact birthplace in that region is a matter of conjecture. According to food historian K. T. Achaya, dosa (as dosai) was already in use in ancient Tamil country around the 1st century AD, as per references in the Sangam literature. According to P. Thankappan Nair, dosa originated in the Udupi town of present-day Karnataka.\\nIn popular tradition, the origin of dosa is linked to Udupi, probably because of the dish's association with the Udupi restaurants. Also, the original Tamil dosa was softer and thicker. The thinner and crispier version of dosa, which became popular all over India, was first made in present-day Karnataka. A recipe for dosa (as dosaka) can be found in Manasollasa, a 12th century Sanskrit encyclopedia compiled by Someshvara III, who ruled from present-day Karnataka.\"]"
            ]
          },
          "metadata": {},
          "execution_count": 13
        }
      ]
    },
    {
      "cell_type": "code",
      "source": [],
      "metadata": {
        "id": "fMJuWnswbPZP"
      },
      "execution_count": null,
      "outputs": []
    }
  ]
}