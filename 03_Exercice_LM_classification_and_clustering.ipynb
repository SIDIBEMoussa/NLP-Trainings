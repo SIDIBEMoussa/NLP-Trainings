{
  "nbformat": 4,
  "nbformat_minor": 0,
  "metadata": {
    "colab": {
      "provenance": [],
      "authorship_tag": "ABX9TyNeNXK4x7qOcUmeYD0g7Cp7",
      "include_colab_link": true
    },
    "kernelspec": {
      "name": "python3",
      "display_name": "Python 3"
    },
    "language_info": {
      "name": "python"
    }
  },
  "cells": [
    {
      "cell_type": "markdown",
      "metadata": {
        "id": "view-in-github",
        "colab_type": "text"
      },
      "source": [
        "<a href=\"https://colab.research.google.com/github/SIDIBEMoussa/NLP-Trainings/blob/main/03_Exercice_LM_classification_and_clustering.ipynb\" target=\"_parent\"><img src=\"https://colab.research.google.com/assets/colab-badge.svg\" alt=\"Open In Colab\"/></a>"
      ]
    },
    {
      "cell_type": "code",
      "execution_count": 1,
      "metadata": {
        "colab": {
          "base_uri": "https://localhost:8080/"
        },
        "id": "2b-mUm2hQtoX",
        "outputId": "928fe979-1c8e-4914-eceb-5657fab8833a"
      },
      "outputs": [
        {
          "output_type": "stream",
          "name": "stderr",
          "text": [
            "[nltk_data] Downloading package punkt to /root/nltk_data...\n",
            "[nltk_data]   Unzipping tokenizers/punkt.zip.\n",
            "[nltk_data] Downloading package stopwords to /root/nltk_data...\n",
            "[nltk_data]   Unzipping corpora/stopwords.zip.\n",
            "[nltk_data] Downloading package averaged_perceptron_tagger to\n",
            "[nltk_data]     /root/nltk_data...\n",
            "[nltk_data]   Unzipping taggers/averaged_perceptron_tagger.zip.\n",
            "[nltk_data] Downloading package universal_tagset to /root/nltk_data...\n",
            "[nltk_data]   Unzipping taggers/universal_tagset.zip.\n"
          ]
        },
        {
          "output_type": "execute_result",
          "data": {
            "text/plain": [
              "True"
            ]
          },
          "metadata": {},
          "execution_count": 1
        }
      ],
      "source": [
        "import pandas as pd\n",
        "\n",
        "import nltk\n",
        "nltk.download('punkt')\n",
        "nltk.download('stopwords')\n",
        "nltk.download('averaged_perceptron_tagger')\n",
        "nltk.download('universal_tagset')"
      ]
    },
    {
      "cell_type": "code",
      "source": [
        "! git clone https://github.com/selva86/datasets.git"
      ],
      "metadata": {
        "colab": {
          "base_uri": "https://localhost:8080/"
        },
        "id": "LJEShVajUmxJ",
        "outputId": "2d396271-c930-4c13-fd2f-86f26923d8f8"
      },
      "execution_count": 3,
      "outputs": [
        {
          "output_type": "stream",
          "name": "stdout",
          "text": [
            "Cloning into 'datasets'...\n",
            "remote: Enumerating objects: 483, done.\u001b[K\n",
            "remote: Total 483 (delta 0), reused 0 (delta 0), pack-reused 483\u001b[K\n",
            "Receiving objects: 100% (483/483), 43.65 MiB | 26.39 MiB/s, done.\n",
            "Resolving deltas: 100% (156/156), done.\n"
          ]
        }
      ]
    },
    {
      "cell_type": "code",
      "source": [
        "import pathlib, os"
      ],
      "metadata": {
        "id": "TnecPRtIWSHh"
      },
      "execution_count": 6,
      "outputs": []
    },
    {
      "cell_type": "code",
      "source": [
        "path = \"/content/datasets/lda_sports_politics_docs\"\n",
        "\n",
        "file_directory = pathlib.Path(path).exists()\n",
        "\n",
        "if not file_directory:\n",
        "\n",
        "    !git clone https://github.com/selva86/datasets.git\n",
        "\n",
        "\n",
        "\n",
        "text_files = os.listdir(path)"
      ],
      "metadata": {
        "id": "bwSAiHVcXKtV"
      },
      "execution_count": 8,
      "outputs": []
    },
    {
      "cell_type": "code",
      "source": [
        "text_files"
      ],
      "metadata": {
        "colab": {
          "base_uri": "https://localhost:8080/"
        },
        "id": "ZJt9xVauXgw-",
        "outputId": "432302fd-f78c-4dfb-8e8e-e27286bfe058"
      },
      "execution_count": 9,
      "outputs": [
        {
          "output_type": "execute_result",
          "data": {
            "text/plain": [
              "['shinzo abe.txt',\n",
              " 'pizza.txt',\n",
              " 'lee quan yew.txt',\n",
              " 'queen elizabeth.txt',\n",
              " 'cricket.txt',\n",
              " 'idli.txt',\n",
              " 'barack obama.txt',\n",
              " 'baseball.txt',\n",
              " 'badminton.txt',\n",
              " 'noodles.txt',\n",
              " 'tipu sultan.txt',\n",
              " 'table tennis.txt',\n",
              " 'pasta.txt',\n",
              " 'narendra modi.txt',\n",
              " 'dosa.txt']"
            ]
          },
          "metadata": {},
          "execution_count": 9
        }
      ]
    },
    {
      "cell_type": "code",
      "source": [
        "articles=[]\n",
        "\n",
        "for filename in text_files:\n",
        "\n",
        "    article = pathlib.Path(path+'/'+filename).read_text()\n",
        "\n",
        "    articles.append(article)"
      ],
      "metadata": {
        "id": "oU_znckrYutX"
      },
      "execution_count": 12,
      "outputs": []
    },
    {
      "cell_type": "code",
      "source": [
        "articles[0]"
      ],
      "metadata": {
        "colab": {
          "base_uri": "https://localhost:8080/",
          "height": 191
        },
        "id": "gv_gU5CKa579",
        "outputId": "7f7e92fc-0cc0-491b-c006-0c0f0df17d27"
      },
      "execution_count": 15,
      "outputs": [
        {
          "output_type": "execute_result",
          "data": {
            "text/plain": [
              "\"Shinzō Abe (Abe Shinzō, IPA: born 21 September 1954) is the current Prime Minister of Japan, re-elected to the position in December 2012. Abe is also the President of the Liberal Democratic Party (LDP).\\nAbe served for a year as Prime Minister, from 2006 to 2007. Hailing from a politically prominent family, at age 52, Abe became Japan's youngest post-war prime minister, and the first to be born after World War II, when he was elected by a special session of the National Diet in September 2006. Abe resigned on 12 September 2007, for health reasons. Abe was replaced by Yasuo Fukuda, beginning a string of five Prime Ministers, none of whom retained office for more than sixteen months, before Abe staged a political comeback.\\nOn 26 September 2012, Abe defeated former Minister of Defense Shigeru Ishiba, in a run-off vote, to win the LDP Presidential Election. Following the LDP's landslide victory in the 2012 general election, Abe became the Prime Minister again. Abe is the first former Prime Minister to return to the office since Shigeru Yoshida in 1948. Abe was re-elected at the 2014 general election, retaining his two-thirds majority with coalition partner Komeito.\""
            ],
            "application/vnd.google.colaboratory.intrinsic+json": {
              "type": "string"
            }
          },
          "metadata": {},
          "execution_count": 15
        }
      ]
    },
    {
      "cell_type": "code",
      "source": [],
      "metadata": {
        "id": "fMJuWnswbPZP"
      },
      "execution_count": null,
      "outputs": []
    }
  ]
}